{
 "cells": [
  {
   "cell_type": "markdown",
   "id": "086a113c",
   "metadata": {
    "id": "086a113c"
   },
   "source": [
    "# <center> Обучение с учителем. Классификация. Практика\n",
    "\n",
    "## <center> Прогнозирование оттока клиентов банка"
   ]
  },
  {
   "cell_type": "markdown",
   "id": "85ccf5ae",
   "metadata": {
    "id": "85ccf5ae"
   },
   "source": [
    "## Постановка задачи"
   ]
  },
  {
   "cell_type": "markdown",
   "id": "20769d74",
   "metadata": {
    "id": "20769d74"
   },
   "source": [
    "Теперь настало время самостоятельной работы. В рамках самостоятельной работы вам предстоит решить задачу прогнозирования оттока клиентов банка. \n",
    "\n",
    "> **Примечание.** Вы уже знакомились с этой задачей в модуле по визуализации («PYTHON-13. Визуализация данных») и провели небольшое исследование данных. Вы можете использовать результаты своего исследования для построения модели машинного обучения.\n",
    "\n",
    "Напомним контекст задачи:\n",
    "\n",
    "> Некоторый банк обратился к вам за помощью: он хочет разработать кампанию лояльности по удержанию клиентов. Для этого он хочет прогнозировать вероятности оттока клиентов и определять, уйдёт ли клиент в ближайшее время. \n",
    "\n",
    "Итак, ранее вы провели небольшой разведывательный анализ, познакомились с данными и выявили, чем ушедшие клиенты отличаются от лояльных и как между собой связаны различные признаки, определяющие клиентов. Вы отлично справились с первой задачей, и теперь представители банка предлагают вам построить саму модель машинного обучения, которая будет прогнозировать отток клиентов. \n",
    "\n",
    "**Ваша задача** - построить классификатор, который позволит своевременно определять уходящих клиентов банка, оценить качество построенных моделей и проинтерпретировать результаты.\n",
    "\n",
    "Разделим эту задачу на две части:\n",
    "* В первой части мы подготовим данные для моделирования и построим простейшую модель логистической регрессии, оценим её качество и проанализируем результаты её работы.\n",
    "\n",
    "* Во второй части мы займёмся построением моделей дерева решений и случайного леса, сравним их результаты с результатами, полученными на первом этапе, и сделаем финальный вывод.\n"
   ]
  },
  {
   "cell_type": "markdown",
   "id": "fd90490e",
   "metadata": {
    "id": "fd90490e"
   },
   "source": [
    "Для начала импортируем библиотеки, которые нам понадобятся:"
   ]
  },
  {
   "cell_type": "code",
   "execution_count": 20,
   "id": "a26669af-982b-421f-9441-4d5f3a8ffb5d",
   "metadata": {
    "id": "a26669af-982b-421f-9441-4d5f3a8ffb5d"
   },
   "outputs": [],
   "source": [
    "import numpy as np #для матричных вычислений\n",
    "import pandas as pd #для анализа и предобработки данных\n",
    "import matplotlib.pyplot as plt #для визуализации\n",
    "import seaborn as sns #для визуализации\n",
    "\n",
    "from sklearn import linear_model #линейные модели\n",
    "from sklearn import metrics #метрики\n",
    "from sklearn import model_selection #сплитование выборки\n",
    "from sklearn import preprocessing #предобработка данных\n",
    "%matplotlib inline"
   ]
  },
  {
   "cell_type": "markdown",
   "id": "6687034e",
   "metadata": {
    "id": "6687034e"
   },
   "source": [
    "Итак, прочитаем нашу таблицу:"
   ]
  },
  {
   "cell_type": "code",
   "execution_count": 21,
   "id": "2fa60e26-cf4c-4dec-baca-90c3025d2bed",
   "metadata": {
    "colab": {
     "base_uri": "https://localhost:8080/",
     "height": 270
    },
    "executionInfo": {
     "elapsed": 7,
     "status": "ok",
     "timestamp": 1678085430153,
     "user": {
      "displayName": "Андрей Достоевский",
      "userId": "09718989537568551698"
     },
     "user_tz": -180
    },
    "id": "2fa60e26-cf4c-4dec-baca-90c3025d2bed",
    "outputId": "029556b1-99b4-4ec5-c2f4-9c07fabca762"
   },
   "outputs": [
    {
     "data": {
      "text/html": [
       "<div>\n",
       "<style scoped>\n",
       "    .dataframe tbody tr th:only-of-type {\n",
       "        vertical-align: middle;\n",
       "    }\n",
       "\n",
       "    .dataframe tbody tr th {\n",
       "        vertical-align: top;\n",
       "    }\n",
       "\n",
       "    .dataframe thead th {\n",
       "        text-align: right;\n",
       "    }\n",
       "</style>\n",
       "<table border=\"1\" class=\"dataframe\">\n",
       "  <thead>\n",
       "    <tr style=\"text-align: right;\">\n",
       "      <th></th>\n",
       "      <th>RowNumber</th>\n",
       "      <th>CustomerId</th>\n",
       "      <th>Surname</th>\n",
       "      <th>CreditScore</th>\n",
       "      <th>Geography</th>\n",
       "      <th>Gender</th>\n",
       "      <th>Age</th>\n",
       "      <th>Tenure</th>\n",
       "      <th>Balance</th>\n",
       "      <th>NumOfProducts</th>\n",
       "      <th>HasCrCard</th>\n",
       "      <th>IsActiveMember</th>\n",
       "      <th>EstimatedSalary</th>\n",
       "      <th>Exited</th>\n",
       "    </tr>\n",
       "  </thead>\n",
       "  <tbody>\n",
       "    <tr>\n",
       "      <th>0</th>\n",
       "      <td>1</td>\n",
       "      <td>15634602</td>\n",
       "      <td>Hargrave</td>\n",
       "      <td>619</td>\n",
       "      <td>France</td>\n",
       "      <td>Female</td>\n",
       "      <td>42</td>\n",
       "      <td>2</td>\n",
       "      <td>0.00</td>\n",
       "      <td>1</td>\n",
       "      <td>1</td>\n",
       "      <td>1</td>\n",
       "      <td>101348.88</td>\n",
       "      <td>1</td>\n",
       "    </tr>\n",
       "    <tr>\n",
       "      <th>1</th>\n",
       "      <td>2</td>\n",
       "      <td>15647311</td>\n",
       "      <td>Hill</td>\n",
       "      <td>608</td>\n",
       "      <td>Spain</td>\n",
       "      <td>Female</td>\n",
       "      <td>41</td>\n",
       "      <td>1</td>\n",
       "      <td>83807.86</td>\n",
       "      <td>1</td>\n",
       "      <td>0</td>\n",
       "      <td>1</td>\n",
       "      <td>112542.58</td>\n",
       "      <td>0</td>\n",
       "    </tr>\n",
       "    <tr>\n",
       "      <th>2</th>\n",
       "      <td>3</td>\n",
       "      <td>15619304</td>\n",
       "      <td>Onio</td>\n",
       "      <td>502</td>\n",
       "      <td>France</td>\n",
       "      <td>Female</td>\n",
       "      <td>42</td>\n",
       "      <td>8</td>\n",
       "      <td>159660.80</td>\n",
       "      <td>3</td>\n",
       "      <td>1</td>\n",
       "      <td>0</td>\n",
       "      <td>113931.57</td>\n",
       "      <td>1</td>\n",
       "    </tr>\n",
       "    <tr>\n",
       "      <th>3</th>\n",
       "      <td>4</td>\n",
       "      <td>15701354</td>\n",
       "      <td>Boni</td>\n",
       "      <td>699</td>\n",
       "      <td>France</td>\n",
       "      <td>Female</td>\n",
       "      <td>39</td>\n",
       "      <td>1</td>\n",
       "      <td>0.00</td>\n",
       "      <td>2</td>\n",
       "      <td>0</td>\n",
       "      <td>0</td>\n",
       "      <td>93826.63</td>\n",
       "      <td>0</td>\n",
       "    </tr>\n",
       "    <tr>\n",
       "      <th>4</th>\n",
       "      <td>5</td>\n",
       "      <td>15737888</td>\n",
       "      <td>Mitchell</td>\n",
       "      <td>850</td>\n",
       "      <td>Spain</td>\n",
       "      <td>Female</td>\n",
       "      <td>43</td>\n",
       "      <td>2</td>\n",
       "      <td>125510.82</td>\n",
       "      <td>1</td>\n",
       "      <td>1</td>\n",
       "      <td>1</td>\n",
       "      <td>79084.10</td>\n",
       "      <td>0</td>\n",
       "    </tr>\n",
       "  </tbody>\n",
       "</table>\n",
       "</div>"
      ],
      "text/plain": [
       "   RowNumber  CustomerId   Surname  CreditScore Geography  Gender  Age  \\\n",
       "0          1    15634602  Hargrave          619    France  Female   42   \n",
       "1          2    15647311      Hill          608     Spain  Female   41   \n",
       "2          3    15619304      Onio          502    France  Female   42   \n",
       "3          4    15701354      Boni          699    France  Female   39   \n",
       "4          5    15737888  Mitchell          850     Spain  Female   43   \n",
       "\n",
       "   Tenure    Balance  NumOfProducts  HasCrCard  IsActiveMember  \\\n",
       "0       2       0.00              1          1               1   \n",
       "1       1   83807.86              1          0               1   \n",
       "2       8  159660.80              3          1               0   \n",
       "3       1       0.00              2          0               0   \n",
       "4       2  125510.82              1          1               1   \n",
       "\n",
       "   EstimatedSalary  Exited  \n",
       "0        101348.88       1  \n",
       "1        112542.58       0  \n",
       "2        113931.57       1  \n",
       "3         93826.63       0  \n",
       "4         79084.10       0  "
      ]
     },
     "execution_count": 21,
     "metadata": {},
     "output_type": "execute_result"
    }
   ],
   "source": [
    "churn_data = pd.read_csv('data/churn.csv')\n",
    "churn_data.head()"
   ]
  },
  {
   "cell_type": "markdown",
   "id": "d2fa56d2",
   "metadata": {
    "id": "d2fa56d2"
   },
   "source": [
    "## Практика: логистическая регрессия"
   ]
  },
  {
   "cell_type": "markdown",
   "id": "4cRkKq9ZItBe",
   "metadata": {
    "id": "4cRkKq9ZItBe"
   },
   "source": [
    "В первой части вам предстоит выполнить задания 5.0–5.6. Максимальное количество баллов, которое можно получить, — 9:"
   ]
  },
  {
   "cell_type": "markdown",
   "id": "489f4fdd",
   "metadata": {
    "id": "489f4fdd"
   },
   "source": [
    "### Задание 5.0 (не оценивается)\n",
    "\n",
    "Для полноты задачи проведите небольшой разведывательный анализ данных. Постройте графики распределения целевого признака, диаграммы и графики, показывающие взаимосвязь между исходными признаками и целевым признаком, а также другие диаграммы, иллюстрирующие предоставленные данные. \n",
    "\n",
    "**Совет:** воспользуйтесь кодом, который вы писали, выполняя задания в модуле «PYTHON-13. Визуализация данных»."
   ]
  },
  {
   "cell_type": "code",
   "execution_count": 22,
   "id": "44542330",
   "metadata": {
    "id": "44542330"
   },
   "outputs": [
    {
     "data": {
      "application/vnd.plotly.v1+json": {
       "config": {
        "plotlyServerURL": "https://plot.ly"
       },
       "data": [
        {
         "labels": [
          "Лояльные",
          "Ушедшие"
         ],
         "marker": {
          "colors": [
           "#10c938",
           "#c91010"
          ]
         },
         "pull": [
          0.1,
          0
         ],
         "showlegend": false,
         "textfont": {
          "size": 14
         },
         "textinfo": "label+percent",
         "title": {
          "text": "Соотношение клиентов"
         },
         "type": "pie",
         "values": {
          "bdata": "Gx/1Bw==",
          "dtype": "i2"
         }
        }
       ],
       "layout": {
        "autosize": false,
        "height": 600,
        "template": {
         "data": {
          "bar": [
           {
            "error_x": {
             "color": "#2a3f5f"
            },
            "error_y": {
             "color": "#2a3f5f"
            },
            "marker": {
             "line": {
              "color": "#E5ECF6",
              "width": 0.5
             },
             "pattern": {
              "fillmode": "overlay",
              "size": 10,
              "solidity": 0.2
             }
            },
            "type": "bar"
           }
          ],
          "barpolar": [
           {
            "marker": {
             "line": {
              "color": "#E5ECF6",
              "width": 0.5
             },
             "pattern": {
              "fillmode": "overlay",
              "size": 10,
              "solidity": 0.2
             }
            },
            "type": "barpolar"
           }
          ],
          "carpet": [
           {
            "aaxis": {
             "endlinecolor": "#2a3f5f",
             "gridcolor": "white",
             "linecolor": "white",
             "minorgridcolor": "white",
             "startlinecolor": "#2a3f5f"
            },
            "baxis": {
             "endlinecolor": "#2a3f5f",
             "gridcolor": "white",
             "linecolor": "white",
             "minorgridcolor": "white",
             "startlinecolor": "#2a3f5f"
            },
            "type": "carpet"
           }
          ],
          "choropleth": [
           {
            "colorbar": {
             "outlinewidth": 0,
             "ticks": ""
            },
            "type": "choropleth"
           }
          ],
          "contour": [
           {
            "colorbar": {
             "outlinewidth": 0,
             "ticks": ""
            },
            "colorscale": [
             [
              0,
              "#0d0887"
             ],
             [
              0.1111111111111111,
              "#46039f"
             ],
             [
              0.2222222222222222,
              "#7201a8"
             ],
             [
              0.3333333333333333,
              "#9c179e"
             ],
             [
              0.4444444444444444,
              "#bd3786"
             ],
             [
              0.5555555555555556,
              "#d8576b"
             ],
             [
              0.6666666666666666,
              "#ed7953"
             ],
             [
              0.7777777777777778,
              "#fb9f3a"
             ],
             [
              0.8888888888888888,
              "#fdca26"
             ],
             [
              1,
              "#f0f921"
             ]
            ],
            "type": "contour"
           }
          ],
          "contourcarpet": [
           {
            "colorbar": {
             "outlinewidth": 0,
             "ticks": ""
            },
            "type": "contourcarpet"
           }
          ],
          "heatmap": [
           {
            "colorbar": {
             "outlinewidth": 0,
             "ticks": ""
            },
            "colorscale": [
             [
              0,
              "#0d0887"
             ],
             [
              0.1111111111111111,
              "#46039f"
             ],
             [
              0.2222222222222222,
              "#7201a8"
             ],
             [
              0.3333333333333333,
              "#9c179e"
             ],
             [
              0.4444444444444444,
              "#bd3786"
             ],
             [
              0.5555555555555556,
              "#d8576b"
             ],
             [
              0.6666666666666666,
              "#ed7953"
             ],
             [
              0.7777777777777778,
              "#fb9f3a"
             ],
             [
              0.8888888888888888,
              "#fdca26"
             ],
             [
              1,
              "#f0f921"
             ]
            ],
            "type": "heatmap"
           }
          ],
          "histogram": [
           {
            "marker": {
             "pattern": {
              "fillmode": "overlay",
              "size": 10,
              "solidity": 0.2
             }
            },
            "type": "histogram"
           }
          ],
          "histogram2d": [
           {
            "colorbar": {
             "outlinewidth": 0,
             "ticks": ""
            },
            "colorscale": [
             [
              0,
              "#0d0887"
             ],
             [
              0.1111111111111111,
              "#46039f"
             ],
             [
              0.2222222222222222,
              "#7201a8"
             ],
             [
              0.3333333333333333,
              "#9c179e"
             ],
             [
              0.4444444444444444,
              "#bd3786"
             ],
             [
              0.5555555555555556,
              "#d8576b"
             ],
             [
              0.6666666666666666,
              "#ed7953"
             ],
             [
              0.7777777777777778,
              "#fb9f3a"
             ],
             [
              0.8888888888888888,
              "#fdca26"
             ],
             [
              1,
              "#f0f921"
             ]
            ],
            "type": "histogram2d"
           }
          ],
          "histogram2dcontour": [
           {
            "colorbar": {
             "outlinewidth": 0,
             "ticks": ""
            },
            "colorscale": [
             [
              0,
              "#0d0887"
             ],
             [
              0.1111111111111111,
              "#46039f"
             ],
             [
              0.2222222222222222,
              "#7201a8"
             ],
             [
              0.3333333333333333,
              "#9c179e"
             ],
             [
              0.4444444444444444,
              "#bd3786"
             ],
             [
              0.5555555555555556,
              "#d8576b"
             ],
             [
              0.6666666666666666,
              "#ed7953"
             ],
             [
              0.7777777777777778,
              "#fb9f3a"
             ],
             [
              0.8888888888888888,
              "#fdca26"
             ],
             [
              1,
              "#f0f921"
             ]
            ],
            "type": "histogram2dcontour"
           }
          ],
          "mesh3d": [
           {
            "colorbar": {
             "outlinewidth": 0,
             "ticks": ""
            },
            "type": "mesh3d"
           }
          ],
          "parcoords": [
           {
            "line": {
             "colorbar": {
              "outlinewidth": 0,
              "ticks": ""
             }
            },
            "type": "parcoords"
           }
          ],
          "pie": [
           {
            "automargin": true,
            "type": "pie"
           }
          ],
          "scatter": [
           {
            "fillpattern": {
             "fillmode": "overlay",
             "size": 10,
             "solidity": 0.2
            },
            "type": "scatter"
           }
          ],
          "scatter3d": [
           {
            "line": {
             "colorbar": {
              "outlinewidth": 0,
              "ticks": ""
             }
            },
            "marker": {
             "colorbar": {
              "outlinewidth": 0,
              "ticks": ""
             }
            },
            "type": "scatter3d"
           }
          ],
          "scattercarpet": [
           {
            "marker": {
             "colorbar": {
              "outlinewidth": 0,
              "ticks": ""
             }
            },
            "type": "scattercarpet"
           }
          ],
          "scattergeo": [
           {
            "marker": {
             "colorbar": {
              "outlinewidth": 0,
              "ticks": ""
             }
            },
            "type": "scattergeo"
           }
          ],
          "scattergl": [
           {
            "marker": {
             "colorbar": {
              "outlinewidth": 0,
              "ticks": ""
             }
            },
            "type": "scattergl"
           }
          ],
          "scattermap": [
           {
            "marker": {
             "colorbar": {
              "outlinewidth": 0,
              "ticks": ""
             }
            },
            "type": "scattermap"
           }
          ],
          "scattermapbox": [
           {
            "marker": {
             "colorbar": {
              "outlinewidth": 0,
              "ticks": ""
             }
            },
            "type": "scattermapbox"
           }
          ],
          "scatterpolar": [
           {
            "marker": {
             "colorbar": {
              "outlinewidth": 0,
              "ticks": ""
             }
            },
            "type": "scatterpolar"
           }
          ],
          "scatterpolargl": [
           {
            "marker": {
             "colorbar": {
              "outlinewidth": 0,
              "ticks": ""
             }
            },
            "type": "scatterpolargl"
           }
          ],
          "scatterternary": [
           {
            "marker": {
             "colorbar": {
              "outlinewidth": 0,
              "ticks": ""
             }
            },
            "type": "scatterternary"
           }
          ],
          "surface": [
           {
            "colorbar": {
             "outlinewidth": 0,
             "ticks": ""
            },
            "colorscale": [
             [
              0,
              "#0d0887"
             ],
             [
              0.1111111111111111,
              "#46039f"
             ],
             [
              0.2222222222222222,
              "#7201a8"
             ],
             [
              0.3333333333333333,
              "#9c179e"
             ],
             [
              0.4444444444444444,
              "#bd3786"
             ],
             [
              0.5555555555555556,
              "#d8576b"
             ],
             [
              0.6666666666666666,
              "#ed7953"
             ],
             [
              0.7777777777777778,
              "#fb9f3a"
             ],
             [
              0.8888888888888888,
              "#fdca26"
             ],
             [
              1,
              "#f0f921"
             ]
            ],
            "type": "surface"
           }
          ],
          "table": [
           {
            "cells": {
             "fill": {
              "color": "#EBF0F8"
             },
             "line": {
              "color": "white"
             }
            },
            "header": {
             "fill": {
              "color": "#C8D4E3"
             },
             "line": {
              "color": "white"
             }
            },
            "type": "table"
           }
          ]
         },
         "layout": {
          "annotationdefaults": {
           "arrowcolor": "#2a3f5f",
           "arrowhead": 0,
           "arrowwidth": 1
          },
          "autotypenumbers": "strict",
          "coloraxis": {
           "colorbar": {
            "outlinewidth": 0,
            "ticks": ""
           }
          },
          "colorscale": {
           "diverging": [
            [
             0,
             "#8e0152"
            ],
            [
             0.1,
             "#c51b7d"
            ],
            [
             0.2,
             "#de77ae"
            ],
            [
             0.3,
             "#f1b6da"
            ],
            [
             0.4,
             "#fde0ef"
            ],
            [
             0.5,
             "#f7f7f7"
            ],
            [
             0.6,
             "#e6f5d0"
            ],
            [
             0.7,
             "#b8e186"
            ],
            [
             0.8,
             "#7fbc41"
            ],
            [
             0.9,
             "#4d9221"
            ],
            [
             1,
             "#276419"
            ]
           ],
           "sequential": [
            [
             0,
             "#0d0887"
            ],
            [
             0.1111111111111111,
             "#46039f"
            ],
            [
             0.2222222222222222,
             "#7201a8"
            ],
            [
             0.3333333333333333,
             "#9c179e"
            ],
            [
             0.4444444444444444,
             "#bd3786"
            ],
            [
             0.5555555555555556,
             "#d8576b"
            ],
            [
             0.6666666666666666,
             "#ed7953"
            ],
            [
             0.7777777777777778,
             "#fb9f3a"
            ],
            [
             0.8888888888888888,
             "#fdca26"
            ],
            [
             1,
             "#f0f921"
            ]
           ],
           "sequentialminus": [
            [
             0,
             "#0d0887"
            ],
            [
             0.1111111111111111,
             "#46039f"
            ],
            [
             0.2222222222222222,
             "#7201a8"
            ],
            [
             0.3333333333333333,
             "#9c179e"
            ],
            [
             0.4444444444444444,
             "#bd3786"
            ],
            [
             0.5555555555555556,
             "#d8576b"
            ],
            [
             0.6666666666666666,
             "#ed7953"
            ],
            [
             0.7777777777777778,
             "#fb9f3a"
            ],
            [
             0.8888888888888888,
             "#fdca26"
            ],
            [
             1,
             "#f0f921"
            ]
           ]
          },
          "colorway": [
           "#636efa",
           "#EF553B",
           "#00cc96",
           "#ab63fa",
           "#FFA15A",
           "#19d3f3",
           "#FF6692",
           "#B6E880",
           "#FF97FF",
           "#FECB52"
          ],
          "font": {
           "color": "#2a3f5f"
          },
          "geo": {
           "bgcolor": "white",
           "lakecolor": "white",
           "landcolor": "#E5ECF6",
           "showlakes": true,
           "showland": true,
           "subunitcolor": "white"
          },
          "hoverlabel": {
           "align": "left"
          },
          "hovermode": "closest",
          "mapbox": {
           "style": "light"
          },
          "paper_bgcolor": "white",
          "plot_bgcolor": "#E5ECF6",
          "polar": {
           "angularaxis": {
            "gridcolor": "white",
            "linecolor": "white",
            "ticks": ""
           },
           "bgcolor": "#E5ECF6",
           "radialaxis": {
            "gridcolor": "white",
            "linecolor": "white",
            "ticks": ""
           }
          },
          "scene": {
           "xaxis": {
            "backgroundcolor": "#E5ECF6",
            "gridcolor": "white",
            "gridwidth": 2,
            "linecolor": "white",
            "showbackground": true,
            "ticks": "",
            "zerolinecolor": "white"
           },
           "yaxis": {
            "backgroundcolor": "#E5ECF6",
            "gridcolor": "white",
            "gridwidth": 2,
            "linecolor": "white",
            "showbackground": true,
            "ticks": "",
            "zerolinecolor": "white"
           },
           "zaxis": {
            "backgroundcolor": "#E5ECF6",
            "gridcolor": "white",
            "gridwidth": 2,
            "linecolor": "white",
            "showbackground": true,
            "ticks": "",
            "zerolinecolor": "white"
           }
          },
          "shapedefaults": {
           "line": {
            "color": "#2a3f5f"
           }
          },
          "ternary": {
           "aaxis": {
            "gridcolor": "white",
            "linecolor": "white",
            "ticks": ""
           },
           "baxis": {
            "gridcolor": "white",
            "linecolor": "white",
            "ticks": ""
           },
           "bgcolor": "#E5ECF6",
           "caxis": {
            "gridcolor": "white",
            "linecolor": "white",
            "ticks": ""
           }
          },
          "title": {
           "x": 0.05
          },
          "xaxis": {
           "automargin": true,
           "gridcolor": "white",
           "linecolor": "white",
           "ticks": "",
           "title": {
            "standoff": 15
           },
           "zerolinecolor": "white",
           "zerolinewidth": 2
          },
          "yaxis": {
           "automargin": true,
           "gridcolor": "white",
           "linecolor": "white",
           "ticks": "",
           "title": {
            "standoff": 15
           },
           "zerolinecolor": "white",
           "zerolinewidth": 2
          }
         }
        },
        "width": 600
       }
      }
     },
     "metadata": {},
     "output_type": "display_data"
    }
   ],
   "source": [
    "# Ваш код здесь\n",
    "import plotly.graph_objects as go\n",
    "from plotly.subplots import make_subplots\n",
    "# Распределение целевого признака\n",
    "figure_departed_loyal = go.Figure(data=[go.Pie(labels=['Лояльные', 'Ушедшие'],\n",
    "                                               values=churn_data['Exited'].value_counts(),\n",
    "                                               title='Соотношение клиентов')])\n",
    "# Стиль отображения\n",
    "figure_departed_loyal.update_traces(textinfo='label+percent', # Содержимое подписи\n",
    "                                    textfont_size=14, # Размер шрифта подписи\n",
    "                                    pull=[0.1, 0], # Сдвиг сектора\n",
    "                                    marker=dict(colors=[\"#10c938\", \"#c91010\"]), # Цвета секторов\n",
    "                                    showlegend=False) # Скрыть легенду\n",
    "# Размер полотна\n",
    "figure_departed_loyal.update_layout(autosize = False, width = 600, height = 600)\n",
    "figure_departed_loyal.show()\n",
    "\n"
   ]
  },
  {
   "cell_type": "code",
   "execution_count": 23,
   "id": "fb73518a",
   "metadata": {},
   "outputs": [
    {
     "data": {
      "application/vnd.plotly.v1+json": {
       "config": {
        "plotlyServerURL": "https://plot.ly"
       },
       "data": [
        {
         "marker": {
          "color": "#c91010"
         },
         "name": "Ушедшие",
         "type": "bar",
         "x": [
          "Germany",
          "France",
          "Spain"
         ],
         "y": {
          "bdata": "LgMqA50B",
          "dtype": "i2"
         }
        },
        {
         "marker": {
          "color": "#10c938"
         },
         "name": "Лояльные",
         "type": "bar",
         "x": [
          "France",
          "Spain",
          "Germany"
         ],
         "y": {
          "bdata": "bBAQCJ8G",
          "dtype": "i2"
         }
        }
       ],
       "layout": {
        "autosize": false,
        "bargap": 0.2,
        "height": 430,
        "template": {
         "data": {
          "bar": [
           {
            "error_x": {
             "color": "#2a3f5f"
            },
            "error_y": {
             "color": "#2a3f5f"
            },
            "marker": {
             "line": {
              "color": "#E5ECF6",
              "width": 0.5
             },
             "pattern": {
              "fillmode": "overlay",
              "size": 10,
              "solidity": 0.2
             }
            },
            "type": "bar"
           }
          ],
          "barpolar": [
           {
            "marker": {
             "line": {
              "color": "#E5ECF6",
              "width": 0.5
             },
             "pattern": {
              "fillmode": "overlay",
              "size": 10,
              "solidity": 0.2
             }
            },
            "type": "barpolar"
           }
          ],
          "carpet": [
           {
            "aaxis": {
             "endlinecolor": "#2a3f5f",
             "gridcolor": "white",
             "linecolor": "white",
             "minorgridcolor": "white",
             "startlinecolor": "#2a3f5f"
            },
            "baxis": {
             "endlinecolor": "#2a3f5f",
             "gridcolor": "white",
             "linecolor": "white",
             "minorgridcolor": "white",
             "startlinecolor": "#2a3f5f"
            },
            "type": "carpet"
           }
          ],
          "choropleth": [
           {
            "colorbar": {
             "outlinewidth": 0,
             "ticks": ""
            },
            "type": "choropleth"
           }
          ],
          "contour": [
           {
            "colorbar": {
             "outlinewidth": 0,
             "ticks": ""
            },
            "colorscale": [
             [
              0,
              "#0d0887"
             ],
             [
              0.1111111111111111,
              "#46039f"
             ],
             [
              0.2222222222222222,
              "#7201a8"
             ],
             [
              0.3333333333333333,
              "#9c179e"
             ],
             [
              0.4444444444444444,
              "#bd3786"
             ],
             [
              0.5555555555555556,
              "#d8576b"
             ],
             [
              0.6666666666666666,
              "#ed7953"
             ],
             [
              0.7777777777777778,
              "#fb9f3a"
             ],
             [
              0.8888888888888888,
              "#fdca26"
             ],
             [
              1,
              "#f0f921"
             ]
            ],
            "type": "contour"
           }
          ],
          "contourcarpet": [
           {
            "colorbar": {
             "outlinewidth": 0,
             "ticks": ""
            },
            "type": "contourcarpet"
           }
          ],
          "heatmap": [
           {
            "colorbar": {
             "outlinewidth": 0,
             "ticks": ""
            },
            "colorscale": [
             [
              0,
              "#0d0887"
             ],
             [
              0.1111111111111111,
              "#46039f"
             ],
             [
              0.2222222222222222,
              "#7201a8"
             ],
             [
              0.3333333333333333,
              "#9c179e"
             ],
             [
              0.4444444444444444,
              "#bd3786"
             ],
             [
              0.5555555555555556,
              "#d8576b"
             ],
             [
              0.6666666666666666,
              "#ed7953"
             ],
             [
              0.7777777777777778,
              "#fb9f3a"
             ],
             [
              0.8888888888888888,
              "#fdca26"
             ],
             [
              1,
              "#f0f921"
             ]
            ],
            "type": "heatmap"
           }
          ],
          "histogram": [
           {
            "marker": {
             "pattern": {
              "fillmode": "overlay",
              "size": 10,
              "solidity": 0.2
             }
            },
            "type": "histogram"
           }
          ],
          "histogram2d": [
           {
            "colorbar": {
             "outlinewidth": 0,
             "ticks": ""
            },
            "colorscale": [
             [
              0,
              "#0d0887"
             ],
             [
              0.1111111111111111,
              "#46039f"
             ],
             [
              0.2222222222222222,
              "#7201a8"
             ],
             [
              0.3333333333333333,
              "#9c179e"
             ],
             [
              0.4444444444444444,
              "#bd3786"
             ],
             [
              0.5555555555555556,
              "#d8576b"
             ],
             [
              0.6666666666666666,
              "#ed7953"
             ],
             [
              0.7777777777777778,
              "#fb9f3a"
             ],
             [
              0.8888888888888888,
              "#fdca26"
             ],
             [
              1,
              "#f0f921"
             ]
            ],
            "type": "histogram2d"
           }
          ],
          "histogram2dcontour": [
           {
            "colorbar": {
             "outlinewidth": 0,
             "ticks": ""
            },
            "colorscale": [
             [
              0,
              "#0d0887"
             ],
             [
              0.1111111111111111,
              "#46039f"
             ],
             [
              0.2222222222222222,
              "#7201a8"
             ],
             [
              0.3333333333333333,
              "#9c179e"
             ],
             [
              0.4444444444444444,
              "#bd3786"
             ],
             [
              0.5555555555555556,
              "#d8576b"
             ],
             [
              0.6666666666666666,
              "#ed7953"
             ],
             [
              0.7777777777777778,
              "#fb9f3a"
             ],
             [
              0.8888888888888888,
              "#fdca26"
             ],
             [
              1,
              "#f0f921"
             ]
            ],
            "type": "histogram2dcontour"
           }
          ],
          "mesh3d": [
           {
            "colorbar": {
             "outlinewidth": 0,
             "ticks": ""
            },
            "type": "mesh3d"
           }
          ],
          "parcoords": [
           {
            "line": {
             "colorbar": {
              "outlinewidth": 0,
              "ticks": ""
             }
            },
            "type": "parcoords"
           }
          ],
          "pie": [
           {
            "automargin": true,
            "type": "pie"
           }
          ],
          "scatter": [
           {
            "fillpattern": {
             "fillmode": "overlay",
             "size": 10,
             "solidity": 0.2
            },
            "type": "scatter"
           }
          ],
          "scatter3d": [
           {
            "line": {
             "colorbar": {
              "outlinewidth": 0,
              "ticks": ""
             }
            },
            "marker": {
             "colorbar": {
              "outlinewidth": 0,
              "ticks": ""
             }
            },
            "type": "scatter3d"
           }
          ],
          "scattercarpet": [
           {
            "marker": {
             "colorbar": {
              "outlinewidth": 0,
              "ticks": ""
             }
            },
            "type": "scattercarpet"
           }
          ],
          "scattergeo": [
           {
            "marker": {
             "colorbar": {
              "outlinewidth": 0,
              "ticks": ""
             }
            },
            "type": "scattergeo"
           }
          ],
          "scattergl": [
           {
            "marker": {
             "colorbar": {
              "outlinewidth": 0,
              "ticks": ""
             }
            },
            "type": "scattergl"
           }
          ],
          "scattermap": [
           {
            "marker": {
             "colorbar": {
              "outlinewidth": 0,
              "ticks": ""
             }
            },
            "type": "scattermap"
           }
          ],
          "scattermapbox": [
           {
            "marker": {
             "colorbar": {
              "outlinewidth": 0,
              "ticks": ""
             }
            },
            "type": "scattermapbox"
           }
          ],
          "scatterpolar": [
           {
            "marker": {
             "colorbar": {
              "outlinewidth": 0,
              "ticks": ""
             }
            },
            "type": "scatterpolar"
           }
          ],
          "scatterpolargl": [
           {
            "marker": {
             "colorbar": {
              "outlinewidth": 0,
              "ticks": ""
             }
            },
            "type": "scatterpolargl"
           }
          ],
          "scatterternary": [
           {
            "marker": {
             "colorbar": {
              "outlinewidth": 0,
              "ticks": ""
             }
            },
            "type": "scatterternary"
           }
          ],
          "surface": [
           {
            "colorbar": {
             "outlinewidth": 0,
             "ticks": ""
            },
            "colorscale": [
             [
              0,
              "#0d0887"
             ],
             [
              0.1111111111111111,
              "#46039f"
             ],
             [
              0.2222222222222222,
              "#7201a8"
             ],
             [
              0.3333333333333333,
              "#9c179e"
             ],
             [
              0.4444444444444444,
              "#bd3786"
             ],
             [
              0.5555555555555556,
              "#d8576b"
             ],
             [
              0.6666666666666666,
              "#ed7953"
             ],
             [
              0.7777777777777778,
              "#fb9f3a"
             ],
             [
              0.8888888888888888,
              "#fdca26"
             ],
             [
              1,
              "#f0f921"
             ]
            ],
            "type": "surface"
           }
          ],
          "table": [
           {
            "cells": {
             "fill": {
              "color": "#EBF0F8"
             },
             "line": {
              "color": "white"
             }
            },
            "header": {
             "fill": {
              "color": "#C8D4E3"
             },
             "line": {
              "color": "white"
             }
            },
            "type": "table"
           }
          ]
         },
         "layout": {
          "annotationdefaults": {
           "arrowcolor": "#2a3f5f",
           "arrowhead": 0,
           "arrowwidth": 1
          },
          "autotypenumbers": "strict",
          "coloraxis": {
           "colorbar": {
            "outlinewidth": 0,
            "ticks": ""
           }
          },
          "colorscale": {
           "diverging": [
            [
             0,
             "#8e0152"
            ],
            [
             0.1,
             "#c51b7d"
            ],
            [
             0.2,
             "#de77ae"
            ],
            [
             0.3,
             "#f1b6da"
            ],
            [
             0.4,
             "#fde0ef"
            ],
            [
             0.5,
             "#f7f7f7"
            ],
            [
             0.6,
             "#e6f5d0"
            ],
            [
             0.7,
             "#b8e186"
            ],
            [
             0.8,
             "#7fbc41"
            ],
            [
             0.9,
             "#4d9221"
            ],
            [
             1,
             "#276419"
            ]
           ],
           "sequential": [
            [
             0,
             "#0d0887"
            ],
            [
             0.1111111111111111,
             "#46039f"
            ],
            [
             0.2222222222222222,
             "#7201a8"
            ],
            [
             0.3333333333333333,
             "#9c179e"
            ],
            [
             0.4444444444444444,
             "#bd3786"
            ],
            [
             0.5555555555555556,
             "#d8576b"
            ],
            [
             0.6666666666666666,
             "#ed7953"
            ],
            [
             0.7777777777777778,
             "#fb9f3a"
            ],
            [
             0.8888888888888888,
             "#fdca26"
            ],
            [
             1,
             "#f0f921"
            ]
           ],
           "sequentialminus": [
            [
             0,
             "#0d0887"
            ],
            [
             0.1111111111111111,
             "#46039f"
            ],
            [
             0.2222222222222222,
             "#7201a8"
            ],
            [
             0.3333333333333333,
             "#9c179e"
            ],
            [
             0.4444444444444444,
             "#bd3786"
            ],
            [
             0.5555555555555556,
             "#d8576b"
            ],
            [
             0.6666666666666666,
             "#ed7953"
            ],
            [
             0.7777777777777778,
             "#fb9f3a"
            ],
            [
             0.8888888888888888,
             "#fdca26"
            ],
            [
             1,
             "#f0f921"
            ]
           ]
          },
          "colorway": [
           "#636efa",
           "#EF553B",
           "#00cc96",
           "#ab63fa",
           "#FFA15A",
           "#19d3f3",
           "#FF6692",
           "#B6E880",
           "#FF97FF",
           "#FECB52"
          ],
          "font": {
           "color": "#2a3f5f"
          },
          "geo": {
           "bgcolor": "white",
           "lakecolor": "white",
           "landcolor": "#E5ECF6",
           "showlakes": true,
           "showland": true,
           "subunitcolor": "white"
          },
          "hoverlabel": {
           "align": "left"
          },
          "hovermode": "closest",
          "mapbox": {
           "style": "light"
          },
          "paper_bgcolor": "white",
          "plot_bgcolor": "#E5ECF6",
          "polar": {
           "angularaxis": {
            "gridcolor": "white",
            "linecolor": "white",
            "ticks": ""
           },
           "bgcolor": "#E5ECF6",
           "radialaxis": {
            "gridcolor": "white",
            "linecolor": "white",
            "ticks": ""
           }
          },
          "scene": {
           "xaxis": {
            "backgroundcolor": "#E5ECF6",
            "gridcolor": "white",
            "gridwidth": 2,
            "linecolor": "white",
            "showbackground": true,
            "ticks": "",
            "zerolinecolor": "white"
           },
           "yaxis": {
            "backgroundcolor": "#E5ECF6",
            "gridcolor": "white",
            "gridwidth": 2,
            "linecolor": "white",
            "showbackground": true,
            "ticks": "",
            "zerolinecolor": "white"
           },
           "zaxis": {
            "backgroundcolor": "#E5ECF6",
            "gridcolor": "white",
            "gridwidth": 2,
            "linecolor": "white",
            "showbackground": true,
            "ticks": "",
            "zerolinecolor": "white"
           }
          },
          "shapedefaults": {
           "line": {
            "color": "#2a3f5f"
           }
          },
          "ternary": {
           "aaxis": {
            "gridcolor": "white",
            "linecolor": "white",
            "ticks": ""
           },
           "baxis": {
            "gridcolor": "white",
            "linecolor": "white",
            "ticks": ""
           },
           "bgcolor": "#E5ECF6",
           "caxis": {
            "gridcolor": "white",
            "linecolor": "white",
            "ticks": ""
           }
          },
          "title": {
           "x": 0.05
          },
          "xaxis": {
           "automargin": true,
           "gridcolor": "white",
           "linecolor": "white",
           "ticks": "",
           "title": {
            "standoff": 15
           },
           "zerolinecolor": "white",
           "zerolinewidth": 2
          },
          "yaxis": {
           "automargin": true,
           "gridcolor": "white",
           "linecolor": "white",
           "ticks": "",
           "title": {
            "standoff": 15
           },
           "zerolinecolor": "white",
           "zerolinewidth": 2
          }
         }
        },
        "title": {
         "text": "Зависимость оттока клиентов от признака \n\"Страна проживания клиента\"",
         "x": 0.5
        },
        "width": 800,
        "xaxis": {
         "title": {
          "text": "Страна проживания клиента"
         }
        },
        "yaxis": {
         "title": {
          "text": "Количество клиентов"
         }
        }
       }
      }
     },
     "metadata": {},
     "output_type": "display_data"
    },
    {
     "data": {
      "application/vnd.plotly.v1+json": {
       "config": {
        "plotlyServerURL": "https://plot.ly"
       },
       "data": [
        {
         "marker": {
          "color": "#c91010"
         },
         "name": "Ушедшие",
         "type": "bar",
         "x": [
          "Female",
          "Male"
         ],
         "y": {
          "bdata": "cwSCAw==",
          "dtype": "i2"
         }
        },
        {
         "marker": {
          "color": "#10c938"
         },
         "name": "Лояльные",
         "type": "bar",
         "x": [
          "Male",
          "Female"
         ],
         "y": {
          "bdata": "zxFMDQ==",
          "dtype": "i2"
         }
        }
       ],
       "layout": {
        "autosize": false,
        "bargap": 0.2,
        "height": 430,
        "template": {
         "data": {
          "bar": [
           {
            "error_x": {
             "color": "#2a3f5f"
            },
            "error_y": {
             "color": "#2a3f5f"
            },
            "marker": {
             "line": {
              "color": "#E5ECF6",
              "width": 0.5
             },
             "pattern": {
              "fillmode": "overlay",
              "size": 10,
              "solidity": 0.2
             }
            },
            "type": "bar"
           }
          ],
          "barpolar": [
           {
            "marker": {
             "line": {
              "color": "#E5ECF6",
              "width": 0.5
             },
             "pattern": {
              "fillmode": "overlay",
              "size": 10,
              "solidity": 0.2
             }
            },
            "type": "barpolar"
           }
          ],
          "carpet": [
           {
            "aaxis": {
             "endlinecolor": "#2a3f5f",
             "gridcolor": "white",
             "linecolor": "white",
             "minorgridcolor": "white",
             "startlinecolor": "#2a3f5f"
            },
            "baxis": {
             "endlinecolor": "#2a3f5f",
             "gridcolor": "white",
             "linecolor": "white",
             "minorgridcolor": "white",
             "startlinecolor": "#2a3f5f"
            },
            "type": "carpet"
           }
          ],
          "choropleth": [
           {
            "colorbar": {
             "outlinewidth": 0,
             "ticks": ""
            },
            "type": "choropleth"
           }
          ],
          "contour": [
           {
            "colorbar": {
             "outlinewidth": 0,
             "ticks": ""
            },
            "colorscale": [
             [
              0,
              "#0d0887"
             ],
             [
              0.1111111111111111,
              "#46039f"
             ],
             [
              0.2222222222222222,
              "#7201a8"
             ],
             [
              0.3333333333333333,
              "#9c179e"
             ],
             [
              0.4444444444444444,
              "#bd3786"
             ],
             [
              0.5555555555555556,
              "#d8576b"
             ],
             [
              0.6666666666666666,
              "#ed7953"
             ],
             [
              0.7777777777777778,
              "#fb9f3a"
             ],
             [
              0.8888888888888888,
              "#fdca26"
             ],
             [
              1,
              "#f0f921"
             ]
            ],
            "type": "contour"
           }
          ],
          "contourcarpet": [
           {
            "colorbar": {
             "outlinewidth": 0,
             "ticks": ""
            },
            "type": "contourcarpet"
           }
          ],
          "heatmap": [
           {
            "colorbar": {
             "outlinewidth": 0,
             "ticks": ""
            },
            "colorscale": [
             [
              0,
              "#0d0887"
             ],
             [
              0.1111111111111111,
              "#46039f"
             ],
             [
              0.2222222222222222,
              "#7201a8"
             ],
             [
              0.3333333333333333,
              "#9c179e"
             ],
             [
              0.4444444444444444,
              "#bd3786"
             ],
             [
              0.5555555555555556,
              "#d8576b"
             ],
             [
              0.6666666666666666,
              "#ed7953"
             ],
             [
              0.7777777777777778,
              "#fb9f3a"
             ],
             [
              0.8888888888888888,
              "#fdca26"
             ],
             [
              1,
              "#f0f921"
             ]
            ],
            "type": "heatmap"
           }
          ],
          "histogram": [
           {
            "marker": {
             "pattern": {
              "fillmode": "overlay",
              "size": 10,
              "solidity": 0.2
             }
            },
            "type": "histogram"
           }
          ],
          "histogram2d": [
           {
            "colorbar": {
             "outlinewidth": 0,
             "ticks": ""
            },
            "colorscale": [
             [
              0,
              "#0d0887"
             ],
             [
              0.1111111111111111,
              "#46039f"
             ],
             [
              0.2222222222222222,
              "#7201a8"
             ],
             [
              0.3333333333333333,
              "#9c179e"
             ],
             [
              0.4444444444444444,
              "#bd3786"
             ],
             [
              0.5555555555555556,
              "#d8576b"
             ],
             [
              0.6666666666666666,
              "#ed7953"
             ],
             [
              0.7777777777777778,
              "#fb9f3a"
             ],
             [
              0.8888888888888888,
              "#fdca26"
             ],
             [
              1,
              "#f0f921"
             ]
            ],
            "type": "histogram2d"
           }
          ],
          "histogram2dcontour": [
           {
            "colorbar": {
             "outlinewidth": 0,
             "ticks": ""
            },
            "colorscale": [
             [
              0,
              "#0d0887"
             ],
             [
              0.1111111111111111,
              "#46039f"
             ],
             [
              0.2222222222222222,
              "#7201a8"
             ],
             [
              0.3333333333333333,
              "#9c179e"
             ],
             [
              0.4444444444444444,
              "#bd3786"
             ],
             [
              0.5555555555555556,
              "#d8576b"
             ],
             [
              0.6666666666666666,
              "#ed7953"
             ],
             [
              0.7777777777777778,
              "#fb9f3a"
             ],
             [
              0.8888888888888888,
              "#fdca26"
             ],
             [
              1,
              "#f0f921"
             ]
            ],
            "type": "histogram2dcontour"
           }
          ],
          "mesh3d": [
           {
            "colorbar": {
             "outlinewidth": 0,
             "ticks": ""
            },
            "type": "mesh3d"
           }
          ],
          "parcoords": [
           {
            "line": {
             "colorbar": {
              "outlinewidth": 0,
              "ticks": ""
             }
            },
            "type": "parcoords"
           }
          ],
          "pie": [
           {
            "automargin": true,
            "type": "pie"
           }
          ],
          "scatter": [
           {
            "fillpattern": {
             "fillmode": "overlay",
             "size": 10,
             "solidity": 0.2
            },
            "type": "scatter"
           }
          ],
          "scatter3d": [
           {
            "line": {
             "colorbar": {
              "outlinewidth": 0,
              "ticks": ""
             }
            },
            "marker": {
             "colorbar": {
              "outlinewidth": 0,
              "ticks": ""
             }
            },
            "type": "scatter3d"
           }
          ],
          "scattercarpet": [
           {
            "marker": {
             "colorbar": {
              "outlinewidth": 0,
              "ticks": ""
             }
            },
            "type": "scattercarpet"
           }
          ],
          "scattergeo": [
           {
            "marker": {
             "colorbar": {
              "outlinewidth": 0,
              "ticks": ""
             }
            },
            "type": "scattergeo"
           }
          ],
          "scattergl": [
           {
            "marker": {
             "colorbar": {
              "outlinewidth": 0,
              "ticks": ""
             }
            },
            "type": "scattergl"
           }
          ],
          "scattermap": [
           {
            "marker": {
             "colorbar": {
              "outlinewidth": 0,
              "ticks": ""
             }
            },
            "type": "scattermap"
           }
          ],
          "scattermapbox": [
           {
            "marker": {
             "colorbar": {
              "outlinewidth": 0,
              "ticks": ""
             }
            },
            "type": "scattermapbox"
           }
          ],
          "scatterpolar": [
           {
            "marker": {
             "colorbar": {
              "outlinewidth": 0,
              "ticks": ""
             }
            },
            "type": "scatterpolar"
           }
          ],
          "scatterpolargl": [
           {
            "marker": {
             "colorbar": {
              "outlinewidth": 0,
              "ticks": ""
             }
            },
            "type": "scatterpolargl"
           }
          ],
          "scatterternary": [
           {
            "marker": {
             "colorbar": {
              "outlinewidth": 0,
              "ticks": ""
             }
            },
            "type": "scatterternary"
           }
          ],
          "surface": [
           {
            "colorbar": {
             "outlinewidth": 0,
             "ticks": ""
            },
            "colorscale": [
             [
              0,
              "#0d0887"
             ],
             [
              0.1111111111111111,
              "#46039f"
             ],
             [
              0.2222222222222222,
              "#7201a8"
             ],
             [
              0.3333333333333333,
              "#9c179e"
             ],
             [
              0.4444444444444444,
              "#bd3786"
             ],
             [
              0.5555555555555556,
              "#d8576b"
             ],
             [
              0.6666666666666666,
              "#ed7953"
             ],
             [
              0.7777777777777778,
              "#fb9f3a"
             ],
             [
              0.8888888888888888,
              "#fdca26"
             ],
             [
              1,
              "#f0f921"
             ]
            ],
            "type": "surface"
           }
          ],
          "table": [
           {
            "cells": {
             "fill": {
              "color": "#EBF0F8"
             },
             "line": {
              "color": "white"
             }
            },
            "header": {
             "fill": {
              "color": "#C8D4E3"
             },
             "line": {
              "color": "white"
             }
            },
            "type": "table"
           }
          ]
         },
         "layout": {
          "annotationdefaults": {
           "arrowcolor": "#2a3f5f",
           "arrowhead": 0,
           "arrowwidth": 1
          },
          "autotypenumbers": "strict",
          "coloraxis": {
           "colorbar": {
            "outlinewidth": 0,
            "ticks": ""
           }
          },
          "colorscale": {
           "diverging": [
            [
             0,
             "#8e0152"
            ],
            [
             0.1,
             "#c51b7d"
            ],
            [
             0.2,
             "#de77ae"
            ],
            [
             0.3,
             "#f1b6da"
            ],
            [
             0.4,
             "#fde0ef"
            ],
            [
             0.5,
             "#f7f7f7"
            ],
            [
             0.6,
             "#e6f5d0"
            ],
            [
             0.7,
             "#b8e186"
            ],
            [
             0.8,
             "#7fbc41"
            ],
            [
             0.9,
             "#4d9221"
            ],
            [
             1,
             "#276419"
            ]
           ],
           "sequential": [
            [
             0,
             "#0d0887"
            ],
            [
             0.1111111111111111,
             "#46039f"
            ],
            [
             0.2222222222222222,
             "#7201a8"
            ],
            [
             0.3333333333333333,
             "#9c179e"
            ],
            [
             0.4444444444444444,
             "#bd3786"
            ],
            [
             0.5555555555555556,
             "#d8576b"
            ],
            [
             0.6666666666666666,
             "#ed7953"
            ],
            [
             0.7777777777777778,
             "#fb9f3a"
            ],
            [
             0.8888888888888888,
             "#fdca26"
            ],
            [
             1,
             "#f0f921"
            ]
           ],
           "sequentialminus": [
            [
             0,
             "#0d0887"
            ],
            [
             0.1111111111111111,
             "#46039f"
            ],
            [
             0.2222222222222222,
             "#7201a8"
            ],
            [
             0.3333333333333333,
             "#9c179e"
            ],
            [
             0.4444444444444444,
             "#bd3786"
            ],
            [
             0.5555555555555556,
             "#d8576b"
            ],
            [
             0.6666666666666666,
             "#ed7953"
            ],
            [
             0.7777777777777778,
             "#fb9f3a"
            ],
            [
             0.8888888888888888,
             "#fdca26"
            ],
            [
             1,
             "#f0f921"
            ]
           ]
          },
          "colorway": [
           "#636efa",
           "#EF553B",
           "#00cc96",
           "#ab63fa",
           "#FFA15A",
           "#19d3f3",
           "#FF6692",
           "#B6E880",
           "#FF97FF",
           "#FECB52"
          ],
          "font": {
           "color": "#2a3f5f"
          },
          "geo": {
           "bgcolor": "white",
           "lakecolor": "white",
           "landcolor": "#E5ECF6",
           "showlakes": true,
           "showland": true,
           "subunitcolor": "white"
          },
          "hoverlabel": {
           "align": "left"
          },
          "hovermode": "closest",
          "mapbox": {
           "style": "light"
          },
          "paper_bgcolor": "white",
          "plot_bgcolor": "#E5ECF6",
          "polar": {
           "angularaxis": {
            "gridcolor": "white",
            "linecolor": "white",
            "ticks": ""
           },
           "bgcolor": "#E5ECF6",
           "radialaxis": {
            "gridcolor": "white",
            "linecolor": "white",
            "ticks": ""
           }
          },
          "scene": {
           "xaxis": {
            "backgroundcolor": "#E5ECF6",
            "gridcolor": "white",
            "gridwidth": 2,
            "linecolor": "white",
            "showbackground": true,
            "ticks": "",
            "zerolinecolor": "white"
           },
           "yaxis": {
            "backgroundcolor": "#E5ECF6",
            "gridcolor": "white",
            "gridwidth": 2,
            "linecolor": "white",
            "showbackground": true,
            "ticks": "",
            "zerolinecolor": "white"
           },
           "zaxis": {
            "backgroundcolor": "#E5ECF6",
            "gridcolor": "white",
            "gridwidth": 2,
            "linecolor": "white",
            "showbackground": true,
            "ticks": "",
            "zerolinecolor": "white"
           }
          },
          "shapedefaults": {
           "line": {
            "color": "#2a3f5f"
           }
          },
          "ternary": {
           "aaxis": {
            "gridcolor": "white",
            "linecolor": "white",
            "ticks": ""
           },
           "baxis": {
            "gridcolor": "white",
            "linecolor": "white",
            "ticks": ""
           },
           "bgcolor": "#E5ECF6",
           "caxis": {
            "gridcolor": "white",
            "linecolor": "white",
            "ticks": ""
           }
          },
          "title": {
           "x": 0.05
          },
          "xaxis": {
           "automargin": true,
           "gridcolor": "white",
           "linecolor": "white",
           "ticks": "",
           "title": {
            "standoff": 15
           },
           "zerolinecolor": "white",
           "zerolinewidth": 2
          },
          "yaxis": {
           "automargin": true,
           "gridcolor": "white",
           "linecolor": "white",
           "ticks": "",
           "title": {
            "standoff": 15
           },
           "zerolinecolor": "white",
           "zerolinewidth": 2
          }
         }
        },
        "title": {
         "text": "Зависимость оттока клиентов от признака \n\"Пол клиента\"",
         "x": 0.5
        },
        "width": 800,
        "xaxis": {
         "title": {
          "text": "Пол клиента"
         }
        },
        "yaxis": {
         "title": {
          "text": "Количество клиентов"
         }
        }
       }
      }
     },
     "metadata": {},
     "output_type": "display_data"
    },
    {
     "data": {
      "application/vnd.plotly.v1+json": {
       "config": {
        "plotlyServerURL": "https://plot.ly"
       },
       "data": [
        {
         "marker": {
          "color": "#c91010"
         },
         "name": "Ушедшие",
         "type": "bar",
         "x": {
          "bdata": "AQMJBQQCCAYHCgA=",
          "dtype": "i1"
         },
         "y": {
          "bdata": "6ADVANUA0QDLAMkAxQDEALEAZQBfAA==",
          "dtype": "i2"
         }
        },
        {
         "marker": {
          "color": "#10c938"
         },
         "name": "Лояльные",
         "type": "bar",
         "x": {
          "bdata": "BwIIAQUDBAYJCgA=",
          "dtype": "i1"
         },
         "y": {
          "bdata": "UwNPAzwDIwMjAxwDEgMDAwMDhQE+AQ==",
          "dtype": "i2"
         }
        }
       ],
       "layout": {
        "autosize": false,
        "bargap": 0.2,
        "height": 430,
        "template": {
         "data": {
          "bar": [
           {
            "error_x": {
             "color": "#2a3f5f"
            },
            "error_y": {
             "color": "#2a3f5f"
            },
            "marker": {
             "line": {
              "color": "#E5ECF6",
              "width": 0.5
             },
             "pattern": {
              "fillmode": "overlay",
              "size": 10,
              "solidity": 0.2
             }
            },
            "type": "bar"
           }
          ],
          "barpolar": [
           {
            "marker": {
             "line": {
              "color": "#E5ECF6",
              "width": 0.5
             },
             "pattern": {
              "fillmode": "overlay",
              "size": 10,
              "solidity": 0.2
             }
            },
            "type": "barpolar"
           }
          ],
          "carpet": [
           {
            "aaxis": {
             "endlinecolor": "#2a3f5f",
             "gridcolor": "white",
             "linecolor": "white",
             "minorgridcolor": "white",
             "startlinecolor": "#2a3f5f"
            },
            "baxis": {
             "endlinecolor": "#2a3f5f",
             "gridcolor": "white",
             "linecolor": "white",
             "minorgridcolor": "white",
             "startlinecolor": "#2a3f5f"
            },
            "type": "carpet"
           }
          ],
          "choropleth": [
           {
            "colorbar": {
             "outlinewidth": 0,
             "ticks": ""
            },
            "type": "choropleth"
           }
          ],
          "contour": [
           {
            "colorbar": {
             "outlinewidth": 0,
             "ticks": ""
            },
            "colorscale": [
             [
              0,
              "#0d0887"
             ],
             [
              0.1111111111111111,
              "#46039f"
             ],
             [
              0.2222222222222222,
              "#7201a8"
             ],
             [
              0.3333333333333333,
              "#9c179e"
             ],
             [
              0.4444444444444444,
              "#bd3786"
             ],
             [
              0.5555555555555556,
              "#d8576b"
             ],
             [
              0.6666666666666666,
              "#ed7953"
             ],
             [
              0.7777777777777778,
              "#fb9f3a"
             ],
             [
              0.8888888888888888,
              "#fdca26"
             ],
             [
              1,
              "#f0f921"
             ]
            ],
            "type": "contour"
           }
          ],
          "contourcarpet": [
           {
            "colorbar": {
             "outlinewidth": 0,
             "ticks": ""
            },
            "type": "contourcarpet"
           }
          ],
          "heatmap": [
           {
            "colorbar": {
             "outlinewidth": 0,
             "ticks": ""
            },
            "colorscale": [
             [
              0,
              "#0d0887"
             ],
             [
              0.1111111111111111,
              "#46039f"
             ],
             [
              0.2222222222222222,
              "#7201a8"
             ],
             [
              0.3333333333333333,
              "#9c179e"
             ],
             [
              0.4444444444444444,
              "#bd3786"
             ],
             [
              0.5555555555555556,
              "#d8576b"
             ],
             [
              0.6666666666666666,
              "#ed7953"
             ],
             [
              0.7777777777777778,
              "#fb9f3a"
             ],
             [
              0.8888888888888888,
              "#fdca26"
             ],
             [
              1,
              "#f0f921"
             ]
            ],
            "type": "heatmap"
           }
          ],
          "histogram": [
           {
            "marker": {
             "pattern": {
              "fillmode": "overlay",
              "size": 10,
              "solidity": 0.2
             }
            },
            "type": "histogram"
           }
          ],
          "histogram2d": [
           {
            "colorbar": {
             "outlinewidth": 0,
             "ticks": ""
            },
            "colorscale": [
             [
              0,
              "#0d0887"
             ],
             [
              0.1111111111111111,
              "#46039f"
             ],
             [
              0.2222222222222222,
              "#7201a8"
             ],
             [
              0.3333333333333333,
              "#9c179e"
             ],
             [
              0.4444444444444444,
              "#bd3786"
             ],
             [
              0.5555555555555556,
              "#d8576b"
             ],
             [
              0.6666666666666666,
              "#ed7953"
             ],
             [
              0.7777777777777778,
              "#fb9f3a"
             ],
             [
              0.8888888888888888,
              "#fdca26"
             ],
             [
              1,
              "#f0f921"
             ]
            ],
            "type": "histogram2d"
           }
          ],
          "histogram2dcontour": [
           {
            "colorbar": {
             "outlinewidth": 0,
             "ticks": ""
            },
            "colorscale": [
             [
              0,
              "#0d0887"
             ],
             [
              0.1111111111111111,
              "#46039f"
             ],
             [
              0.2222222222222222,
              "#7201a8"
             ],
             [
              0.3333333333333333,
              "#9c179e"
             ],
             [
              0.4444444444444444,
              "#bd3786"
             ],
             [
              0.5555555555555556,
              "#d8576b"
             ],
             [
              0.6666666666666666,
              "#ed7953"
             ],
             [
              0.7777777777777778,
              "#fb9f3a"
             ],
             [
              0.8888888888888888,
              "#fdca26"
             ],
             [
              1,
              "#f0f921"
             ]
            ],
            "type": "histogram2dcontour"
           }
          ],
          "mesh3d": [
           {
            "colorbar": {
             "outlinewidth": 0,
             "ticks": ""
            },
            "type": "mesh3d"
           }
          ],
          "parcoords": [
           {
            "line": {
             "colorbar": {
              "outlinewidth": 0,
              "ticks": ""
             }
            },
            "type": "parcoords"
           }
          ],
          "pie": [
           {
            "automargin": true,
            "type": "pie"
           }
          ],
          "scatter": [
           {
            "fillpattern": {
             "fillmode": "overlay",
             "size": 10,
             "solidity": 0.2
            },
            "type": "scatter"
           }
          ],
          "scatter3d": [
           {
            "line": {
             "colorbar": {
              "outlinewidth": 0,
              "ticks": ""
             }
            },
            "marker": {
             "colorbar": {
              "outlinewidth": 0,
              "ticks": ""
             }
            },
            "type": "scatter3d"
           }
          ],
          "scattercarpet": [
           {
            "marker": {
             "colorbar": {
              "outlinewidth": 0,
              "ticks": ""
             }
            },
            "type": "scattercarpet"
           }
          ],
          "scattergeo": [
           {
            "marker": {
             "colorbar": {
              "outlinewidth": 0,
              "ticks": ""
             }
            },
            "type": "scattergeo"
           }
          ],
          "scattergl": [
           {
            "marker": {
             "colorbar": {
              "outlinewidth": 0,
              "ticks": ""
             }
            },
            "type": "scattergl"
           }
          ],
          "scattermap": [
           {
            "marker": {
             "colorbar": {
              "outlinewidth": 0,
              "ticks": ""
             }
            },
            "type": "scattermap"
           }
          ],
          "scattermapbox": [
           {
            "marker": {
             "colorbar": {
              "outlinewidth": 0,
              "ticks": ""
             }
            },
            "type": "scattermapbox"
           }
          ],
          "scatterpolar": [
           {
            "marker": {
             "colorbar": {
              "outlinewidth": 0,
              "ticks": ""
             }
            },
            "type": "scatterpolar"
           }
          ],
          "scatterpolargl": [
           {
            "marker": {
             "colorbar": {
              "outlinewidth": 0,
              "ticks": ""
             }
            },
            "type": "scatterpolargl"
           }
          ],
          "scatterternary": [
           {
            "marker": {
             "colorbar": {
              "outlinewidth": 0,
              "ticks": ""
             }
            },
            "type": "scatterternary"
           }
          ],
          "surface": [
           {
            "colorbar": {
             "outlinewidth": 0,
             "ticks": ""
            },
            "colorscale": [
             [
              0,
              "#0d0887"
             ],
             [
              0.1111111111111111,
              "#46039f"
             ],
             [
              0.2222222222222222,
              "#7201a8"
             ],
             [
              0.3333333333333333,
              "#9c179e"
             ],
             [
              0.4444444444444444,
              "#bd3786"
             ],
             [
              0.5555555555555556,
              "#d8576b"
             ],
             [
              0.6666666666666666,
              "#ed7953"
             ],
             [
              0.7777777777777778,
              "#fb9f3a"
             ],
             [
              0.8888888888888888,
              "#fdca26"
             ],
             [
              1,
              "#f0f921"
             ]
            ],
            "type": "surface"
           }
          ],
          "table": [
           {
            "cells": {
             "fill": {
              "color": "#EBF0F8"
             },
             "line": {
              "color": "white"
             }
            },
            "header": {
             "fill": {
              "color": "#C8D4E3"
             },
             "line": {
              "color": "white"
             }
            },
            "type": "table"
           }
          ]
         },
         "layout": {
          "annotationdefaults": {
           "arrowcolor": "#2a3f5f",
           "arrowhead": 0,
           "arrowwidth": 1
          },
          "autotypenumbers": "strict",
          "coloraxis": {
           "colorbar": {
            "outlinewidth": 0,
            "ticks": ""
           }
          },
          "colorscale": {
           "diverging": [
            [
             0,
             "#8e0152"
            ],
            [
             0.1,
             "#c51b7d"
            ],
            [
             0.2,
             "#de77ae"
            ],
            [
             0.3,
             "#f1b6da"
            ],
            [
             0.4,
             "#fde0ef"
            ],
            [
             0.5,
             "#f7f7f7"
            ],
            [
             0.6,
             "#e6f5d0"
            ],
            [
             0.7,
             "#b8e186"
            ],
            [
             0.8,
             "#7fbc41"
            ],
            [
             0.9,
             "#4d9221"
            ],
            [
             1,
             "#276419"
            ]
           ],
           "sequential": [
            [
             0,
             "#0d0887"
            ],
            [
             0.1111111111111111,
             "#46039f"
            ],
            [
             0.2222222222222222,
             "#7201a8"
            ],
            [
             0.3333333333333333,
             "#9c179e"
            ],
            [
             0.4444444444444444,
             "#bd3786"
            ],
            [
             0.5555555555555556,
             "#d8576b"
            ],
            [
             0.6666666666666666,
             "#ed7953"
            ],
            [
             0.7777777777777778,
             "#fb9f3a"
            ],
            [
             0.8888888888888888,
             "#fdca26"
            ],
            [
             1,
             "#f0f921"
            ]
           ],
           "sequentialminus": [
            [
             0,
             "#0d0887"
            ],
            [
             0.1111111111111111,
             "#46039f"
            ],
            [
             0.2222222222222222,
             "#7201a8"
            ],
            [
             0.3333333333333333,
             "#9c179e"
            ],
            [
             0.4444444444444444,
             "#bd3786"
            ],
            [
             0.5555555555555556,
             "#d8576b"
            ],
            [
             0.6666666666666666,
             "#ed7953"
            ],
            [
             0.7777777777777778,
             "#fb9f3a"
            ],
            [
             0.8888888888888888,
             "#fdca26"
            ],
            [
             1,
             "#f0f921"
            ]
           ]
          },
          "colorway": [
           "#636efa",
           "#EF553B",
           "#00cc96",
           "#ab63fa",
           "#FFA15A",
           "#19d3f3",
           "#FF6692",
           "#B6E880",
           "#FF97FF",
           "#FECB52"
          ],
          "font": {
           "color": "#2a3f5f"
          },
          "geo": {
           "bgcolor": "white",
           "lakecolor": "white",
           "landcolor": "#E5ECF6",
           "showlakes": true,
           "showland": true,
           "subunitcolor": "white"
          },
          "hoverlabel": {
           "align": "left"
          },
          "hovermode": "closest",
          "mapbox": {
           "style": "light"
          },
          "paper_bgcolor": "white",
          "plot_bgcolor": "#E5ECF6",
          "polar": {
           "angularaxis": {
            "gridcolor": "white",
            "linecolor": "white",
            "ticks": ""
           },
           "bgcolor": "#E5ECF6",
           "radialaxis": {
            "gridcolor": "white",
            "linecolor": "white",
            "ticks": ""
           }
          },
          "scene": {
           "xaxis": {
            "backgroundcolor": "#E5ECF6",
            "gridcolor": "white",
            "gridwidth": 2,
            "linecolor": "white",
            "showbackground": true,
            "ticks": "",
            "zerolinecolor": "white"
           },
           "yaxis": {
            "backgroundcolor": "#E5ECF6",
            "gridcolor": "white",
            "gridwidth": 2,
            "linecolor": "white",
            "showbackground": true,
            "ticks": "",
            "zerolinecolor": "white"
           },
           "zaxis": {
            "backgroundcolor": "#E5ECF6",
            "gridcolor": "white",
            "gridwidth": 2,
            "linecolor": "white",
            "showbackground": true,
            "ticks": "",
            "zerolinecolor": "white"
           }
          },
          "shapedefaults": {
           "line": {
            "color": "#2a3f5f"
           }
          },
          "ternary": {
           "aaxis": {
            "gridcolor": "white",
            "linecolor": "white",
            "ticks": ""
           },
           "baxis": {
            "gridcolor": "white",
            "linecolor": "white",
            "ticks": ""
           },
           "bgcolor": "#E5ECF6",
           "caxis": {
            "gridcolor": "white",
            "linecolor": "white",
            "ticks": ""
           }
          },
          "title": {
           "x": 0.05
          },
          "xaxis": {
           "automargin": true,
           "gridcolor": "white",
           "linecolor": "white",
           "ticks": "",
           "title": {
            "standoff": 15
           },
           "zerolinecolor": "white",
           "zerolinewidth": 2
          },
          "yaxis": {
           "automargin": true,
           "gridcolor": "white",
           "linecolor": "white",
           "ticks": "",
           "title": {
            "standoff": 15
           },
           "zerolinecolor": "white",
           "zerolinewidth": 2
          }
         }
        },
        "title": {
         "text": "Зависимость оттока клиентов от признака \n\"Срок пользования услугами банка\"",
         "x": 0.5
        },
        "width": 800,
        "xaxis": {
         "title": {
          "text": "Срок пользования услугами банка"
         }
        },
        "yaxis": {
         "title": {
          "text": "Количество клиентов"
         }
        }
       }
      }
     },
     "metadata": {},
     "output_type": "display_data"
    },
    {
     "data": {
      "application/vnd.plotly.v1+json": {
       "config": {
        "plotlyServerURL": "https://plot.ly"
       },
       "data": [
        {
         "marker": {
          "color": "#c91010"
         },
         "name": "Ушедшие",
         "type": "bar",
         "x": {
          "bdata": "AQIDBA==",
          "dtype": "i1"
         },
         "y": {
          "bdata": "gQVcAdwAPAA=",
          "dtype": "i2"
         }
        },
        {
         "marker": {
          "color": "#10c938"
         },
         "name": "Лояльные",
         "type": "bar",
         "x": {
          "bdata": "AgED",
          "dtype": "i1"
         },
         "y": {
          "bdata": "khBbDi4A",
          "dtype": "i2"
         }
        }
       ],
       "layout": {
        "autosize": false,
        "bargap": 0.2,
        "height": 430,
        "template": {
         "data": {
          "bar": [
           {
            "error_x": {
             "color": "#2a3f5f"
            },
            "error_y": {
             "color": "#2a3f5f"
            },
            "marker": {
             "line": {
              "color": "#E5ECF6",
              "width": 0.5
             },
             "pattern": {
              "fillmode": "overlay",
              "size": 10,
              "solidity": 0.2
             }
            },
            "type": "bar"
           }
          ],
          "barpolar": [
           {
            "marker": {
             "line": {
              "color": "#E5ECF6",
              "width": 0.5
             },
             "pattern": {
              "fillmode": "overlay",
              "size": 10,
              "solidity": 0.2
             }
            },
            "type": "barpolar"
           }
          ],
          "carpet": [
           {
            "aaxis": {
             "endlinecolor": "#2a3f5f",
             "gridcolor": "white",
             "linecolor": "white",
             "minorgridcolor": "white",
             "startlinecolor": "#2a3f5f"
            },
            "baxis": {
             "endlinecolor": "#2a3f5f",
             "gridcolor": "white",
             "linecolor": "white",
             "minorgridcolor": "white",
             "startlinecolor": "#2a3f5f"
            },
            "type": "carpet"
           }
          ],
          "choropleth": [
           {
            "colorbar": {
             "outlinewidth": 0,
             "ticks": ""
            },
            "type": "choropleth"
           }
          ],
          "contour": [
           {
            "colorbar": {
             "outlinewidth": 0,
             "ticks": ""
            },
            "colorscale": [
             [
              0,
              "#0d0887"
             ],
             [
              0.1111111111111111,
              "#46039f"
             ],
             [
              0.2222222222222222,
              "#7201a8"
             ],
             [
              0.3333333333333333,
              "#9c179e"
             ],
             [
              0.4444444444444444,
              "#bd3786"
             ],
             [
              0.5555555555555556,
              "#d8576b"
             ],
             [
              0.6666666666666666,
              "#ed7953"
             ],
             [
              0.7777777777777778,
              "#fb9f3a"
             ],
             [
              0.8888888888888888,
              "#fdca26"
             ],
             [
              1,
              "#f0f921"
             ]
            ],
            "type": "contour"
           }
          ],
          "contourcarpet": [
           {
            "colorbar": {
             "outlinewidth": 0,
             "ticks": ""
            },
            "type": "contourcarpet"
           }
          ],
          "heatmap": [
           {
            "colorbar": {
             "outlinewidth": 0,
             "ticks": ""
            },
            "colorscale": [
             [
              0,
              "#0d0887"
             ],
             [
              0.1111111111111111,
              "#46039f"
             ],
             [
              0.2222222222222222,
              "#7201a8"
             ],
             [
              0.3333333333333333,
              "#9c179e"
             ],
             [
              0.4444444444444444,
              "#bd3786"
             ],
             [
              0.5555555555555556,
              "#d8576b"
             ],
             [
              0.6666666666666666,
              "#ed7953"
             ],
             [
              0.7777777777777778,
              "#fb9f3a"
             ],
             [
              0.8888888888888888,
              "#fdca26"
             ],
             [
              1,
              "#f0f921"
             ]
            ],
            "type": "heatmap"
           }
          ],
          "histogram": [
           {
            "marker": {
             "pattern": {
              "fillmode": "overlay",
              "size": 10,
              "solidity": 0.2
             }
            },
            "type": "histogram"
           }
          ],
          "histogram2d": [
           {
            "colorbar": {
             "outlinewidth": 0,
             "ticks": ""
            },
            "colorscale": [
             [
              0,
              "#0d0887"
             ],
             [
              0.1111111111111111,
              "#46039f"
             ],
             [
              0.2222222222222222,
              "#7201a8"
             ],
             [
              0.3333333333333333,
              "#9c179e"
             ],
             [
              0.4444444444444444,
              "#bd3786"
             ],
             [
              0.5555555555555556,
              "#d8576b"
             ],
             [
              0.6666666666666666,
              "#ed7953"
             ],
             [
              0.7777777777777778,
              "#fb9f3a"
             ],
             [
              0.8888888888888888,
              "#fdca26"
             ],
             [
              1,
              "#f0f921"
             ]
            ],
            "type": "histogram2d"
           }
          ],
          "histogram2dcontour": [
           {
            "colorbar": {
             "outlinewidth": 0,
             "ticks": ""
            },
            "colorscale": [
             [
              0,
              "#0d0887"
             ],
             [
              0.1111111111111111,
              "#46039f"
             ],
             [
              0.2222222222222222,
              "#7201a8"
             ],
             [
              0.3333333333333333,
              "#9c179e"
             ],
             [
              0.4444444444444444,
              "#bd3786"
             ],
             [
              0.5555555555555556,
              "#d8576b"
             ],
             [
              0.6666666666666666,
              "#ed7953"
             ],
             [
              0.7777777777777778,
              "#fb9f3a"
             ],
             [
              0.8888888888888888,
              "#fdca26"
             ],
             [
              1,
              "#f0f921"
             ]
            ],
            "type": "histogram2dcontour"
           }
          ],
          "mesh3d": [
           {
            "colorbar": {
             "outlinewidth": 0,
             "ticks": ""
            },
            "type": "mesh3d"
           }
          ],
          "parcoords": [
           {
            "line": {
             "colorbar": {
              "outlinewidth": 0,
              "ticks": ""
             }
            },
            "type": "parcoords"
           }
          ],
          "pie": [
           {
            "automargin": true,
            "type": "pie"
           }
          ],
          "scatter": [
           {
            "fillpattern": {
             "fillmode": "overlay",
             "size": 10,
             "solidity": 0.2
            },
            "type": "scatter"
           }
          ],
          "scatter3d": [
           {
            "line": {
             "colorbar": {
              "outlinewidth": 0,
              "ticks": ""
             }
            },
            "marker": {
             "colorbar": {
              "outlinewidth": 0,
              "ticks": ""
             }
            },
            "type": "scatter3d"
           }
          ],
          "scattercarpet": [
           {
            "marker": {
             "colorbar": {
              "outlinewidth": 0,
              "ticks": ""
             }
            },
            "type": "scattercarpet"
           }
          ],
          "scattergeo": [
           {
            "marker": {
             "colorbar": {
              "outlinewidth": 0,
              "ticks": ""
             }
            },
            "type": "scattergeo"
           }
          ],
          "scattergl": [
           {
            "marker": {
             "colorbar": {
              "outlinewidth": 0,
              "ticks": ""
             }
            },
            "type": "scattergl"
           }
          ],
          "scattermap": [
           {
            "marker": {
             "colorbar": {
              "outlinewidth": 0,
              "ticks": ""
             }
            },
            "type": "scattermap"
           }
          ],
          "scattermapbox": [
           {
            "marker": {
             "colorbar": {
              "outlinewidth": 0,
              "ticks": ""
             }
            },
            "type": "scattermapbox"
           }
          ],
          "scatterpolar": [
           {
            "marker": {
             "colorbar": {
              "outlinewidth": 0,
              "ticks": ""
             }
            },
            "type": "scatterpolar"
           }
          ],
          "scatterpolargl": [
           {
            "marker": {
             "colorbar": {
              "outlinewidth": 0,
              "ticks": ""
             }
            },
            "type": "scatterpolargl"
           }
          ],
          "scatterternary": [
           {
            "marker": {
             "colorbar": {
              "outlinewidth": 0,
              "ticks": ""
             }
            },
            "type": "scatterternary"
           }
          ],
          "surface": [
           {
            "colorbar": {
             "outlinewidth": 0,
             "ticks": ""
            },
            "colorscale": [
             [
              0,
              "#0d0887"
             ],
             [
              0.1111111111111111,
              "#46039f"
             ],
             [
              0.2222222222222222,
              "#7201a8"
             ],
             [
              0.3333333333333333,
              "#9c179e"
             ],
             [
              0.4444444444444444,
              "#bd3786"
             ],
             [
              0.5555555555555556,
              "#d8576b"
             ],
             [
              0.6666666666666666,
              "#ed7953"
             ],
             [
              0.7777777777777778,
              "#fb9f3a"
             ],
             [
              0.8888888888888888,
              "#fdca26"
             ],
             [
              1,
              "#f0f921"
             ]
            ],
            "type": "surface"
           }
          ],
          "table": [
           {
            "cells": {
             "fill": {
              "color": "#EBF0F8"
             },
             "line": {
              "color": "white"
             }
            },
            "header": {
             "fill": {
              "color": "#C8D4E3"
             },
             "line": {
              "color": "white"
             }
            },
            "type": "table"
           }
          ]
         },
         "layout": {
          "annotationdefaults": {
           "arrowcolor": "#2a3f5f",
           "arrowhead": 0,
           "arrowwidth": 1
          },
          "autotypenumbers": "strict",
          "coloraxis": {
           "colorbar": {
            "outlinewidth": 0,
            "ticks": ""
           }
          },
          "colorscale": {
           "diverging": [
            [
             0,
             "#8e0152"
            ],
            [
             0.1,
             "#c51b7d"
            ],
            [
             0.2,
             "#de77ae"
            ],
            [
             0.3,
             "#f1b6da"
            ],
            [
             0.4,
             "#fde0ef"
            ],
            [
             0.5,
             "#f7f7f7"
            ],
            [
             0.6,
             "#e6f5d0"
            ],
            [
             0.7,
             "#b8e186"
            ],
            [
             0.8,
             "#7fbc41"
            ],
            [
             0.9,
             "#4d9221"
            ],
            [
             1,
             "#276419"
            ]
           ],
           "sequential": [
            [
             0,
             "#0d0887"
            ],
            [
             0.1111111111111111,
             "#46039f"
            ],
            [
             0.2222222222222222,
             "#7201a8"
            ],
            [
             0.3333333333333333,
             "#9c179e"
            ],
            [
             0.4444444444444444,
             "#bd3786"
            ],
            [
             0.5555555555555556,
             "#d8576b"
            ],
            [
             0.6666666666666666,
             "#ed7953"
            ],
            [
             0.7777777777777778,
             "#fb9f3a"
            ],
            [
             0.8888888888888888,
             "#fdca26"
            ],
            [
             1,
             "#f0f921"
            ]
           ],
           "sequentialminus": [
            [
             0,
             "#0d0887"
            ],
            [
             0.1111111111111111,
             "#46039f"
            ],
            [
             0.2222222222222222,
             "#7201a8"
            ],
            [
             0.3333333333333333,
             "#9c179e"
            ],
            [
             0.4444444444444444,
             "#bd3786"
            ],
            [
             0.5555555555555556,
             "#d8576b"
            ],
            [
             0.6666666666666666,
             "#ed7953"
            ],
            [
             0.7777777777777778,
             "#fb9f3a"
            ],
            [
             0.8888888888888888,
             "#fdca26"
            ],
            [
             1,
             "#f0f921"
            ]
           ]
          },
          "colorway": [
           "#636efa",
           "#EF553B",
           "#00cc96",
           "#ab63fa",
           "#FFA15A",
           "#19d3f3",
           "#FF6692",
           "#B6E880",
           "#FF97FF",
           "#FECB52"
          ],
          "font": {
           "color": "#2a3f5f"
          },
          "geo": {
           "bgcolor": "white",
           "lakecolor": "white",
           "landcolor": "#E5ECF6",
           "showlakes": true,
           "showland": true,
           "subunitcolor": "white"
          },
          "hoverlabel": {
           "align": "left"
          },
          "hovermode": "closest",
          "mapbox": {
           "style": "light"
          },
          "paper_bgcolor": "white",
          "plot_bgcolor": "#E5ECF6",
          "polar": {
           "angularaxis": {
            "gridcolor": "white",
            "linecolor": "white",
            "ticks": ""
           },
           "bgcolor": "#E5ECF6",
           "radialaxis": {
            "gridcolor": "white",
            "linecolor": "white",
            "ticks": ""
           }
          },
          "scene": {
           "xaxis": {
            "backgroundcolor": "#E5ECF6",
            "gridcolor": "white",
            "gridwidth": 2,
            "linecolor": "white",
            "showbackground": true,
            "ticks": "",
            "zerolinecolor": "white"
           },
           "yaxis": {
            "backgroundcolor": "#E5ECF6",
            "gridcolor": "white",
            "gridwidth": 2,
            "linecolor": "white",
            "showbackground": true,
            "ticks": "",
            "zerolinecolor": "white"
           },
           "zaxis": {
            "backgroundcolor": "#E5ECF6",
            "gridcolor": "white",
            "gridwidth": 2,
            "linecolor": "white",
            "showbackground": true,
            "ticks": "",
            "zerolinecolor": "white"
           }
          },
          "shapedefaults": {
           "line": {
            "color": "#2a3f5f"
           }
          },
          "ternary": {
           "aaxis": {
            "gridcolor": "white",
            "linecolor": "white",
            "ticks": ""
           },
           "baxis": {
            "gridcolor": "white",
            "linecolor": "white",
            "ticks": ""
           },
           "bgcolor": "#E5ECF6",
           "caxis": {
            "gridcolor": "white",
            "linecolor": "white",
            "ticks": ""
           }
          },
          "title": {
           "x": 0.05
          },
          "xaxis": {
           "automargin": true,
           "gridcolor": "white",
           "linecolor": "white",
           "ticks": "",
           "title": {
            "standoff": 15
           },
           "zerolinecolor": "white",
           "zerolinewidth": 2
          },
          "yaxis": {
           "automargin": true,
           "gridcolor": "white",
           "linecolor": "white",
           "ticks": "",
           "title": {
            "standoff": 15
           },
           "zerolinecolor": "white",
           "zerolinewidth": 2
          }
         }
        },
        "title": {
         "text": "Зависимость оттока клиентов от признака \n\"Количество приобретенных услуг\"",
         "x": 0.5
        },
        "width": 800,
        "xaxis": {
         "title": {
          "text": "Количество приобретенных услуг"
         }
        },
        "yaxis": {
         "title": {
          "text": "Количество клиентов"
         }
        }
       }
      }
     },
     "metadata": {},
     "output_type": "display_data"
    },
    {
     "data": {
      "application/vnd.plotly.v1+json": {
       "config": {
        "plotlyServerURL": "https://plot.ly"
       },
       "data": [
        {
         "marker": {
          "color": "#c91010"
         },
         "name": "Ушедшие",
         "type": "bar",
         "x": {
          "bdata": "AQA=",
          "dtype": "i1"
         },
         "y": {
          "bdata": "kAVlAg==",
          "dtype": "i2"
         }
        },
        {
         "marker": {
          "color": "#10c938"
         },
         "name": "Лояльные",
         "type": "bar",
         "x": {
          "bdata": "AQA=",
          "dtype": "i1"
         },
         "y": {
          "bdata": "/xUcCQ==",
          "dtype": "i2"
         }
        }
       ],
       "layout": {
        "autosize": false,
        "bargap": 0.2,
        "height": 430,
        "template": {
         "data": {
          "bar": [
           {
            "error_x": {
             "color": "#2a3f5f"
            },
            "error_y": {
             "color": "#2a3f5f"
            },
            "marker": {
             "line": {
              "color": "#E5ECF6",
              "width": 0.5
             },
             "pattern": {
              "fillmode": "overlay",
              "size": 10,
              "solidity": 0.2
             }
            },
            "type": "bar"
           }
          ],
          "barpolar": [
           {
            "marker": {
             "line": {
              "color": "#E5ECF6",
              "width": 0.5
             },
             "pattern": {
              "fillmode": "overlay",
              "size": 10,
              "solidity": 0.2
             }
            },
            "type": "barpolar"
           }
          ],
          "carpet": [
           {
            "aaxis": {
             "endlinecolor": "#2a3f5f",
             "gridcolor": "white",
             "linecolor": "white",
             "minorgridcolor": "white",
             "startlinecolor": "#2a3f5f"
            },
            "baxis": {
             "endlinecolor": "#2a3f5f",
             "gridcolor": "white",
             "linecolor": "white",
             "minorgridcolor": "white",
             "startlinecolor": "#2a3f5f"
            },
            "type": "carpet"
           }
          ],
          "choropleth": [
           {
            "colorbar": {
             "outlinewidth": 0,
             "ticks": ""
            },
            "type": "choropleth"
           }
          ],
          "contour": [
           {
            "colorbar": {
             "outlinewidth": 0,
             "ticks": ""
            },
            "colorscale": [
             [
              0,
              "#0d0887"
             ],
             [
              0.1111111111111111,
              "#46039f"
             ],
             [
              0.2222222222222222,
              "#7201a8"
             ],
             [
              0.3333333333333333,
              "#9c179e"
             ],
             [
              0.4444444444444444,
              "#bd3786"
             ],
             [
              0.5555555555555556,
              "#d8576b"
             ],
             [
              0.6666666666666666,
              "#ed7953"
             ],
             [
              0.7777777777777778,
              "#fb9f3a"
             ],
             [
              0.8888888888888888,
              "#fdca26"
             ],
             [
              1,
              "#f0f921"
             ]
            ],
            "type": "contour"
           }
          ],
          "contourcarpet": [
           {
            "colorbar": {
             "outlinewidth": 0,
             "ticks": ""
            },
            "type": "contourcarpet"
           }
          ],
          "heatmap": [
           {
            "colorbar": {
             "outlinewidth": 0,
             "ticks": ""
            },
            "colorscale": [
             [
              0,
              "#0d0887"
             ],
             [
              0.1111111111111111,
              "#46039f"
             ],
             [
              0.2222222222222222,
              "#7201a8"
             ],
             [
              0.3333333333333333,
              "#9c179e"
             ],
             [
              0.4444444444444444,
              "#bd3786"
             ],
             [
              0.5555555555555556,
              "#d8576b"
             ],
             [
              0.6666666666666666,
              "#ed7953"
             ],
             [
              0.7777777777777778,
              "#fb9f3a"
             ],
             [
              0.8888888888888888,
              "#fdca26"
             ],
             [
              1,
              "#f0f921"
             ]
            ],
            "type": "heatmap"
           }
          ],
          "histogram": [
           {
            "marker": {
             "pattern": {
              "fillmode": "overlay",
              "size": 10,
              "solidity": 0.2
             }
            },
            "type": "histogram"
           }
          ],
          "histogram2d": [
           {
            "colorbar": {
             "outlinewidth": 0,
             "ticks": ""
            },
            "colorscale": [
             [
              0,
              "#0d0887"
             ],
             [
              0.1111111111111111,
              "#46039f"
             ],
             [
              0.2222222222222222,
              "#7201a8"
             ],
             [
              0.3333333333333333,
              "#9c179e"
             ],
             [
              0.4444444444444444,
              "#bd3786"
             ],
             [
              0.5555555555555556,
              "#d8576b"
             ],
             [
              0.6666666666666666,
              "#ed7953"
             ],
             [
              0.7777777777777778,
              "#fb9f3a"
             ],
             [
              0.8888888888888888,
              "#fdca26"
             ],
             [
              1,
              "#f0f921"
             ]
            ],
            "type": "histogram2d"
           }
          ],
          "histogram2dcontour": [
           {
            "colorbar": {
             "outlinewidth": 0,
             "ticks": ""
            },
            "colorscale": [
             [
              0,
              "#0d0887"
             ],
             [
              0.1111111111111111,
              "#46039f"
             ],
             [
              0.2222222222222222,
              "#7201a8"
             ],
             [
              0.3333333333333333,
              "#9c179e"
             ],
             [
              0.4444444444444444,
              "#bd3786"
             ],
             [
              0.5555555555555556,
              "#d8576b"
             ],
             [
              0.6666666666666666,
              "#ed7953"
             ],
             [
              0.7777777777777778,
              "#fb9f3a"
             ],
             [
              0.8888888888888888,
              "#fdca26"
             ],
             [
              1,
              "#f0f921"
             ]
            ],
            "type": "histogram2dcontour"
           }
          ],
          "mesh3d": [
           {
            "colorbar": {
             "outlinewidth": 0,
             "ticks": ""
            },
            "type": "mesh3d"
           }
          ],
          "parcoords": [
           {
            "line": {
             "colorbar": {
              "outlinewidth": 0,
              "ticks": ""
             }
            },
            "type": "parcoords"
           }
          ],
          "pie": [
           {
            "automargin": true,
            "type": "pie"
           }
          ],
          "scatter": [
           {
            "fillpattern": {
             "fillmode": "overlay",
             "size": 10,
             "solidity": 0.2
            },
            "type": "scatter"
           }
          ],
          "scatter3d": [
           {
            "line": {
             "colorbar": {
              "outlinewidth": 0,
              "ticks": ""
             }
            },
            "marker": {
             "colorbar": {
              "outlinewidth": 0,
              "ticks": ""
             }
            },
            "type": "scatter3d"
           }
          ],
          "scattercarpet": [
           {
            "marker": {
             "colorbar": {
              "outlinewidth": 0,
              "ticks": ""
             }
            },
            "type": "scattercarpet"
           }
          ],
          "scattergeo": [
           {
            "marker": {
             "colorbar": {
              "outlinewidth": 0,
              "ticks": ""
             }
            },
            "type": "scattergeo"
           }
          ],
          "scattergl": [
           {
            "marker": {
             "colorbar": {
              "outlinewidth": 0,
              "ticks": ""
             }
            },
            "type": "scattergl"
           }
          ],
          "scattermap": [
           {
            "marker": {
             "colorbar": {
              "outlinewidth": 0,
              "ticks": ""
             }
            },
            "type": "scattermap"
           }
          ],
          "scattermapbox": [
           {
            "marker": {
             "colorbar": {
              "outlinewidth": 0,
              "ticks": ""
             }
            },
            "type": "scattermapbox"
           }
          ],
          "scatterpolar": [
           {
            "marker": {
             "colorbar": {
              "outlinewidth": 0,
              "ticks": ""
             }
            },
            "type": "scatterpolar"
           }
          ],
          "scatterpolargl": [
           {
            "marker": {
             "colorbar": {
              "outlinewidth": 0,
              "ticks": ""
             }
            },
            "type": "scatterpolargl"
           }
          ],
          "scatterternary": [
           {
            "marker": {
             "colorbar": {
              "outlinewidth": 0,
              "ticks": ""
             }
            },
            "type": "scatterternary"
           }
          ],
          "surface": [
           {
            "colorbar": {
             "outlinewidth": 0,
             "ticks": ""
            },
            "colorscale": [
             [
              0,
              "#0d0887"
             ],
             [
              0.1111111111111111,
              "#46039f"
             ],
             [
              0.2222222222222222,
              "#7201a8"
             ],
             [
              0.3333333333333333,
              "#9c179e"
             ],
             [
              0.4444444444444444,
              "#bd3786"
             ],
             [
              0.5555555555555556,
              "#d8576b"
             ],
             [
              0.6666666666666666,
              "#ed7953"
             ],
             [
              0.7777777777777778,
              "#fb9f3a"
             ],
             [
              0.8888888888888888,
              "#fdca26"
             ],
             [
              1,
              "#f0f921"
             ]
            ],
            "type": "surface"
           }
          ],
          "table": [
           {
            "cells": {
             "fill": {
              "color": "#EBF0F8"
             },
             "line": {
              "color": "white"
             }
            },
            "header": {
             "fill": {
              "color": "#C8D4E3"
             },
             "line": {
              "color": "white"
             }
            },
            "type": "table"
           }
          ]
         },
         "layout": {
          "annotationdefaults": {
           "arrowcolor": "#2a3f5f",
           "arrowhead": 0,
           "arrowwidth": 1
          },
          "autotypenumbers": "strict",
          "coloraxis": {
           "colorbar": {
            "outlinewidth": 0,
            "ticks": ""
           }
          },
          "colorscale": {
           "diverging": [
            [
             0,
             "#8e0152"
            ],
            [
             0.1,
             "#c51b7d"
            ],
            [
             0.2,
             "#de77ae"
            ],
            [
             0.3,
             "#f1b6da"
            ],
            [
             0.4,
             "#fde0ef"
            ],
            [
             0.5,
             "#f7f7f7"
            ],
            [
             0.6,
             "#e6f5d0"
            ],
            [
             0.7,
             "#b8e186"
            ],
            [
             0.8,
             "#7fbc41"
            ],
            [
             0.9,
             "#4d9221"
            ],
            [
             1,
             "#276419"
            ]
           ],
           "sequential": [
            [
             0,
             "#0d0887"
            ],
            [
             0.1111111111111111,
             "#46039f"
            ],
            [
             0.2222222222222222,
             "#7201a8"
            ],
            [
             0.3333333333333333,
             "#9c179e"
            ],
            [
             0.4444444444444444,
             "#bd3786"
            ],
            [
             0.5555555555555556,
             "#d8576b"
            ],
            [
             0.6666666666666666,
             "#ed7953"
            ],
            [
             0.7777777777777778,
             "#fb9f3a"
            ],
            [
             0.8888888888888888,
             "#fdca26"
            ],
            [
             1,
             "#f0f921"
            ]
           ],
           "sequentialminus": [
            [
             0,
             "#0d0887"
            ],
            [
             0.1111111111111111,
             "#46039f"
            ],
            [
             0.2222222222222222,
             "#7201a8"
            ],
            [
             0.3333333333333333,
             "#9c179e"
            ],
            [
             0.4444444444444444,
             "#bd3786"
            ],
            [
             0.5555555555555556,
             "#d8576b"
            ],
            [
             0.6666666666666666,
             "#ed7953"
            ],
            [
             0.7777777777777778,
             "#fb9f3a"
            ],
            [
             0.8888888888888888,
             "#fdca26"
            ],
            [
             1,
             "#f0f921"
            ]
           ]
          },
          "colorway": [
           "#636efa",
           "#EF553B",
           "#00cc96",
           "#ab63fa",
           "#FFA15A",
           "#19d3f3",
           "#FF6692",
           "#B6E880",
           "#FF97FF",
           "#FECB52"
          ],
          "font": {
           "color": "#2a3f5f"
          },
          "geo": {
           "bgcolor": "white",
           "lakecolor": "white",
           "landcolor": "#E5ECF6",
           "showlakes": true,
           "showland": true,
           "subunitcolor": "white"
          },
          "hoverlabel": {
           "align": "left"
          },
          "hovermode": "closest",
          "mapbox": {
           "style": "light"
          },
          "paper_bgcolor": "white",
          "plot_bgcolor": "#E5ECF6",
          "polar": {
           "angularaxis": {
            "gridcolor": "white",
            "linecolor": "white",
            "ticks": ""
           },
           "bgcolor": "#E5ECF6",
           "radialaxis": {
            "gridcolor": "white",
            "linecolor": "white",
            "ticks": ""
           }
          },
          "scene": {
           "xaxis": {
            "backgroundcolor": "#E5ECF6",
            "gridcolor": "white",
            "gridwidth": 2,
            "linecolor": "white",
            "showbackground": true,
            "ticks": "",
            "zerolinecolor": "white"
           },
           "yaxis": {
            "backgroundcolor": "#E5ECF6",
            "gridcolor": "white",
            "gridwidth": 2,
            "linecolor": "white",
            "showbackground": true,
            "ticks": "",
            "zerolinecolor": "white"
           },
           "zaxis": {
            "backgroundcolor": "#E5ECF6",
            "gridcolor": "white",
            "gridwidth": 2,
            "linecolor": "white",
            "showbackground": true,
            "ticks": "",
            "zerolinecolor": "white"
           }
          },
          "shapedefaults": {
           "line": {
            "color": "#2a3f5f"
           }
          },
          "ternary": {
           "aaxis": {
            "gridcolor": "white",
            "linecolor": "white",
            "ticks": ""
           },
           "baxis": {
            "gridcolor": "white",
            "linecolor": "white",
            "ticks": ""
           },
           "bgcolor": "#E5ECF6",
           "caxis": {
            "gridcolor": "white",
            "linecolor": "white",
            "ticks": ""
           }
          },
          "title": {
           "x": 0.05
          },
          "xaxis": {
           "automargin": true,
           "gridcolor": "white",
           "linecolor": "white",
           "ticks": "",
           "title": {
            "standoff": 15
           },
           "zerolinecolor": "white",
           "zerolinewidth": 2
          },
          "yaxis": {
           "automargin": true,
           "gridcolor": "white",
           "linecolor": "white",
           "ticks": "",
           "title": {
            "standoff": 15
           },
           "zerolinecolor": "white",
           "zerolinewidth": 2
          }
         }
        },
        "title": {
         "text": "Зависимость оттока клиентов от признака \n\"Наличие кредитной карты\"",
         "x": 0.5
        },
        "width": 800,
        "xaxis": {
         "title": {
          "text": "Наличие кредитной карты"
         }
        },
        "yaxis": {
         "title": {
          "text": "Количество клиентов"
         }
        }
       }
      }
     },
     "metadata": {},
     "output_type": "display_data"
    },
    {
     "data": {
      "application/vnd.plotly.v1+json": {
       "config": {
        "plotlyServerURL": "https://plot.ly"
       },
       "data": [
        {
         "marker": {
          "color": "#c91010"
         },
         "name": "Ушедшие",
         "type": "bar",
         "x": {
          "bdata": "AAE=",
          "dtype": "i1"
         },
         "y": {
          "bdata": "FgXfAg==",
          "dtype": "i2"
         }
        },
        {
         "marker": {
          "color": "#10c938"
         },
         "name": "Лояльные",
         "type": "bar",
         "x": {
          "bdata": "AQA=",
          "dtype": "i1"
         },
         "y": {
          "bdata": "QBHbDQ==",
          "dtype": "i2"
         }
        }
       ],
       "layout": {
        "autosize": false,
        "bargap": 0.2,
        "height": 430,
        "template": {
         "data": {
          "bar": [
           {
            "error_x": {
             "color": "#2a3f5f"
            },
            "error_y": {
             "color": "#2a3f5f"
            },
            "marker": {
             "line": {
              "color": "#E5ECF6",
              "width": 0.5
             },
             "pattern": {
              "fillmode": "overlay",
              "size": 10,
              "solidity": 0.2
             }
            },
            "type": "bar"
           }
          ],
          "barpolar": [
           {
            "marker": {
             "line": {
              "color": "#E5ECF6",
              "width": 0.5
             },
             "pattern": {
              "fillmode": "overlay",
              "size": 10,
              "solidity": 0.2
             }
            },
            "type": "barpolar"
           }
          ],
          "carpet": [
           {
            "aaxis": {
             "endlinecolor": "#2a3f5f",
             "gridcolor": "white",
             "linecolor": "white",
             "minorgridcolor": "white",
             "startlinecolor": "#2a3f5f"
            },
            "baxis": {
             "endlinecolor": "#2a3f5f",
             "gridcolor": "white",
             "linecolor": "white",
             "minorgridcolor": "white",
             "startlinecolor": "#2a3f5f"
            },
            "type": "carpet"
           }
          ],
          "choropleth": [
           {
            "colorbar": {
             "outlinewidth": 0,
             "ticks": ""
            },
            "type": "choropleth"
           }
          ],
          "contour": [
           {
            "colorbar": {
             "outlinewidth": 0,
             "ticks": ""
            },
            "colorscale": [
             [
              0,
              "#0d0887"
             ],
             [
              0.1111111111111111,
              "#46039f"
             ],
             [
              0.2222222222222222,
              "#7201a8"
             ],
             [
              0.3333333333333333,
              "#9c179e"
             ],
             [
              0.4444444444444444,
              "#bd3786"
             ],
             [
              0.5555555555555556,
              "#d8576b"
             ],
             [
              0.6666666666666666,
              "#ed7953"
             ],
             [
              0.7777777777777778,
              "#fb9f3a"
             ],
             [
              0.8888888888888888,
              "#fdca26"
             ],
             [
              1,
              "#f0f921"
             ]
            ],
            "type": "contour"
           }
          ],
          "contourcarpet": [
           {
            "colorbar": {
             "outlinewidth": 0,
             "ticks": ""
            },
            "type": "contourcarpet"
           }
          ],
          "heatmap": [
           {
            "colorbar": {
             "outlinewidth": 0,
             "ticks": ""
            },
            "colorscale": [
             [
              0,
              "#0d0887"
             ],
             [
              0.1111111111111111,
              "#46039f"
             ],
             [
              0.2222222222222222,
              "#7201a8"
             ],
             [
              0.3333333333333333,
              "#9c179e"
             ],
             [
              0.4444444444444444,
              "#bd3786"
             ],
             [
              0.5555555555555556,
              "#d8576b"
             ],
             [
              0.6666666666666666,
              "#ed7953"
             ],
             [
              0.7777777777777778,
              "#fb9f3a"
             ],
             [
              0.8888888888888888,
              "#fdca26"
             ],
             [
              1,
              "#f0f921"
             ]
            ],
            "type": "heatmap"
           }
          ],
          "histogram": [
           {
            "marker": {
             "pattern": {
              "fillmode": "overlay",
              "size": 10,
              "solidity": 0.2
             }
            },
            "type": "histogram"
           }
          ],
          "histogram2d": [
           {
            "colorbar": {
             "outlinewidth": 0,
             "ticks": ""
            },
            "colorscale": [
             [
              0,
              "#0d0887"
             ],
             [
              0.1111111111111111,
              "#46039f"
             ],
             [
              0.2222222222222222,
              "#7201a8"
             ],
             [
              0.3333333333333333,
              "#9c179e"
             ],
             [
              0.4444444444444444,
              "#bd3786"
             ],
             [
              0.5555555555555556,
              "#d8576b"
             ],
             [
              0.6666666666666666,
              "#ed7953"
             ],
             [
              0.7777777777777778,
              "#fb9f3a"
             ],
             [
              0.8888888888888888,
              "#fdca26"
             ],
             [
              1,
              "#f0f921"
             ]
            ],
            "type": "histogram2d"
           }
          ],
          "histogram2dcontour": [
           {
            "colorbar": {
             "outlinewidth": 0,
             "ticks": ""
            },
            "colorscale": [
             [
              0,
              "#0d0887"
             ],
             [
              0.1111111111111111,
              "#46039f"
             ],
             [
              0.2222222222222222,
              "#7201a8"
             ],
             [
              0.3333333333333333,
              "#9c179e"
             ],
             [
              0.4444444444444444,
              "#bd3786"
             ],
             [
              0.5555555555555556,
              "#d8576b"
             ],
             [
              0.6666666666666666,
              "#ed7953"
             ],
             [
              0.7777777777777778,
              "#fb9f3a"
             ],
             [
              0.8888888888888888,
              "#fdca26"
             ],
             [
              1,
              "#f0f921"
             ]
            ],
            "type": "histogram2dcontour"
           }
          ],
          "mesh3d": [
           {
            "colorbar": {
             "outlinewidth": 0,
             "ticks": ""
            },
            "type": "mesh3d"
           }
          ],
          "parcoords": [
           {
            "line": {
             "colorbar": {
              "outlinewidth": 0,
              "ticks": ""
             }
            },
            "type": "parcoords"
           }
          ],
          "pie": [
           {
            "automargin": true,
            "type": "pie"
           }
          ],
          "scatter": [
           {
            "fillpattern": {
             "fillmode": "overlay",
             "size": 10,
             "solidity": 0.2
            },
            "type": "scatter"
           }
          ],
          "scatter3d": [
           {
            "line": {
             "colorbar": {
              "outlinewidth": 0,
              "ticks": ""
             }
            },
            "marker": {
             "colorbar": {
              "outlinewidth": 0,
              "ticks": ""
             }
            },
            "type": "scatter3d"
           }
          ],
          "scattercarpet": [
           {
            "marker": {
             "colorbar": {
              "outlinewidth": 0,
              "ticks": ""
             }
            },
            "type": "scattercarpet"
           }
          ],
          "scattergeo": [
           {
            "marker": {
             "colorbar": {
              "outlinewidth": 0,
              "ticks": ""
             }
            },
            "type": "scattergeo"
           }
          ],
          "scattergl": [
           {
            "marker": {
             "colorbar": {
              "outlinewidth": 0,
              "ticks": ""
             }
            },
            "type": "scattergl"
           }
          ],
          "scattermap": [
           {
            "marker": {
             "colorbar": {
              "outlinewidth": 0,
              "ticks": ""
             }
            },
            "type": "scattermap"
           }
          ],
          "scattermapbox": [
           {
            "marker": {
             "colorbar": {
              "outlinewidth": 0,
              "ticks": ""
             }
            },
            "type": "scattermapbox"
           }
          ],
          "scatterpolar": [
           {
            "marker": {
             "colorbar": {
              "outlinewidth": 0,
              "ticks": ""
             }
            },
            "type": "scatterpolar"
           }
          ],
          "scatterpolargl": [
           {
            "marker": {
             "colorbar": {
              "outlinewidth": 0,
              "ticks": ""
             }
            },
            "type": "scatterpolargl"
           }
          ],
          "scatterternary": [
           {
            "marker": {
             "colorbar": {
              "outlinewidth": 0,
              "ticks": ""
             }
            },
            "type": "scatterternary"
           }
          ],
          "surface": [
           {
            "colorbar": {
             "outlinewidth": 0,
             "ticks": ""
            },
            "colorscale": [
             [
              0,
              "#0d0887"
             ],
             [
              0.1111111111111111,
              "#46039f"
             ],
             [
              0.2222222222222222,
              "#7201a8"
             ],
             [
              0.3333333333333333,
              "#9c179e"
             ],
             [
              0.4444444444444444,
              "#bd3786"
             ],
             [
              0.5555555555555556,
              "#d8576b"
             ],
             [
              0.6666666666666666,
              "#ed7953"
             ],
             [
              0.7777777777777778,
              "#fb9f3a"
             ],
             [
              0.8888888888888888,
              "#fdca26"
             ],
             [
              1,
              "#f0f921"
             ]
            ],
            "type": "surface"
           }
          ],
          "table": [
           {
            "cells": {
             "fill": {
              "color": "#EBF0F8"
             },
             "line": {
              "color": "white"
             }
            },
            "header": {
             "fill": {
              "color": "#C8D4E3"
             },
             "line": {
              "color": "white"
             }
            },
            "type": "table"
           }
          ]
         },
         "layout": {
          "annotationdefaults": {
           "arrowcolor": "#2a3f5f",
           "arrowhead": 0,
           "arrowwidth": 1
          },
          "autotypenumbers": "strict",
          "coloraxis": {
           "colorbar": {
            "outlinewidth": 0,
            "ticks": ""
           }
          },
          "colorscale": {
           "diverging": [
            [
             0,
             "#8e0152"
            ],
            [
             0.1,
             "#c51b7d"
            ],
            [
             0.2,
             "#de77ae"
            ],
            [
             0.3,
             "#f1b6da"
            ],
            [
             0.4,
             "#fde0ef"
            ],
            [
             0.5,
             "#f7f7f7"
            ],
            [
             0.6,
             "#e6f5d0"
            ],
            [
             0.7,
             "#b8e186"
            ],
            [
             0.8,
             "#7fbc41"
            ],
            [
             0.9,
             "#4d9221"
            ],
            [
             1,
             "#276419"
            ]
           ],
           "sequential": [
            [
             0,
             "#0d0887"
            ],
            [
             0.1111111111111111,
             "#46039f"
            ],
            [
             0.2222222222222222,
             "#7201a8"
            ],
            [
             0.3333333333333333,
             "#9c179e"
            ],
            [
             0.4444444444444444,
             "#bd3786"
            ],
            [
             0.5555555555555556,
             "#d8576b"
            ],
            [
             0.6666666666666666,
             "#ed7953"
            ],
            [
             0.7777777777777778,
             "#fb9f3a"
            ],
            [
             0.8888888888888888,
             "#fdca26"
            ],
            [
             1,
             "#f0f921"
            ]
           ],
           "sequentialminus": [
            [
             0,
             "#0d0887"
            ],
            [
             0.1111111111111111,
             "#46039f"
            ],
            [
             0.2222222222222222,
             "#7201a8"
            ],
            [
             0.3333333333333333,
             "#9c179e"
            ],
            [
             0.4444444444444444,
             "#bd3786"
            ],
            [
             0.5555555555555556,
             "#d8576b"
            ],
            [
             0.6666666666666666,
             "#ed7953"
            ],
            [
             0.7777777777777778,
             "#fb9f3a"
            ],
            [
             0.8888888888888888,
             "#fdca26"
            ],
            [
             1,
             "#f0f921"
            ]
           ]
          },
          "colorway": [
           "#636efa",
           "#EF553B",
           "#00cc96",
           "#ab63fa",
           "#FFA15A",
           "#19d3f3",
           "#FF6692",
           "#B6E880",
           "#FF97FF",
           "#FECB52"
          ],
          "font": {
           "color": "#2a3f5f"
          },
          "geo": {
           "bgcolor": "white",
           "lakecolor": "white",
           "landcolor": "#E5ECF6",
           "showlakes": true,
           "showland": true,
           "subunitcolor": "white"
          },
          "hoverlabel": {
           "align": "left"
          },
          "hovermode": "closest",
          "mapbox": {
           "style": "light"
          },
          "paper_bgcolor": "white",
          "plot_bgcolor": "#E5ECF6",
          "polar": {
           "angularaxis": {
            "gridcolor": "white",
            "linecolor": "white",
            "ticks": ""
           },
           "bgcolor": "#E5ECF6",
           "radialaxis": {
            "gridcolor": "white",
            "linecolor": "white",
            "ticks": ""
           }
          },
          "scene": {
           "xaxis": {
            "backgroundcolor": "#E5ECF6",
            "gridcolor": "white",
            "gridwidth": 2,
            "linecolor": "white",
            "showbackground": true,
            "ticks": "",
            "zerolinecolor": "white"
           },
           "yaxis": {
            "backgroundcolor": "#E5ECF6",
            "gridcolor": "white",
            "gridwidth": 2,
            "linecolor": "white",
            "showbackground": true,
            "ticks": "",
            "zerolinecolor": "white"
           },
           "zaxis": {
            "backgroundcolor": "#E5ECF6",
            "gridcolor": "white",
            "gridwidth": 2,
            "linecolor": "white",
            "showbackground": true,
            "ticks": "",
            "zerolinecolor": "white"
           }
          },
          "shapedefaults": {
           "line": {
            "color": "#2a3f5f"
           }
          },
          "ternary": {
           "aaxis": {
            "gridcolor": "white",
            "linecolor": "white",
            "ticks": ""
           },
           "baxis": {
            "gridcolor": "white",
            "linecolor": "white",
            "ticks": ""
           },
           "bgcolor": "#E5ECF6",
           "caxis": {
            "gridcolor": "white",
            "linecolor": "white",
            "ticks": ""
           }
          },
          "title": {
           "x": 0.05
          },
          "xaxis": {
           "automargin": true,
           "gridcolor": "white",
           "linecolor": "white",
           "ticks": "",
           "title": {
            "standoff": 15
           },
           "zerolinecolor": "white",
           "zerolinewidth": 2
          },
          "yaxis": {
           "automargin": true,
           "gridcolor": "white",
           "linecolor": "white",
           "ticks": "",
           "title": {
            "standoff": 15
           },
           "zerolinecolor": "white",
           "zerolinewidth": 2
          }
         }
        },
        "title": {
         "text": "Зависимость оттока клиентов от признака \n\"Активность клиента\"",
         "x": 0.5
        },
        "width": 800,
        "xaxis": {
         "title": {
          "text": "Активность клиента"
         }
        },
        "yaxis": {
         "title": {
          "text": "Количество клиентов"
         }
        }
       }
      }
     },
     "metadata": {},
     "output_type": "display_data"
    },
    {
     "data": {
      "application/vnd.plotly.v1+json": {
       "config": {
        "plotlyServerURL": "https://plot.ly"
       },
       "data": [
        {
         "marker": {
          "color": "#c91010"
         },
         "name": "Ушедшие",
         "nbinsx": 100,
         "type": "histogram",
         "x": {
          "bdata": "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",
          "dtype": "i2"
         }
        },
        {
         "marker": {
          "color": "#10c938"
         },
         "name": "Лояльные",
         "nbinsx": 100,
         "type": "histogram",
         "x": {
          "bdata": "YAK7AlIDNgP1AawCEALxAdwBJQJ7AmgCJQJLAtYC3AJ8Ap0CTgNBAvQCOwI+ApsBFQIpAggC0gLqASQDUgNGAtgBLAKUAggDJgIIA7oCSQIUA2sCkALVAmYC5gKvAisCrAJbAu8CRQLfApUCowItA5ECXAIHAt8CmAKmAvUCoAGZAh8C+gHtAYwC2QJ7AigDDAIBA9oCAwIFAy4DxgKdAZkCbwLiAhACRgIRA10CrQIaAjICowJ0ApwC+gG7AjwDogKQAqwCcQI8AwID9gIbA68CrgIVA00CzQF9AvQClwKqAuUBewKKAt8CoAHyAswCGwJmAvYCSgKGAncCzQKsAiAD0QKUAmcCqgLkAXQCQgIAAuQB/gFeAlUCUgP+AQoDfAICAtoCDQJoAq8CAALfAVkCRAInA2gC0QL1AQkCUgP3AgACJgJqAp8CsQJbAmwCpAI8ArcC2gLWAgICNwKeArYCUgKhAmICAAL/AkkCyAK/ApYC1QK/AgsCBAMhAnoCAwNLAqkCIAK4Av4C1wKfArUCUgPcAtYCLQKqAuICEwLyAYsCFwOKAisDwwLIAsICCQOGAg4DBwMnAx8DowJaAtsB6AJMAr8C6wJHAqkCBQPKAv8BcwK2AmgCrwLIAikCmwJ1ArYBjALZAoICJgPoAtoBwgJ0Aq0BDQKoAvsC3gLMAlICnwKYApACmwKXAnICkwKJApMCIQIfAs4CSAN2AoMCjgJGApMC+gI4Ap4CZQIbAlID4QIIAsICiAK7AYACdAIcAswBfAJRAiEDgAJjAiIDzQIBAzwCdQLjAbIC7AHFAsECMAJjAtoCxQIgAsgC8AJSAoUCLQIjAr0CXQJRAu8CuwGtAs4CYwKcAhkCxQJSA+kCGwNyAiwCgwJdAkoCpgJUAogC7AG+AuYB1AIkAqsC+gJzAgQCIAPQAXICFgMWAukC7ALSAvUBCgPuAVIDUAJOAvYC+gHdAscCfQLUARsC/QEyA2ACUgMYAvECdwIGAxEDOwJdAmMCOQKSAhQDDQIeA+YB2gKBArQCygJPAsYCfwL9Am4CJgP1AisCtAJ+Ah8CSAKzAqwC3QJXAgwCeALfAt4CGQMLA8MCUgMPArgClQIIA70CYgKhAgcCvgLZAh8CJgJ/Aq4CQQNuAlUCSgNLAt8B/AHtAtECrQKhAT4CSwLlAlIDSAKKAl8CsQIfAq8C4QL5AlkC6QJQAyICtwHzAlECvQK9AkoCIwLVAg4CvAKaAnYCCwNjAq0ChgLkAfoCrwK+AlkCuwJIArsCugLvAYoCXQKbArAC8gIiAqECUQKQAhcCpgLdAVIDqwHwAokCHwNHAxwCuAKUAqoC6AIRA8ICRwLwAkICtgGMAnUC0AKcAtkC8gElAlkCIALvAngCtgKmArcClQKVAi8C9wG3AoACcAKbAoICgAIRAjMCUQIUA6wC4gFPAosC7QJHAssCgQLMAv8C6QJNAhwDmALqAuYC7gKdAlICPgKTAnICbAJEAq4CHAJ6AngC9QESAyoCvQLaAW0CnQIIA7YCEwNEAscCoQJPAgEDkQLxATADDQLVArQCagIiAnsCigJeAkwDwgHXAswBiQL2AuoBLwNGAyMDmALgAnkCmAJYAuYCxgK8AqwCzQJNAv8CiALyAqcCfwIGAwUCOwIYA7ACygIyAsACugJjAlID5wKOAvkCvgLoAasCWQJdAp8CZgL/AVIDGQN0AlYCkQJqAqkCBAK8AukCuALxAdACkwJJA4ICWALQAagC9gJ2AkECrALEAtwCegJ5Ai8CtgKuAvsBMgOUAoAC+QHKAtQBYwLBAoYC/wGNAqMCCwLlAsgB1QLNAlICpgIhArMBFwLSAjEChQL1AfYBjAI+AgYCNQIDAgkC4wJJAt0CHgIUA7MBQQLYAs4CbQKRAoMChQI4Aq0CrQImA1wCiAIhAvQCOQJUAoYCEAMoAtkCPAIRA8oC4gJ/AggC/AKVAjQCxAJQAmsCUgNBAtQCxgK4AqMC6QK5ApMCewIVAzsCtgLCAicDAwMTAnUCUgOtAoIClwIzAn0CIAKJAn4C0wJ7Au4C2gLuAggCjAImAlIC7QKcAgUDJwI2ApMCjwJnAvAClQJGA2ICKwNLAisD9wKIAhQD1QJZAjECNAKKAs8CJAJ7AvABHQIKA3kC5QEjAoICzgJGAnQC4QI8A2EC2gJ3Aj4DhQKXAqYCCQJxAgsCygJEAtICQwKeAkwCLAOqAnECXwJYAloCIQKjAoACUgPqAcYCLAPTAooCtwJwAvcBFwLnAr4CkgKlApgC/gLNAaYCHAPyAVIDdAIbAtwCiwItAx8CFgPuAVIDvwKwAQACTQICAqYCpwJTArIC3wEHAmkC9AJQAykDZAKXAiUCowI7AvQBdAIvAgED3QLuAkcC1AHXAmkCGQN2AiICZgJRAmUCjwK8AjoDjAIaAtkCZwK8AtkCZwLrAlIDyAJuAiQCXwKNArsChwLeAc8C1gJyAicDbQKLAowCSAL0Ap4CEAIdA38C/AKkAs4CTgJIAoUCBAMRAs8BdgIMA0gC8AK5AlIDxAG2AjwC+QHVAhcDGAK7AvQBwwITAi0CkwI/AgcDBAObAgMDCwKWAs0C6gI5AkMCBwK4ArUCSwKaAgACsQIjAyQCtQLzAXAC3QJ0AnkCLwLoApkCfgJFAyQCRQOSAioC1ALTAkkCMgLPAucCqQIJAuUCbgKdAkcCCAJDAroCJAKNAt4CGgOBAjgDFgKNAvIBqwJqAhoCgwKsAc4ChQLGAk8C7AJSAykDXwJSA/QCrwLUArwCrwJlAg0DvwKAAlEDCgMbAukBagLGAnECqgKMAp4COAKDAgkCZwI/As0CcgLeAsUCTwKYAq8BhwJCAisCBwNSA4UCsQIBA2MC6QF4Aq0BAAPLApwCcQKVAjsCzAL2AtUCjQIaAz8DMQLBAgUCrAJsAvUC4wI8AtECwwK8Aa0CoQL3AeUBHwNJAl8CCQIXAtQCCAK4ApEC1gJPAiYCWQI0A5sCPQLzAigCVgJAAp4CCgNzAqsCRwLBAn0CUgInAqACrgJ/AlID0QFCAmMCBQJ9AiYDeQJwAjgCJgPWAigC8wJ6AvQCCANTAoYCUAI+AlIDUgOCAmECHQOoAsEBrQI5AncCUwLNAZUCHAPlAusCJQJAAhACFwI/ApACuAEbAlIDhgLoAsYC+wETA1YCHAM5AscClQKfAUICYwJYApUCUgP8AkYDNQNfAi4CEgKOAhICkAIIAloCvQKNApwCfwLaAgwDUAJ0AlIDOwL4AtACeAIvAgUDRQIMAqQCUgKcAqYCIQJlAq8CywJqAtECvQGyAp8CGgLfAlAC6wKjAngCbQIJAk8CwgKlAgEDAwOeAgUCQgNAAs4CfAI2AscCPgJrAkwC4wKBAq0CUgItArkCkALIArkCTQINAqgCqAKWAmkCMgLBAgQCPQIaArsC+AFHAsgCcgJ3ApcC+gG/AroC2wJxAmgCvgGdAkUC7AKoAo8CsgK3AgUD7QJeAioCNwJSAgECjAIQAxADOgLIAsECqQJsAscCZQKqAlIDWQKjAk8CWgIqAh0C+gEuA6sC5QG4AmACrgIWA44CxAHPAsMCuwJSAzwDUgPIAnoC2gKtAikDiAL4AiUDSQJTAnYCcwJ3AggDpAL2An0CUgNZAt8CZgKgAoICeQIBAxwDywK3AusC3AFSAxECSgJZAh0C6AJTAtQCagKCAkgC9gLNAmMC/gJ8Ai4D+AJfAlgCkAKAArcBJQJuAssCkQK/AiIDGQMVApICyQK3AfsCuQK+Aq4CdQI3A6sCKwJSA8kCxAGrAkECKAIBA7MC4wJ/AosCCwNSAz0DQwL+ARMCdAJ5AsoCXAJ2AlIDHgM5AiMC+gF4AmwCvAK4Av8CwgLQAfUB6QJLApsC5QEGAkUCEQMfA7oC2gIgAsECrAJ/AjUC2wJfAvgCLwLLApACjAJwAnoCUgOTAhECPAKIAkMCTQISAj8DFgOQAjMCmwJlAq0BmQLbAkgCegLoARcCCANSA6ECcwI6AhwDBQPwAnECFwISA2wCXQKeAmkCUwL1AuoC9wEAA08CmwIkA7UC2QJ4AhgCjwKaAtYCCwLYAr0CBgLjAsQBrALYAg8DiAKwAqgCBAJwAm8CcAKFAsMCjwLBAkICqQIvAugBzQKaAkYC3QK1ArYCbgJWAu4BhAIqAtwBmwLsAhMCTQO3AkkDcgJlAkgCoAJbAnkCSgOVAlkCeAKsAq8CfwIsAjoCSQPBAikCCwO4AtgCswLCAnMCzAL1AVkCegLDAcoBCAJwAv0CmQLFAkcCDgNDAiMCSAObAtMC5wGcAggCJQI3AsgCsQLrAtUB5wLDAkUC4QK9Ab8C/QJyAiEC6AJ1Aq4C5wJyAsYCOQIyAsgBKwMWAlIC1QJTAqcCmwKVAisCEwJjAlgCEwIkAvcCpgLzAlICAAPsAYYCUQJUAoIC2AHiAtwCvQKrArICnwL9AosCIAIWA8YC5wK+AsACZgKwAskC1wJSA84CjQKyAjMDegJ5AlIDmQJ2ApwClAJgAugC2wKrAtcCMQK8Al0C/wL/AZsCEwMFAyoCDgKVAroChgL1ArsCmwIGA+kCiQKZAskCjALjArsCxALgAU0DZQJSA2YC2QH6Ar0CWAJSA2UC/QH9AWECyAGXAqECzQLlAlID7QGuApoC3QJ3AsoCxwLSAncCvQIWA3kChAL1ArgC6gKJAjUCQwMRA20CAwLNAlMCGwL6AsICpQLdAqwCpwLeAbgCrgLSAa4CQAL7AvUCRgJvAqkBXQKZAtYCJgLcAtkB6QLcAlADPAK+ApgCagIsAmsCkgJWAqUCTwLFAl8CigKLAqQC0wLKAvcCRgK5AmIC6AENA4UCVQIxApYCdgKgAnwCUQIhAjcCRwKpAvoCiAKEAsICUgPkAfwBtwHkASMDvQIZAosCzQJRAsICGgM4AyoC2wJxAlACnQKXAgYCrgI7AsMCvQKgAi0C3wHaAmgCfwIvAxIDJQJuAnACSQOkArkC3AJvAh0CBQOPAloCUgOJAh8CWAKfAsICHQLHAnYCEwKBAq0CvgKNAo4CVAIlAvICLwPCAlID3AJEAlECjQLqApYCPQKsAhkDDAIwA/cCYALAAkUCvQLfAqgCMAKXApkC9gJtAvwCTQIrAt4CDwNfAhkCAQJ9AnUCRwL7AgQCaQK8ArECcgKuAnMCwwEGA4wCfgLbATcC7gJSA/ECqwLGAoUCygK4AmQCDgOaAjcCZQLOAscCswIPAtwBawJfArcCjQKlAnECpwLeApoCUAIuA1ACZAJ+Ai4C9AL5AZ8CIQNcAswCXwI7A14CzQI9AtMCUgOcAq4CqgJSAxkCVwL0AvMCegJFA9cCNwKPAvsCSwPBApQCKQKBAgECqALHArEChQJoAkYCwAKQAsgC7ALUArMCMwLlAgoDUAN6AvkBtAJ5AkEDUAJLAiYCbgJSAoMCHAJ7ApECLgNYAqoCqgI2AiYCdgLmAfoC8gFbAicCcwIDAl0CNwI4AjsCKgJ1An4CQAJQAr4ChwJRAnECGgJ9AngC4ALzAqkB6QJoAksCUgNZAtoCUgMLAzIC/wIeAkoC5AJIAmYCHwPUAlkCJAPpAgYCMwMIAnECoQKQAlIDPgKnAhIC/AEuAogC0QLvApYCdAK6AtMCeQI0AokCbgLOAo8CuAJ9AnYCUAJ6AmACNQL7ApkCiQK3AgcDFAMgAmYCxQHXAT0D8gLtApsCngKeAjsCgQInAuUC2AFxAooCFwKJArYCjwJsAkECVwLAAuABqgK8AuwBcALFAi0ChgLPAsIClAKbAsECVgKdAqQCygJVAi8CNAKxAlwC3QIKA4YCVQI1AxwCHAIUAhcCcwIDArkCjAJDAvgCAQPyAcECiALBAo4CcAJSArcCVQLhArYCqwIaAp0C2gJuAsoCOQKcAnQCWAK1AsACDwIpAj8CcgJGAqsCUgONAqcCJQJSAy4CEAIhA5oCXgIgAlID8QH8AmEC7ALGAhYCXwInAqICDQKFAvMCxALLAtcCLwIMAsMCnwKbAj8DIQJcApEC5wHHAicCLwJsApQCwQG/AhsDUgJKAmUCWQKRAhMCbQIOAxACSgLyAbMCOALLAqgCIgMbAu4BUgJUAokCEwNcAhoCuAL7Aa0CwQLzAc0C/gF4AugClwJ+AkwCrwJXAs4C2gLHAisCUgOmAkACUAIGA2wCBwLeAt0CigIaAkECGANNAhICCgNoAo8C0QLzAbgCqQKpAoECNQLnAdkCRAKCAlIDaAIOAgsClwJIAzoC6wFIAioD6QJxAhcC2QKPAu8CDQIUArgCEgNEAlQCqwILAycCDgJRA9cBdAKiAh0DTgJMAkECOwKoAogCagKIAvcCSQIGA7kCXQKkAqYCEwMCA5MCtQLoAj0DzAKfAkMDfAKJAm0CEAMPA2cC+gJfAlkCHAIsA60CqAKoAncCOQJIAkYCYQL6AfcB9wEmA40CogIeA+QCEwIsAqYCSwIPAvUC1AG1AgIDzAK3ARoC5wKQApoCcwLgARgD3AEbArgCKgP7AoACjwIOAioCMAJvAmwCMQLxAtECwwFOAnoCpAKCAuACkAJAA3cCiAJnAqoCtgK2Al8ChQKNArkCawKIAvACgwI9Aq4CvgKMAoECPgKDAkIDTwLWAWACmQKLAqUCmQLlAUEC0gIQAh4CKAI/Ap0CfAJ9AgQCIQO0AkkCTgIqArICuQJiAlcCIAJ7AtICNALPApsCXwINAl4CrgI7AzwC1gJDAlYClwL5AUACKwIMAggDUgNbArMCRwKnAoYCLwJTAqwCoQIiA/oCbQKbAS8DdwIXAwQC3gKBAkkC+wHfAsMCugJJA2YC4gKmARkCwwKYAlIDSAKSAhoDFgOAAowCBwNIAnsCLgOmArUCgAIFA+ACtQLwAe8C8gI4AlACLgI5A40CUQJZAhIDjgI8Ai0DCwL6AQECmAKsAg8CdQKuAcgCqgJ6AucBKAMPAiIDUgPiAjED3wJrAp8CRQKyArAC2QLOAsgC2gE1ApICygLVAjkDngLaAU8C/AG3ApQCrwKSAuMCTANaAvcC6wKhAoACdgK/AoQC3wIRAiMDXALiAo8CugIHA/4CGQJXAqICOgJvAsYC0gH3AkUCNAP3AqQCTwKyAnACPQK2AngCeAJAA64BxwJGAl0CkQIUAmQCGAOiAqgCUQKnAu0BsAIBA0UC0QGBAnEC1AEWA0sCtAKkAjsCvAK9AeoCVAJSA7QBlAKJAjACxgIBAl8CawJkAkoDAgMFA9YBDQOsAbkCtAIXAxoCNAOnAokCeAJSAtACAQNvAhkC1AHZAh8C8wEQA2YCnwJLAlECOgKPAngCqQJPAgsDrgJpAlIDhgIfAuoBgAK9AfkCqgEJAxYCCQMmAxYDgwJIAn4CAwNYAnMCkwJDA/sCcQIfA1EDtAJvAqUClgIWAloCmwKgAkYDtALbAtQBHgICA4cCXAJBA5ICowL9ArsC6wGkAuoC1gHKApgCuQKeAh0CgAKHAvUCCgN/An0CrgL6AfUCOgPRAukBvgGlAgEDKwKMAtICgwIcA9ACZQKbAmICTALfAaoCpQJSA+oCewKYAi4C2gIFA8cCUAK3AoAC1gFcAu0BnwKQAuMCMAI7A6kC5AKXAisCfgKAAgoDpwJRAtkCVQIZAtwCHgKwAh4C8gLbAu4B8QF4Au8C3QK9Ag0CjQJSA4YC7gL8ApIC1wKvAncCHQOKAlIDbALiAbcCwgKcAqcCvwKeAk4CZQI7AlMC6QJNAu0CpgJbAvgBXAJkAnUCjAI1AoUCfwLFAjcDmQKGAjgC2QHbAmsCywKuAqMC2gKrArECHAO/AfIBlwLyAXMCiQJLAggDXQJUAqsBdQLwAc0CCQMXAugC8wJRAtECQwOqAk4CRQNJA0gCAQNXAroC3QHdAekC7QIQAu4CHwJDAnACVAKAAvAClAJhAsECvAHwASoCGQK8AsoBUgO7AmcCXAKcAlIC1gG9ApgC3QH0AnECvwKGAooCmALVAkACYAJSA3MCmwIkAgYD8QFLAlID0gIrAmEC3gLOAlYCxwKpAsgCKgJjAjAChgKoAncC6gKOAq8CxAKnAnwCtwKlAtACjQKiAmwCbwIjAhIC6gIAAnYCOgJdAhICLQPAAjUCDgKlAkwC6AEHAsUCxgKNAucCogGeAtMCJQIfAlMCoQLlAvwB8AIpAz8CgwK6AvABVQJbAo8CrwEOA0UCkgKuAhsCUgP7AnoCGwL8Ao0CNgLKAkQCJAKGAsICqAK6AkUCwwL5AuACiQKJAmQCkQL/AaoC7AIqAhoDUgKMAtkCcQJVAnkCFwK+AsgCXwLsAi8DWgKJAv0BrQIYAscC+QI2AmwCRQOhAn4CQgOzAsICeQKaAsQC2gK4AikDvQJcApkCuAIIAnoC7gISAo4CiAJDA74BAgK2AioCLQPgAcsCbALRAqgCFwKPApQClgLPAfUBWwKwAq4BWQIBA98BvQJRAuICewKSAq8CigLQAloCagIjAxkDaAImAsQBjwL+AS0CpAKAAhECsQK5AjcDNQJ3AoYCpAJSAyoDRQLOAskCDQOQAkcC0QJSA7UCCAL3An0C8wKWAvcBVwJHAgEC2gI0A1UCfQK4AnsCoQKWAqsCLwOfAsUCvgIuArMCvAKbAkQCOwIxAhECngKaAnQCQQKMArQCowJ/AioCFQIcAsACpgLIAhUDBwM0AkkDUgP0AY8CmgKSAu0CjgJvAvkC9QLWAksCXQJSA1ID7wJzAuACjAJzAnwCBwNSAwQCAQKhAjQCfALIAjgC8gLFAv4BzAJfApAC5gGjAvMCkAKEAlYCUgOnAngCJgI8AnQCEQKcAg4CFwM9AjUCkAK/AbUBcwL/Aq4CGgMfAr0CiAKLAnkC5AJQAp4CdALpAsECLwJTAuwB8gGPAnwCegIZAxwC3AJpAn0CPQITAukBWQLEAdgCTgLqAVQCewIOAxYDGgMDAuoCxQLHAuwCbwLRAYACMgIYAp4CBwP3AlwCKgLnAdUC3AJvAg0DQQLbAooCCwPdAkMCBwNaAmcCvAJnAisC3AECA4ECEAOGAn4CeALsAaECYQK9AosC/AHpATcCygKmAkUC7AINA7MC1ALBAlIDygIvAkEChwIQAnsCSAO3AjQCJQMuApECgQLzAuMBIQKmAjsCegILAvUBlgKIApYC1QJ0ArACUgNmAvUCnQLsAW4ChQLYAosCDwPcAikClALOAhMDBwPfAZQC0QKTAucCTQNcAjQCfQIPAq8C9wGaAmcCyAL8AtcBYAKqAksCygJ2AogCEQNZAs0CwwIDA1oCTAJoAm0CogJ5AvwBoAJlAsgCcAKkAqsC6QHjAr0CNQKaAnkCQgIpA6wCIALJAnkCoAKVAu0CgQJ5Ap0BGgK1AZQChgL/AoACCgOnAiUCVgKPAu4BjQKFAu8CEAK4AswCWgKHAlIDTgI5A1IDFQO9AjoCGAIDAwACkAL5AsUCVQJQAlcCPAJjArgCnQLWAu4CUgNpAjACdQKUAqQCRQIeA8ECygK5AmECJAKQAoICxgLGAs4CSgJpAnYCoQLdAZYCQwJiAkUCUAKpApICGANwAjICpgKKAlECjAIqAkgCBAIVA1YCnQKFApMCQQO5AkQCswLeATwC9QFwAlMCWwJaAvQBpgFnAnsCxwJ5AooCNwJ+AoECPgKCAtICbwKpAhICRQJNAisC6QLaAjUCCgMsAw4CqAI3AjQCxQL+AfoBXQKKAukBkwLxAt0BawJrAvYCBAIVA+UBvgHIAgoCJQMNA54CngIMAt4CbgJLA68CvAKaARkCDAOMAmwCuQISA1IDvQF9AvQChAJSA78CrAJEAgkDpALEAikDTAJvAhkCAQOyAvEBbgJaAh8CCAKdAncC3AJGA4wClAK0AkwCFQJSA/8BEgIqAkkC8gJFAzcCIAOGAnMC+QFrAvUCiAJtAh8CkgJ5AogC9QHBAsYC1QJ+AhcDXwIXAvoB/wH1ApcCOgJSA5MCxgHQAucC7QEtAlIDHwP0AvACuAJ2ApMCrQIvAmcCRALnAYYCKwMOAv8CJALhAscC8ALGAv4BQQIRAvUCbQLFAvQCFAPBAuMBzwIZA1ECsgI3AwACIgPCAYsCuQJjAoMCNgN4Aj8CoAIFAm0CBwNYAoAC8AJlAuQB/wESA9cCbgIaA+UCrwKUApQCaQL6AjECYQIjAywCmwGOAp4CjwLwAhYCewLrARICrwKsAsIC6gEcA1EDCwMaA+wChQLQAU4CCgKIAvIC+wIWA0UCvwI7ApEC4QIZA+8CQwKPAmYCMgLHAmwCtQEoAv0C/AJJAhADXQK7AiAC3wKMArYC5QJOAikDCwJUAlUC3gLGAhsCHgKqAgMCiwIYAzEDogIBAjECcwKqAqsCpAGeAvkBQQIFA/sCUAIQAnYCEQLxAgQDNwJ0ApICpwJ1AtsCBwOUAvACjwIfAisDsQITAgMCDgNjAlwCjwKxAqkCgwJpAucCPAMIAxwCaAJnAh8CKQIqAqwCxAF1ApMC7QEqAicD9AEvAkgCQgPyAuQC3QLzAhYCkAI/AvYCqgL1AeoCfgLeAisCcgKpAsUCMgKsAncCkQK7Al4CZAKUAj0DNwJSA8gCMgLzAhkD1wHDAhADvwLAApYCfAKAAuMC/wLKAsMCQQJ5AlEDZgIuAkADNwLIAo8CgQKkAtgBhAJWAhgDvAJoAucCqwHbAmICjQIGA88CsALaAfkBYgLBAp0CigImAjwCbgKWAsoCWAJPA4oCxgKqAoICGALyAuUC9QLRArwClwKlAo8CQAPRAo4C/AFMArMCmAK3Ad8BBgLNAlIDcgIGA88C5QEQA1IDnQLbAtECAwIGA0kCtwLZAskCKwK7AksC+gL+AUoDYAJSA4ICUgPHASACiwIuAxkCKQIgAxcDuwL0AlID+AI5ApUCtgLYAn8ClwI6A98CqgKXAjICuAJSA88CJANcAg4DAAI5AvECrgH0Au0BCQMLA74CJwLtAvACfQLUAq0CcQJIAiYClgIjA2cC4QG9Au8CowLdAr0CKgLTAv4CVQI+AqACzQIJAnkCnQLOAWsCmQKPAs8BJwPYAkYCwALKAnQCKQMwAisDSAKzAkwCEQJuAqsCPwJBAowCrwI2A5AC6QKsAnsCRgJlApMC6QJcAv0BwgK3Ah8CgAKgAr0CegITArsCwQGsAsoCyAIPA6sCjgK8AugChQINAtwC0QJuAo4CUgObAmwCaALGAs0CEgOLAqgChgInA9cCEwMmA1sCrAIuArcCFQNVApUBkgJ5Ak0C7gIsAxsCngKhAlYCCANeAq4CUgOCAl4CcwJSA1ID1AJDAtcCnQIGA38CQwN9Ak0CTwLTAt0C2wKOAjwDTgKRAhMCBAIxAqoCPwJvAoICnwLvAVIDdgJMAjICtwJNAl8CGgOEAnwCVwL7AaoCygK4AlcCQQLdAocCPwMfAqcCyQLvAr0CugLDAZkC1gIlAiMDlwLKAsACkwLiAnsCEgKVAhMCtgLbAiwChwJSAz0CTwLTAmkCyQETA4sCZALUAogCOQL9AlsCOAI9AgMD+wKaAdgCjwLIAqgC0QJsAgYDMwJSA6kCdwJmAsACEgMWAk4CkAJVApsCcwLEAg8CUALRAXQCOgIvAzEDzQKBAnACQwK6AoUCswJ+AsEC0AIpApICfAIPAs0CZgJLAsYC+wFhAhIDxgILA90CRwJzApoCbAJmAl4CvAI0AmwCYgJhAqsCeQKkArUCxQI1AqkC9wGQAlACrwKuAmgC7gEWArcCQwKwATAD2gJRAgcDGwJAArACYAKeAmgCEgPAAhwDVgJaAmsCgQIGAm8C3QJxAvcCXAIAAggCJQOQAhEDKQI5Ap4CSgJpAvwBcAKOAqkCQgJtAngCNQPyAjgCSAIlAtkCCwKjAg4D4gKUAg0CdQJoAgkCswKvAqUClwLwAcIC2AG/AlIDLwKgAogC8QHnAmsCfwIcAv4C7QKPAnYCCgMRAmwC3wL5AdcB0gJBAugCPQKNApQCEwNpAjcCqgKsAkkCBAJ0AqoC6gKPAoQCCgNpAhkCKgImA2MCmQKIArQC+wGpAq8CgQL7AbACvQLoARsCGgIAA0kCRQKqAo0CyAJsAsUCewLtAnUCRAMeAoUCTAOFAvAC+ALKAs0ChQKpAqcCEALGAt0C1ALWAggCLAJDAqICOgJ3Am8CmQILAsICawJgAg4CXAJ8Ap0CcAJ3AvECTALZAuYBMgL7Ap0CxQIqArsC3AJXAvMBDgIZArgCpwJSA+8BGQJSAwECagIiAyMCZQJQAiIC0QJwAv0BjQLFAi8CrALFAmECagJSA1ICaAJgAsYCtwISAv0B9gKZAncCQAIgAuEBAALRAsUBMgKqAuwC2QKXAnMCyQIyAngCkgJVAgACwALaAVwCqwIZAhoD7wEoAloCXwLXAuIBrgJMAl0CRwLiAugCDQO7An8CRwJLArYC/wEUAw4CswLhAfACkgKnAvICeQKiAlgChQK6AvwB4gLCAkICuwI6AywC/QIgAuQCUgP+AmQChQK4AswCTgKQAtkB0QIEAlIDHgNkAhwCzwIcA1IDVwLUAvwBBQMOAh4C1gElA6ACBQNmAsACSgKlAi4CegKPAmsClgLBAnYCUgM9AqgC9gJVAkQCbgJ+AoAChALxAr0CxAIJAnwCEQL1Av8CDQL3AuICJAJnAlID5wHbAtYCYQLKAroCWQIBA1ID5wHkAq4CZAKPAmkCogLHAnACVQKqAgcD1wJ1AqwCJQJRAhgCwwJQAr8C0wLEASgC3wEAA+YCwwLOAvoCBAP2ATMCpAJAAnUCcQJ0AtcBKwP4Aa8ClAIkAmEC1QIyAhcClQIDAyECUgNZAsgCTQJYAoICOgIcA4ICjwJpAvoCvwL7AVECiALOAVQC7gFzAlIDeALqAcsCpwLRAeAC9QEXAvcCMwMVAngCrwKbArsC8QEMA4wC6AE8AvMCCwO1AhIC4gKyAmMCgwLXAvwBJgLyAvcCGgMlAp8CeAJDAuwC6AHGAgUDkQJDAh4CxQJpAgEDYAL3AWACUgNPAkMCOgLFAmMCuwLAAsoCRQJQAicCsQJcAgICugI9AsEBUgNkArICVwLyASIDhALKAgoC9gHaAk4CygEpAt8BtQLDAnwCJwNGArYCCQNWAkwClwIJA1ACUgMcAqICKQJ2AtIBZQIuAgcDugJgAp4CTwKmAk4CwQJgAqoCVAJCAgYDyAJJApoCxAK9AbICUgMZAp4CjAK4AoICXAJaAusBUgMJAtYCUgN9ArICsQIrAjMC7gEWArgCWAInA04CZgL+Ai0CiALWAgUDRwLBAq0C5QKSAj8C1QLCAYICagJOAt8CJgIrApsCFgPXAugCdQJrAnoCYAL7ARgC2gJHAoQCFgMnA0UCUgPyAn0CuwIeAoACKQLlAlYCagKHAusBjAKdAaABdQKmAg8CqwIYAoYCwwJaAnsCVQL3AacC0AIdA1ICEQJeAgECXQI+AtYCYwJRAtIB5QKsAiYCUQKkAiwCzwL9AawC2QKrArECoALjAmoCogL6AhYD8gLZAl4CaAIEA4wCGQPnAuoCyQKmAhwCZwKfAXQCvAJvAm8CpwICAusB8QK1AqcCEQJrAqgCQgN8AhoCNgJVAscCXgJnAk0CXgJGAsYC0wHtAtoC/wJnAkcCUgMeA7cC4wIlAlIDpwJeAlIDawLPAoACxgJEAiYCSQP4Aq8C8QKVArsCZQIOA0YCpwJjAscBbQLmAuIC5wEBAjMCIwNfAnQCrgK8ApcCnwLYAj4C0AFcAkQD/wEGAvQC6QFuAowCcQIJAjsC7AJPAi4DxQKxAQ0DkAKrAmwCDQIZAwgCgQL4Aa4CFQJBAoMClwINAtQCrQJMAocCEQM3A68CUgPwAQ8CDQLXAp8CcQKDAsMCGwLyAbgC9gKtAo8CWQIuAkoC+QIqAgYDAwMYA6EC/QLsAqYBOAL2AQwCsQKVAl4CpgJ8AocC3AIvAkUCNQKRAk8DVAJDAuUCZQK2AuABmgI/AlID5AJMAqkCYwJNAs0CLAJSA60CyQK1AV0C9gJYAjsDYAJgAioCqwKUApwCCAM0A5kCUgO/AvoBTAJuAl4C9gKlAjsD2QKOAo4CawKCAtgB1gF5AloCgALGAXwCbQIbAyYCdgI9AjEClgJ9AosChgI3An4C1QLFAhMDjQKXApYC8gJCApoCVwI5AygDAwK8AYoCYQI4A5YCuwJbAiQDdwL3ASQCnALLAj0C/QGeAmUCpgIJAygCgAIdAvQCrAJwApUCcwIsA80CtQLBApUCPQJ/As4COgLNAWACVwL6ApYC6wIbAnECbQLyAqcC5wFSA1sC2AJtAkED9gE5A5wC5wFYAl4CPwJBAosCtQIgA8cClgK0AmYC3gEyAsUCrAIiAgsD4QG9AV4CugI4AhACnQKAAhECIwLDAt8C/QJSAqMCvwIqA8sCmAJSA9QCMwLKAmYC5AJLAtEBsQKQAkMCzAInAg8CrQLiAhACQALdAl0CSgI0AuACowKQAs4BUgNSA3QCHgNPAmYCmQI6AncCSgKzAn8CugLdAlIDagLZAUICsgJUAj8CogL7AckBSALoAq8CsAIHAt0CmgL/Ab4CkgKOAokCVQIOA4QCpwKmAiYDnAKTApQCWQLvAhMChwLEAiYCngJQAk0C1QI6Aj8C9QGvAc8CUgMqAqIBywL+AowCkwI+AmMC4gI7Aq4CpwJpAqEC6QKlAmUCSAKXAtIB/gFrArgCKgKTApYCLAK9AksCOwIbAoQC8QLCAjkDcwIUAvwCvAKUAn8CLQJ5Am8CYwIHA6kCNAKeAu8CIAJ/AqACfwK5AlID7ALPATwC5QJ9AosCoAIMAnACpQLQAc4CPgJnAosCLgIcAnYCCwKmArYBIAJTAqYCUgNNAhEDMwJPAoMCXQIBA2wC1QIyA50CyAJbAlUCRALOAg8C2QLqAvcC7AK6Aq4CpwKqAgoD5gKJAvsCUwJxAt0CmQLVAioCowJ7AlkC9gKAAvICjgKKAj8DBwJBAkAChgLHAiYDngKnAlIDngLdAvwCoQLLAm0CHAOgAg8C0gJUAuoCCwJwAikCUgNXAuwB5wIKAqkCdgImA78C8wLPAqsC7QLUAgIDqAK7AroBPgJdAngCLgKAArICXwJSAwwDagKkAvsB6gGmAn0CWgLoAoACrALvAS8CrAJlAhoDtAK/AtACCQONAigCxAKHAlUC9QHFAm0CHwOjAjECwwKeAokCDAI9ApECrgKrAvECCAIjAogCfwLRAiQCKQL1As4CcQLoAu8CDQMJA8wCngIrAqcCOwIAArkCqAGsAlgCCQJ6Ar0BvgLlAXQCXALUAjcCEQM1A3ECBQPWAoECiQKyAeIC+wFeArkC+AGNApQCjAKdAlIC9AKCAuYBJAObApsCpwKoAoQCOwJzAhgC6ALFAo0CiAKXAmUCbAKVAp0C/wLrAY0CpwKvAkUDUgMjAsMCdQKvAvYBeALaAVIDSALmAvkCWAL1AaIBHQMUA7sCaAKLAo4CsQL2AYMC+gLPAhUDKQLAAXgCnQKOAtYC3QIRAu0BZwKaAoQCwwJbAp8CVgJeAlIDhAKPAlIDqwKXAn8CwAKzAlcCPQJNAocCegKUApoCuAJEA5sCVAKuAVQCVwIHApwCeQKHAt0CLALpAX8CywInA8oCcgK5AlID4QIsA0cC2gKlAuwC8QJ6Am4CuwLKAvcBrQJeAqYC1AJ+AnQCEAKwAW4C0QJmAnoC5gLOAnwCugLIApMCPQLcAhYD2AKFAocCVAJiAgACmgK8AosCHgKuAlIDkgLAAWECugL3AiACNwLqAXICzgIEAzECLgMaAlgCjgJuAmICGwMtAjgDugJ2ArYCqQIzApMCNgIhAh4D9QKBAs4CbwKEAvQBRwJTAp4CLgOUAkQCUgOkAkICQwLHArQC+AIoA2MCjwJZAvMCKQLTAvsBCQM2AtwCuQIrAkgCsAJyAnwCzwLbAqoBvQIAAnsCrQJhAqYBkAJKAuEB7QIxAqQCZwJGAlkCxAIdA6oCtgI8A1ICQwLTAhoDogKiAfYBpgJXAuACqwI8A7MCzgKoAkYDtwKpAvoC7wKmAnoC7QJOAmIC9gFCAiMCQwKVAhoDzwLYAlYCNgOeAlIDwQKlAuAC9QEEAv4CCAIdAhYDHQMrA9ICowKUAjYCAANiAssC7gKvAcACZgLsAuwBPQKoAsoBTgJaAhwC7gEdAw4CdwJAAisC7gKZAoACyQG3AocCKAO8ApQCZwLBAs4CSwI5AjgCegICA6QCWQJdAvACUgNgAhIDmwJQA+YBVgL6ASECGQOqAqwCtAKaArUC9QKsArMC4gHfAqkCaAJ7AjQDyQKJAjEC1AK5AUMCCQPjApQCKgJSAyYC7gLqAV0CowJtAlIDxwJzAlIDZgKrAoMCWQL+ArsCUgNSA3QC4ALHAkcC9QLtAsECSQLlAuICSgJzAicCXgKiAkgCTgJJAvwBygG0AvYBBgKUAgUDawKsAnsCqAJgAvQCYwIUAocCRwIGA6UCHgJlApoCCQPBAqECXQLeAjwCUwLtAnACmQKIAjkCNgIZAt4CZAKIAi0CgwKxAYMC6AHnAuoCmgJEAlIDMwL+ApMCXwKEAuoCTAKzApoCgAJjAhECpAJ/Ag4DgQK5ApEC6AIGAycCGAOaAswCUgJYAjUCpgKIAoICnAJ7AlsCewKCAnQC8wE3AsEBvQJlAqsCRQIxAi4CggIlA68CMgJlAk0CUQLKAkwCpwLaAkEDSgLHAjwD9AEnA1IDDgN1AkYC1AElA9ACDQNQAvcC2QF/AsECBAJSA+oCbgLnAtwCUgNSA64CLAKhAikDdgI0AqUCRwJQAlIDeQLvAlACgQJRA4cCYAIrAvEBVwIhAgYD0AG4ApsCLAMEAoUCmAKrAa0CSQLEAs0C0QE6A+sCwwJOAmcCegLMAk8CPgK9AusCigLbAn4COQLLAasCUgMAApgCtgKPAl8C+wKfApoCmwJSA24CQQIrAiMCZQKgAnAC0AIDAysD3gIkAsMCbwKuApECMAPkAdgC3QElAsoC+AESAmsCaQIXAwkDMQO1AkACgwL1AjkCBANAAmACGgNRAlUCtAK5AgADIgNIAmYCnwJ5ApcCMQIBA04CMAK1AZUCpQIwAkICpQHsASECQQILAhkDxwJ1ArcCTwPAAmUCtALQAkECxgLMAkgCGANdAuYBZwKkAjsCUgPNAgwD7AH4AvQBjgIfA7IBzwKBAs0BFgNMAm0CqQJeAh4CyQJVAnsC9wL1AjQCMQK+AqYCwwJiAugCVgIyAm0C0gJbAvoBywKyAoQCTQJQAngCQQJMAmkCKgPOAk0CCgPUAt0BRAI2AscCwgK/AqcCVgJEA8ACXQIEAjwCXALjAb4CJANSAyoCTAL2AkYCeQI0AloCiQKnAn8CNQI5AxACQQKXAvkBeQJKAlIDdQLoAn0CPwKfAjsCTgJrAoACngLhAisC5gIwAo4CEwMvAuEB8QKjAuwCYgJEAnACxQJdAsICNwLrApgCxwJhAngC1QJSA6oCHQOcAg8D/gLAAtICtAJIAt0CUgMJAqMCagIsAu0CvgJLAn8CgwJYAosCmgIIAooCNAJKAmkCyAKOAl0C6wHDAn4CqwIvA4UChQKrAocCFgJaArcCKQIEAo8COAK3AiwCSQIsAvgB2wKLAq4CsgI3AlIDfQLzAWQCUgMbAzUCIgMKAiYCVwLtAfMCXQLEArsC5wJrArQCMAIfAggDTANKAkcCvQLWAj0D7QLnAmsC7QJYAvgCEAJ2AqsCpQKdArUC8wICAiQCUgNkAnQC1AJCAw0DngKXAnACVgJrAhgDqwKzAv0CfQKbAj8C9gFhAssCHQJSA1MCcQIxA1IDZQLFAqYC0AKWApYCAgPRAr0CfwJ4AsgB2QJ4ArEBngLCAgoCiwLuAZ8CQQJLAsgC8gGUAqYCEgIvAlAC/wKNAqYCSgKDAmQCogKRAtQC9AGwAncCegIhAoQCxwLIAnMCtgIWAlsCKAPCAp8ChgIhA9sCbALkAYcCsAKxAgECKQKxAgUC2wL7AdQBqgIKAnUC2QI+AqUCcwIUAwcCuwJnAm4C8wL/AvACeQLNAkkC7wLvAYoCEQJJApwCTwLbAooCTALIArMCpgLPAmIC0gLFAqYCeQKAApACEgMxAicDWgLXAqYC2gJUAq4CrAIdA5ICjQKBApAC7gIAAzgCwgKuAekCfwLAAosCwgJ4Au8C/wLlAggCcgIrA9oC8wHyAswCfALWAbwBUgN9AgACBgOBAkoCYwKUAi0C2gIXAgUDGwKyAjUDrwItAhQCHALBAsICygJGAmECBgI1At8CLQMEA14CmwIeAvoCugJSA58CBwP4Ae8CswJJA8UCoQIdApUCEAPmAgoDEQKmAgQC1QESA78CQwI1ArsBswLHAgcDbQKcAnkC3gKyAYYC/ALXAtQC2AJ8AnoCcwIGAq8CbgK1AsIBlwKUAkMCqwKPAj8CPgIbAwgDpgKXAuwCpQIFA6MCiQIoAm4CZwKpAgADaQLEAScDNwJbAmkCvQK2AVgCUgPlArEC5wLtAaAB1QLxARkC0AIdAx8CxgGzAhgD0QL9AlIDqQJRAqICYgKMAlID5AKtAi4CpQJQAowClgIfAqMCgwKcAX4COAOrAlcC8QJSApECzAJSA14CCAMtAmYCbAK3AtkCOwLJAS8CmAIOA8QCogK5AgYDcALrAssCKAOmAkADnAIOAskBiQKdAtIBrQJiAkYCvgIsAykD6ALbAtcBnAI/AucCRAIWAqgCdwLlAbsCyAJSA0gCXAJKAtMBCAItAmUCEgNRAp4CzgJvAvABrQHzAYICoQI6AtgBJgIEAqoCbAJyAm8COQLUAncCTgPbArUCBAORAgYDmwIEAicCHgJvAr0C2wLNAb4C2AJJAj0COAJbAq8C1QHdAeECQwPNAjIC9gKYAYoCRgLCAjcC0AJ3Am8CAgKKAqEC+AHTAoUCmAL4Av4CegKAAhADYAIjAmQCPQJnAsYCogK+AmgCsAJdAqQCxALpApUC1gLvAgcDHAJPAlQCPQJBAj4DlwKlAc4CjwLIApcCQQIiAiIDTgJSAh0CDQMmAxcCAAMhAkUCAQLbAtcCdgKMAtkCdQKbAp8C3AIiAsAC1gGwAjcCYQIJAiwClgLAAu4C1AGzARECYAKaAtoCBALHAuACAAOrAbIChwLKAmACKQPpAg8CUwJSAzkC2ALZAeICkwJVAr0BnwKSAo8CBAOpArACeQLfAgkCHQJkAjICvwLGAr8CagKxAs4CYAL0AgcDewLBAuEBUwIXAlUCwQFSA+4BpAIyA8gCoAJ8AroCVQLNAmYCxAJFAkMC4QIcAmECCgNtAmACqAKXAl8CqQL+ArYCmwHmAhECBwI9AsUBHgO1An0CoAJVAh8CtwJIAowCWQJ0Al8ChgI8AiEDVQJlAhoDLQLzAeMCygEQAoYCNALWAjACyQGhAkgC1AKEAvMBLwIfAqcCUgJKAggDuwJPA0YCiAIfAs4BgAIFA0cCTQL9AWQC+QEiAqkC+gISA3UCEwPJAh0CwwGEAq4C/QKmAhsCIAMfA3UC3gIeAp4BqwLsAlQCggLzAYkC4wJoAjACqwF5ArsB1wKiApUCawIyAnkCJwKwAnsCMQJSA3wCzQEDA8kCkgJKAuEC5gK9Am8C6AK6AmgClgJSAq0C5gKmAosCQwLSArYCnAIRAnwC/wIMA3sCUQIcApcCdgJdAvMCgQLhArcCLgKZAuECjgJrAk0D1wJGAswClAKYAiEDZwLOApsCngJOAuMCRQMoAkQCrAJ6Al8CIgPgAuECzgKBAqUCgQKSAkgCxQKyAnMC/QKFAswCrwLNAgwCpwIaAvACTgMUAlUCcwK8Av4C6AG2An8CKgN+AlMCUgOjAYACOgKAAtUC7wIAA4gCQQJ/Aq4CkQJlAr0CQgKxAq8CtQLhAosC8QILAsoBgwJ+Aq0CrAKeAsECiwLlAkUCIAJHApcCmgJXApsC1wKxAn8CpgILAooC6AK5AiADmALkAkMDpAJlAskC7wILAgcDoQJoAooCDQNRAvkBtAItA1ID8QJSA58CcAKJApgCqAK9AqwCSgIKAuMCQwMWA58CMAKLAqoCKAOEArACaQLiApcCTQN/Ai0CHwJJAmIC1wIcAqIBlAJSA4IC4wL8AZsC5QJQAgUDUgMPAwkDWwKEAocCiALRAgwCcgI5AkICAQO2ApgChgKPAsECpgLiAr8CKgLUAlECxgJ3AowCKgLjAZ0ClgI1Aw8DUgMvAloCtwIiAs8CGwJ4AgQDxAKcAuICEQNVAhMC/QH8Ae0CkwKjAgID4AIMAqICvALlAscBYAIIA+oCqwJPAkUCrAIxAs4CTgI9Ai0DgQKWAvEBzAIOAvgCnQKPAhYD+QLuAqgCwAIJAsQBtwJxAmACywJCA9UBDwJCA0cCuAJeAskCNQMmAqMC7AJeAtYCIwL2AlQC0AKiAvQCiQJlAoMCWALfAkkCewLYAU4CiwKuAl4CDQNRAhkDFwNSA7oC/QI+AkUCxgImAgsD+wIzAqYChAKqAnEC3QIAAoIC4QI/Ah8CCQJ9AsoC1gKoAvUCIwMwAqcCDgLlAQUDiwJKAl8C1ALdApsCkwLGAqUCHgP2AssC8AIyA+oBFQKpArICkAKhAiYD9QEsAnMCjAInA8QCawJZAr0BIAMqApAC4AGUAhQCpwIMA+sCwQLcAgMCMAP9AVkCxwEjAykC1AJiAi8CMwMEA60C+gGCAnMCWAI5AvQCoQJ9AoQCkgKJAlsCyAKFAsECTgJ3AlwCgwKyAi4CiAKMAigDJwLHAhUDWgJAAkgCUQK7AkYDSwLuAuQBQAI3An4ChgKSAk4CIgJbAmsCpgLLAZ8CzwKpAsICzAIHAyAC9ALmAk8CmwITA84CCQJfAnkCTALUAtACCQJsAtgCSAKvAqYCngKjAqwCfQL4ApYCqAJcAvwCCQIbA6YClAKGAsIC2gJeArICQwLhAewB4wKqAr0CzgLwAR8CaAKMArAC9QKbAtUCtgIjAy4DYwLzAqkBUgOlAh0D3wJhArwCDgK1AuwCkQLjAhAD6AKFAp0C1AJSA3ECewLUAiYChQLKAnkCGQL8Aj0C5ALfAXMC3wFvAgACYQIGAkED9gJjAkcCfQKrAgYDpQLlAmUCWgKTAqECXgIHA0kDygLWAoQCIAMDAwQCGAM=",
          "dtype": "i2"
         }
        }
       ],
       "layout": {
        "autosize": false,
        "height": 620,
        "template": {
         "data": {
          "bar": [
           {
            "error_x": {
             "color": "#2a3f5f"
            },
            "error_y": {
             "color": "#2a3f5f"
            },
            "marker": {
             "line": {
              "color": "#E5ECF6",
              "width": 0.5
             },
             "pattern": {
              "fillmode": "overlay",
              "size": 10,
              "solidity": 0.2
             }
            },
            "type": "bar"
           }
          ],
          "barpolar": [
           {
            "marker": {
             "line": {
              "color": "#E5ECF6",
              "width": 0.5
             },
             "pattern": {
              "fillmode": "overlay",
              "size": 10,
              "solidity": 0.2
             }
            },
            "type": "barpolar"
           }
          ],
          "carpet": [
           {
            "aaxis": {
             "endlinecolor": "#2a3f5f",
             "gridcolor": "white",
             "linecolor": "white",
             "minorgridcolor": "white",
             "startlinecolor": "#2a3f5f"
            },
            "baxis": {
             "endlinecolor": "#2a3f5f",
             "gridcolor": "white",
             "linecolor": "white",
             "minorgridcolor": "white",
             "startlinecolor": "#2a3f5f"
            },
            "type": "carpet"
           }
          ],
          "choropleth": [
           {
            "colorbar": {
             "outlinewidth": 0,
             "ticks": ""
            },
            "type": "choropleth"
           }
          ],
          "contour": [
           {
            "colorbar": {
             "outlinewidth": 0,
             "ticks": ""
            },
            "colorscale": [
             [
              0,
              "#0d0887"
             ],
             [
              0.1111111111111111,
              "#46039f"
             ],
             [
              0.2222222222222222,
              "#7201a8"
             ],
             [
              0.3333333333333333,
              "#9c179e"
             ],
             [
              0.4444444444444444,
              "#bd3786"
             ],
             [
              0.5555555555555556,
              "#d8576b"
             ],
             [
              0.6666666666666666,
              "#ed7953"
             ],
             [
              0.7777777777777778,
              "#fb9f3a"
             ],
             [
              0.8888888888888888,
              "#fdca26"
             ],
             [
              1,
              "#f0f921"
             ]
            ],
            "type": "contour"
           }
          ],
          "contourcarpet": [
           {
            "colorbar": {
             "outlinewidth": 0,
             "ticks": ""
            },
            "type": "contourcarpet"
           }
          ],
          "heatmap": [
           {
            "colorbar": {
             "outlinewidth": 0,
             "ticks": ""
            },
            "colorscale": [
             [
              0,
              "#0d0887"
             ],
             [
              0.1111111111111111,
              "#46039f"
             ],
             [
              0.2222222222222222,
              "#7201a8"
             ],
             [
              0.3333333333333333,
              "#9c179e"
             ],
             [
              0.4444444444444444,
              "#bd3786"
             ],
             [
              0.5555555555555556,
              "#d8576b"
             ],
             [
              0.6666666666666666,
              "#ed7953"
             ],
             [
              0.7777777777777778,
              "#fb9f3a"
             ],
             [
              0.8888888888888888,
              "#fdca26"
             ],
             [
              1,
              "#f0f921"
             ]
            ],
            "type": "heatmap"
           }
          ],
          "histogram": [
           {
            "marker": {
             "pattern": {
              "fillmode": "overlay",
              "size": 10,
              "solidity": 0.2
             }
            },
            "type": "histogram"
           }
          ],
          "histogram2d": [
           {
            "colorbar": {
             "outlinewidth": 0,
             "ticks": ""
            },
            "colorscale": [
             [
              0,
              "#0d0887"
             ],
             [
              0.1111111111111111,
              "#46039f"
             ],
             [
              0.2222222222222222,
              "#7201a8"
             ],
             [
              0.3333333333333333,
              "#9c179e"
             ],
             [
              0.4444444444444444,
              "#bd3786"
             ],
             [
              0.5555555555555556,
              "#d8576b"
             ],
             [
              0.6666666666666666,
              "#ed7953"
             ],
             [
              0.7777777777777778,
              "#fb9f3a"
             ],
             [
              0.8888888888888888,
              "#fdca26"
             ],
             [
              1,
              "#f0f921"
             ]
            ],
            "type": "histogram2d"
           }
          ],
          "histogram2dcontour": [
           {
            "colorbar": {
             "outlinewidth": 0,
             "ticks": ""
            },
            "colorscale": [
             [
              0,
              "#0d0887"
             ],
             [
              0.1111111111111111,
              "#46039f"
             ],
             [
              0.2222222222222222,
              "#7201a8"
             ],
             [
              0.3333333333333333,
              "#9c179e"
             ],
             [
              0.4444444444444444,
              "#bd3786"
             ],
             [
              0.5555555555555556,
              "#d8576b"
             ],
             [
              0.6666666666666666,
              "#ed7953"
             ],
             [
              0.7777777777777778,
              "#fb9f3a"
             ],
             [
              0.8888888888888888,
              "#fdca26"
             ],
             [
              1,
              "#f0f921"
             ]
            ],
            "type": "histogram2dcontour"
           }
          ],
          "mesh3d": [
           {
            "colorbar": {
             "outlinewidth": 0,
             "ticks": ""
            },
            "type": "mesh3d"
           }
          ],
          "parcoords": [
           {
            "line": {
             "colorbar": {
              "outlinewidth": 0,
              "ticks": ""
             }
            },
            "type": "parcoords"
           }
          ],
          "pie": [
           {
            "automargin": true,
            "type": "pie"
           }
          ],
          "scatter": [
           {
            "fillpattern": {
             "fillmode": "overlay",
             "size": 10,
             "solidity": 0.2
            },
            "type": "scatter"
           }
          ],
          "scatter3d": [
           {
            "line": {
             "colorbar": {
              "outlinewidth": 0,
              "ticks": ""
             }
            },
            "marker": {
             "colorbar": {
              "outlinewidth": 0,
              "ticks": ""
             }
            },
            "type": "scatter3d"
           }
          ],
          "scattercarpet": [
           {
            "marker": {
             "colorbar": {
              "outlinewidth": 0,
              "ticks": ""
             }
            },
            "type": "scattercarpet"
           }
          ],
          "scattergeo": [
           {
            "marker": {
             "colorbar": {
              "outlinewidth": 0,
              "ticks": ""
             }
            },
            "type": "scattergeo"
           }
          ],
          "scattergl": [
           {
            "marker": {
             "colorbar": {
              "outlinewidth": 0,
              "ticks": ""
             }
            },
            "type": "scattergl"
           }
          ],
          "scattermap": [
           {
            "marker": {
             "colorbar": {
              "outlinewidth": 0,
              "ticks": ""
             }
            },
            "type": "scattermap"
           }
          ],
          "scattermapbox": [
           {
            "marker": {
             "colorbar": {
              "outlinewidth": 0,
              "ticks": ""
             }
            },
            "type": "scattermapbox"
           }
          ],
          "scatterpolar": [
           {
            "marker": {
             "colorbar": {
              "outlinewidth": 0,
              "ticks": ""
             }
            },
            "type": "scatterpolar"
           }
          ],
          "scatterpolargl": [
           {
            "marker": {
             "colorbar": {
              "outlinewidth": 0,
              "ticks": ""
             }
            },
            "type": "scatterpolargl"
           }
          ],
          "scatterternary": [
           {
            "marker": {
             "colorbar": {
              "outlinewidth": 0,
              "ticks": ""
             }
            },
            "type": "scatterternary"
           }
          ],
          "surface": [
           {
            "colorbar": {
             "outlinewidth": 0,
             "ticks": ""
            },
            "colorscale": [
             [
              0,
              "#0d0887"
             ],
             [
              0.1111111111111111,
              "#46039f"
             ],
             [
              0.2222222222222222,
              "#7201a8"
             ],
             [
              0.3333333333333333,
              "#9c179e"
             ],
             [
              0.4444444444444444,
              "#bd3786"
             ],
             [
              0.5555555555555556,
              "#d8576b"
             ],
             [
              0.6666666666666666,
              "#ed7953"
             ],
             [
              0.7777777777777778,
              "#fb9f3a"
             ],
             [
              0.8888888888888888,
              "#fdca26"
             ],
             [
              1,
              "#f0f921"
             ]
            ],
            "type": "surface"
           }
          ],
          "table": [
           {
            "cells": {
             "fill": {
              "color": "#EBF0F8"
             },
             "line": {
              "color": "white"
             }
            },
            "header": {
             "fill": {
              "color": "#C8D4E3"
             },
             "line": {
              "color": "white"
             }
            },
            "type": "table"
           }
          ]
         },
         "layout": {
          "annotationdefaults": {
           "arrowcolor": "#2a3f5f",
           "arrowhead": 0,
           "arrowwidth": 1
          },
          "autotypenumbers": "strict",
          "coloraxis": {
           "colorbar": {
            "outlinewidth": 0,
            "ticks": ""
           }
          },
          "colorscale": {
           "diverging": [
            [
             0,
             "#8e0152"
            ],
            [
             0.1,
             "#c51b7d"
            ],
            [
             0.2,
             "#de77ae"
            ],
            [
             0.3,
             "#f1b6da"
            ],
            [
             0.4,
             "#fde0ef"
            ],
            [
             0.5,
             "#f7f7f7"
            ],
            [
             0.6,
             "#e6f5d0"
            ],
            [
             0.7,
             "#b8e186"
            ],
            [
             0.8,
             "#7fbc41"
            ],
            [
             0.9,
             "#4d9221"
            ],
            [
             1,
             "#276419"
            ]
           ],
           "sequential": [
            [
             0,
             "#0d0887"
            ],
            [
             0.1111111111111111,
             "#46039f"
            ],
            [
             0.2222222222222222,
             "#7201a8"
            ],
            [
             0.3333333333333333,
             "#9c179e"
            ],
            [
             0.4444444444444444,
             "#bd3786"
            ],
            [
             0.5555555555555556,
             "#d8576b"
            ],
            [
             0.6666666666666666,
             "#ed7953"
            ],
            [
             0.7777777777777778,
             "#fb9f3a"
            ],
            [
             0.8888888888888888,
             "#fdca26"
            ],
            [
             1,
             "#f0f921"
            ]
           ],
           "sequentialminus": [
            [
             0,
             "#0d0887"
            ],
            [
             0.1111111111111111,
             "#46039f"
            ],
            [
             0.2222222222222222,
             "#7201a8"
            ],
            [
             0.3333333333333333,
             "#9c179e"
            ],
            [
             0.4444444444444444,
             "#bd3786"
            ],
            [
             0.5555555555555556,
             "#d8576b"
            ],
            [
             0.6666666666666666,
             "#ed7953"
            ],
            [
             0.7777777777777778,
             "#fb9f3a"
            ],
            [
             0.8888888888888888,
             "#fdca26"
            ],
            [
             1,
             "#f0f921"
            ]
           ]
          },
          "colorway": [
           "#636efa",
           "#EF553B",
           "#00cc96",
           "#ab63fa",
           "#FFA15A",
           "#19d3f3",
           "#FF6692",
           "#B6E880",
           "#FF97FF",
           "#FECB52"
          ],
          "font": {
           "color": "#2a3f5f"
          },
          "geo": {
           "bgcolor": "white",
           "lakecolor": "white",
           "landcolor": "#E5ECF6",
           "showlakes": true,
           "showland": true,
           "subunitcolor": "white"
          },
          "hoverlabel": {
           "align": "left"
          },
          "hovermode": "closest",
          "mapbox": {
           "style": "light"
          },
          "paper_bgcolor": "white",
          "plot_bgcolor": "#E5ECF6",
          "polar": {
           "angularaxis": {
            "gridcolor": "white",
            "linecolor": "white",
            "ticks": ""
           },
           "bgcolor": "#E5ECF6",
           "radialaxis": {
            "gridcolor": "white",
            "linecolor": "white",
            "ticks": ""
           }
          },
          "scene": {
           "xaxis": {
            "backgroundcolor": "#E5ECF6",
            "gridcolor": "white",
            "gridwidth": 2,
            "linecolor": "white",
            "showbackground": true,
            "ticks": "",
            "zerolinecolor": "white"
           },
           "yaxis": {
            "backgroundcolor": "#E5ECF6",
            "gridcolor": "white",
            "gridwidth": 2,
            "linecolor": "white",
            "showbackground": true,
            "ticks": "",
            "zerolinecolor": "white"
           },
           "zaxis": {
            "backgroundcolor": "#E5ECF6",
            "gridcolor": "white",
            "gridwidth": 2,
            "linecolor": "white",
            "showbackground": true,
            "ticks": "",
            "zerolinecolor": "white"
           }
          },
          "shapedefaults": {
           "line": {
            "color": "#2a3f5f"
           }
          },
          "ternary": {
           "aaxis": {
            "gridcolor": "white",
            "linecolor": "white",
            "ticks": ""
           },
           "baxis": {
            "gridcolor": "white",
            "linecolor": "white",
            "ticks": ""
           },
           "bgcolor": "#E5ECF6",
           "caxis": {
            "gridcolor": "white",
            "linecolor": "white",
            "ticks": ""
           }
          },
          "title": {
           "x": 0.05
          },
          "xaxis": {
           "automargin": true,
           "gridcolor": "white",
           "linecolor": "white",
           "ticks": "",
           "title": {
            "standoff": 15
           },
           "zerolinecolor": "white",
           "zerolinewidth": 2
          },
          "yaxis": {
           "automargin": true,
           "gridcolor": "white",
           "linecolor": "white",
           "ticks": "",
           "title": {
            "standoff": 15
           },
           "zerolinecolor": "white",
           "zerolinewidth": 2
          }
         }
        },
        "title": {
         "text": "Зависимость оттока клиентов от признака \n\"Кредитный рейтинг\"",
         "x": 0.5
        },
        "width": 1000,
        "xaxis": {
         "title": {
          "text": "Кредитный рейтинг"
         }
        },
        "yaxis": {
         "title": {
          "text": "Количество клиентов"
         }
        }
       }
      }
     },
     "metadata": {},
     "output_type": "display_data"
    },
    {
     "data": {
      "application/vnd.plotly.v1+json": {
       "config": {
        "plotlyServerURL": "https://plot.ly"
       },
       "data": [
        {
         "marker": {
          "color": "#c91010"
         },
         "name": "Ушедшие",
         "nbinsx": 100,
         "type": "histogram",
         "x": {
          "bdata": "KiosHTomJy0zMRsnKSpCOiAWLixBLiMcHyo0ODAjNB8wOR0YJyw3MikyJiktLys2IS0nMiorLkMoNiciPi4jIiwrMjEoLh4dJycoIi0tJy4mQjEpPTwoKDklLyYrICYlLj0nLyY6PDM4MCMwOz4cMzEvMykuNi0xITMzNS8mOSseHz49Nh8wJyciMC0qLTM+OSgZOCo5KzwxIyQrPD8kMTocOi4cKkUwMikwMUArIDAsLTwrLTMjKCg6LS4nPTMkNC4nJjAqPysrIyIxKjQtKCUtMScqMCgvJiQ0OSgvJCokKR0nIjQ7FT4vOCEjIyUrLTojKSgoMSsyKD0cLjMqITYXLC4sKC4bNyElLiggNC4mNiUrMj4oKyspKDYwNCssMi4pKS4oNyYhLiYpLEkqOzgnKzguHyMiNyk0MS0uMx4rMjIvMEA0LzAoJR81KjEsKzAqMTQmHC45NjIfODYoLhgqLBQjMiM2OyIqNCcmJCQjJRksMzE5LRYtIDgnJCUkLx0sJzctHTAoOCMkJDYaHxYlNTo3NjQoISMvNi48MT4gKy4nOyUYLy0xPyYjHyosKD83JDQmKzcwNhs2ICs5MxI5OTckQTguJTsvOi8uKSMmOCkeHyomOislOCY5QTsyMC0oLy43MjAhKTEuNyo6Iy0qLSc2KykiHDQlKzQoMSkWJzQ9Ki4zLz8pNSQ5JSkfOCUyKDI9NC0oOi4tPSkyMiRHHiYvMzYeJi8YOi0xMCoqKDMsKD4cLB40QCsmJxwuKjgsMCkWMDkfLSYzPT0rKC4sNDUzJjQwLSYwNS0kNDQlNBogNDg5Jic2IScUHykmLSctOC0aLy0tIS8tLR8sKywsKDYrOxweL0ooKDMnITgwPBgwHCcoKSU+MDEjOCM8Ny0xLjIqPCMpQi82Mi05OisyITArNjsrHzkrJxwsPzVHMiY4HC0hIigvKyU6KCUpNx8uKCsvLiA5ISQrKh4eIR0/LikrKlQlKisxIz0oJDxALCIzMi4nKzg5Mi84LjwdLiU0MDdGLyUrKh8sKDQ8ISgxIi4+Mx0bMy4dICUjJiU9LiwaKRs2OjMzHS45MTIoOjwmJS0hODsoRjUyOzQtKUIgLyYxJRsxKC4sIDs8NTs5My4wODAqNB84LScyJR0wNyg2GjQwLD8sNS0rNDsvOTojLzcvNSMTLSgzLzIaKDgjLio+NS4iRCw4HyM0KSwrH0AmHjYuKRgtMDIjLSU7KC0iLispKiZAGDIxJCBGITU4Ji8tLTMgLiwnJSolOjsuIz5ANCRBLjczKjEvLjEtLDw5Mx82Mi0wNS0wODYjKiY1NigtMzElQDsnHyg1NSk0IDQjNSw4GxY2MissMSkzIDswJTwzJCEaKBglKy8pKDcmFy8+NCsrOS4xLygzNUQsJSYiPS4tKTErKic3LTozPDE2JjczLx8dGx8nHhY3ORglJi4xKUQoJSw/MCwiKC8fHDU4LDMzMSotKzsuNzkiNyApOSMvKjM+NCkhJDA2JiwsMDgsKyssLS0nLywtJDAoMEErICsjJiIkOCMmQSUyIzI0KywYJCojPyk0RzwqHj0vLikxLSMxJi0WPSUsJygqNyotMiM8LzMkPhsxIDMxLSguOB41ISg3ITYdLS4vLDA1Ky4pFik1LDkdJzAqMSYjNSUeLTAjITIsLzgnLyUqNCYtGy80IDIaLCw8My8pGikrJTAlLzYdKC0uMC8oIjclLDAxLis0NjchPzI0MTQpQzkcOzcyKi0wNEAuISUjKCwwNzEeNSsnJS8tISAfIikxJywyMDgqLjIxMiMiLScyMzAsLzYmLjdHKBYxJDMyKSofODklMS0nQi46KTIkMjclOTMqNSchMDAmNzImKyw/MjgnGDE0JSk0LTAeMDkjJzA4MTBCNjAkMCchKjc0JywdJy8bLEEZMjYzNTA1LicrRzYzODY1KSYmMyoxHzAxQj83Li03OxwqHi8ZNyk2HxgvPi0sKDk3IC86PCI7LCE1KSQ2OyAnKjgiNio2FTEkJCYZJy04LygjOCYhMCUyOS0kIyErJTI4LDgcRyAgLCxAOikzKiweMSQmNCQsIDQiKCo8LRw8RC87HjUsMicfIT0tLyc8HR0uPjwsIyo6KR4zIyYqNyIsMTJDKzQ2Nys/MhczLjgwLiRELy0tKSYtJEM2PTg2HiQqKic0ODMxMhUcOSkzFx8nJjIlFx84LyEnLjEwMzokJyQ0RCszPCsiHzUhJyMhJxkqMD0sMickLyA9Kjs5Ky8yMiQoNTMyOjohKiUhMSscJCcxICgWOS0iJR03JyU3NTAgPDAdLTokFjQsGigvKSswMS4pHDEoMzoqPChGMC4qKigyNh4jKx4vGD8tKCdBLSkXNSs7KygdLi8wKywjOEMjKjEoMjcjJTMrKi8xLDQlPzw9PiciKR0mNDwkKzEnLiEyKzsmKi4vMSYlMTMoMCQ0NzcaKzYwLyo2Mho0Kig7LzMxKTIvGy83LiFAIDwoNC8kJiI0KCIzJysoMTskLj8jKx0aMzQ0JCclMDwlMTEoKSY2HRoyMzEqPTIjPi8qLisoKzAvOSsuJCg1NT8bNhwpHTQtKTUoITArMC4oLSodLh1IIi4pJiUpEjQpNzshLygsMSgyRyghIjMzJz4vJC0rICUuRRgzKzYxMCcjLiMnMxwwQC4nKyAoNyshPjIwOCYpNzUxMisiLiEsMiouNSQq",
          "dtype": "i1"
         }
        },
        {
         "marker": {
          "color": "#10c938"
         },
         "name": "Лояльные",
         "nbinsx": 100,
         "type": "histogram",
         "x": {
          "bdata": "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",
          "dtype": "i1"
         }
        }
       ],
       "layout": {
        "autosize": false,
        "height": 620,
        "template": {
         "data": {
          "bar": [
           {
            "error_x": {
             "color": "#2a3f5f"
            },
            "error_y": {
             "color": "#2a3f5f"
            },
            "marker": {
             "line": {
              "color": "#E5ECF6",
              "width": 0.5
             },
             "pattern": {
              "fillmode": "overlay",
              "size": 10,
              "solidity": 0.2
             }
            },
            "type": "bar"
           }
          ],
          "barpolar": [
           {
            "marker": {
             "line": {
              "color": "#E5ECF6",
              "width": 0.5
             },
             "pattern": {
              "fillmode": "overlay",
              "size": 10,
              "solidity": 0.2
             }
            },
            "type": "barpolar"
           }
          ],
          "carpet": [
           {
            "aaxis": {
             "endlinecolor": "#2a3f5f",
             "gridcolor": "white",
             "linecolor": "white",
             "minorgridcolor": "white",
             "startlinecolor": "#2a3f5f"
            },
            "baxis": {
             "endlinecolor": "#2a3f5f",
             "gridcolor": "white",
             "linecolor": "white",
             "minorgridcolor": "white",
             "startlinecolor": "#2a3f5f"
            },
            "type": "carpet"
           }
          ],
          "choropleth": [
           {
            "colorbar": {
             "outlinewidth": 0,
             "ticks": ""
            },
            "type": "choropleth"
           }
          ],
          "contour": [
           {
            "colorbar": {
             "outlinewidth": 0,
             "ticks": ""
            },
            "colorscale": [
             [
              0,
              "#0d0887"
             ],
             [
              0.1111111111111111,
              "#46039f"
             ],
             [
              0.2222222222222222,
              "#7201a8"
             ],
             [
              0.3333333333333333,
              "#9c179e"
             ],
             [
              0.4444444444444444,
              "#bd3786"
             ],
             [
              0.5555555555555556,
              "#d8576b"
             ],
             [
              0.6666666666666666,
              "#ed7953"
             ],
             [
              0.7777777777777778,
              "#fb9f3a"
             ],
             [
              0.8888888888888888,
              "#fdca26"
             ],
             [
              1,
              "#f0f921"
             ]
            ],
            "type": "contour"
           }
          ],
          "contourcarpet": [
           {
            "colorbar": {
             "outlinewidth": 0,
             "ticks": ""
            },
            "type": "contourcarpet"
           }
          ],
          "heatmap": [
           {
            "colorbar": {
             "outlinewidth": 0,
             "ticks": ""
            },
            "colorscale": [
             [
              0,
              "#0d0887"
             ],
             [
              0.1111111111111111,
              "#46039f"
             ],
             [
              0.2222222222222222,
              "#7201a8"
             ],
             [
              0.3333333333333333,
              "#9c179e"
             ],
             [
              0.4444444444444444,
              "#bd3786"
             ],
             [
              0.5555555555555556,
              "#d8576b"
             ],
             [
              0.6666666666666666,
              "#ed7953"
             ],
             [
              0.7777777777777778,
              "#fb9f3a"
             ],
             [
              0.8888888888888888,
              "#fdca26"
             ],
             [
              1,
              "#f0f921"
             ]
            ],
            "type": "heatmap"
           }
          ],
          "histogram": [
           {
            "marker": {
             "pattern": {
              "fillmode": "overlay",
              "size": 10,
              "solidity": 0.2
             }
            },
            "type": "histogram"
           }
          ],
          "histogram2d": [
           {
            "colorbar": {
             "outlinewidth": 0,
             "ticks": ""
            },
            "colorscale": [
             [
              0,
              "#0d0887"
             ],
             [
              0.1111111111111111,
              "#46039f"
             ],
             [
              0.2222222222222222,
              "#7201a8"
             ],
             [
              0.3333333333333333,
              "#9c179e"
             ],
             [
              0.4444444444444444,
              "#bd3786"
             ],
             [
              0.5555555555555556,
              "#d8576b"
             ],
             [
              0.6666666666666666,
              "#ed7953"
             ],
             [
              0.7777777777777778,
              "#fb9f3a"
             ],
             [
              0.8888888888888888,
              "#fdca26"
             ],
             [
              1,
              "#f0f921"
             ]
            ],
            "type": "histogram2d"
           }
          ],
          "histogram2dcontour": [
           {
            "colorbar": {
             "outlinewidth": 0,
             "ticks": ""
            },
            "colorscale": [
             [
              0,
              "#0d0887"
             ],
             [
              0.1111111111111111,
              "#46039f"
             ],
             [
              0.2222222222222222,
              "#7201a8"
             ],
             [
              0.3333333333333333,
              "#9c179e"
             ],
             [
              0.4444444444444444,
              "#bd3786"
             ],
             [
              0.5555555555555556,
              "#d8576b"
             ],
             [
              0.6666666666666666,
              "#ed7953"
             ],
             [
              0.7777777777777778,
              "#fb9f3a"
             ],
             [
              0.8888888888888888,
              "#fdca26"
             ],
             [
              1,
              "#f0f921"
             ]
            ],
            "type": "histogram2dcontour"
           }
          ],
          "mesh3d": [
           {
            "colorbar": {
             "outlinewidth": 0,
             "ticks": ""
            },
            "type": "mesh3d"
           }
          ],
          "parcoords": [
           {
            "line": {
             "colorbar": {
              "outlinewidth": 0,
              "ticks": ""
             }
            },
            "type": "parcoords"
           }
          ],
          "pie": [
           {
            "automargin": true,
            "type": "pie"
           }
          ],
          "scatter": [
           {
            "fillpattern": {
             "fillmode": "overlay",
             "size": 10,
             "solidity": 0.2
            },
            "type": "scatter"
           }
          ],
          "scatter3d": [
           {
            "line": {
             "colorbar": {
              "outlinewidth": 0,
              "ticks": ""
             }
            },
            "marker": {
             "colorbar": {
              "outlinewidth": 0,
              "ticks": ""
             }
            },
            "type": "scatter3d"
           }
          ],
          "scattercarpet": [
           {
            "marker": {
             "colorbar": {
              "outlinewidth": 0,
              "ticks": ""
             }
            },
            "type": "scattercarpet"
           }
          ],
          "scattergeo": [
           {
            "marker": {
             "colorbar": {
              "outlinewidth": 0,
              "ticks": ""
             }
            },
            "type": "scattergeo"
           }
          ],
          "scattergl": [
           {
            "marker": {
             "colorbar": {
              "outlinewidth": 0,
              "ticks": ""
             }
            },
            "type": "scattergl"
           }
          ],
          "scattermap": [
           {
            "marker": {
             "colorbar": {
              "outlinewidth": 0,
              "ticks": ""
             }
            },
            "type": "scattermap"
           }
          ],
          "scattermapbox": [
           {
            "marker": {
             "colorbar": {
              "outlinewidth": 0,
              "ticks": ""
             }
            },
            "type": "scattermapbox"
           }
          ],
          "scatterpolar": [
           {
            "marker": {
             "colorbar": {
              "outlinewidth": 0,
              "ticks": ""
             }
            },
            "type": "scatterpolar"
           }
          ],
          "scatterpolargl": [
           {
            "marker": {
             "colorbar": {
              "outlinewidth": 0,
              "ticks": ""
             }
            },
            "type": "scatterpolargl"
           }
          ],
          "scatterternary": [
           {
            "marker": {
             "colorbar": {
              "outlinewidth": 0,
              "ticks": ""
             }
            },
            "type": "scatterternary"
           }
          ],
          "surface": [
           {
            "colorbar": {
             "outlinewidth": 0,
             "ticks": ""
            },
            "colorscale": [
             [
              0,
              "#0d0887"
             ],
             [
              0.1111111111111111,
              "#46039f"
             ],
             [
              0.2222222222222222,
              "#7201a8"
             ],
             [
              0.3333333333333333,
              "#9c179e"
             ],
             [
              0.4444444444444444,
              "#bd3786"
             ],
             [
              0.5555555555555556,
              "#d8576b"
             ],
             [
              0.6666666666666666,
              "#ed7953"
             ],
             [
              0.7777777777777778,
              "#fb9f3a"
             ],
             [
              0.8888888888888888,
              "#fdca26"
             ],
             [
              1,
              "#f0f921"
             ]
            ],
            "type": "surface"
           }
          ],
          "table": [
           {
            "cells": {
             "fill": {
              "color": "#EBF0F8"
             },
             "line": {
              "color": "white"
             }
            },
            "header": {
             "fill": {
              "color": "#C8D4E3"
             },
             "line": {
              "color": "white"
             }
            },
            "type": "table"
           }
          ]
         },
         "layout": {
          "annotationdefaults": {
           "arrowcolor": "#2a3f5f",
           "arrowhead": 0,
           "arrowwidth": 1
          },
          "autotypenumbers": "strict",
          "coloraxis": {
           "colorbar": {
            "outlinewidth": 0,
            "ticks": ""
           }
          },
          "colorscale": {
           "diverging": [
            [
             0,
             "#8e0152"
            ],
            [
             0.1,
             "#c51b7d"
            ],
            [
             0.2,
             "#de77ae"
            ],
            [
             0.3,
             "#f1b6da"
            ],
            [
             0.4,
             "#fde0ef"
            ],
            [
             0.5,
             "#f7f7f7"
            ],
            [
             0.6,
             "#e6f5d0"
            ],
            [
             0.7,
             "#b8e186"
            ],
            [
             0.8,
             "#7fbc41"
            ],
            [
             0.9,
             "#4d9221"
            ],
            [
             1,
             "#276419"
            ]
           ],
           "sequential": [
            [
             0,
             "#0d0887"
            ],
            [
             0.1111111111111111,
             "#46039f"
            ],
            [
             0.2222222222222222,
             "#7201a8"
            ],
            [
             0.3333333333333333,
             "#9c179e"
            ],
            [
             0.4444444444444444,
             "#bd3786"
            ],
            [
             0.5555555555555556,
             "#d8576b"
            ],
            [
             0.6666666666666666,
             "#ed7953"
            ],
            [
             0.7777777777777778,
             "#fb9f3a"
            ],
            [
             0.8888888888888888,
             "#fdca26"
            ],
            [
             1,
             "#f0f921"
            ]
           ],
           "sequentialminus": [
            [
             0,
             "#0d0887"
            ],
            [
             0.1111111111111111,
             "#46039f"
            ],
            [
             0.2222222222222222,
             "#7201a8"
            ],
            [
             0.3333333333333333,
             "#9c179e"
            ],
            [
             0.4444444444444444,
             "#bd3786"
            ],
            [
             0.5555555555555556,
             "#d8576b"
            ],
            [
             0.6666666666666666,
             "#ed7953"
            ],
            [
             0.7777777777777778,
             "#fb9f3a"
            ],
            [
             0.8888888888888888,
             "#fdca26"
            ],
            [
             1,
             "#f0f921"
            ]
           ]
          },
          "colorway": [
           "#636efa",
           "#EF553B",
           "#00cc96",
           "#ab63fa",
           "#FFA15A",
           "#19d3f3",
           "#FF6692",
           "#B6E880",
           "#FF97FF",
           "#FECB52"
          ],
          "font": {
           "color": "#2a3f5f"
          },
          "geo": {
           "bgcolor": "white",
           "lakecolor": "white",
           "landcolor": "#E5ECF6",
           "showlakes": true,
           "showland": true,
           "subunitcolor": "white"
          },
          "hoverlabel": {
           "align": "left"
          },
          "hovermode": "closest",
          "mapbox": {
           "style": "light"
          },
          "paper_bgcolor": "white",
          "plot_bgcolor": "#E5ECF6",
          "polar": {
           "angularaxis": {
            "gridcolor": "white",
            "linecolor": "white",
            "ticks": ""
           },
           "bgcolor": "#E5ECF6",
           "radialaxis": {
            "gridcolor": "white",
            "linecolor": "white",
            "ticks": ""
           }
          },
          "scene": {
           "xaxis": {
            "backgroundcolor": "#E5ECF6",
            "gridcolor": "white",
            "gridwidth": 2,
            "linecolor": "white",
            "showbackground": true,
            "ticks": "",
            "zerolinecolor": "white"
           },
           "yaxis": {
            "backgroundcolor": "#E5ECF6",
            "gridcolor": "white",
            "gridwidth": 2,
            "linecolor": "white",
            "showbackground": true,
            "ticks": "",
            "zerolinecolor": "white"
           },
           "zaxis": {
            "backgroundcolor": "#E5ECF6",
            "gridcolor": "white",
            "gridwidth": 2,
            "linecolor": "white",
            "showbackground": true,
            "ticks": "",
            "zerolinecolor": "white"
           }
          },
          "shapedefaults": {
           "line": {
            "color": "#2a3f5f"
           }
          },
          "ternary": {
           "aaxis": {
            "gridcolor": "white",
            "linecolor": "white",
            "ticks": ""
           },
           "baxis": {
            "gridcolor": "white",
            "linecolor": "white",
            "ticks": ""
           },
           "bgcolor": "#E5ECF6",
           "caxis": {
            "gridcolor": "white",
            "linecolor": "white",
            "ticks": ""
           }
          },
          "title": {
           "x": 0.05
          },
          "xaxis": {
           "automargin": true,
           "gridcolor": "white",
           "linecolor": "white",
           "ticks": "",
           "title": {
            "standoff": 15
           },
           "zerolinecolor": "white",
           "zerolinewidth": 2
          },
          "yaxis": {
           "automargin": true,
           "gridcolor": "white",
           "linecolor": "white",
           "ticks": "",
           "title": {
            "standoff": 15
           },
           "zerolinecolor": "white",
           "zerolinewidth": 2
          }
         }
        },
        "title": {
         "text": "Зависимость оттока клиентов от признака \n\"Возраст\"",
         "x": 0.5
        },
        "width": 1000,
        "xaxis": {
         "title": {
          "text": "Возраст"
         }
        },
        "yaxis": {
         "title": {
          "text": "Количество клиентов"
         }
        }
       }
      }
     },
     "metadata": {},
     "output_type": "display_data"
    },
    {
     "data": {
      "application/vnd.plotly.v1+json": {
       "config": {
        "plotlyServerURL": "https://plot.ly"
       },
       "data": [
        {
         "marker": {
          "color": "#c91010"
         },
         "name": "Ушедшие",
         "nbinsx": 100,
         "type": "histogram",
         "x": {
          "bdata": "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",
          "dtype": "f8"
         }
        },
        {
         "marker": {
          "color": "#10c938"
         },
         "name": "Лояльные",
         "nbinsx": 100,
         "type": "histogram",
         "x": {
          "bdata": "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",
          "dtype": "f8"
         }
        }
       ],
       "layout": {
        "autosize": false,
        "height": 620,
        "template": {
         "data": {
          "bar": [
           {
            "error_x": {
             "color": "#2a3f5f"
            },
            "error_y": {
             "color": "#2a3f5f"
            },
            "marker": {
             "line": {
              "color": "#E5ECF6",
              "width": 0.5
             },
             "pattern": {
              "fillmode": "overlay",
              "size": 10,
              "solidity": 0.2
             }
            },
            "type": "bar"
           }
          ],
          "barpolar": [
           {
            "marker": {
             "line": {
              "color": "#E5ECF6",
              "width": 0.5
             },
             "pattern": {
              "fillmode": "overlay",
              "size": 10,
              "solidity": 0.2
             }
            },
            "type": "barpolar"
           }
          ],
          "carpet": [
           {
            "aaxis": {
             "endlinecolor": "#2a3f5f",
             "gridcolor": "white",
             "linecolor": "white",
             "minorgridcolor": "white",
             "startlinecolor": "#2a3f5f"
            },
            "baxis": {
             "endlinecolor": "#2a3f5f",
             "gridcolor": "white",
             "linecolor": "white",
             "minorgridcolor": "white",
             "startlinecolor": "#2a3f5f"
            },
            "type": "carpet"
           }
          ],
          "choropleth": [
           {
            "colorbar": {
             "outlinewidth": 0,
             "ticks": ""
            },
            "type": "choropleth"
           }
          ],
          "contour": [
           {
            "colorbar": {
             "outlinewidth": 0,
             "ticks": ""
            },
            "colorscale": [
             [
              0,
              "#0d0887"
             ],
             [
              0.1111111111111111,
              "#46039f"
             ],
             [
              0.2222222222222222,
              "#7201a8"
             ],
             [
              0.3333333333333333,
              "#9c179e"
             ],
             [
              0.4444444444444444,
              "#bd3786"
             ],
             [
              0.5555555555555556,
              "#d8576b"
             ],
             [
              0.6666666666666666,
              "#ed7953"
             ],
             [
              0.7777777777777778,
              "#fb9f3a"
             ],
             [
              0.8888888888888888,
              "#fdca26"
             ],
             [
              1,
              "#f0f921"
             ]
            ],
            "type": "contour"
           }
          ],
          "contourcarpet": [
           {
            "colorbar": {
             "outlinewidth": 0,
             "ticks": ""
            },
            "type": "contourcarpet"
           }
          ],
          "heatmap": [
           {
            "colorbar": {
             "outlinewidth": 0,
             "ticks": ""
            },
            "colorscale": [
             [
              0,
              "#0d0887"
             ],
             [
              0.1111111111111111,
              "#46039f"
             ],
             [
              0.2222222222222222,
              "#7201a8"
             ],
             [
              0.3333333333333333,
              "#9c179e"
             ],
             [
              0.4444444444444444,
              "#bd3786"
             ],
             [
              0.5555555555555556,
              "#d8576b"
             ],
             [
              0.6666666666666666,
              "#ed7953"
             ],
             [
              0.7777777777777778,
              "#fb9f3a"
             ],
             [
              0.8888888888888888,
              "#fdca26"
             ],
             [
              1,
              "#f0f921"
             ]
            ],
            "type": "heatmap"
           }
          ],
          "histogram": [
           {
            "marker": {
             "pattern": {
              "fillmode": "overlay",
              "size": 10,
              "solidity": 0.2
             }
            },
            "type": "histogram"
           }
          ],
          "histogram2d": [
           {
            "colorbar": {
             "outlinewidth": 0,
             "ticks": ""
            },
            "colorscale": [
             [
              0,
              "#0d0887"
             ],
             [
              0.1111111111111111,
              "#46039f"
             ],
             [
              0.2222222222222222,
              "#7201a8"
             ],
             [
              0.3333333333333333,
              "#9c179e"
             ],
             [
              0.4444444444444444,
              "#bd3786"
             ],
             [
              0.5555555555555556,
              "#d8576b"
             ],
             [
              0.6666666666666666,
              "#ed7953"
             ],
             [
              0.7777777777777778,
              "#fb9f3a"
             ],
             [
              0.8888888888888888,
              "#fdca26"
             ],
             [
              1,
              "#f0f921"
             ]
            ],
            "type": "histogram2d"
           }
          ],
          "histogram2dcontour": [
           {
            "colorbar": {
             "outlinewidth": 0,
             "ticks": ""
            },
            "colorscale": [
             [
              0,
              "#0d0887"
             ],
             [
              0.1111111111111111,
              "#46039f"
             ],
             [
              0.2222222222222222,
              "#7201a8"
             ],
             [
              0.3333333333333333,
              "#9c179e"
             ],
             [
              0.4444444444444444,
              "#bd3786"
             ],
             [
              0.5555555555555556,
              "#d8576b"
             ],
             [
              0.6666666666666666,
              "#ed7953"
             ],
             [
              0.7777777777777778,
              "#fb9f3a"
             ],
             [
              0.8888888888888888,
              "#fdca26"
             ],
             [
              1,
              "#f0f921"
             ]
            ],
            "type": "histogram2dcontour"
           }
          ],
          "mesh3d": [
           {
            "colorbar": {
             "outlinewidth": 0,
             "ticks": ""
            },
            "type": "mesh3d"
           }
          ],
          "parcoords": [
           {
            "line": {
             "colorbar": {
              "outlinewidth": 0,
              "ticks": ""
             }
            },
            "type": "parcoords"
           }
          ],
          "pie": [
           {
            "automargin": true,
            "type": "pie"
           }
          ],
          "scatter": [
           {
            "fillpattern": {
             "fillmode": "overlay",
             "size": 10,
             "solidity": 0.2
            },
            "type": "scatter"
           }
          ],
          "scatter3d": [
           {
            "line": {
             "colorbar": {
              "outlinewidth": 0,
              "ticks": ""
             }
            },
            "marker": {
             "colorbar": {
              "outlinewidth": 0,
              "ticks": ""
             }
            },
            "type": "scatter3d"
           }
          ],
          "scattercarpet": [
           {
            "marker": {
             "colorbar": {
              "outlinewidth": 0,
              "ticks": ""
             }
            },
            "type": "scattercarpet"
           }
          ],
          "scattergeo": [
           {
            "marker": {
             "colorbar": {
              "outlinewidth": 0,
              "ticks": ""
             }
            },
            "type": "scattergeo"
           }
          ],
          "scattergl": [
           {
            "marker": {
             "colorbar": {
              "outlinewidth": 0,
              "ticks": ""
             }
            },
            "type": "scattergl"
           }
          ],
          "scattermap": [
           {
            "marker": {
             "colorbar": {
              "outlinewidth": 0,
              "ticks": ""
             }
            },
            "type": "scattermap"
           }
          ],
          "scattermapbox": [
           {
            "marker": {
             "colorbar": {
              "outlinewidth": 0,
              "ticks": ""
             }
            },
            "type": "scattermapbox"
           }
          ],
          "scatterpolar": [
           {
            "marker": {
             "colorbar": {
              "outlinewidth": 0,
              "ticks": ""
             }
            },
            "type": "scatterpolar"
           }
          ],
          "scatterpolargl": [
           {
            "marker": {
             "colorbar": {
              "outlinewidth": 0,
              "ticks": ""
             }
            },
            "type": "scatterpolargl"
           }
          ],
          "scatterternary": [
           {
            "marker": {
             "colorbar": {
              "outlinewidth": 0,
              "ticks": ""
             }
            },
            "type": "scatterternary"
           }
          ],
          "surface": [
           {
            "colorbar": {
             "outlinewidth": 0,
             "ticks": ""
            },
            "colorscale": [
             [
              0,
              "#0d0887"
             ],
             [
              0.1111111111111111,
              "#46039f"
             ],
             [
              0.2222222222222222,
              "#7201a8"
             ],
             [
              0.3333333333333333,
              "#9c179e"
             ],
             [
              0.4444444444444444,
              "#bd3786"
             ],
             [
              0.5555555555555556,
              "#d8576b"
             ],
             [
              0.6666666666666666,
              "#ed7953"
             ],
             [
              0.7777777777777778,
              "#fb9f3a"
             ],
             [
              0.8888888888888888,
              "#fdca26"
             ],
             [
              1,
              "#f0f921"
             ]
            ],
            "type": "surface"
           }
          ],
          "table": [
           {
            "cells": {
             "fill": {
              "color": "#EBF0F8"
             },
             "line": {
              "color": "white"
             }
            },
            "header": {
             "fill": {
              "color": "#C8D4E3"
             },
             "line": {
              "color": "white"
             }
            },
            "type": "table"
           }
          ]
         },
         "layout": {
          "annotationdefaults": {
           "arrowcolor": "#2a3f5f",
           "arrowhead": 0,
           "arrowwidth": 1
          },
          "autotypenumbers": "strict",
          "coloraxis": {
           "colorbar": {
            "outlinewidth": 0,
            "ticks": ""
           }
          },
          "colorscale": {
           "diverging": [
            [
             0,
             "#8e0152"
            ],
            [
             0.1,
             "#c51b7d"
            ],
            [
             0.2,
             "#de77ae"
            ],
            [
             0.3,
             "#f1b6da"
            ],
            [
             0.4,
             "#fde0ef"
            ],
            [
             0.5,
             "#f7f7f7"
            ],
            [
             0.6,
             "#e6f5d0"
            ],
            [
             0.7,
             "#b8e186"
            ],
            [
             0.8,
             "#7fbc41"
            ],
            [
             0.9,
             "#4d9221"
            ],
            [
             1,
             "#276419"
            ]
           ],
           "sequential": [
            [
             0,
             "#0d0887"
            ],
            [
             0.1111111111111111,
             "#46039f"
            ],
            [
             0.2222222222222222,
             "#7201a8"
            ],
            [
             0.3333333333333333,
             "#9c179e"
            ],
            [
             0.4444444444444444,
             "#bd3786"
            ],
            [
             0.5555555555555556,
             "#d8576b"
            ],
            [
             0.6666666666666666,
             "#ed7953"
            ],
            [
             0.7777777777777778,
             "#fb9f3a"
            ],
            [
             0.8888888888888888,
             "#fdca26"
            ],
            [
             1,
             "#f0f921"
            ]
           ],
           "sequentialminus": [
            [
             0,
             "#0d0887"
            ],
            [
             0.1111111111111111,
             "#46039f"
            ],
            [
             0.2222222222222222,
             "#7201a8"
            ],
            [
             0.3333333333333333,
             "#9c179e"
            ],
            [
             0.4444444444444444,
             "#bd3786"
            ],
            [
             0.5555555555555556,
             "#d8576b"
            ],
            [
             0.6666666666666666,
             "#ed7953"
            ],
            [
             0.7777777777777778,
             "#fb9f3a"
            ],
            [
             0.8888888888888888,
             "#fdca26"
            ],
            [
             1,
             "#f0f921"
            ]
           ]
          },
          "colorway": [
           "#636efa",
           "#EF553B",
           "#00cc96",
           "#ab63fa",
           "#FFA15A",
           "#19d3f3",
           "#FF6692",
           "#B6E880",
           "#FF97FF",
           "#FECB52"
          ],
          "font": {
           "color": "#2a3f5f"
          },
          "geo": {
           "bgcolor": "white",
           "lakecolor": "white",
           "landcolor": "#E5ECF6",
           "showlakes": true,
           "showland": true,
           "subunitcolor": "white"
          },
          "hoverlabel": {
           "align": "left"
          },
          "hovermode": "closest",
          "mapbox": {
           "style": "light"
          },
          "paper_bgcolor": "white",
          "plot_bgcolor": "#E5ECF6",
          "polar": {
           "angularaxis": {
            "gridcolor": "white",
            "linecolor": "white",
            "ticks": ""
           },
           "bgcolor": "#E5ECF6",
           "radialaxis": {
            "gridcolor": "white",
            "linecolor": "white",
            "ticks": ""
           }
          },
          "scene": {
           "xaxis": {
            "backgroundcolor": "#E5ECF6",
            "gridcolor": "white",
            "gridwidth": 2,
            "linecolor": "white",
            "showbackground": true,
            "ticks": "",
            "zerolinecolor": "white"
           },
           "yaxis": {
            "backgroundcolor": "#E5ECF6",
            "gridcolor": "white",
            "gridwidth": 2,
            "linecolor": "white",
            "showbackground": true,
            "ticks": "",
            "zerolinecolor": "white"
           },
           "zaxis": {
            "backgroundcolor": "#E5ECF6",
            "gridcolor": "white",
            "gridwidth": 2,
            "linecolor": "white",
            "showbackground": true,
            "ticks": "",
            "zerolinecolor": "white"
           }
          },
          "shapedefaults": {
           "line": {
            "color": "#2a3f5f"
           }
          },
          "ternary": {
           "aaxis": {
            "gridcolor": "white",
            "linecolor": "white",
            "ticks": ""
           },
           "baxis": {
            "gridcolor": "white",
            "linecolor": "white",
            "ticks": ""
           },
           "bgcolor": "#E5ECF6",
           "caxis": {
            "gridcolor": "white",
            "linecolor": "white",
            "ticks": ""
           }
          },
          "title": {
           "x": 0.05
          },
          "xaxis": {
           "automargin": true,
           "gridcolor": "white",
           "linecolor": "white",
           "ticks": "",
           "title": {
            "standoff": 15
           },
           "zerolinecolor": "white",
           "zerolinewidth": 2
          },
          "yaxis": {
           "automargin": true,
           "gridcolor": "white",
           "linecolor": "white",
           "ticks": "",
           "title": {
            "standoff": 15
           },
           "zerolinecolor": "white",
           "zerolinewidth": 2
          }
         }
        },
        "title": {
         "text": "Зависимость оттока клиентов от признака \n\"Суммарный баланс счетов\"",
         "x": 0.5
        },
        "width": 1000,
        "xaxis": {
         "title": {
          "text": "Суммарный баланс счетов"
         }
        },
        "yaxis": {
         "title": {
          "text": "Количество клиентов"
         }
        }
       }
      }
     },
     "metadata": {},
     "output_type": "display_data"
    },
    {
     "data": {
      "application/vnd.plotly.v1+json": {
       "config": {
        "plotlyServerURL": "https://plot.ly"
       },
       "data": [
        {
         "marker": {
          "color": "#c91010"
         },
         "name": "Ушедшие",
         "nbinsx": 100,
         "type": "histogram",
         "x": {
          "bdata": "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",
          "dtype": "f8"
         }
        },
        {
         "marker": {
          "color": "#10c938"
         },
         "name": "Лояльные",
         "nbinsx": 100,
         "type": "histogram",
         "x": {
          "bdata": "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",
          "dtype": "f8"
         }
        }
       ],
       "layout": {
        "autosize": false,
        "height": 620,
        "template": {
         "data": {
          "bar": [
           {
            "error_x": {
             "color": "#2a3f5f"
            },
            "error_y": {
             "color": "#2a3f5f"
            },
            "marker": {
             "line": {
              "color": "#E5ECF6",
              "width": 0.5
             },
             "pattern": {
              "fillmode": "overlay",
              "size": 10,
              "solidity": 0.2
             }
            },
            "type": "bar"
           }
          ],
          "barpolar": [
           {
            "marker": {
             "line": {
              "color": "#E5ECF6",
              "width": 0.5
             },
             "pattern": {
              "fillmode": "overlay",
              "size": 10,
              "solidity": 0.2
             }
            },
            "type": "barpolar"
           }
          ],
          "carpet": [
           {
            "aaxis": {
             "endlinecolor": "#2a3f5f",
             "gridcolor": "white",
             "linecolor": "white",
             "minorgridcolor": "white",
             "startlinecolor": "#2a3f5f"
            },
            "baxis": {
             "endlinecolor": "#2a3f5f",
             "gridcolor": "white",
             "linecolor": "white",
             "minorgridcolor": "white",
             "startlinecolor": "#2a3f5f"
            },
            "type": "carpet"
           }
          ],
          "choropleth": [
           {
            "colorbar": {
             "outlinewidth": 0,
             "ticks": ""
            },
            "type": "choropleth"
           }
          ],
          "contour": [
           {
            "colorbar": {
             "outlinewidth": 0,
             "ticks": ""
            },
            "colorscale": [
             [
              0,
              "#0d0887"
             ],
             [
              0.1111111111111111,
              "#46039f"
             ],
             [
              0.2222222222222222,
              "#7201a8"
             ],
             [
              0.3333333333333333,
              "#9c179e"
             ],
             [
              0.4444444444444444,
              "#bd3786"
             ],
             [
              0.5555555555555556,
              "#d8576b"
             ],
             [
              0.6666666666666666,
              "#ed7953"
             ],
             [
              0.7777777777777778,
              "#fb9f3a"
             ],
             [
              0.8888888888888888,
              "#fdca26"
             ],
             [
              1,
              "#f0f921"
             ]
            ],
            "type": "contour"
           }
          ],
          "contourcarpet": [
           {
            "colorbar": {
             "outlinewidth": 0,
             "ticks": ""
            },
            "type": "contourcarpet"
           }
          ],
          "heatmap": [
           {
            "colorbar": {
             "outlinewidth": 0,
             "ticks": ""
            },
            "colorscale": [
             [
              0,
              "#0d0887"
             ],
             [
              0.1111111111111111,
              "#46039f"
             ],
             [
              0.2222222222222222,
              "#7201a8"
             ],
             [
              0.3333333333333333,
              "#9c179e"
             ],
             [
              0.4444444444444444,
              "#bd3786"
             ],
             [
              0.5555555555555556,
              "#d8576b"
             ],
             [
              0.6666666666666666,
              "#ed7953"
             ],
             [
              0.7777777777777778,
              "#fb9f3a"
             ],
             [
              0.8888888888888888,
              "#fdca26"
             ],
             [
              1,
              "#f0f921"
             ]
            ],
            "type": "heatmap"
           }
          ],
          "histogram": [
           {
            "marker": {
             "pattern": {
              "fillmode": "overlay",
              "size": 10,
              "solidity": 0.2
             }
            },
            "type": "histogram"
           }
          ],
          "histogram2d": [
           {
            "colorbar": {
             "outlinewidth": 0,
             "ticks": ""
            },
            "colorscale": [
             [
              0,
              "#0d0887"
             ],
             [
              0.1111111111111111,
              "#46039f"
             ],
             [
              0.2222222222222222,
              "#7201a8"
             ],
             [
              0.3333333333333333,
              "#9c179e"
             ],
             [
              0.4444444444444444,
              "#bd3786"
             ],
             [
              0.5555555555555556,
              "#d8576b"
             ],
             [
              0.6666666666666666,
              "#ed7953"
             ],
             [
              0.7777777777777778,
              "#fb9f3a"
             ],
             [
              0.8888888888888888,
              "#fdca26"
             ],
             [
              1,
              "#f0f921"
             ]
            ],
            "type": "histogram2d"
           }
          ],
          "histogram2dcontour": [
           {
            "colorbar": {
             "outlinewidth": 0,
             "ticks": ""
            },
            "colorscale": [
             [
              0,
              "#0d0887"
             ],
             [
              0.1111111111111111,
              "#46039f"
             ],
             [
              0.2222222222222222,
              "#7201a8"
             ],
             [
              0.3333333333333333,
              "#9c179e"
             ],
             [
              0.4444444444444444,
              "#bd3786"
             ],
             [
              0.5555555555555556,
              "#d8576b"
             ],
             [
              0.6666666666666666,
              "#ed7953"
             ],
             [
              0.7777777777777778,
              "#fb9f3a"
             ],
             [
              0.8888888888888888,
              "#fdca26"
             ],
             [
              1,
              "#f0f921"
             ]
            ],
            "type": "histogram2dcontour"
           }
          ],
          "mesh3d": [
           {
            "colorbar": {
             "outlinewidth": 0,
             "ticks": ""
            },
            "type": "mesh3d"
           }
          ],
          "parcoords": [
           {
            "line": {
             "colorbar": {
              "outlinewidth": 0,
              "ticks": ""
             }
            },
            "type": "parcoords"
           }
          ],
          "pie": [
           {
            "automargin": true,
            "type": "pie"
           }
          ],
          "scatter": [
           {
            "fillpattern": {
             "fillmode": "overlay",
             "size": 10,
             "solidity": 0.2
            },
            "type": "scatter"
           }
          ],
          "scatter3d": [
           {
            "line": {
             "colorbar": {
              "outlinewidth": 0,
              "ticks": ""
             }
            },
            "marker": {
             "colorbar": {
              "outlinewidth": 0,
              "ticks": ""
             }
            },
            "type": "scatter3d"
           }
          ],
          "scattercarpet": [
           {
            "marker": {
             "colorbar": {
              "outlinewidth": 0,
              "ticks": ""
             }
            },
            "type": "scattercarpet"
           }
          ],
          "scattergeo": [
           {
            "marker": {
             "colorbar": {
              "outlinewidth": 0,
              "ticks": ""
             }
            },
            "type": "scattergeo"
           }
          ],
          "scattergl": [
           {
            "marker": {
             "colorbar": {
              "outlinewidth": 0,
              "ticks": ""
             }
            },
            "type": "scattergl"
           }
          ],
          "scattermap": [
           {
            "marker": {
             "colorbar": {
              "outlinewidth": 0,
              "ticks": ""
             }
            },
            "type": "scattermap"
           }
          ],
          "scattermapbox": [
           {
            "marker": {
             "colorbar": {
              "outlinewidth": 0,
              "ticks": ""
             }
            },
            "type": "scattermapbox"
           }
          ],
          "scatterpolar": [
           {
            "marker": {
             "colorbar": {
              "outlinewidth": 0,
              "ticks": ""
             }
            },
            "type": "scatterpolar"
           }
          ],
          "scatterpolargl": [
           {
            "marker": {
             "colorbar": {
              "outlinewidth": 0,
              "ticks": ""
             }
            },
            "type": "scatterpolargl"
           }
          ],
          "scatterternary": [
           {
            "marker": {
             "colorbar": {
              "outlinewidth": 0,
              "ticks": ""
             }
            },
            "type": "scatterternary"
           }
          ],
          "surface": [
           {
            "colorbar": {
             "outlinewidth": 0,
             "ticks": ""
            },
            "colorscale": [
             [
              0,
              "#0d0887"
             ],
             [
              0.1111111111111111,
              "#46039f"
             ],
             [
              0.2222222222222222,
              "#7201a8"
             ],
             [
              0.3333333333333333,
              "#9c179e"
             ],
             [
              0.4444444444444444,
              "#bd3786"
             ],
             [
              0.5555555555555556,
              "#d8576b"
             ],
             [
              0.6666666666666666,
              "#ed7953"
             ],
             [
              0.7777777777777778,
              "#fb9f3a"
             ],
             [
              0.8888888888888888,
              "#fdca26"
             ],
             [
              1,
              "#f0f921"
             ]
            ],
            "type": "surface"
           }
          ],
          "table": [
           {
            "cells": {
             "fill": {
              "color": "#EBF0F8"
             },
             "line": {
              "color": "white"
             }
            },
            "header": {
             "fill": {
              "color": "#C8D4E3"
             },
             "line": {
              "color": "white"
             }
            },
            "type": "table"
           }
          ]
         },
         "layout": {
          "annotationdefaults": {
           "arrowcolor": "#2a3f5f",
           "arrowhead": 0,
           "arrowwidth": 1
          },
          "autotypenumbers": "strict",
          "coloraxis": {
           "colorbar": {
            "outlinewidth": 0,
            "ticks": ""
           }
          },
          "colorscale": {
           "diverging": [
            [
             0,
             "#8e0152"
            ],
            [
             0.1,
             "#c51b7d"
            ],
            [
             0.2,
             "#de77ae"
            ],
            [
             0.3,
             "#f1b6da"
            ],
            [
             0.4,
             "#fde0ef"
            ],
            [
             0.5,
             "#f7f7f7"
            ],
            [
             0.6,
             "#e6f5d0"
            ],
            [
             0.7,
             "#b8e186"
            ],
            [
             0.8,
             "#7fbc41"
            ],
            [
             0.9,
             "#4d9221"
            ],
            [
             1,
             "#276419"
            ]
           ],
           "sequential": [
            [
             0,
             "#0d0887"
            ],
            [
             0.1111111111111111,
             "#46039f"
            ],
            [
             0.2222222222222222,
             "#7201a8"
            ],
            [
             0.3333333333333333,
             "#9c179e"
            ],
            [
             0.4444444444444444,
             "#bd3786"
            ],
            [
             0.5555555555555556,
             "#d8576b"
            ],
            [
             0.6666666666666666,
             "#ed7953"
            ],
            [
             0.7777777777777778,
             "#fb9f3a"
            ],
            [
             0.8888888888888888,
             "#fdca26"
            ],
            [
             1,
             "#f0f921"
            ]
           ],
           "sequentialminus": [
            [
             0,
             "#0d0887"
            ],
            [
             0.1111111111111111,
             "#46039f"
            ],
            [
             0.2222222222222222,
             "#7201a8"
            ],
            [
             0.3333333333333333,
             "#9c179e"
            ],
            [
             0.4444444444444444,
             "#bd3786"
            ],
            [
             0.5555555555555556,
             "#d8576b"
            ],
            [
             0.6666666666666666,
             "#ed7953"
            ],
            [
             0.7777777777777778,
             "#fb9f3a"
            ],
            [
             0.8888888888888888,
             "#fdca26"
            ],
            [
             1,
             "#f0f921"
            ]
           ]
          },
          "colorway": [
           "#636efa",
           "#EF553B",
           "#00cc96",
           "#ab63fa",
           "#FFA15A",
           "#19d3f3",
           "#FF6692",
           "#B6E880",
           "#FF97FF",
           "#FECB52"
          ],
          "font": {
           "color": "#2a3f5f"
          },
          "geo": {
           "bgcolor": "white",
           "lakecolor": "white",
           "landcolor": "#E5ECF6",
           "showlakes": true,
           "showland": true,
           "subunitcolor": "white"
          },
          "hoverlabel": {
           "align": "left"
          },
          "hovermode": "closest",
          "mapbox": {
           "style": "light"
          },
          "paper_bgcolor": "white",
          "plot_bgcolor": "#E5ECF6",
          "polar": {
           "angularaxis": {
            "gridcolor": "white",
            "linecolor": "white",
            "ticks": ""
           },
           "bgcolor": "#E5ECF6",
           "radialaxis": {
            "gridcolor": "white",
            "linecolor": "white",
            "ticks": ""
           }
          },
          "scene": {
           "xaxis": {
            "backgroundcolor": "#E5ECF6",
            "gridcolor": "white",
            "gridwidth": 2,
            "linecolor": "white",
            "showbackground": true,
            "ticks": "",
            "zerolinecolor": "white"
           },
           "yaxis": {
            "backgroundcolor": "#E5ECF6",
            "gridcolor": "white",
            "gridwidth": 2,
            "linecolor": "white",
            "showbackground": true,
            "ticks": "",
            "zerolinecolor": "white"
           },
           "zaxis": {
            "backgroundcolor": "#E5ECF6",
            "gridcolor": "white",
            "gridwidth": 2,
            "linecolor": "white",
            "showbackground": true,
            "ticks": "",
            "zerolinecolor": "white"
           }
          },
          "shapedefaults": {
           "line": {
            "color": "#2a3f5f"
           }
          },
          "ternary": {
           "aaxis": {
            "gridcolor": "white",
            "linecolor": "white",
            "ticks": ""
           },
           "baxis": {
            "gridcolor": "white",
            "linecolor": "white",
            "ticks": ""
           },
           "bgcolor": "#E5ECF6",
           "caxis": {
            "gridcolor": "white",
            "linecolor": "white",
            "ticks": ""
           }
          },
          "title": {
           "x": 0.05
          },
          "xaxis": {
           "automargin": true,
           "gridcolor": "white",
           "linecolor": "white",
           "ticks": "",
           "title": {
            "standoff": 15
           },
           "zerolinecolor": "white",
           "zerolinewidth": 2
          },
          "yaxis": {
           "automargin": true,
           "gridcolor": "white",
           "linecolor": "white",
           "ticks": "",
           "title": {
            "standoff": 15
           },
           "zerolinecolor": "white",
           "zerolinewidth": 2
          }
         }
        },
        "title": {
         "text": "Зависимость оттока клиентов от признака \n\"Предполагаемая заработная плата клиента\"",
         "x": 0.5
        },
        "width": 1000,
        "xaxis": {
         "title": {
          "text": "Предполагаемая заработная плата клиента"
         }
        },
        "yaxis": {
         "title": {
          "text": "Количество клиентов"
         }
        }
       }
      }
     },
     "metadata": {},
     "output_type": "display_data"
    }
   ],
   "source": [
    "# Разделение признаков по типам\n",
    "cat_features = {'Geography': 'Страна проживания клиента',\n",
    "                'Gender': 'Пол клиента', \n",
    "                'Tenure': 'Срок пользования услугами банка',\n",
    "                'NumOfProducts': 'Количество приобретенных услуг',\n",
    "                'HasCrCard': 'Наличие кредитной карты',\n",
    "                'IsActiveMember': 'Активность клиента'}\n",
    "num_features = {'CreditScore': 'Кредитный рейтинг', \n",
    "                'Age': 'Возраст',\n",
    "                'Balance': 'Суммарный баланс счетов',\n",
    "                'EstimatedSalary': 'Предполагаемая заработная плата клиента'}\n",
    "\n",
    "# Цикл построения графиков зависимости для всех признаков из списка категориальных признаков\n",
    "for cat in cat_features:\n",
    "    fig = go.Figure()\n",
    "    # Построение баров\n",
    "    fig.add_trace(go.Bar(x=churn_data[churn_data['Exited'] == True][cat].value_counts().index,\n",
    "                         y=churn_data[churn_data['Exited'] == True][cat].value_counts(),\n",
    "                         marker_color = '#c91010', # Цвет маркера\n",
    "                         name='Ушедшие')) # Название набора данных\n",
    "    fig.add_trace(go.Bar(x=churn_data[churn_data['Exited'] == False][cat].value_counts().index,\n",
    "                         y=churn_data[churn_data['Exited'] == False][cat].value_counts(),\n",
    "                         marker_color = '#10c938', # Цвет маркера\n",
    "                         name='Лояльные')) # Название набора данных\n",
    "    fig.update_layout(autosize = False, width = 800, height = 430, # Размер полотна\n",
    "                      bargap=0.2) # Расстояние между столбцами\n",
    "    # Заголовк и подписи осей\n",
    "    fig.update_layout(title=f'Зависимость оттока клиентов от признака \\n\"{cat_features[cat]}\"',\n",
    "                      title_x=0.5, # Выравнивание заголовка посередине\n",
    "                      xaxis_title=cat_features[cat], # Подпись Х\n",
    "                      yaxis_title='Количество клиентов') # Подпись Y\n",
    "    fig.show()\n",
    "\n",
    "# Цикл построения графиков зависимости для всех признаков из списка числовых признаков\n",
    "for cat in num_features:\n",
    "    fig = go.Figure()\n",
    "    fig.add_trace(go.Histogram(x=churn_data[churn_data['Exited'] == True][cat],\n",
    "                               marker_color = '#c91010', # Цвет маркера\n",
    "                               nbinsx=100, # Количество столбцов\n",
    "                               name='Ушедшие'))\n",
    "    fig.add_trace(go.Histogram(x=churn_data[churn_data['Exited'] == False][cat],\n",
    "                               marker_color = '#10c938', # Цвет маркера\n",
    "                               nbinsx=100, # Количество столбцов\n",
    "                               name='Лояльные'))\n",
    "    # Размер полотна\n",
    "    fig.update_layout(autosize = False, width = 1000, height = 620)\n",
    "    # Заголовк и подписи осей\n",
    "    fig.update_layout(title=f'Зависимость оттока клиентов от признака \\n\"{num_features[cat]}\"',\n",
    "                      title_x=0.5, # Выравнивание заголовка посередине\n",
    "                      xaxis_title=num_features[cat], # Подпись Х\n",
    "                      yaxis_title='Количество клиентов') # Подпись Y\n",
    "    fig.show()"
   ]
  },
  {
   "cell_type": "markdown",
   "id": "8e687f96",
   "metadata": {
    "id": "8e687f96"
   },
   "source": [
    "В модуле по визуализации мы выяснили, что отток в Германии, Франции и Испании имеет различные показатели. Исследователи, которые уже работали с этим датасетом, пришли к выводу, что наилучшее решение при работе с этими данными — строить модели индивидуально для каждой страны. Мы будем прогнозировать отток в немецком филиале банка. Давайте выделим только данные, относящиеся к Германии:"
   ]
  },
  {
   "cell_type": "code",
   "execution_count": 24,
   "id": "4bd5cc7f-5db6-4464-9ccf-f40b9c0c97cb",
   "metadata": {
    "colab": {
     "base_uri": "https://localhost:8080/"
    },
    "executionInfo": {
     "elapsed": 3,
     "status": "ok",
     "timestamp": 1678085431373,
     "user": {
      "displayName": "Андрей Достоевский",
      "userId": "09718989537568551698"
     },
     "user_tz": -180
    },
    "id": "4bd5cc7f-5db6-4464-9ccf-f40b9c0c97cb",
    "outputId": "2adeac9c-d989-4731-cc95-9559e4a0e75f"
   },
   "outputs": [
    {
     "data": {
      "text/plain": [
       "(2509, 14)"
      ]
     },
     "execution_count": 24,
     "metadata": {},
     "output_type": "execute_result"
    }
   ],
   "source": [
    "churn_data = churn_data[churn_data['Geography'] == 'Germany']\n",
    "churn_data.shape"
   ]
  },
  {
   "cell_type": "markdown",
   "id": "faa98fa3",
   "metadata": {
    "id": "faa98fa3"
   },
   "source": [
    "Сразу избавимся от заведомо неинформативных признаков: страна, номер строки, идентификатор пользователя и имя клиента."
   ]
  },
  {
   "cell_type": "code",
   "execution_count": 25,
   "id": "47fd1e77-b9ab-4df6-ab69-c2d0d7411fee",
   "metadata": {
    "colab": {
     "base_uri": "https://localhost:8080/",
     "height": 206
    },
    "executionInfo": {
     "elapsed": 251,
     "status": "ok",
     "timestamp": 1678085432399,
     "user": {
      "displayName": "Андрей Достоевский",
      "userId": "09718989537568551698"
     },
     "user_tz": -180
    },
    "id": "47fd1e77-b9ab-4df6-ab69-c2d0d7411fee",
    "outputId": "ee541ca7-ba13-4f6c-b3c5-7c82bba571b0",
    "tags": []
   },
   "outputs": [
    {
     "data": {
      "text/html": [
       "<div>\n",
       "<style scoped>\n",
       "    .dataframe tbody tr th:only-of-type {\n",
       "        vertical-align: middle;\n",
       "    }\n",
       "\n",
       "    .dataframe tbody tr th {\n",
       "        vertical-align: top;\n",
       "    }\n",
       "\n",
       "    .dataframe thead th {\n",
       "        text-align: right;\n",
       "    }\n",
       "</style>\n",
       "<table border=\"1\" class=\"dataframe\">\n",
       "  <thead>\n",
       "    <tr style=\"text-align: right;\">\n",
       "      <th></th>\n",
       "      <th>CreditScore</th>\n",
       "      <th>Gender</th>\n",
       "      <th>Age</th>\n",
       "      <th>Tenure</th>\n",
       "      <th>Balance</th>\n",
       "      <th>NumOfProducts</th>\n",
       "      <th>HasCrCard</th>\n",
       "      <th>IsActiveMember</th>\n",
       "      <th>EstimatedSalary</th>\n",
       "      <th>Exited</th>\n",
       "    </tr>\n",
       "  </thead>\n",
       "  <tbody>\n",
       "    <tr>\n",
       "      <th>7</th>\n",
       "      <td>376</td>\n",
       "      <td>Female</td>\n",
       "      <td>29</td>\n",
       "      <td>4</td>\n",
       "      <td>115046.74</td>\n",
       "      <td>4</td>\n",
       "      <td>1</td>\n",
       "      <td>0</td>\n",
       "      <td>119346.88</td>\n",
       "      <td>1</td>\n",
       "    </tr>\n",
       "    <tr>\n",
       "      <th>15</th>\n",
       "      <td>616</td>\n",
       "      <td>Male</td>\n",
       "      <td>45</td>\n",
       "      <td>3</td>\n",
       "      <td>143129.41</td>\n",
       "      <td>2</td>\n",
       "      <td>0</td>\n",
       "      <td>1</td>\n",
       "      <td>64327.26</td>\n",
       "      <td>0</td>\n",
       "    </tr>\n",
       "    <tr>\n",
       "      <th>16</th>\n",
       "      <td>653</td>\n",
       "      <td>Male</td>\n",
       "      <td>58</td>\n",
       "      <td>1</td>\n",
       "      <td>132602.88</td>\n",
       "      <td>1</td>\n",
       "      <td>1</td>\n",
       "      <td>0</td>\n",
       "      <td>5097.67</td>\n",
       "      <td>1</td>\n",
       "    </tr>\n",
       "    <tr>\n",
       "      <th>26</th>\n",
       "      <td>756</td>\n",
       "      <td>Male</td>\n",
       "      <td>36</td>\n",
       "      <td>2</td>\n",
       "      <td>136815.64</td>\n",
       "      <td>1</td>\n",
       "      <td>1</td>\n",
       "      <td>1</td>\n",
       "      <td>170041.95</td>\n",
       "      <td>0</td>\n",
       "    </tr>\n",
       "    <tr>\n",
       "      <th>28</th>\n",
       "      <td>574</td>\n",
       "      <td>Female</td>\n",
       "      <td>43</td>\n",
       "      <td>3</td>\n",
       "      <td>141349.43</td>\n",
       "      <td>1</td>\n",
       "      <td>1</td>\n",
       "      <td>1</td>\n",
       "      <td>100187.43</td>\n",
       "      <td>0</td>\n",
       "    </tr>\n",
       "  </tbody>\n",
       "</table>\n",
       "</div>"
      ],
      "text/plain": [
       "    CreditScore  Gender  Age  Tenure    Balance  NumOfProducts  HasCrCard  \\\n",
       "7           376  Female   29       4  115046.74              4          1   \n",
       "15          616    Male   45       3  143129.41              2          0   \n",
       "16          653    Male   58       1  132602.88              1          1   \n",
       "26          756    Male   36       2  136815.64              1          1   \n",
       "28          574  Female   43       3  141349.43              1          1   \n",
       "\n",
       "    IsActiveMember  EstimatedSalary  Exited  \n",
       "7                0        119346.88       1  \n",
       "15               1         64327.26       0  \n",
       "16               0          5097.67       1  \n",
       "26               1        170041.95       0  \n",
       "28               1        100187.43       0  "
      ]
     },
     "execution_count": 25,
     "metadata": {},
     "output_type": "execute_result"
    }
   ],
   "source": [
    "churn_data = churn_data.drop(['Geography', 'RowNumber', 'CustomerId', 'Surname'], axis=1)\n",
    "churn_data.head()"
   ]
  },
  {
   "cell_type": "markdown",
   "id": "c2ef5b16",
   "metadata": {
    "id": "c2ef5b16"
   },
   "source": [
    "Проверим, что в наших данных нет пропусков:"
   ]
  },
  {
   "cell_type": "code",
   "execution_count": 26,
   "id": "164b1772-00c0-4cb7-9e05-ee9d9f7953d8",
   "metadata": {
    "colab": {
     "base_uri": "https://localhost:8080/"
    },
    "executionInfo": {
     "elapsed": 2,
     "status": "ok",
     "timestamp": 1678085433267,
     "user": {
      "displayName": "Андрей Достоевский",
      "userId": "09718989537568551698"
     },
     "user_tz": -180
    },
    "id": "164b1772-00c0-4cb7-9e05-ee9d9f7953d8",
    "outputId": "f8b2ff23-e81b-4f65-cd13-54655bb04fb0"
   },
   "outputs": [
    {
     "data": {
      "text/plain": [
       "CreditScore        0\n",
       "Gender             0\n",
       "Age                0\n",
       "Tenure             0\n",
       "Balance            0\n",
       "NumOfProducts      0\n",
       "HasCrCard          0\n",
       "IsActiveMember     0\n",
       "EstimatedSalary    0\n",
       "Exited             0\n",
       "dtype: int64"
      ]
     },
     "execution_count": 26,
     "metadata": {},
     "output_type": "execute_result"
    }
   ],
   "source": [
    "churn_data.isnull().sum()"
   ]
  },
  {
   "cell_type": "markdown",
   "id": "06cc2b0f",
   "metadata": {
    "id": "06cc2b0f"
   },
   "source": [
    "Проверим, что в наших данных нет дубликатов:"
   ]
  },
  {
   "cell_type": "code",
   "execution_count": 27,
   "id": "38127c2b",
   "metadata": {
    "colab": {
     "base_uri": "https://localhost:8080/"
    },
    "executionInfo": {
     "elapsed": 2,
     "status": "ok",
     "timestamp": 1678085433787,
     "user": {
      "displayName": "Андрей Достоевский",
      "userId": "09718989537568551698"
     },
     "user_tz": -180
    },
    "id": "38127c2b",
    "outputId": "9b563c30-2343-4aad-c484-feef7b7095df"
   },
   "outputs": [
    {
     "data": {
      "text/plain": [
       "CreditScore          0\n",
       "Gender               0\n",
       "Age                  0\n",
       "Tenure               0\n",
       "Balance            0.0\n",
       "NumOfProducts        0\n",
       "HasCrCard            0\n",
       "IsActiveMember       0\n",
       "EstimatedSalary    0.0\n",
       "Exited               0\n",
       "dtype: object"
      ]
     },
     "execution_count": 27,
     "metadata": {},
     "output_type": "execute_result"
    }
   ],
   "source": [
    "churn_data[churn_data.duplicated()].sum()"
   ]
  },
  {
   "cell_type": "markdown",
   "id": "2cff3b2c",
   "metadata": {
    "id": "2cff3b2c"
   },
   "source": [
    "### Задание 5.1 (1 балл)\n",
    "\n",
    "Давайте сделаем предобработку данных. \n",
    "\n",
    "Для начала расширим датасет с помощью методов Feature Engineering. Создайте следующие признаки:\n",
    "* `BalanceSalaryRatio` — отношение баланса на счетах к заработной плате клиента;\n",
    "* `TenureByAge` — отношение времени пользования услугами банка к возрасту клиента;\n",
    "* `CreditScoreGivenAge` — отношение кредитного рейтинга к возрасту клиента.\n",
    "\n",
    "Затем перекодируйте оставшиеся текстовые категориальные признаки в числовые бинарные столбцы.\n",
    "\n",
    "Выведите основные статистические характеристики полученных признаков."
   ]
  },
  {
   "cell_type": "markdown",
   "id": "f34dcdf2",
   "metadata": {
    "id": "f34dcdf2"
   },
   "source": [
    "**Критерии оценивания:**\n",
    "- Задание выполнено верно, учтены все условия (**1 балл**): \n",
    "    * приведён код для создания указанных в задании признаков;\n",
    "    * приведён код для кодирования категориальных признаков в числовые бинарные столбцы;\n",
    "    * приведён код для расчёта основных статистических характеристик полученных признаков.\n",
    "\n",
    "- Задание выполнено неверно, не учтено одно или несколько условий (**0 баллов**)."
   ]
  },
  {
   "cell_type": "code",
   "execution_count": 28,
   "id": "beb1eb33",
   "metadata": {
    "id": "beb1eb33"
   },
   "outputs": [
    {
     "data": {
      "text/html": [
       "<div>\n",
       "<style scoped>\n",
       "    .dataframe tbody tr th:only-of-type {\n",
       "        vertical-align: middle;\n",
       "    }\n",
       "\n",
       "    .dataframe tbody tr th {\n",
       "        vertical-align: top;\n",
       "    }\n",
       "\n",
       "    .dataframe thead th {\n",
       "        text-align: right;\n",
       "    }\n",
       "</style>\n",
       "<table border=\"1\" class=\"dataframe\">\n",
       "  <thead>\n",
       "    <tr style=\"text-align: right;\">\n",
       "      <th></th>\n",
       "      <th>CreditScore</th>\n",
       "      <th>Age</th>\n",
       "      <th>Tenure</th>\n",
       "      <th>Balance</th>\n",
       "      <th>NumOfProducts</th>\n",
       "      <th>HasCrCard</th>\n",
       "      <th>IsActiveMember</th>\n",
       "      <th>EstimatedSalary</th>\n",
       "      <th>Exited</th>\n",
       "      <th>BalanceSalaryRatio</th>\n",
       "      <th>TenureByAge</th>\n",
       "      <th>CreditScoreGivenAge</th>\n",
       "      <th>Gender_Male</th>\n",
       "    </tr>\n",
       "  </thead>\n",
       "  <tbody>\n",
       "    <tr>\n",
       "      <th>7</th>\n",
       "      <td>376</td>\n",
       "      <td>29</td>\n",
       "      <td>4</td>\n",
       "      <td>115046.74</td>\n",
       "      <td>4</td>\n",
       "      <td>1</td>\n",
       "      <td>0</td>\n",
       "      <td>119346.88</td>\n",
       "      <td>1</td>\n",
       "      <td>0.963969</td>\n",
       "      <td>0.137931</td>\n",
       "      <td>12.965517</td>\n",
       "      <td>False</td>\n",
       "    </tr>\n",
       "    <tr>\n",
       "      <th>15</th>\n",
       "      <td>616</td>\n",
       "      <td>45</td>\n",
       "      <td>3</td>\n",
       "      <td>143129.41</td>\n",
       "      <td>2</td>\n",
       "      <td>0</td>\n",
       "      <td>1</td>\n",
       "      <td>64327.26</td>\n",
       "      <td>0</td>\n",
       "      <td>2.225020</td>\n",
       "      <td>0.066667</td>\n",
       "      <td>13.688889</td>\n",
       "      <td>True</td>\n",
       "    </tr>\n",
       "    <tr>\n",
       "      <th>16</th>\n",
       "      <td>653</td>\n",
       "      <td>58</td>\n",
       "      <td>1</td>\n",
       "      <td>132602.88</td>\n",
       "      <td>1</td>\n",
       "      <td>1</td>\n",
       "      <td>0</td>\n",
       "      <td>5097.67</td>\n",
       "      <td>1</td>\n",
       "      <td>26.012449</td>\n",
       "      <td>0.017241</td>\n",
       "      <td>11.258621</td>\n",
       "      <td>True</td>\n",
       "    </tr>\n",
       "    <tr>\n",
       "      <th>26</th>\n",
       "      <td>756</td>\n",
       "      <td>36</td>\n",
       "      <td>2</td>\n",
       "      <td>136815.64</td>\n",
       "      <td>1</td>\n",
       "      <td>1</td>\n",
       "      <td>1</td>\n",
       "      <td>170041.95</td>\n",
       "      <td>0</td>\n",
       "      <td>0.804599</td>\n",
       "      <td>0.055556</td>\n",
       "      <td>21.000000</td>\n",
       "      <td>True</td>\n",
       "    </tr>\n",
       "    <tr>\n",
       "      <th>28</th>\n",
       "      <td>574</td>\n",
       "      <td>43</td>\n",
       "      <td>3</td>\n",
       "      <td>141349.43</td>\n",
       "      <td>1</td>\n",
       "      <td>1</td>\n",
       "      <td>1</td>\n",
       "      <td>100187.43</td>\n",
       "      <td>0</td>\n",
       "      <td>1.410850</td>\n",
       "      <td>0.069767</td>\n",
       "      <td>13.348837</td>\n",
       "      <td>False</td>\n",
       "    </tr>\n",
       "  </tbody>\n",
       "</table>\n",
       "</div>"
      ],
      "text/plain": [
       "    CreditScore  Age  Tenure    Balance  NumOfProducts  HasCrCard  \\\n",
       "7           376   29       4  115046.74              4          1   \n",
       "15          616   45       3  143129.41              2          0   \n",
       "16          653   58       1  132602.88              1          1   \n",
       "26          756   36       2  136815.64              1          1   \n",
       "28          574   43       3  141349.43              1          1   \n",
       "\n",
       "    IsActiveMember  EstimatedSalary  Exited  BalanceSalaryRatio  TenureByAge  \\\n",
       "7                0        119346.88       1            0.963969     0.137931   \n",
       "15               1         64327.26       0            2.225020     0.066667   \n",
       "16               0          5097.67       1           26.012449     0.017241   \n",
       "26               1        170041.95       0            0.804599     0.055556   \n",
       "28               1        100187.43       0            1.410850     0.069767   \n",
       "\n",
       "    CreditScoreGivenAge  Gender_Male  \n",
       "7             12.965517        False  \n",
       "15            13.688889         True  \n",
       "16            11.258621         True  \n",
       "26            21.000000         True  \n",
       "28            13.348837        False  "
      ]
     },
     "metadata": {},
     "output_type": "display_data"
    },
    {
     "data": {
      "text/html": [
       "<div>\n",
       "<style scoped>\n",
       "    .dataframe tbody tr th:only-of-type {\n",
       "        vertical-align: middle;\n",
       "    }\n",
       "\n",
       "    .dataframe tbody tr th {\n",
       "        vertical-align: top;\n",
       "    }\n",
       "\n",
       "    .dataframe thead th {\n",
       "        text-align: right;\n",
       "    }\n",
       "</style>\n",
       "<table border=\"1\" class=\"dataframe\">\n",
       "  <thead>\n",
       "    <tr style=\"text-align: right;\">\n",
       "      <th></th>\n",
       "      <th>CreditScore</th>\n",
       "      <th>Age</th>\n",
       "      <th>Tenure</th>\n",
       "      <th>Balance</th>\n",
       "      <th>NumOfProducts</th>\n",
       "      <th>HasCrCard</th>\n",
       "      <th>IsActiveMember</th>\n",
       "      <th>EstimatedSalary</th>\n",
       "      <th>Exited</th>\n",
       "      <th>BalanceSalaryRatio</th>\n",
       "      <th>TenureByAge</th>\n",
       "      <th>CreditScoreGivenAge</th>\n",
       "    </tr>\n",
       "  </thead>\n",
       "  <tbody>\n",
       "    <tr>\n",
       "      <th>count</th>\n",
       "      <td>2509.000000</td>\n",
       "      <td>2509.000000</td>\n",
       "      <td>2509.000000</td>\n",
       "      <td>2509.000000</td>\n",
       "      <td>2509.000000</td>\n",
       "      <td>2509.00000</td>\n",
       "      <td>2509.000000</td>\n",
       "      <td>2509.000000</td>\n",
       "      <td>2509.000000</td>\n",
       "      <td>2509.000000</td>\n",
       "      <td>2509.000000</td>\n",
       "      <td>2509.000000</td>\n",
       "    </tr>\n",
       "    <tr>\n",
       "      <th>mean</th>\n",
       "      <td>651.453567</td>\n",
       "      <td>39.771622</td>\n",
       "      <td>5.009964</td>\n",
       "      <td>119730.116134</td>\n",
       "      <td>1.519729</td>\n",
       "      <td>0.71383</td>\n",
       "      <td>0.497409</td>\n",
       "      <td>101113.435102</td>\n",
       "      <td>0.324432</td>\n",
       "      <td>9.024870</td>\n",
       "      <td>0.134303</td>\n",
       "      <td>17.526487</td>\n",
       "    </tr>\n",
       "    <tr>\n",
       "      <th>std</th>\n",
       "      <td>98.168937</td>\n",
       "      <td>10.519143</td>\n",
       "      <td>2.935154</td>\n",
       "      <td>27022.006157</td>\n",
       "      <td>0.619420</td>\n",
       "      <td>0.45206</td>\n",
       "      <td>0.500093</td>\n",
       "      <td>58263.011501</td>\n",
       "      <td>0.468256</td>\n",
       "      <td>214.286020</td>\n",
       "      <td>0.087680</td>\n",
       "      <td>5.349558</td>\n",
       "    </tr>\n",
       "    <tr>\n",
       "      <th>min</th>\n",
       "      <td>350.000000</td>\n",
       "      <td>18.000000</td>\n",
       "      <td>0.000000</td>\n",
       "      <td>27288.430000</td>\n",
       "      <td>1.000000</td>\n",
       "      <td>0.00000</td>\n",
       "      <td>0.000000</td>\n",
       "      <td>11.580000</td>\n",
       "      <td>0.000000</td>\n",
       "      <td>0.192582</td>\n",
       "      <td>0.000000</td>\n",
       "      <td>6.112676</td>\n",
       "    </tr>\n",
       "    <tr>\n",
       "      <th>25%</th>\n",
       "      <td>584.000000</td>\n",
       "      <td>32.000000</td>\n",
       "      <td>2.000000</td>\n",
       "      <td>102800.720000</td>\n",
       "      <td>1.000000</td>\n",
       "      <td>0.00000</td>\n",
       "      <td>0.000000</td>\n",
       "      <td>51016.020000</td>\n",
       "      <td>0.000000</td>\n",
       "      <td>0.783284</td>\n",
       "      <td>0.060606</td>\n",
       "      <td>13.686275</td>\n",
       "    </tr>\n",
       "    <tr>\n",
       "      <th>50%</th>\n",
       "      <td>651.000000</td>\n",
       "      <td>38.000000</td>\n",
       "      <td>5.000000</td>\n",
       "      <td>119703.100000</td>\n",
       "      <td>1.000000</td>\n",
       "      <td>1.00000</td>\n",
       "      <td>0.000000</td>\n",
       "      <td>102397.220000</td>\n",
       "      <td>0.000000</td>\n",
       "      <td>1.197220</td>\n",
       "      <td>0.125000</td>\n",
       "      <td>16.857143</td>\n",
       "    </tr>\n",
       "    <tr>\n",
       "      <th>75%</th>\n",
       "      <td>722.000000</td>\n",
       "      <td>45.000000</td>\n",
       "      <td>8.000000</td>\n",
       "      <td>137560.380000</td>\n",
       "      <td>2.000000</td>\n",
       "      <td>1.00000</td>\n",
       "      <td>1.000000</td>\n",
       "      <td>151083.800000</td>\n",
       "      <td>1.000000</td>\n",
       "      <td>2.400083</td>\n",
       "      <td>0.200000</td>\n",
       "      <td>20.852941</td>\n",
       "    </tr>\n",
       "    <tr>\n",
       "      <th>max</th>\n",
       "      <td>850.000000</td>\n",
       "      <td>84.000000</td>\n",
       "      <td>10.000000</td>\n",
       "      <td>214346.960000</td>\n",
       "      <td>4.000000</td>\n",
       "      <td>1.00000</td>\n",
       "      <td>1.000000</td>\n",
       "      <td>199970.740000</td>\n",
       "      <td>1.000000</td>\n",
       "      <td>10614.655440</td>\n",
       "      <td>0.500000</td>\n",
       "      <td>46.388889</td>\n",
       "    </tr>\n",
       "  </tbody>\n",
       "</table>\n",
       "</div>"
      ],
      "text/plain": [
       "       CreditScore          Age       Tenure        Balance  NumOfProducts  \\\n",
       "count  2509.000000  2509.000000  2509.000000    2509.000000    2509.000000   \n",
       "mean    651.453567    39.771622     5.009964  119730.116134       1.519729   \n",
       "std      98.168937    10.519143     2.935154   27022.006157       0.619420   \n",
       "min     350.000000    18.000000     0.000000   27288.430000       1.000000   \n",
       "25%     584.000000    32.000000     2.000000  102800.720000       1.000000   \n",
       "50%     651.000000    38.000000     5.000000  119703.100000       1.000000   \n",
       "75%     722.000000    45.000000     8.000000  137560.380000       2.000000   \n",
       "max     850.000000    84.000000    10.000000  214346.960000       4.000000   \n",
       "\n",
       "        HasCrCard  IsActiveMember  EstimatedSalary       Exited  \\\n",
       "count  2509.00000     2509.000000      2509.000000  2509.000000   \n",
       "mean      0.71383        0.497409    101113.435102     0.324432   \n",
       "std       0.45206        0.500093     58263.011501     0.468256   \n",
       "min       0.00000        0.000000        11.580000     0.000000   \n",
       "25%       0.00000        0.000000     51016.020000     0.000000   \n",
       "50%       1.00000        0.000000    102397.220000     0.000000   \n",
       "75%       1.00000        1.000000    151083.800000     1.000000   \n",
       "max       1.00000        1.000000    199970.740000     1.000000   \n",
       "\n",
       "       BalanceSalaryRatio  TenureByAge  CreditScoreGivenAge  \n",
       "count         2509.000000  2509.000000          2509.000000  \n",
       "mean             9.024870     0.134303            17.526487  \n",
       "std            214.286020     0.087680             5.349558  \n",
       "min              0.192582     0.000000             6.112676  \n",
       "25%              0.783284     0.060606            13.686275  \n",
       "50%              1.197220     0.125000            16.857143  \n",
       "75%              2.400083     0.200000            20.852941  \n",
       "max          10614.655440     0.500000            46.388889  "
      ]
     },
     "metadata": {},
     "output_type": "display_data"
    }
   ],
   "source": [
    "# Генерация признаков\n",
    "churn_data['BalanceSalaryRatio'] = churn_data['Balance'] / churn_data['EstimatedSalary']\n",
    "churn_data['TenureByAge'] = churn_data['Tenure'] / churn_data['Age']\n",
    "churn_data['CreditScoreGivenAge'] = churn_data['CreditScore'] / churn_data['Age']\n",
    "\n",
    "# Кодирование категориальных признаков\n",
    "churn_data = pd.get_dummies(churn_data, drop_first=True)\n",
    "display(churn_data.head())\n",
    "display(churn_data.describe())"
   ]
  },
  {
   "cell_type": "markdown",
   "id": "9cf0fd33",
   "metadata": {
    "id": "9cf0fd33"
   },
   "source": [
    "Разделим исходный набор данных на матрицу наблюдений `X` (фичи) и столбец ответов `y` (таргет). "
   ]
  },
  {
   "cell_type": "code",
   "execution_count": 29,
   "id": "a282c11f-485c-4148-be08-609ceee1cf8f",
   "metadata": {
    "id": "a282c11f-485c-4148-be08-609ceee1cf8f"
   },
   "outputs": [],
   "source": [
    "X = churn_data.drop(\"Exited\", axis=1)\n",
    "y = churn_data[\"Exited\"]"
   ]
  },
  {
   "cell_type": "markdown",
   "id": "d5c1b75a",
   "metadata": {
    "id": "d5c1b75a"
   },
   "source": [
    "Прежде чем перейти к этапу разделения выборки на тренировочную и тестовую, давайте посмотрим на сбалансированность данных. Для этого воспользуемся методом `value_counts()` и выведем количество наблюдений каждого из классов в долевом соотношении от общего количества наблюдений:"
   ]
  },
  {
   "cell_type": "code",
   "execution_count": 30,
   "id": "8940b979-7d39-4bf1-93b0-e1b41d7ed78b",
   "metadata": {
    "colab": {
     "base_uri": "https://localhost:8080/"
    },
    "executionInfo": {
     "elapsed": 1,
     "status": "ok",
     "timestamp": 1678085438382,
     "user": {
      "displayName": "Андрей Достоевский",
      "userId": "09718989537568551698"
     },
     "user_tz": -180
    },
    "id": "8940b979-7d39-4bf1-93b0-e1b41d7ed78b",
    "outputId": "a5f5b8c3-09d7-421c-e46f-2c024d77da2e"
   },
   "outputs": [
    {
     "data": {
      "text/plain": [
       "Exited\n",
       "0    0.675568\n",
       "1    0.324432\n",
       "Name: proportion, dtype: float64"
      ]
     },
     "execution_count": 30,
     "metadata": {},
     "output_type": "execute_result"
    }
   ],
   "source": [
    "y.value_counts(normalize=True)"
   ]
  },
  {
   "cell_type": "markdown",
   "id": "ef964f7a",
   "metadata": {
    "id": "ef964f7a"
   },
   "source": [
    "Очевидно, что классы не сбалансированы. Ушедших пользователей 32 %, в то время как лояльных — 68 %.\n"
   ]
  },
  {
   "cell_type": "markdown",
   "id": "bfeb6192",
   "metadata": {
    "id": "bfeb6192"
   },
   "source": [
    "**К чему это может привести?**\n",
    "\n",
    "При разделении набора данных на тренировочный и тестовый может возникнуть такая ситуация, что в тренировочную выборку попадут только лояльные клиенты или их большая часть. Тогда модель может не научиться определять вероятность оттока и качество на тестовой выборке будет неудовлетворительным.\n",
    "\n",
    "Или противоположная ситуация: в тестовую выборку попадут только лояльные клиенты. Тогда модель будет показывать отличное качество на тестовой выборке, но в реальных условиях она может оказаться бесполезной.\n",
    "\n",
    "То есть нам нужно сделать так, чтобы в тренировочной и тестовой выборке было одинаковое соотношение лояльных и ушедших клиентов. Такое разбиение выборки называется **стратифицированным**. \n",
    "\n",
    "Функция `train_test_split()` из библиотеки `sklearn` умеет производить такое разбиение. Для этого в ней предусмотрен параметр `stratify`, который нужно выставить в значение признака, который должен иметь одинаковые соотношения в тренировочной и тестовой выборке. У нас этот признак - это целевой признак y. \n",
    "\n",
    "Выполним разбиение, установив значение параметра `random_state` на 0:\n"
   ]
  },
  {
   "cell_type": "code",
   "execution_count": 31,
   "id": "8324900d-fd13-43b4-b025-5578d6e024ef",
   "metadata": {
    "colab": {
     "base_uri": "https://localhost:8080/"
    },
    "executionInfo": {
     "elapsed": 352,
     "status": "ok",
     "timestamp": 1678085440085,
     "user": {
      "displayName": "Андрей Достоевский",
      "userId": "09718989537568551698"
     },
     "user_tz": -180
    },
    "id": "8324900d-fd13-43b4-b025-5578d6e024ef",
    "outputId": "93fa8322-679a-4ec6-a8a2-10ce12d3e675"
   },
   "outputs": [
    {
     "name": "stdout",
     "output_type": "stream",
     "text": [
      "Train shape: (1881, 12)\n",
      "Test shape: (628, 12)\n"
     ]
    }
   ],
   "source": [
    "X_train, X_test, y_train, y_test = model_selection.train_test_split(\n",
    "    X, y, \n",
    "    stratify=y, \n",
    "    random_state=0\n",
    ")\n",
    "print('Train shape: {}'.format(X_train.shape))\n",
    "print('Test shape: {}'.format(X_test.shape))"
   ]
  },
  {
   "cell_type": "markdown",
   "id": "14b621e0",
   "metadata": {
    "id": "14b621e0"
   },
   "source": [
    "Проверим, что число лояльных и ушедших клиентов примерно одинаково в каждой из выборок:"
   ]
  },
  {
   "cell_type": "code",
   "execution_count": 32,
   "id": "1c34715f-9a79-490f-866a-72c596c6a0dd",
   "metadata": {
    "colab": {
     "base_uri": "https://localhost:8080/",
     "height": 191
    },
    "executionInfo": {
     "elapsed": 217,
     "status": "ok",
     "timestamp": 1678085441654,
     "user": {
      "displayName": "Андрей Достоевский",
      "userId": "09718989537568551698"
     },
     "user_tz": -180
    },
    "id": "1c34715f-9a79-490f-866a-72c596c6a0dd",
    "outputId": "dd6e6ced-54aa-4606-9798-cb276f0386b8"
   },
   "outputs": [
    {
     "name": "stdout",
     "output_type": "stream",
     "text": [
      "Train :\n"
     ]
    },
    {
     "data": {
      "text/plain": [
       "Exited\n",
       "0    0.675704\n",
       "1    0.324296\n",
       "Name: proportion, dtype: float64"
      ]
     },
     "metadata": {},
     "output_type": "display_data"
    },
    {
     "name": "stdout",
     "output_type": "stream",
     "text": [
      "\n",
      "\n",
      "Test :\n"
     ]
    },
    {
     "data": {
      "text/plain": [
       "Exited\n",
       "0    0.675159\n",
       "1    0.324841\n",
       "Name: proportion, dtype: float64"
      ]
     },
     "metadata": {},
     "output_type": "display_data"
    }
   ],
   "source": [
    "print('Train :')\n",
    "display(y_train.value_counts(normalize=True))\n",
    "print('\\n')\n",
    "print('Test :', )\n",
    "display(y_test.value_counts(normalize=True))"
   ]
  },
  {
   "cell_type": "markdown",
   "id": "76401ead",
   "metadata": {
    "id": "76401ead"
   },
   "source": [
    "Соотношения одинаковы, а значит, мы можем перейти к следующему шагу."
   ]
  },
  {
   "cell_type": "markdown",
   "id": "0f623386",
   "metadata": {
    "id": "0f623386"
   },
   "source": [
    "### Задание 5.2 (1 балл)\n",
    "\n",
    "Позаботьтесь о масштабировании признаков. Проведите нормализацию/стандартизацию матрицы наблюдений `X` с помощью `MinMaxScaler`/`RobustScaler` или `StandardScaler`. Выберите метод самостоятельно.\n",
    "\n",
    "Обучите один из предложенных скейлеров на тренировочной выборке (вычислите параметры трансформации) и примените трансформацию данных к тренировочной и тестовой выборкам."
   ]
  },
  {
   "cell_type": "markdown",
   "id": "dda27421",
   "metadata": {
    "id": "dda27421"
   },
   "source": [
    "**Критерии оценивания:**\n",
    "- Задание выполнено верно, учтены все условия (**1 балл**): \n",
    "    * приведён код для создания одного из вариантов скейлеров для масштабирования данных;\n",
    "    * приведён код для расчёта параметров трансформации (обучение скейлера) на тренировочной выборке;\n",
    "    * приведён код для трансформации тренировочных и тестовых данных (признаков) в соответствии с вычисленными параметрами.\n",
    "\n",
    "- Задание выполнено неверно, не учтено одно или несколько условий (**0 баллов**)."
   ]
  },
  {
   "cell_type": "code",
   "execution_count": 33,
   "id": "0e1f264e",
   "metadata": {
    "id": "0e1f264e"
   },
   "outputs": [],
   "source": [
    "# Отсутствуют сведения об очистке данных от выбросов, выбираем \n",
    "# слабочувствительный к выбросам метод нормализации RobustScaler\n",
    "scaler = preprocessing.RobustScaler()\n",
    "scaler.fit(X_train)\n",
    "X_train_scaled = scaler.transform(X_train)\n",
    "X_test_scaled = scaler.transform(X_test)\n",
    "\n",
    "# Метод RobustScaler не масштабирует данных, проводим стандартизацию\n",
    "std_scaler = preprocessing.StandardScaler()\n",
    "std_scaler.fit(X_train_scaled)\n",
    "X_train_sc_std = std_scaler.transform(X_train_scaled)\n",
    "X_test_sc_std = std_scaler.transform(X_test_scaled)"
   ]
  },
  {
   "cell_type": "markdown",
   "id": "66527b15",
   "metadata": {
    "id": "66527b15"
   },
   "source": [
    "Теперь переходим к моделированию."
   ]
  },
  {
   "cell_type": "markdown",
   "id": "69df2d66",
   "metadata": {
    "id": "69df2d66"
   },
   "source": [
    "### Задание 5.3 (1 балл)\n",
    "\n",
    "Для начала давайте заранее определим метрику, на которую будем ориентироваться. \n",
    "\n",
    "По условию задачи, наша модель должна своевременно предсказывать отток клиентов. Известно, что для сохранения клиентов банк будет использовать ресурсы колл-центра и клиентам, у которых вероятность оттока наиболее высока, будут сделаны специальные предложения. Ресурсы, выделяемые на сохранение клиентов, ограничены, поэтому нам важно минимизировать количество звонков. Однако в то же время необходимо сохранить как можно больше клиентов.\n",
    "\n",
    "Таким образом, нам бы хотелось минимизировать как ложноположительные и ложноотрицательные срабатывания модели.\n",
    "\n",
    "Какую метрику в данной задаче вы будете пытаться улучшить? Обоснуйте свой выбор. \n"
   ]
  },
  {
   "cell_type": "markdown",
   "id": "d85450e0",
   "metadata": {
    "id": "d85450e0"
   },
   "source": [
    "> Укажите название метрики и обоснования своего выбора здесь"
   ]
  },
  {
   "cell_type": "markdown",
   "id": "9c4e72a3",
   "metadata": {
    "id": "9c4e72a3"
   },
   "source": [
    "**Критерии оценивания:**\n",
    "- Задание выполнено верно, учтены все условия (**1 балл**): \n",
    "    * выбрана верная метрика;\n",
    "    * приведено развернутое обоснование выбора метрики, и приведенные рассуждения являются верными;\n",
    "\n",
    "- Задание выполнено неверно, не учтено одно или несколько условий (**0 баллов**)."
   ]
  },
  {
   "cell_type": "markdown",
   "id": "AOgaRpo53tgp",
   "metadata": {
    "id": "AOgaRpo53tgp"
   },
   "source": [
    "> Ранее было подчеркнуто, что в данной выборке классы не сбалансированы, таким образом, использование метрики accuracy приведет к получению недостоверной оценки.  \n",
    "Так как по условиям задачи требуется минимизировать как ложноположительные, так и ложноотрицательные срабатывания модели, то необходимо сбалансировать метрики точности (precision) и полноты (recall) предсказаний, что достигается подбором оптимального порога вероятности при рассмотрении значений метрик precision, recall и f-меры. При этом в условии отсутствия данных о соотношении экономических затрат на удержание клиента и экономического эффекта от сохранения его лояльности значение оптимального порога вероятности можно принять такое, при котором precision, recall и f-мера равны/максимально приближены."
   ]
  },
  {
   "cell_type": "markdown",
   "id": "f1a4de8c",
   "metadata": {},
   "source": [
    "> Ранее было подчеркнуто, что в данной выборке классы не сбалансированы, таким образом, использование метрики accuracy приведет к получению недостоверной оценки модели.  \n",
    "Так как по условиям задачи требуется минимизировать как ложноположительные, так и ложноотрицательные срабатывания, то необходимо использовать сбалансированную оценку метрик точности (precision) и полноты (recall) предсказаний, такую оценку дает **F-мера**."
   ]
  },
  {
   "cell_type": "markdown",
   "id": "34e0666e",
   "metadata": {
    "id": "34e0666e"
   },
   "source": [
    "### Задание 5.4 (2 балла)\n",
    "\n",
    "Обучите модель логистической регрессии (`Logistic Regression`) на тренировочных данных. Позаботьтесь о воспроизводимости результата, установив конкретное значение параметра `random_state` (например, число 42).\n",
    "\n",
    "Сделайте предсказание меток классов для тренировочной и тестовой выборок. \n",
    "\n",
    "Рассчитайте значение целевой метрики на тренировочной и тестовой выборках. \n",
    "\n",
    "Проинтерпретируйте полученные результаты, ответив на следующий вопрос:\n",
    "* Как вы считаете, является ли ваша модель переобученной или недообученной?\n",
    "\n",
    "> **Примечание.** Будем считать, что модель нас не удовлетворяет (считается недообученной), если значение целевой метрики на тестовой выборке меньше 0.5.\n",
    "\n",
    "**Дополнительное задание:**\n",
    "\n",
    "Попробуйте поуправлять следующими параметрами модели:\n",
    "* `penalty` — тип используемой регуляризации ('l1' — $L_1$-регуляризация, 'l2' — $L_2$-регуляризация);\n",
    "* `C` — коэффициент, обратный коэффициенту регуляризации (по умолчанию он равен 1).\n",
    "\n",
    "Понаблюдайте, как ведут себя метрики в зависимости от типа регуляризации и увеличения/уменьшения значения парамера `C`."
   ]
  },
  {
   "cell_type": "markdown",
   "id": "8a1f5868",
   "metadata": {
    "id": "8a1f5868"
   },
   "source": [
    "**Критерии оценивания:**\n",
    "- Задание выполнено верно, учтены все условия (**2 балла**): \n",
    "    * построена модель логистической регрессии, решающая поставленную задачу;\n",
    "    * с помощью полученной модели сформированы предсказания на тренировочной и тестовой выборках;\n",
    "    * приведён расчёт выбранной метрики на тренировочных и тестовых данных (метрика должна быть выбрана корректно);\n",
    "    * приведён небольшой вывод по полученным результатам, в котором содержится ответ на поставленный в задании вопрос.\n",
    "\n",
    "- Задание выполнено верно, но не приведён вывод по полученным результатам или вывод является неверным (**1 балл**).\n",
    "- Задание выполнено неверно, не учтено несколько условий (**0 баллов**)."
   ]
  },
  {
   "cell_type": "code",
   "execution_count": 34,
   "id": "732810b0",
   "metadata": {},
   "outputs": [
    {
     "data": {
      "application/vnd.plotly.v1+json": {
       "config": {
        "plotlyServerURL": "https://plot.ly"
       },
       "data": [
        {
         "name": "l2",
         "showlegend": true,
         "type": "scatter",
         "x": [
          0.0999755859375,
          0.199951171875,
          0.2998046875,
          0.39990234375,
          0.5,
          0.599609375,
          0.69970703125,
          0.7998046875,
          0.89990234375,
          1,
          1.099609375,
          1.19921875,
          1.2998046875,
          1.3994140625,
          1.5,
          1.599609375,
          1.69921875,
          1.7998046875,
          1.8994140625,
          2,
          2.099609375,
          2.19921875,
          2.298828125,
          2.3984375
         ],
         "y": [
          0.4868035190615836,
          0.4899135446685879,
          0.4899135446685879,
          0.4942528735632184,
          0.4956772334293948,
          0.4942528735632184,
          0.4942528735632184,
          0.4942528735632184,
          0.4942528735632184,
          0.4942528735632184,
          0.4942528735632184,
          0.4942528735632184,
          0.4942528735632184,
          0.4942528735632184,
          0.4942528735632184,
          0.4942528735632184,
          0.4942528735632184,
          0.4942528735632184,
          0.4942528735632184,
          0.4942528735632184,
          0.4942528735632184,
          0.4942528735632184,
          0.4942528735632184,
          0.4942528735632184
         ]
        }
       ],
       "layout": {
        "autosize": false,
        "height": 400,
        "template": {
         "data": {
          "bar": [
           {
            "error_x": {
             "color": "#2a3f5f"
            },
            "error_y": {
             "color": "#2a3f5f"
            },
            "marker": {
             "line": {
              "color": "#E5ECF6",
              "width": 0.5
             },
             "pattern": {
              "fillmode": "overlay",
              "size": 10,
              "solidity": 0.2
             }
            },
            "type": "bar"
           }
          ],
          "barpolar": [
           {
            "marker": {
             "line": {
              "color": "#E5ECF6",
              "width": 0.5
             },
             "pattern": {
              "fillmode": "overlay",
              "size": 10,
              "solidity": 0.2
             }
            },
            "type": "barpolar"
           }
          ],
          "carpet": [
           {
            "aaxis": {
             "endlinecolor": "#2a3f5f",
             "gridcolor": "white",
             "linecolor": "white",
             "minorgridcolor": "white",
             "startlinecolor": "#2a3f5f"
            },
            "baxis": {
             "endlinecolor": "#2a3f5f",
             "gridcolor": "white",
             "linecolor": "white",
             "minorgridcolor": "white",
             "startlinecolor": "#2a3f5f"
            },
            "type": "carpet"
           }
          ],
          "choropleth": [
           {
            "colorbar": {
             "outlinewidth": 0,
             "ticks": ""
            },
            "type": "choropleth"
           }
          ],
          "contour": [
           {
            "colorbar": {
             "outlinewidth": 0,
             "ticks": ""
            },
            "colorscale": [
             [
              0,
              "#0d0887"
             ],
             [
              0.1111111111111111,
              "#46039f"
             ],
             [
              0.2222222222222222,
              "#7201a8"
             ],
             [
              0.3333333333333333,
              "#9c179e"
             ],
             [
              0.4444444444444444,
              "#bd3786"
             ],
             [
              0.5555555555555556,
              "#d8576b"
             ],
             [
              0.6666666666666666,
              "#ed7953"
             ],
             [
              0.7777777777777778,
              "#fb9f3a"
             ],
             [
              0.8888888888888888,
              "#fdca26"
             ],
             [
              1,
              "#f0f921"
             ]
            ],
            "type": "contour"
           }
          ],
          "contourcarpet": [
           {
            "colorbar": {
             "outlinewidth": 0,
             "ticks": ""
            },
            "type": "contourcarpet"
           }
          ],
          "heatmap": [
           {
            "colorbar": {
             "outlinewidth": 0,
             "ticks": ""
            },
            "colorscale": [
             [
              0,
              "#0d0887"
             ],
             [
              0.1111111111111111,
              "#46039f"
             ],
             [
              0.2222222222222222,
              "#7201a8"
             ],
             [
              0.3333333333333333,
              "#9c179e"
             ],
             [
              0.4444444444444444,
              "#bd3786"
             ],
             [
              0.5555555555555556,
              "#d8576b"
             ],
             [
              0.6666666666666666,
              "#ed7953"
             ],
             [
              0.7777777777777778,
              "#fb9f3a"
             ],
             [
              0.8888888888888888,
              "#fdca26"
             ],
             [
              1,
              "#f0f921"
             ]
            ],
            "type": "heatmap"
           }
          ],
          "histogram": [
           {
            "marker": {
             "pattern": {
              "fillmode": "overlay",
              "size": 10,
              "solidity": 0.2
             }
            },
            "type": "histogram"
           }
          ],
          "histogram2d": [
           {
            "colorbar": {
             "outlinewidth": 0,
             "ticks": ""
            },
            "colorscale": [
             [
              0,
              "#0d0887"
             ],
             [
              0.1111111111111111,
              "#46039f"
             ],
             [
              0.2222222222222222,
              "#7201a8"
             ],
             [
              0.3333333333333333,
              "#9c179e"
             ],
             [
              0.4444444444444444,
              "#bd3786"
             ],
             [
              0.5555555555555556,
              "#d8576b"
             ],
             [
              0.6666666666666666,
              "#ed7953"
             ],
             [
              0.7777777777777778,
              "#fb9f3a"
             ],
             [
              0.8888888888888888,
              "#fdca26"
             ],
             [
              1,
              "#f0f921"
             ]
            ],
            "type": "histogram2d"
           }
          ],
          "histogram2dcontour": [
           {
            "colorbar": {
             "outlinewidth": 0,
             "ticks": ""
            },
            "colorscale": [
             [
              0,
              "#0d0887"
             ],
             [
              0.1111111111111111,
              "#46039f"
             ],
             [
              0.2222222222222222,
              "#7201a8"
             ],
             [
              0.3333333333333333,
              "#9c179e"
             ],
             [
              0.4444444444444444,
              "#bd3786"
             ],
             [
              0.5555555555555556,
              "#d8576b"
             ],
             [
              0.6666666666666666,
              "#ed7953"
             ],
             [
              0.7777777777777778,
              "#fb9f3a"
             ],
             [
              0.8888888888888888,
              "#fdca26"
             ],
             [
              1,
              "#f0f921"
             ]
            ],
            "type": "histogram2dcontour"
           }
          ],
          "mesh3d": [
           {
            "colorbar": {
             "outlinewidth": 0,
             "ticks": ""
            },
            "type": "mesh3d"
           }
          ],
          "parcoords": [
           {
            "line": {
             "colorbar": {
              "outlinewidth": 0,
              "ticks": ""
             }
            },
            "type": "parcoords"
           }
          ],
          "pie": [
           {
            "automargin": true,
            "type": "pie"
           }
          ],
          "scatter": [
           {
            "fillpattern": {
             "fillmode": "overlay",
             "size": 10,
             "solidity": 0.2
            },
            "type": "scatter"
           }
          ],
          "scatter3d": [
           {
            "line": {
             "colorbar": {
              "outlinewidth": 0,
              "ticks": ""
             }
            },
            "marker": {
             "colorbar": {
              "outlinewidth": 0,
              "ticks": ""
             }
            },
            "type": "scatter3d"
           }
          ],
          "scattercarpet": [
           {
            "marker": {
             "colorbar": {
              "outlinewidth": 0,
              "ticks": ""
             }
            },
            "type": "scattercarpet"
           }
          ],
          "scattergeo": [
           {
            "marker": {
             "colorbar": {
              "outlinewidth": 0,
              "ticks": ""
             }
            },
            "type": "scattergeo"
           }
          ],
          "scattergl": [
           {
            "marker": {
             "colorbar": {
              "outlinewidth": 0,
              "ticks": ""
             }
            },
            "type": "scattergl"
           }
          ],
          "scattermap": [
           {
            "marker": {
             "colorbar": {
              "outlinewidth": 0,
              "ticks": ""
             }
            },
            "type": "scattermap"
           }
          ],
          "scattermapbox": [
           {
            "marker": {
             "colorbar": {
              "outlinewidth": 0,
              "ticks": ""
             }
            },
            "type": "scattermapbox"
           }
          ],
          "scatterpolar": [
           {
            "marker": {
             "colorbar": {
              "outlinewidth": 0,
              "ticks": ""
             }
            },
            "type": "scatterpolar"
           }
          ],
          "scatterpolargl": [
           {
            "marker": {
             "colorbar": {
              "outlinewidth": 0,
              "ticks": ""
             }
            },
            "type": "scatterpolargl"
           }
          ],
          "scatterternary": [
           {
            "marker": {
             "colorbar": {
              "outlinewidth": 0,
              "ticks": ""
             }
            },
            "type": "scatterternary"
           }
          ],
          "surface": [
           {
            "colorbar": {
             "outlinewidth": 0,
             "ticks": ""
            },
            "colorscale": [
             [
              0,
              "#0d0887"
             ],
             [
              0.1111111111111111,
              "#46039f"
             ],
             [
              0.2222222222222222,
              "#7201a8"
             ],
             [
              0.3333333333333333,
              "#9c179e"
             ],
             [
              0.4444444444444444,
              "#bd3786"
             ],
             [
              0.5555555555555556,
              "#d8576b"
             ],
             [
              0.6666666666666666,
              "#ed7953"
             ],
             [
              0.7777777777777778,
              "#fb9f3a"
             ],
             [
              0.8888888888888888,
              "#fdca26"
             ],
             [
              1,
              "#f0f921"
             ]
            ],
            "type": "surface"
           }
          ],
          "table": [
           {
            "cells": {
             "fill": {
              "color": "#EBF0F8"
             },
             "line": {
              "color": "white"
             }
            },
            "header": {
             "fill": {
              "color": "#C8D4E3"
             },
             "line": {
              "color": "white"
             }
            },
            "type": "table"
           }
          ]
         },
         "layout": {
          "annotationdefaults": {
           "arrowcolor": "#2a3f5f",
           "arrowhead": 0,
           "arrowwidth": 1
          },
          "autotypenumbers": "strict",
          "coloraxis": {
           "colorbar": {
            "outlinewidth": 0,
            "ticks": ""
           }
          },
          "colorscale": {
           "diverging": [
            [
             0,
             "#8e0152"
            ],
            [
             0.1,
             "#c51b7d"
            ],
            [
             0.2,
             "#de77ae"
            ],
            [
             0.3,
             "#f1b6da"
            ],
            [
             0.4,
             "#fde0ef"
            ],
            [
             0.5,
             "#f7f7f7"
            ],
            [
             0.6,
             "#e6f5d0"
            ],
            [
             0.7,
             "#b8e186"
            ],
            [
             0.8,
             "#7fbc41"
            ],
            [
             0.9,
             "#4d9221"
            ],
            [
             1,
             "#276419"
            ]
           ],
           "sequential": [
            [
             0,
             "#0d0887"
            ],
            [
             0.1111111111111111,
             "#46039f"
            ],
            [
             0.2222222222222222,
             "#7201a8"
            ],
            [
             0.3333333333333333,
             "#9c179e"
            ],
            [
             0.4444444444444444,
             "#bd3786"
            ],
            [
             0.5555555555555556,
             "#d8576b"
            ],
            [
             0.6666666666666666,
             "#ed7953"
            ],
            [
             0.7777777777777778,
             "#fb9f3a"
            ],
            [
             0.8888888888888888,
             "#fdca26"
            ],
            [
             1,
             "#f0f921"
            ]
           ],
           "sequentialminus": [
            [
             0,
             "#0d0887"
            ],
            [
             0.1111111111111111,
             "#46039f"
            ],
            [
             0.2222222222222222,
             "#7201a8"
            ],
            [
             0.3333333333333333,
             "#9c179e"
            ],
            [
             0.4444444444444444,
             "#bd3786"
            ],
            [
             0.5555555555555556,
             "#d8576b"
            ],
            [
             0.6666666666666666,
             "#ed7953"
            ],
            [
             0.7777777777777778,
             "#fb9f3a"
            ],
            [
             0.8888888888888888,
             "#fdca26"
            ],
            [
             1,
             "#f0f921"
            ]
           ]
          },
          "colorway": [
           "#636efa",
           "#EF553B",
           "#00cc96",
           "#ab63fa",
           "#FFA15A",
           "#19d3f3",
           "#FF6692",
           "#B6E880",
           "#FF97FF",
           "#FECB52"
          ],
          "font": {
           "color": "#2a3f5f"
          },
          "geo": {
           "bgcolor": "white",
           "lakecolor": "white",
           "landcolor": "#E5ECF6",
           "showlakes": true,
           "showland": true,
           "subunitcolor": "white"
          },
          "hoverlabel": {
           "align": "left"
          },
          "hovermode": "closest",
          "mapbox": {
           "style": "light"
          },
          "paper_bgcolor": "white",
          "plot_bgcolor": "#E5ECF6",
          "polar": {
           "angularaxis": {
            "gridcolor": "white",
            "linecolor": "white",
            "ticks": ""
           },
           "bgcolor": "#E5ECF6",
           "radialaxis": {
            "gridcolor": "white",
            "linecolor": "white",
            "ticks": ""
           }
          },
          "scene": {
           "xaxis": {
            "backgroundcolor": "#E5ECF6",
            "gridcolor": "white",
            "gridwidth": 2,
            "linecolor": "white",
            "showbackground": true,
            "ticks": "",
            "zerolinecolor": "white"
           },
           "yaxis": {
            "backgroundcolor": "#E5ECF6",
            "gridcolor": "white",
            "gridwidth": 2,
            "linecolor": "white",
            "showbackground": true,
            "ticks": "",
            "zerolinecolor": "white"
           },
           "zaxis": {
            "backgroundcolor": "#E5ECF6",
            "gridcolor": "white",
            "gridwidth": 2,
            "linecolor": "white",
            "showbackground": true,
            "ticks": "",
            "zerolinecolor": "white"
           }
          },
          "shapedefaults": {
           "line": {
            "color": "#2a3f5f"
           }
          },
          "ternary": {
           "aaxis": {
            "gridcolor": "white",
            "linecolor": "white",
            "ticks": ""
           },
           "baxis": {
            "gridcolor": "white",
            "linecolor": "white",
            "ticks": ""
           },
           "bgcolor": "#E5ECF6",
           "caxis": {
            "gridcolor": "white",
            "linecolor": "white",
            "ticks": ""
           }
          },
          "title": {
           "x": 0.05
          },
          "xaxis": {
           "automargin": true,
           "gridcolor": "white",
           "linecolor": "white",
           "ticks": "",
           "title": {
            "standoff": 15
           },
           "zerolinecolor": "white",
           "zerolinewidth": 2
          },
          "yaxis": {
           "automargin": true,
           "gridcolor": "white",
           "linecolor": "white",
           "ticks": "",
           "title": {
            "standoff": 15
           },
           "zerolinecolor": "white",
           "zerolinewidth": 2
          }
         }
        },
        "title": {
         "text": "lbfgs",
         "x": 0.5
        },
        "width": 600,
        "xaxis": {
         "title": {
          "text": "C"
         }
        },
        "yaxis": {
         "title": {
          "text": "F1-мера"
         }
        }
       }
      }
     },
     "metadata": {},
     "output_type": "display_data"
    },
    {
     "data": {
      "application/vnd.plotly.v1+json": {
       "config": {
        "plotlyServerURL": "https://plot.ly"
       },
       "data": [
        {
         "name": "l1",
         "showlegend": true,
         "type": "scatter",
         "x": [
          0.0999755859375,
          0.199951171875,
          0.2998046875,
          0.39990234375,
          0.5,
          0.599609375,
          0.69970703125,
          0.7998046875,
          0.89990234375,
          1,
          1.099609375,
          1.19921875,
          1.2998046875,
          1.3994140625,
          1.5,
          1.599609375,
          1.69921875,
          1.7998046875,
          1.8994140625,
          2,
          2.099609375,
          2.19921875,
          2.298828125,
          2.3984375
         ],
         "y": [
          0.47928994082840237,
          0.48554913294797686,
          0.49283667621776506,
          0.4885057471264368,
          0.4885057471264368,
          0.4885057471264368,
          0.4899135446685879,
          0.4899135446685879,
          0.4899135446685879,
          0.4942528735632184,
          0.4942528735632184,
          0.4942528735632184,
          0.4956772334293948,
          0.4956772334293948,
          0.4956772334293948,
          0.4956772334293948,
          0.4956772334293948,
          0.4956772334293948,
          0.4956772334293948,
          0.4956772334293948,
          0.4956772334293948,
          0.4956772334293948,
          0.4942528735632184,
          0.4942528735632184
         ]
        },
        {
         "name": "l2",
         "showlegend": true,
         "type": "scatter",
         "x": [
          0.0999755859375,
          0.199951171875,
          0.2998046875,
          0.39990234375,
          0.5,
          0.599609375,
          0.69970703125,
          0.7998046875,
          0.89990234375,
          1,
          1.099609375,
          1.19921875,
          1.2998046875,
          1.3994140625,
          1.5,
          1.599609375,
          1.69921875,
          1.7998046875,
          1.8994140625,
          2,
          2.099609375,
          2.19921875,
          2.298828125,
          2.3984375
         ],
         "y": [
          0.48554913294797686,
          0.4899135446685879,
          0.4942528735632184,
          0.4942528735632184,
          0.4942528735632184,
          0.4942528735632184,
          0.4942528735632184,
          0.4942528735632184,
          0.4942528735632184,
          0.4942528735632184,
          0.4942528735632184,
          0.4942528735632184,
          0.4942528735632184,
          0.4942528735632184,
          0.4942528735632184,
          0.4942528735632184,
          0.4942528735632184,
          0.4942528735632184,
          0.4942528735632184,
          0.4942528735632184,
          0.4942528735632184,
          0.4942528735632184,
          0.4942528735632184,
          0.4942528735632184
         ]
        }
       ],
       "layout": {
        "autosize": false,
        "height": 400,
        "template": {
         "data": {
          "bar": [
           {
            "error_x": {
             "color": "#2a3f5f"
            },
            "error_y": {
             "color": "#2a3f5f"
            },
            "marker": {
             "line": {
              "color": "#E5ECF6",
              "width": 0.5
             },
             "pattern": {
              "fillmode": "overlay",
              "size": 10,
              "solidity": 0.2
             }
            },
            "type": "bar"
           }
          ],
          "barpolar": [
           {
            "marker": {
             "line": {
              "color": "#E5ECF6",
              "width": 0.5
             },
             "pattern": {
              "fillmode": "overlay",
              "size": 10,
              "solidity": 0.2
             }
            },
            "type": "barpolar"
           }
          ],
          "carpet": [
           {
            "aaxis": {
             "endlinecolor": "#2a3f5f",
             "gridcolor": "white",
             "linecolor": "white",
             "minorgridcolor": "white",
             "startlinecolor": "#2a3f5f"
            },
            "baxis": {
             "endlinecolor": "#2a3f5f",
             "gridcolor": "white",
             "linecolor": "white",
             "minorgridcolor": "white",
             "startlinecolor": "#2a3f5f"
            },
            "type": "carpet"
           }
          ],
          "choropleth": [
           {
            "colorbar": {
             "outlinewidth": 0,
             "ticks": ""
            },
            "type": "choropleth"
           }
          ],
          "contour": [
           {
            "colorbar": {
             "outlinewidth": 0,
             "ticks": ""
            },
            "colorscale": [
             [
              0,
              "#0d0887"
             ],
             [
              0.1111111111111111,
              "#46039f"
             ],
             [
              0.2222222222222222,
              "#7201a8"
             ],
             [
              0.3333333333333333,
              "#9c179e"
             ],
             [
              0.4444444444444444,
              "#bd3786"
             ],
             [
              0.5555555555555556,
              "#d8576b"
             ],
             [
              0.6666666666666666,
              "#ed7953"
             ],
             [
              0.7777777777777778,
              "#fb9f3a"
             ],
             [
              0.8888888888888888,
              "#fdca26"
             ],
             [
              1,
              "#f0f921"
             ]
            ],
            "type": "contour"
           }
          ],
          "contourcarpet": [
           {
            "colorbar": {
             "outlinewidth": 0,
             "ticks": ""
            },
            "type": "contourcarpet"
           }
          ],
          "heatmap": [
           {
            "colorbar": {
             "outlinewidth": 0,
             "ticks": ""
            },
            "colorscale": [
             [
              0,
              "#0d0887"
             ],
             [
              0.1111111111111111,
              "#46039f"
             ],
             [
              0.2222222222222222,
              "#7201a8"
             ],
             [
              0.3333333333333333,
              "#9c179e"
             ],
             [
              0.4444444444444444,
              "#bd3786"
             ],
             [
              0.5555555555555556,
              "#d8576b"
             ],
             [
              0.6666666666666666,
              "#ed7953"
             ],
             [
              0.7777777777777778,
              "#fb9f3a"
             ],
             [
              0.8888888888888888,
              "#fdca26"
             ],
             [
              1,
              "#f0f921"
             ]
            ],
            "type": "heatmap"
           }
          ],
          "histogram": [
           {
            "marker": {
             "pattern": {
              "fillmode": "overlay",
              "size": 10,
              "solidity": 0.2
             }
            },
            "type": "histogram"
           }
          ],
          "histogram2d": [
           {
            "colorbar": {
             "outlinewidth": 0,
             "ticks": ""
            },
            "colorscale": [
             [
              0,
              "#0d0887"
             ],
             [
              0.1111111111111111,
              "#46039f"
             ],
             [
              0.2222222222222222,
              "#7201a8"
             ],
             [
              0.3333333333333333,
              "#9c179e"
             ],
             [
              0.4444444444444444,
              "#bd3786"
             ],
             [
              0.5555555555555556,
              "#d8576b"
             ],
             [
              0.6666666666666666,
              "#ed7953"
             ],
             [
              0.7777777777777778,
              "#fb9f3a"
             ],
             [
              0.8888888888888888,
              "#fdca26"
             ],
             [
              1,
              "#f0f921"
             ]
            ],
            "type": "histogram2d"
           }
          ],
          "histogram2dcontour": [
           {
            "colorbar": {
             "outlinewidth": 0,
             "ticks": ""
            },
            "colorscale": [
             [
              0,
              "#0d0887"
             ],
             [
              0.1111111111111111,
              "#46039f"
             ],
             [
              0.2222222222222222,
              "#7201a8"
             ],
             [
              0.3333333333333333,
              "#9c179e"
             ],
             [
              0.4444444444444444,
              "#bd3786"
             ],
             [
              0.5555555555555556,
              "#d8576b"
             ],
             [
              0.6666666666666666,
              "#ed7953"
             ],
             [
              0.7777777777777778,
              "#fb9f3a"
             ],
             [
              0.8888888888888888,
              "#fdca26"
             ],
             [
              1,
              "#f0f921"
             ]
            ],
            "type": "histogram2dcontour"
           }
          ],
          "mesh3d": [
           {
            "colorbar": {
             "outlinewidth": 0,
             "ticks": ""
            },
            "type": "mesh3d"
           }
          ],
          "parcoords": [
           {
            "line": {
             "colorbar": {
              "outlinewidth": 0,
              "ticks": ""
             }
            },
            "type": "parcoords"
           }
          ],
          "pie": [
           {
            "automargin": true,
            "type": "pie"
           }
          ],
          "scatter": [
           {
            "fillpattern": {
             "fillmode": "overlay",
             "size": 10,
             "solidity": 0.2
            },
            "type": "scatter"
           }
          ],
          "scatter3d": [
           {
            "line": {
             "colorbar": {
              "outlinewidth": 0,
              "ticks": ""
             }
            },
            "marker": {
             "colorbar": {
              "outlinewidth": 0,
              "ticks": ""
             }
            },
            "type": "scatter3d"
           }
          ],
          "scattercarpet": [
           {
            "marker": {
             "colorbar": {
              "outlinewidth": 0,
              "ticks": ""
             }
            },
            "type": "scattercarpet"
           }
          ],
          "scattergeo": [
           {
            "marker": {
             "colorbar": {
              "outlinewidth": 0,
              "ticks": ""
             }
            },
            "type": "scattergeo"
           }
          ],
          "scattergl": [
           {
            "marker": {
             "colorbar": {
              "outlinewidth": 0,
              "ticks": ""
             }
            },
            "type": "scattergl"
           }
          ],
          "scattermap": [
           {
            "marker": {
             "colorbar": {
              "outlinewidth": 0,
              "ticks": ""
             }
            },
            "type": "scattermap"
           }
          ],
          "scattermapbox": [
           {
            "marker": {
             "colorbar": {
              "outlinewidth": 0,
              "ticks": ""
             }
            },
            "type": "scattermapbox"
           }
          ],
          "scatterpolar": [
           {
            "marker": {
             "colorbar": {
              "outlinewidth": 0,
              "ticks": ""
             }
            },
            "type": "scatterpolar"
           }
          ],
          "scatterpolargl": [
           {
            "marker": {
             "colorbar": {
              "outlinewidth": 0,
              "ticks": ""
             }
            },
            "type": "scatterpolargl"
           }
          ],
          "scatterternary": [
           {
            "marker": {
             "colorbar": {
              "outlinewidth": 0,
              "ticks": ""
             }
            },
            "type": "scatterternary"
           }
          ],
          "surface": [
           {
            "colorbar": {
             "outlinewidth": 0,
             "ticks": ""
            },
            "colorscale": [
             [
              0,
              "#0d0887"
             ],
             [
              0.1111111111111111,
              "#46039f"
             ],
             [
              0.2222222222222222,
              "#7201a8"
             ],
             [
              0.3333333333333333,
              "#9c179e"
             ],
             [
              0.4444444444444444,
              "#bd3786"
             ],
             [
              0.5555555555555556,
              "#d8576b"
             ],
             [
              0.6666666666666666,
              "#ed7953"
             ],
             [
              0.7777777777777778,
              "#fb9f3a"
             ],
             [
              0.8888888888888888,
              "#fdca26"
             ],
             [
              1,
              "#f0f921"
             ]
            ],
            "type": "surface"
           }
          ],
          "table": [
           {
            "cells": {
             "fill": {
              "color": "#EBF0F8"
             },
             "line": {
              "color": "white"
             }
            },
            "header": {
             "fill": {
              "color": "#C8D4E3"
             },
             "line": {
              "color": "white"
             }
            },
            "type": "table"
           }
          ]
         },
         "layout": {
          "annotationdefaults": {
           "arrowcolor": "#2a3f5f",
           "arrowhead": 0,
           "arrowwidth": 1
          },
          "autotypenumbers": "strict",
          "coloraxis": {
           "colorbar": {
            "outlinewidth": 0,
            "ticks": ""
           }
          },
          "colorscale": {
           "diverging": [
            [
             0,
             "#8e0152"
            ],
            [
             0.1,
             "#c51b7d"
            ],
            [
             0.2,
             "#de77ae"
            ],
            [
             0.3,
             "#f1b6da"
            ],
            [
             0.4,
             "#fde0ef"
            ],
            [
             0.5,
             "#f7f7f7"
            ],
            [
             0.6,
             "#e6f5d0"
            ],
            [
             0.7,
             "#b8e186"
            ],
            [
             0.8,
             "#7fbc41"
            ],
            [
             0.9,
             "#4d9221"
            ],
            [
             1,
             "#276419"
            ]
           ],
           "sequential": [
            [
             0,
             "#0d0887"
            ],
            [
             0.1111111111111111,
             "#46039f"
            ],
            [
             0.2222222222222222,
             "#7201a8"
            ],
            [
             0.3333333333333333,
             "#9c179e"
            ],
            [
             0.4444444444444444,
             "#bd3786"
            ],
            [
             0.5555555555555556,
             "#d8576b"
            ],
            [
             0.6666666666666666,
             "#ed7953"
            ],
            [
             0.7777777777777778,
             "#fb9f3a"
            ],
            [
             0.8888888888888888,
             "#fdca26"
            ],
            [
             1,
             "#f0f921"
            ]
           ],
           "sequentialminus": [
            [
             0,
             "#0d0887"
            ],
            [
             0.1111111111111111,
             "#46039f"
            ],
            [
             0.2222222222222222,
             "#7201a8"
            ],
            [
             0.3333333333333333,
             "#9c179e"
            ],
            [
             0.4444444444444444,
             "#bd3786"
            ],
            [
             0.5555555555555556,
             "#d8576b"
            ],
            [
             0.6666666666666666,
             "#ed7953"
            ],
            [
             0.7777777777777778,
             "#fb9f3a"
            ],
            [
             0.8888888888888888,
             "#fdca26"
            ],
            [
             1,
             "#f0f921"
            ]
           ]
          },
          "colorway": [
           "#636efa",
           "#EF553B",
           "#00cc96",
           "#ab63fa",
           "#FFA15A",
           "#19d3f3",
           "#FF6692",
           "#B6E880",
           "#FF97FF",
           "#FECB52"
          ],
          "font": {
           "color": "#2a3f5f"
          },
          "geo": {
           "bgcolor": "white",
           "lakecolor": "white",
           "landcolor": "#E5ECF6",
           "showlakes": true,
           "showland": true,
           "subunitcolor": "white"
          },
          "hoverlabel": {
           "align": "left"
          },
          "hovermode": "closest",
          "mapbox": {
           "style": "light"
          },
          "paper_bgcolor": "white",
          "plot_bgcolor": "#E5ECF6",
          "polar": {
           "angularaxis": {
            "gridcolor": "white",
            "linecolor": "white",
            "ticks": ""
           },
           "bgcolor": "#E5ECF6",
           "radialaxis": {
            "gridcolor": "white",
            "linecolor": "white",
            "ticks": ""
           }
          },
          "scene": {
           "xaxis": {
            "backgroundcolor": "#E5ECF6",
            "gridcolor": "white",
            "gridwidth": 2,
            "linecolor": "white",
            "showbackground": true,
            "ticks": "",
            "zerolinecolor": "white"
           },
           "yaxis": {
            "backgroundcolor": "#E5ECF6",
            "gridcolor": "white",
            "gridwidth": 2,
            "linecolor": "white",
            "showbackground": true,
            "ticks": "",
            "zerolinecolor": "white"
           },
           "zaxis": {
            "backgroundcolor": "#E5ECF6",
            "gridcolor": "white",
            "gridwidth": 2,
            "linecolor": "white",
            "showbackground": true,
            "ticks": "",
            "zerolinecolor": "white"
           }
          },
          "shapedefaults": {
           "line": {
            "color": "#2a3f5f"
           }
          },
          "ternary": {
           "aaxis": {
            "gridcolor": "white",
            "linecolor": "white",
            "ticks": ""
           },
           "baxis": {
            "gridcolor": "white",
            "linecolor": "white",
            "ticks": ""
           },
           "bgcolor": "#E5ECF6",
           "caxis": {
            "gridcolor": "white",
            "linecolor": "white",
            "ticks": ""
           }
          },
          "title": {
           "x": 0.05
          },
          "xaxis": {
           "automargin": true,
           "gridcolor": "white",
           "linecolor": "white",
           "ticks": "",
           "title": {
            "standoff": 15
           },
           "zerolinecolor": "white",
           "zerolinewidth": 2
          },
          "yaxis": {
           "automargin": true,
           "gridcolor": "white",
           "linecolor": "white",
           "ticks": "",
           "title": {
            "standoff": 15
           },
           "zerolinecolor": "white",
           "zerolinewidth": 2
          }
         }
        },
        "title": {
         "text": "liblinear",
         "x": 0.5
        },
        "width": 600,
        "xaxis": {
         "title": {
          "text": "C"
         }
        },
        "yaxis": {
         "title": {
          "text": "F1-мера"
         }
        }
       }
      }
     },
     "metadata": {},
     "output_type": "display_data"
    },
    {
     "data": {
      "application/vnd.plotly.v1+json": {
       "config": {
        "plotlyServerURL": "https://plot.ly"
       },
       "data": [
        {
         "name": "l2",
         "showlegend": true,
         "type": "scatter",
         "x": [
          0.0999755859375,
          0.199951171875,
          0.2998046875,
          0.39990234375,
          0.5,
          0.599609375,
          0.69970703125,
          0.7998046875,
          0.89990234375,
          1,
          1.099609375,
          1.19921875,
          1.2998046875,
          1.3994140625,
          1.5,
          1.599609375,
          1.69921875,
          1.7998046875,
          1.8994140625,
          2,
          2.099609375,
          2.19921875,
          2.298828125,
          2.3984375
         ],
         "y": [
          0.4868035190615836,
          0.4899135446685879,
          0.4899135446685879,
          0.4942528735632184,
          0.4956772334293948,
          0.4942528735632184,
          0.4942528735632184,
          0.4942528735632184,
          0.4942528735632184,
          0.4942528735632184,
          0.4942528735632184,
          0.4942528735632184,
          0.4942528735632184,
          0.4942528735632184,
          0.4942528735632184,
          0.4942528735632184,
          0.4942528735632184,
          0.4942528735632184,
          0.4942528735632184,
          0.4942528735632184,
          0.4942528735632184,
          0.4942528735632184,
          0.4942528735632184,
          0.4942528735632184
         ]
        }
       ],
       "layout": {
        "autosize": false,
        "height": 400,
        "template": {
         "data": {
          "bar": [
           {
            "error_x": {
             "color": "#2a3f5f"
            },
            "error_y": {
             "color": "#2a3f5f"
            },
            "marker": {
             "line": {
              "color": "#E5ECF6",
              "width": 0.5
             },
             "pattern": {
              "fillmode": "overlay",
              "size": 10,
              "solidity": 0.2
             }
            },
            "type": "bar"
           }
          ],
          "barpolar": [
           {
            "marker": {
             "line": {
              "color": "#E5ECF6",
              "width": 0.5
             },
             "pattern": {
              "fillmode": "overlay",
              "size": 10,
              "solidity": 0.2
             }
            },
            "type": "barpolar"
           }
          ],
          "carpet": [
           {
            "aaxis": {
             "endlinecolor": "#2a3f5f",
             "gridcolor": "white",
             "linecolor": "white",
             "minorgridcolor": "white",
             "startlinecolor": "#2a3f5f"
            },
            "baxis": {
             "endlinecolor": "#2a3f5f",
             "gridcolor": "white",
             "linecolor": "white",
             "minorgridcolor": "white",
             "startlinecolor": "#2a3f5f"
            },
            "type": "carpet"
           }
          ],
          "choropleth": [
           {
            "colorbar": {
             "outlinewidth": 0,
             "ticks": ""
            },
            "type": "choropleth"
           }
          ],
          "contour": [
           {
            "colorbar": {
             "outlinewidth": 0,
             "ticks": ""
            },
            "colorscale": [
             [
              0,
              "#0d0887"
             ],
             [
              0.1111111111111111,
              "#46039f"
             ],
             [
              0.2222222222222222,
              "#7201a8"
             ],
             [
              0.3333333333333333,
              "#9c179e"
             ],
             [
              0.4444444444444444,
              "#bd3786"
             ],
             [
              0.5555555555555556,
              "#d8576b"
             ],
             [
              0.6666666666666666,
              "#ed7953"
             ],
             [
              0.7777777777777778,
              "#fb9f3a"
             ],
             [
              0.8888888888888888,
              "#fdca26"
             ],
             [
              1,
              "#f0f921"
             ]
            ],
            "type": "contour"
           }
          ],
          "contourcarpet": [
           {
            "colorbar": {
             "outlinewidth": 0,
             "ticks": ""
            },
            "type": "contourcarpet"
           }
          ],
          "heatmap": [
           {
            "colorbar": {
             "outlinewidth": 0,
             "ticks": ""
            },
            "colorscale": [
             [
              0,
              "#0d0887"
             ],
             [
              0.1111111111111111,
              "#46039f"
             ],
             [
              0.2222222222222222,
              "#7201a8"
             ],
             [
              0.3333333333333333,
              "#9c179e"
             ],
             [
              0.4444444444444444,
              "#bd3786"
             ],
             [
              0.5555555555555556,
              "#d8576b"
             ],
             [
              0.6666666666666666,
              "#ed7953"
             ],
             [
              0.7777777777777778,
              "#fb9f3a"
             ],
             [
              0.8888888888888888,
              "#fdca26"
             ],
             [
              1,
              "#f0f921"
             ]
            ],
            "type": "heatmap"
           }
          ],
          "histogram": [
           {
            "marker": {
             "pattern": {
              "fillmode": "overlay",
              "size": 10,
              "solidity": 0.2
             }
            },
            "type": "histogram"
           }
          ],
          "histogram2d": [
           {
            "colorbar": {
             "outlinewidth": 0,
             "ticks": ""
            },
            "colorscale": [
             [
              0,
              "#0d0887"
             ],
             [
              0.1111111111111111,
              "#46039f"
             ],
             [
              0.2222222222222222,
              "#7201a8"
             ],
             [
              0.3333333333333333,
              "#9c179e"
             ],
             [
              0.4444444444444444,
              "#bd3786"
             ],
             [
              0.5555555555555556,
              "#d8576b"
             ],
             [
              0.6666666666666666,
              "#ed7953"
             ],
             [
              0.7777777777777778,
              "#fb9f3a"
             ],
             [
              0.8888888888888888,
              "#fdca26"
             ],
             [
              1,
              "#f0f921"
             ]
            ],
            "type": "histogram2d"
           }
          ],
          "histogram2dcontour": [
           {
            "colorbar": {
             "outlinewidth": 0,
             "ticks": ""
            },
            "colorscale": [
             [
              0,
              "#0d0887"
             ],
             [
              0.1111111111111111,
              "#46039f"
             ],
             [
              0.2222222222222222,
              "#7201a8"
             ],
             [
              0.3333333333333333,
              "#9c179e"
             ],
             [
              0.4444444444444444,
              "#bd3786"
             ],
             [
              0.5555555555555556,
              "#d8576b"
             ],
             [
              0.6666666666666666,
              "#ed7953"
             ],
             [
              0.7777777777777778,
              "#fb9f3a"
             ],
             [
              0.8888888888888888,
              "#fdca26"
             ],
             [
              1,
              "#f0f921"
             ]
            ],
            "type": "histogram2dcontour"
           }
          ],
          "mesh3d": [
           {
            "colorbar": {
             "outlinewidth": 0,
             "ticks": ""
            },
            "type": "mesh3d"
           }
          ],
          "parcoords": [
           {
            "line": {
             "colorbar": {
              "outlinewidth": 0,
              "ticks": ""
             }
            },
            "type": "parcoords"
           }
          ],
          "pie": [
           {
            "automargin": true,
            "type": "pie"
           }
          ],
          "scatter": [
           {
            "fillpattern": {
             "fillmode": "overlay",
             "size": 10,
             "solidity": 0.2
            },
            "type": "scatter"
           }
          ],
          "scatter3d": [
           {
            "line": {
             "colorbar": {
              "outlinewidth": 0,
              "ticks": ""
             }
            },
            "marker": {
             "colorbar": {
              "outlinewidth": 0,
              "ticks": ""
             }
            },
            "type": "scatter3d"
           }
          ],
          "scattercarpet": [
           {
            "marker": {
             "colorbar": {
              "outlinewidth": 0,
              "ticks": ""
             }
            },
            "type": "scattercarpet"
           }
          ],
          "scattergeo": [
           {
            "marker": {
             "colorbar": {
              "outlinewidth": 0,
              "ticks": ""
             }
            },
            "type": "scattergeo"
           }
          ],
          "scattergl": [
           {
            "marker": {
             "colorbar": {
              "outlinewidth": 0,
              "ticks": ""
             }
            },
            "type": "scattergl"
           }
          ],
          "scattermap": [
           {
            "marker": {
             "colorbar": {
              "outlinewidth": 0,
              "ticks": ""
             }
            },
            "type": "scattermap"
           }
          ],
          "scattermapbox": [
           {
            "marker": {
             "colorbar": {
              "outlinewidth": 0,
              "ticks": ""
             }
            },
            "type": "scattermapbox"
           }
          ],
          "scatterpolar": [
           {
            "marker": {
             "colorbar": {
              "outlinewidth": 0,
              "ticks": ""
             }
            },
            "type": "scatterpolar"
           }
          ],
          "scatterpolargl": [
           {
            "marker": {
             "colorbar": {
              "outlinewidth": 0,
              "ticks": ""
             }
            },
            "type": "scatterpolargl"
           }
          ],
          "scatterternary": [
           {
            "marker": {
             "colorbar": {
              "outlinewidth": 0,
              "ticks": ""
             }
            },
            "type": "scatterternary"
           }
          ],
          "surface": [
           {
            "colorbar": {
             "outlinewidth": 0,
             "ticks": ""
            },
            "colorscale": [
             [
              0,
              "#0d0887"
             ],
             [
              0.1111111111111111,
              "#46039f"
             ],
             [
              0.2222222222222222,
              "#7201a8"
             ],
             [
              0.3333333333333333,
              "#9c179e"
             ],
             [
              0.4444444444444444,
              "#bd3786"
             ],
             [
              0.5555555555555556,
              "#d8576b"
             ],
             [
              0.6666666666666666,
              "#ed7953"
             ],
             [
              0.7777777777777778,
              "#fb9f3a"
             ],
             [
              0.8888888888888888,
              "#fdca26"
             ],
             [
              1,
              "#f0f921"
             ]
            ],
            "type": "surface"
           }
          ],
          "table": [
           {
            "cells": {
             "fill": {
              "color": "#EBF0F8"
             },
             "line": {
              "color": "white"
             }
            },
            "header": {
             "fill": {
              "color": "#C8D4E3"
             },
             "line": {
              "color": "white"
             }
            },
            "type": "table"
           }
          ]
         },
         "layout": {
          "annotationdefaults": {
           "arrowcolor": "#2a3f5f",
           "arrowhead": 0,
           "arrowwidth": 1
          },
          "autotypenumbers": "strict",
          "coloraxis": {
           "colorbar": {
            "outlinewidth": 0,
            "ticks": ""
           }
          },
          "colorscale": {
           "diverging": [
            [
             0,
             "#8e0152"
            ],
            [
             0.1,
             "#c51b7d"
            ],
            [
             0.2,
             "#de77ae"
            ],
            [
             0.3,
             "#f1b6da"
            ],
            [
             0.4,
             "#fde0ef"
            ],
            [
             0.5,
             "#f7f7f7"
            ],
            [
             0.6,
             "#e6f5d0"
            ],
            [
             0.7,
             "#b8e186"
            ],
            [
             0.8,
             "#7fbc41"
            ],
            [
             0.9,
             "#4d9221"
            ],
            [
             1,
             "#276419"
            ]
           ],
           "sequential": [
            [
             0,
             "#0d0887"
            ],
            [
             0.1111111111111111,
             "#46039f"
            ],
            [
             0.2222222222222222,
             "#7201a8"
            ],
            [
             0.3333333333333333,
             "#9c179e"
            ],
            [
             0.4444444444444444,
             "#bd3786"
            ],
            [
             0.5555555555555556,
             "#d8576b"
            ],
            [
             0.6666666666666666,
             "#ed7953"
            ],
            [
             0.7777777777777778,
             "#fb9f3a"
            ],
            [
             0.8888888888888888,
             "#fdca26"
            ],
            [
             1,
             "#f0f921"
            ]
           ],
           "sequentialminus": [
            [
             0,
             "#0d0887"
            ],
            [
             0.1111111111111111,
             "#46039f"
            ],
            [
             0.2222222222222222,
             "#7201a8"
            ],
            [
             0.3333333333333333,
             "#9c179e"
            ],
            [
             0.4444444444444444,
             "#bd3786"
            ],
            [
             0.5555555555555556,
             "#d8576b"
            ],
            [
             0.6666666666666666,
             "#ed7953"
            ],
            [
             0.7777777777777778,
             "#fb9f3a"
            ],
            [
             0.8888888888888888,
             "#fdca26"
            ],
            [
             1,
             "#f0f921"
            ]
           ]
          },
          "colorway": [
           "#636efa",
           "#EF553B",
           "#00cc96",
           "#ab63fa",
           "#FFA15A",
           "#19d3f3",
           "#FF6692",
           "#B6E880",
           "#FF97FF",
           "#FECB52"
          ],
          "font": {
           "color": "#2a3f5f"
          },
          "geo": {
           "bgcolor": "white",
           "lakecolor": "white",
           "landcolor": "#E5ECF6",
           "showlakes": true,
           "showland": true,
           "subunitcolor": "white"
          },
          "hoverlabel": {
           "align": "left"
          },
          "hovermode": "closest",
          "mapbox": {
           "style": "light"
          },
          "paper_bgcolor": "white",
          "plot_bgcolor": "#E5ECF6",
          "polar": {
           "angularaxis": {
            "gridcolor": "white",
            "linecolor": "white",
            "ticks": ""
           },
           "bgcolor": "#E5ECF6",
           "radialaxis": {
            "gridcolor": "white",
            "linecolor": "white",
            "ticks": ""
           }
          },
          "scene": {
           "xaxis": {
            "backgroundcolor": "#E5ECF6",
            "gridcolor": "white",
            "gridwidth": 2,
            "linecolor": "white",
            "showbackground": true,
            "ticks": "",
            "zerolinecolor": "white"
           },
           "yaxis": {
            "backgroundcolor": "#E5ECF6",
            "gridcolor": "white",
            "gridwidth": 2,
            "linecolor": "white",
            "showbackground": true,
            "ticks": "",
            "zerolinecolor": "white"
           },
           "zaxis": {
            "backgroundcolor": "#E5ECF6",
            "gridcolor": "white",
            "gridwidth": 2,
            "linecolor": "white",
            "showbackground": true,
            "ticks": "",
            "zerolinecolor": "white"
           }
          },
          "shapedefaults": {
           "line": {
            "color": "#2a3f5f"
           }
          },
          "ternary": {
           "aaxis": {
            "gridcolor": "white",
            "linecolor": "white",
            "ticks": ""
           },
           "baxis": {
            "gridcolor": "white",
            "linecolor": "white",
            "ticks": ""
           },
           "bgcolor": "#E5ECF6",
           "caxis": {
            "gridcolor": "white",
            "linecolor": "white",
            "ticks": ""
           }
          },
          "title": {
           "x": 0.05
          },
          "xaxis": {
           "automargin": true,
           "gridcolor": "white",
           "linecolor": "white",
           "ticks": "",
           "title": {
            "standoff": 15
           },
           "zerolinecolor": "white",
           "zerolinewidth": 2
          },
          "yaxis": {
           "automargin": true,
           "gridcolor": "white",
           "linecolor": "white",
           "ticks": "",
           "title": {
            "standoff": 15
           },
           "zerolinecolor": "white",
           "zerolinewidth": 2
          }
         }
        },
        "title": {
         "text": "newton-cg",
         "x": 0.5
        },
        "width": 600,
        "xaxis": {
         "title": {
          "text": "C"
         }
        },
        "yaxis": {
         "title": {
          "text": "F1-мера"
         }
        }
       }
      }
     },
     "metadata": {},
     "output_type": "display_data"
    },
    {
     "data": {
      "application/vnd.plotly.v1+json": {
       "config": {
        "plotlyServerURL": "https://plot.ly"
       },
       "data": [
        {
         "name": "l2",
         "showlegend": true,
         "type": "scatter",
         "x": [
          0.0999755859375,
          0.199951171875,
          0.2998046875,
          0.39990234375,
          0.5,
          0.599609375,
          0.69970703125,
          0.7998046875,
          0.89990234375,
          1,
          1.099609375,
          1.19921875,
          1.2998046875,
          1.3994140625,
          1.5,
          1.599609375,
          1.69921875,
          1.7998046875,
          1.8994140625,
          2,
          2.099609375,
          2.19921875,
          2.298828125,
          2.3984375
         ],
         "y": [
          0.4868035190615836,
          0.4899135446685879,
          0.4899135446685879,
          0.4942528735632184,
          0.4956772334293948,
          0.4942528735632184,
          0.4942528735632184,
          0.4942528735632184,
          0.4942528735632184,
          0.4942528735632184,
          0.4942528735632184,
          0.4942528735632184,
          0.4942528735632184,
          0.4942528735632184,
          0.4942528735632184,
          0.4942528735632184,
          0.4942528735632184,
          0.4942528735632184,
          0.4942528735632184,
          0.4942528735632184,
          0.4942528735632184,
          0.4942528735632184,
          0.4942528735632184,
          0.4942528735632184
         ]
        }
       ],
       "layout": {
        "autosize": false,
        "height": 400,
        "template": {
         "data": {
          "bar": [
           {
            "error_x": {
             "color": "#2a3f5f"
            },
            "error_y": {
             "color": "#2a3f5f"
            },
            "marker": {
             "line": {
              "color": "#E5ECF6",
              "width": 0.5
             },
             "pattern": {
              "fillmode": "overlay",
              "size": 10,
              "solidity": 0.2
             }
            },
            "type": "bar"
           }
          ],
          "barpolar": [
           {
            "marker": {
             "line": {
              "color": "#E5ECF6",
              "width": 0.5
             },
             "pattern": {
              "fillmode": "overlay",
              "size": 10,
              "solidity": 0.2
             }
            },
            "type": "barpolar"
           }
          ],
          "carpet": [
           {
            "aaxis": {
             "endlinecolor": "#2a3f5f",
             "gridcolor": "white",
             "linecolor": "white",
             "minorgridcolor": "white",
             "startlinecolor": "#2a3f5f"
            },
            "baxis": {
             "endlinecolor": "#2a3f5f",
             "gridcolor": "white",
             "linecolor": "white",
             "minorgridcolor": "white",
             "startlinecolor": "#2a3f5f"
            },
            "type": "carpet"
           }
          ],
          "choropleth": [
           {
            "colorbar": {
             "outlinewidth": 0,
             "ticks": ""
            },
            "type": "choropleth"
           }
          ],
          "contour": [
           {
            "colorbar": {
             "outlinewidth": 0,
             "ticks": ""
            },
            "colorscale": [
             [
              0,
              "#0d0887"
             ],
             [
              0.1111111111111111,
              "#46039f"
             ],
             [
              0.2222222222222222,
              "#7201a8"
             ],
             [
              0.3333333333333333,
              "#9c179e"
             ],
             [
              0.4444444444444444,
              "#bd3786"
             ],
             [
              0.5555555555555556,
              "#d8576b"
             ],
             [
              0.6666666666666666,
              "#ed7953"
             ],
             [
              0.7777777777777778,
              "#fb9f3a"
             ],
             [
              0.8888888888888888,
              "#fdca26"
             ],
             [
              1,
              "#f0f921"
             ]
            ],
            "type": "contour"
           }
          ],
          "contourcarpet": [
           {
            "colorbar": {
             "outlinewidth": 0,
             "ticks": ""
            },
            "type": "contourcarpet"
           }
          ],
          "heatmap": [
           {
            "colorbar": {
             "outlinewidth": 0,
             "ticks": ""
            },
            "colorscale": [
             [
              0,
              "#0d0887"
             ],
             [
              0.1111111111111111,
              "#46039f"
             ],
             [
              0.2222222222222222,
              "#7201a8"
             ],
             [
              0.3333333333333333,
              "#9c179e"
             ],
             [
              0.4444444444444444,
              "#bd3786"
             ],
             [
              0.5555555555555556,
              "#d8576b"
             ],
             [
              0.6666666666666666,
              "#ed7953"
             ],
             [
              0.7777777777777778,
              "#fb9f3a"
             ],
             [
              0.8888888888888888,
              "#fdca26"
             ],
             [
              1,
              "#f0f921"
             ]
            ],
            "type": "heatmap"
           }
          ],
          "histogram": [
           {
            "marker": {
             "pattern": {
              "fillmode": "overlay",
              "size": 10,
              "solidity": 0.2
             }
            },
            "type": "histogram"
           }
          ],
          "histogram2d": [
           {
            "colorbar": {
             "outlinewidth": 0,
             "ticks": ""
            },
            "colorscale": [
             [
              0,
              "#0d0887"
             ],
             [
              0.1111111111111111,
              "#46039f"
             ],
             [
              0.2222222222222222,
              "#7201a8"
             ],
             [
              0.3333333333333333,
              "#9c179e"
             ],
             [
              0.4444444444444444,
              "#bd3786"
             ],
             [
              0.5555555555555556,
              "#d8576b"
             ],
             [
              0.6666666666666666,
              "#ed7953"
             ],
             [
              0.7777777777777778,
              "#fb9f3a"
             ],
             [
              0.8888888888888888,
              "#fdca26"
             ],
             [
              1,
              "#f0f921"
             ]
            ],
            "type": "histogram2d"
           }
          ],
          "histogram2dcontour": [
           {
            "colorbar": {
             "outlinewidth": 0,
             "ticks": ""
            },
            "colorscale": [
             [
              0,
              "#0d0887"
             ],
             [
              0.1111111111111111,
              "#46039f"
             ],
             [
              0.2222222222222222,
              "#7201a8"
             ],
             [
              0.3333333333333333,
              "#9c179e"
             ],
             [
              0.4444444444444444,
              "#bd3786"
             ],
             [
              0.5555555555555556,
              "#d8576b"
             ],
             [
              0.6666666666666666,
              "#ed7953"
             ],
             [
              0.7777777777777778,
              "#fb9f3a"
             ],
             [
              0.8888888888888888,
              "#fdca26"
             ],
             [
              1,
              "#f0f921"
             ]
            ],
            "type": "histogram2dcontour"
           }
          ],
          "mesh3d": [
           {
            "colorbar": {
             "outlinewidth": 0,
             "ticks": ""
            },
            "type": "mesh3d"
           }
          ],
          "parcoords": [
           {
            "line": {
             "colorbar": {
              "outlinewidth": 0,
              "ticks": ""
             }
            },
            "type": "parcoords"
           }
          ],
          "pie": [
           {
            "automargin": true,
            "type": "pie"
           }
          ],
          "scatter": [
           {
            "fillpattern": {
             "fillmode": "overlay",
             "size": 10,
             "solidity": 0.2
            },
            "type": "scatter"
           }
          ],
          "scatter3d": [
           {
            "line": {
             "colorbar": {
              "outlinewidth": 0,
              "ticks": ""
             }
            },
            "marker": {
             "colorbar": {
              "outlinewidth": 0,
              "ticks": ""
             }
            },
            "type": "scatter3d"
           }
          ],
          "scattercarpet": [
           {
            "marker": {
             "colorbar": {
              "outlinewidth": 0,
              "ticks": ""
             }
            },
            "type": "scattercarpet"
           }
          ],
          "scattergeo": [
           {
            "marker": {
             "colorbar": {
              "outlinewidth": 0,
              "ticks": ""
             }
            },
            "type": "scattergeo"
           }
          ],
          "scattergl": [
           {
            "marker": {
             "colorbar": {
              "outlinewidth": 0,
              "ticks": ""
             }
            },
            "type": "scattergl"
           }
          ],
          "scattermap": [
           {
            "marker": {
             "colorbar": {
              "outlinewidth": 0,
              "ticks": ""
             }
            },
            "type": "scattermap"
           }
          ],
          "scattermapbox": [
           {
            "marker": {
             "colorbar": {
              "outlinewidth": 0,
              "ticks": ""
             }
            },
            "type": "scattermapbox"
           }
          ],
          "scatterpolar": [
           {
            "marker": {
             "colorbar": {
              "outlinewidth": 0,
              "ticks": ""
             }
            },
            "type": "scatterpolar"
           }
          ],
          "scatterpolargl": [
           {
            "marker": {
             "colorbar": {
              "outlinewidth": 0,
              "ticks": ""
             }
            },
            "type": "scatterpolargl"
           }
          ],
          "scatterternary": [
           {
            "marker": {
             "colorbar": {
              "outlinewidth": 0,
              "ticks": ""
             }
            },
            "type": "scatterternary"
           }
          ],
          "surface": [
           {
            "colorbar": {
             "outlinewidth": 0,
             "ticks": ""
            },
            "colorscale": [
             [
              0,
              "#0d0887"
             ],
             [
              0.1111111111111111,
              "#46039f"
             ],
             [
              0.2222222222222222,
              "#7201a8"
             ],
             [
              0.3333333333333333,
              "#9c179e"
             ],
             [
              0.4444444444444444,
              "#bd3786"
             ],
             [
              0.5555555555555556,
              "#d8576b"
             ],
             [
              0.6666666666666666,
              "#ed7953"
             ],
             [
              0.7777777777777778,
              "#fb9f3a"
             ],
             [
              0.8888888888888888,
              "#fdca26"
             ],
             [
              1,
              "#f0f921"
             ]
            ],
            "type": "surface"
           }
          ],
          "table": [
           {
            "cells": {
             "fill": {
              "color": "#EBF0F8"
             },
             "line": {
              "color": "white"
             }
            },
            "header": {
             "fill": {
              "color": "#C8D4E3"
             },
             "line": {
              "color": "white"
             }
            },
            "type": "table"
           }
          ]
         },
         "layout": {
          "annotationdefaults": {
           "arrowcolor": "#2a3f5f",
           "arrowhead": 0,
           "arrowwidth": 1
          },
          "autotypenumbers": "strict",
          "coloraxis": {
           "colorbar": {
            "outlinewidth": 0,
            "ticks": ""
           }
          },
          "colorscale": {
           "diverging": [
            [
             0,
             "#8e0152"
            ],
            [
             0.1,
             "#c51b7d"
            ],
            [
             0.2,
             "#de77ae"
            ],
            [
             0.3,
             "#f1b6da"
            ],
            [
             0.4,
             "#fde0ef"
            ],
            [
             0.5,
             "#f7f7f7"
            ],
            [
             0.6,
             "#e6f5d0"
            ],
            [
             0.7,
             "#b8e186"
            ],
            [
             0.8,
             "#7fbc41"
            ],
            [
             0.9,
             "#4d9221"
            ],
            [
             1,
             "#276419"
            ]
           ],
           "sequential": [
            [
             0,
             "#0d0887"
            ],
            [
             0.1111111111111111,
             "#46039f"
            ],
            [
             0.2222222222222222,
             "#7201a8"
            ],
            [
             0.3333333333333333,
             "#9c179e"
            ],
            [
             0.4444444444444444,
             "#bd3786"
            ],
            [
             0.5555555555555556,
             "#d8576b"
            ],
            [
             0.6666666666666666,
             "#ed7953"
            ],
            [
             0.7777777777777778,
             "#fb9f3a"
            ],
            [
             0.8888888888888888,
             "#fdca26"
            ],
            [
             1,
             "#f0f921"
            ]
           ],
           "sequentialminus": [
            [
             0,
             "#0d0887"
            ],
            [
             0.1111111111111111,
             "#46039f"
            ],
            [
             0.2222222222222222,
             "#7201a8"
            ],
            [
             0.3333333333333333,
             "#9c179e"
            ],
            [
             0.4444444444444444,
             "#bd3786"
            ],
            [
             0.5555555555555556,
             "#d8576b"
            ],
            [
             0.6666666666666666,
             "#ed7953"
            ],
            [
             0.7777777777777778,
             "#fb9f3a"
            ],
            [
             0.8888888888888888,
             "#fdca26"
            ],
            [
             1,
             "#f0f921"
            ]
           ]
          },
          "colorway": [
           "#636efa",
           "#EF553B",
           "#00cc96",
           "#ab63fa",
           "#FFA15A",
           "#19d3f3",
           "#FF6692",
           "#B6E880",
           "#FF97FF",
           "#FECB52"
          ],
          "font": {
           "color": "#2a3f5f"
          },
          "geo": {
           "bgcolor": "white",
           "lakecolor": "white",
           "landcolor": "#E5ECF6",
           "showlakes": true,
           "showland": true,
           "subunitcolor": "white"
          },
          "hoverlabel": {
           "align": "left"
          },
          "hovermode": "closest",
          "mapbox": {
           "style": "light"
          },
          "paper_bgcolor": "white",
          "plot_bgcolor": "#E5ECF6",
          "polar": {
           "angularaxis": {
            "gridcolor": "white",
            "linecolor": "white",
            "ticks": ""
           },
           "bgcolor": "#E5ECF6",
           "radialaxis": {
            "gridcolor": "white",
            "linecolor": "white",
            "ticks": ""
           }
          },
          "scene": {
           "xaxis": {
            "backgroundcolor": "#E5ECF6",
            "gridcolor": "white",
            "gridwidth": 2,
            "linecolor": "white",
            "showbackground": true,
            "ticks": "",
            "zerolinecolor": "white"
           },
           "yaxis": {
            "backgroundcolor": "#E5ECF6",
            "gridcolor": "white",
            "gridwidth": 2,
            "linecolor": "white",
            "showbackground": true,
            "ticks": "",
            "zerolinecolor": "white"
           },
           "zaxis": {
            "backgroundcolor": "#E5ECF6",
            "gridcolor": "white",
            "gridwidth": 2,
            "linecolor": "white",
            "showbackground": true,
            "ticks": "",
            "zerolinecolor": "white"
           }
          },
          "shapedefaults": {
           "line": {
            "color": "#2a3f5f"
           }
          },
          "ternary": {
           "aaxis": {
            "gridcolor": "white",
            "linecolor": "white",
            "ticks": ""
           },
           "baxis": {
            "gridcolor": "white",
            "linecolor": "white",
            "ticks": ""
           },
           "bgcolor": "#E5ECF6",
           "caxis": {
            "gridcolor": "white",
            "linecolor": "white",
            "ticks": ""
           }
          },
          "title": {
           "x": 0.05
          },
          "xaxis": {
           "automargin": true,
           "gridcolor": "white",
           "linecolor": "white",
           "ticks": "",
           "title": {
            "standoff": 15
           },
           "zerolinecolor": "white",
           "zerolinewidth": 2
          },
          "yaxis": {
           "automargin": true,
           "gridcolor": "white",
           "linecolor": "white",
           "ticks": "",
           "title": {
            "standoff": 15
           },
           "zerolinecolor": "white",
           "zerolinewidth": 2
          }
         }
        },
        "title": {
         "text": "newton-cholesky",
         "x": 0.5
        },
        "width": 600,
        "xaxis": {
         "title": {
          "text": "C"
         }
        },
        "yaxis": {
         "title": {
          "text": "F1-мера"
         }
        }
       }
      }
     },
     "metadata": {},
     "output_type": "display_data"
    },
    {
     "data": {
      "application/vnd.plotly.v1+json": {
       "config": {
        "plotlyServerURL": "https://plot.ly"
       },
       "data": [
        {
         "name": "l2",
         "showlegend": true,
         "type": "scatter",
         "x": [
          0.0999755859375,
          0.199951171875,
          0.2998046875,
          0.39990234375,
          0.5,
          0.599609375,
          0.69970703125,
          0.7998046875,
          0.89990234375,
          1,
          1.099609375,
          1.19921875,
          1.2998046875,
          1.3994140625,
          1.5,
          1.599609375,
          1.69921875,
          1.7998046875,
          1.8994140625,
          2,
          2.099609375,
          2.19921875,
          2.298828125,
          2.3984375
         ],
         "y": [
          0.4868035190615836,
          0.4899135446685879,
          0.4899135446685879,
          0.4942528735632184,
          0.4956772334293948,
          0.4942528735632184,
          0.4942528735632184,
          0.4942528735632184,
          0.4942528735632184,
          0.4942528735632184,
          0.4942528735632184,
          0.4942528735632184,
          0.4942528735632184,
          0.4942528735632184,
          0.4942528735632184,
          0.4942528735632184,
          0.4942528735632184,
          0.4942528735632184,
          0.4942528735632184,
          0.4942528735632184,
          0.4942528735632184,
          0.4942528735632184,
          0.4942528735632184,
          0.4942528735632184
         ]
        }
       ],
       "layout": {
        "autosize": false,
        "height": 400,
        "template": {
         "data": {
          "bar": [
           {
            "error_x": {
             "color": "#2a3f5f"
            },
            "error_y": {
             "color": "#2a3f5f"
            },
            "marker": {
             "line": {
              "color": "#E5ECF6",
              "width": 0.5
             },
             "pattern": {
              "fillmode": "overlay",
              "size": 10,
              "solidity": 0.2
             }
            },
            "type": "bar"
           }
          ],
          "barpolar": [
           {
            "marker": {
             "line": {
              "color": "#E5ECF6",
              "width": 0.5
             },
             "pattern": {
              "fillmode": "overlay",
              "size": 10,
              "solidity": 0.2
             }
            },
            "type": "barpolar"
           }
          ],
          "carpet": [
           {
            "aaxis": {
             "endlinecolor": "#2a3f5f",
             "gridcolor": "white",
             "linecolor": "white",
             "minorgridcolor": "white",
             "startlinecolor": "#2a3f5f"
            },
            "baxis": {
             "endlinecolor": "#2a3f5f",
             "gridcolor": "white",
             "linecolor": "white",
             "minorgridcolor": "white",
             "startlinecolor": "#2a3f5f"
            },
            "type": "carpet"
           }
          ],
          "choropleth": [
           {
            "colorbar": {
             "outlinewidth": 0,
             "ticks": ""
            },
            "type": "choropleth"
           }
          ],
          "contour": [
           {
            "colorbar": {
             "outlinewidth": 0,
             "ticks": ""
            },
            "colorscale": [
             [
              0,
              "#0d0887"
             ],
             [
              0.1111111111111111,
              "#46039f"
             ],
             [
              0.2222222222222222,
              "#7201a8"
             ],
             [
              0.3333333333333333,
              "#9c179e"
             ],
             [
              0.4444444444444444,
              "#bd3786"
             ],
             [
              0.5555555555555556,
              "#d8576b"
             ],
             [
              0.6666666666666666,
              "#ed7953"
             ],
             [
              0.7777777777777778,
              "#fb9f3a"
             ],
             [
              0.8888888888888888,
              "#fdca26"
             ],
             [
              1,
              "#f0f921"
             ]
            ],
            "type": "contour"
           }
          ],
          "contourcarpet": [
           {
            "colorbar": {
             "outlinewidth": 0,
             "ticks": ""
            },
            "type": "contourcarpet"
           }
          ],
          "heatmap": [
           {
            "colorbar": {
             "outlinewidth": 0,
             "ticks": ""
            },
            "colorscale": [
             [
              0,
              "#0d0887"
             ],
             [
              0.1111111111111111,
              "#46039f"
             ],
             [
              0.2222222222222222,
              "#7201a8"
             ],
             [
              0.3333333333333333,
              "#9c179e"
             ],
             [
              0.4444444444444444,
              "#bd3786"
             ],
             [
              0.5555555555555556,
              "#d8576b"
             ],
             [
              0.6666666666666666,
              "#ed7953"
             ],
             [
              0.7777777777777778,
              "#fb9f3a"
             ],
             [
              0.8888888888888888,
              "#fdca26"
             ],
             [
              1,
              "#f0f921"
             ]
            ],
            "type": "heatmap"
           }
          ],
          "histogram": [
           {
            "marker": {
             "pattern": {
              "fillmode": "overlay",
              "size": 10,
              "solidity": 0.2
             }
            },
            "type": "histogram"
           }
          ],
          "histogram2d": [
           {
            "colorbar": {
             "outlinewidth": 0,
             "ticks": ""
            },
            "colorscale": [
             [
              0,
              "#0d0887"
             ],
             [
              0.1111111111111111,
              "#46039f"
             ],
             [
              0.2222222222222222,
              "#7201a8"
             ],
             [
              0.3333333333333333,
              "#9c179e"
             ],
             [
              0.4444444444444444,
              "#bd3786"
             ],
             [
              0.5555555555555556,
              "#d8576b"
             ],
             [
              0.6666666666666666,
              "#ed7953"
             ],
             [
              0.7777777777777778,
              "#fb9f3a"
             ],
             [
              0.8888888888888888,
              "#fdca26"
             ],
             [
              1,
              "#f0f921"
             ]
            ],
            "type": "histogram2d"
           }
          ],
          "histogram2dcontour": [
           {
            "colorbar": {
             "outlinewidth": 0,
             "ticks": ""
            },
            "colorscale": [
             [
              0,
              "#0d0887"
             ],
             [
              0.1111111111111111,
              "#46039f"
             ],
             [
              0.2222222222222222,
              "#7201a8"
             ],
             [
              0.3333333333333333,
              "#9c179e"
             ],
             [
              0.4444444444444444,
              "#bd3786"
             ],
             [
              0.5555555555555556,
              "#d8576b"
             ],
             [
              0.6666666666666666,
              "#ed7953"
             ],
             [
              0.7777777777777778,
              "#fb9f3a"
             ],
             [
              0.8888888888888888,
              "#fdca26"
             ],
             [
              1,
              "#f0f921"
             ]
            ],
            "type": "histogram2dcontour"
           }
          ],
          "mesh3d": [
           {
            "colorbar": {
             "outlinewidth": 0,
             "ticks": ""
            },
            "type": "mesh3d"
           }
          ],
          "parcoords": [
           {
            "line": {
             "colorbar": {
              "outlinewidth": 0,
              "ticks": ""
             }
            },
            "type": "parcoords"
           }
          ],
          "pie": [
           {
            "automargin": true,
            "type": "pie"
           }
          ],
          "scatter": [
           {
            "fillpattern": {
             "fillmode": "overlay",
             "size": 10,
             "solidity": 0.2
            },
            "type": "scatter"
           }
          ],
          "scatter3d": [
           {
            "line": {
             "colorbar": {
              "outlinewidth": 0,
              "ticks": ""
             }
            },
            "marker": {
             "colorbar": {
              "outlinewidth": 0,
              "ticks": ""
             }
            },
            "type": "scatter3d"
           }
          ],
          "scattercarpet": [
           {
            "marker": {
             "colorbar": {
              "outlinewidth": 0,
              "ticks": ""
             }
            },
            "type": "scattercarpet"
           }
          ],
          "scattergeo": [
           {
            "marker": {
             "colorbar": {
              "outlinewidth": 0,
              "ticks": ""
             }
            },
            "type": "scattergeo"
           }
          ],
          "scattergl": [
           {
            "marker": {
             "colorbar": {
              "outlinewidth": 0,
              "ticks": ""
             }
            },
            "type": "scattergl"
           }
          ],
          "scattermap": [
           {
            "marker": {
             "colorbar": {
              "outlinewidth": 0,
              "ticks": ""
             }
            },
            "type": "scattermap"
           }
          ],
          "scattermapbox": [
           {
            "marker": {
             "colorbar": {
              "outlinewidth": 0,
              "ticks": ""
             }
            },
            "type": "scattermapbox"
           }
          ],
          "scatterpolar": [
           {
            "marker": {
             "colorbar": {
              "outlinewidth": 0,
              "ticks": ""
             }
            },
            "type": "scatterpolar"
           }
          ],
          "scatterpolargl": [
           {
            "marker": {
             "colorbar": {
              "outlinewidth": 0,
              "ticks": ""
             }
            },
            "type": "scatterpolargl"
           }
          ],
          "scatterternary": [
           {
            "marker": {
             "colorbar": {
              "outlinewidth": 0,
              "ticks": ""
             }
            },
            "type": "scatterternary"
           }
          ],
          "surface": [
           {
            "colorbar": {
             "outlinewidth": 0,
             "ticks": ""
            },
            "colorscale": [
             [
              0,
              "#0d0887"
             ],
             [
              0.1111111111111111,
              "#46039f"
             ],
             [
              0.2222222222222222,
              "#7201a8"
             ],
             [
              0.3333333333333333,
              "#9c179e"
             ],
             [
              0.4444444444444444,
              "#bd3786"
             ],
             [
              0.5555555555555556,
              "#d8576b"
             ],
             [
              0.6666666666666666,
              "#ed7953"
             ],
             [
              0.7777777777777778,
              "#fb9f3a"
             ],
             [
              0.8888888888888888,
              "#fdca26"
             ],
             [
              1,
              "#f0f921"
             ]
            ],
            "type": "surface"
           }
          ],
          "table": [
           {
            "cells": {
             "fill": {
              "color": "#EBF0F8"
             },
             "line": {
              "color": "white"
             }
            },
            "header": {
             "fill": {
              "color": "#C8D4E3"
             },
             "line": {
              "color": "white"
             }
            },
            "type": "table"
           }
          ]
         },
         "layout": {
          "annotationdefaults": {
           "arrowcolor": "#2a3f5f",
           "arrowhead": 0,
           "arrowwidth": 1
          },
          "autotypenumbers": "strict",
          "coloraxis": {
           "colorbar": {
            "outlinewidth": 0,
            "ticks": ""
           }
          },
          "colorscale": {
           "diverging": [
            [
             0,
             "#8e0152"
            ],
            [
             0.1,
             "#c51b7d"
            ],
            [
             0.2,
             "#de77ae"
            ],
            [
             0.3,
             "#f1b6da"
            ],
            [
             0.4,
             "#fde0ef"
            ],
            [
             0.5,
             "#f7f7f7"
            ],
            [
             0.6,
             "#e6f5d0"
            ],
            [
             0.7,
             "#b8e186"
            ],
            [
             0.8,
             "#7fbc41"
            ],
            [
             0.9,
             "#4d9221"
            ],
            [
             1,
             "#276419"
            ]
           ],
           "sequential": [
            [
             0,
             "#0d0887"
            ],
            [
             0.1111111111111111,
             "#46039f"
            ],
            [
             0.2222222222222222,
             "#7201a8"
            ],
            [
             0.3333333333333333,
             "#9c179e"
            ],
            [
             0.4444444444444444,
             "#bd3786"
            ],
            [
             0.5555555555555556,
             "#d8576b"
            ],
            [
             0.6666666666666666,
             "#ed7953"
            ],
            [
             0.7777777777777778,
             "#fb9f3a"
            ],
            [
             0.8888888888888888,
             "#fdca26"
            ],
            [
             1,
             "#f0f921"
            ]
           ],
           "sequentialminus": [
            [
             0,
             "#0d0887"
            ],
            [
             0.1111111111111111,
             "#46039f"
            ],
            [
             0.2222222222222222,
             "#7201a8"
            ],
            [
             0.3333333333333333,
             "#9c179e"
            ],
            [
             0.4444444444444444,
             "#bd3786"
            ],
            [
             0.5555555555555556,
             "#d8576b"
            ],
            [
             0.6666666666666666,
             "#ed7953"
            ],
            [
             0.7777777777777778,
             "#fb9f3a"
            ],
            [
             0.8888888888888888,
             "#fdca26"
            ],
            [
             1,
             "#f0f921"
            ]
           ]
          },
          "colorway": [
           "#636efa",
           "#EF553B",
           "#00cc96",
           "#ab63fa",
           "#FFA15A",
           "#19d3f3",
           "#FF6692",
           "#B6E880",
           "#FF97FF",
           "#FECB52"
          ],
          "font": {
           "color": "#2a3f5f"
          },
          "geo": {
           "bgcolor": "white",
           "lakecolor": "white",
           "landcolor": "#E5ECF6",
           "showlakes": true,
           "showland": true,
           "subunitcolor": "white"
          },
          "hoverlabel": {
           "align": "left"
          },
          "hovermode": "closest",
          "mapbox": {
           "style": "light"
          },
          "paper_bgcolor": "white",
          "plot_bgcolor": "#E5ECF6",
          "polar": {
           "angularaxis": {
            "gridcolor": "white",
            "linecolor": "white",
            "ticks": ""
           },
           "bgcolor": "#E5ECF6",
           "radialaxis": {
            "gridcolor": "white",
            "linecolor": "white",
            "ticks": ""
           }
          },
          "scene": {
           "xaxis": {
            "backgroundcolor": "#E5ECF6",
            "gridcolor": "white",
            "gridwidth": 2,
            "linecolor": "white",
            "showbackground": true,
            "ticks": "",
            "zerolinecolor": "white"
           },
           "yaxis": {
            "backgroundcolor": "#E5ECF6",
            "gridcolor": "white",
            "gridwidth": 2,
            "linecolor": "white",
            "showbackground": true,
            "ticks": "",
            "zerolinecolor": "white"
           },
           "zaxis": {
            "backgroundcolor": "#E5ECF6",
            "gridcolor": "white",
            "gridwidth": 2,
            "linecolor": "white",
            "showbackground": true,
            "ticks": "",
            "zerolinecolor": "white"
           }
          },
          "shapedefaults": {
           "line": {
            "color": "#2a3f5f"
           }
          },
          "ternary": {
           "aaxis": {
            "gridcolor": "white",
            "linecolor": "white",
            "ticks": ""
           },
           "baxis": {
            "gridcolor": "white",
            "linecolor": "white",
            "ticks": ""
           },
           "bgcolor": "#E5ECF6",
           "caxis": {
            "gridcolor": "white",
            "linecolor": "white",
            "ticks": ""
           }
          },
          "title": {
           "x": 0.05
          },
          "xaxis": {
           "automargin": true,
           "gridcolor": "white",
           "linecolor": "white",
           "ticks": "",
           "title": {
            "standoff": 15
           },
           "zerolinecolor": "white",
           "zerolinewidth": 2
          },
          "yaxis": {
           "automargin": true,
           "gridcolor": "white",
           "linecolor": "white",
           "ticks": "",
           "title": {
            "standoff": 15
           },
           "zerolinecolor": "white",
           "zerolinewidth": 2
          }
         }
        },
        "title": {
         "text": "sag",
         "x": 0.5
        },
        "width": 600,
        "xaxis": {
         "title": {
          "text": "C"
         }
        },
        "yaxis": {
         "title": {
          "text": "F1-мера"
         }
        }
       }
      }
     },
     "metadata": {},
     "output_type": "display_data"
    },
    {
     "data": {
      "application/vnd.plotly.v1+json": {
       "config": {
        "plotlyServerURL": "https://plot.ly"
       },
       "data": [
        {
         "name": "l1",
         "showlegend": true,
         "type": "scatter",
         "x": [
          0.0999755859375,
          0.199951171875,
          0.2998046875,
          0.39990234375,
          0.5,
          0.599609375,
          0.69970703125,
          0.7998046875,
          0.89990234375,
          1,
          1.099609375,
          1.19921875,
          1.2998046875,
          1.3994140625,
          1.5,
          1.599609375,
          1.69921875,
          1.7998046875,
          1.8994140625,
          2,
          2.099609375,
          2.19921875,
          2.298828125,
          2.3984375
         ],
         "y": [
          0.46987951807228917,
          0.4897959183673469,
          0.4913294797687861,
          0.4885057471264368,
          0.4885057471264368,
          0.4899135446685879,
          0.4899135446685879,
          0.4899135446685879,
          0.4899135446685879,
          0.4956772334293948,
          0.4956772334293948,
          0.4956772334293948,
          0.4956772334293948,
          0.4956772334293948,
          0.4956772334293948,
          0.4956772334293948,
          0.4956772334293948,
          0.4956772334293948,
          0.4942528735632184,
          0.4942528735632184,
          0.4942528735632184,
          0.4942528735632184,
          0.4942528735632184,
          0.4942528735632184
         ]
        },
        {
         "name": "l2",
         "showlegend": true,
         "type": "scatter",
         "x": [
          0.0999755859375,
          0.199951171875,
          0.2998046875,
          0.39990234375,
          0.5,
          0.599609375,
          0.69970703125,
          0.7998046875,
          0.89990234375,
          1,
          1.099609375,
          1.19921875,
          1.2998046875,
          1.3994140625,
          1.5,
          1.599609375,
          1.69921875,
          1.7998046875,
          1.8994140625,
          2,
          2.099609375,
          2.19921875,
          2.298828125,
          2.3984375
         ],
         "y": [
          0.4868035190615836,
          0.4899135446685879,
          0.4899135446685879,
          0.4942528735632184,
          0.4956772334293948,
          0.4956772334293948,
          0.4942528735632184,
          0.4942528735632184,
          0.4942528735632184,
          0.4942528735632184,
          0.4942528735632184,
          0.4942528735632184,
          0.4942528735632184,
          0.4942528735632184,
          0.4942528735632184,
          0.4942528735632184,
          0.4942528735632184,
          0.4942528735632184,
          0.4942528735632184,
          0.4942528735632184,
          0.4942528735632184,
          0.4942528735632184,
          0.4942528735632184,
          0.4942528735632184
         ]
        }
       ],
       "layout": {
        "autosize": false,
        "height": 400,
        "template": {
         "data": {
          "bar": [
           {
            "error_x": {
             "color": "#2a3f5f"
            },
            "error_y": {
             "color": "#2a3f5f"
            },
            "marker": {
             "line": {
              "color": "#E5ECF6",
              "width": 0.5
             },
             "pattern": {
              "fillmode": "overlay",
              "size": 10,
              "solidity": 0.2
             }
            },
            "type": "bar"
           }
          ],
          "barpolar": [
           {
            "marker": {
             "line": {
              "color": "#E5ECF6",
              "width": 0.5
             },
             "pattern": {
              "fillmode": "overlay",
              "size": 10,
              "solidity": 0.2
             }
            },
            "type": "barpolar"
           }
          ],
          "carpet": [
           {
            "aaxis": {
             "endlinecolor": "#2a3f5f",
             "gridcolor": "white",
             "linecolor": "white",
             "minorgridcolor": "white",
             "startlinecolor": "#2a3f5f"
            },
            "baxis": {
             "endlinecolor": "#2a3f5f",
             "gridcolor": "white",
             "linecolor": "white",
             "minorgridcolor": "white",
             "startlinecolor": "#2a3f5f"
            },
            "type": "carpet"
           }
          ],
          "choropleth": [
           {
            "colorbar": {
             "outlinewidth": 0,
             "ticks": ""
            },
            "type": "choropleth"
           }
          ],
          "contour": [
           {
            "colorbar": {
             "outlinewidth": 0,
             "ticks": ""
            },
            "colorscale": [
             [
              0,
              "#0d0887"
             ],
             [
              0.1111111111111111,
              "#46039f"
             ],
             [
              0.2222222222222222,
              "#7201a8"
             ],
             [
              0.3333333333333333,
              "#9c179e"
             ],
             [
              0.4444444444444444,
              "#bd3786"
             ],
             [
              0.5555555555555556,
              "#d8576b"
             ],
             [
              0.6666666666666666,
              "#ed7953"
             ],
             [
              0.7777777777777778,
              "#fb9f3a"
             ],
             [
              0.8888888888888888,
              "#fdca26"
             ],
             [
              1,
              "#f0f921"
             ]
            ],
            "type": "contour"
           }
          ],
          "contourcarpet": [
           {
            "colorbar": {
             "outlinewidth": 0,
             "ticks": ""
            },
            "type": "contourcarpet"
           }
          ],
          "heatmap": [
           {
            "colorbar": {
             "outlinewidth": 0,
             "ticks": ""
            },
            "colorscale": [
             [
              0,
              "#0d0887"
             ],
             [
              0.1111111111111111,
              "#46039f"
             ],
             [
              0.2222222222222222,
              "#7201a8"
             ],
             [
              0.3333333333333333,
              "#9c179e"
             ],
             [
              0.4444444444444444,
              "#bd3786"
             ],
             [
              0.5555555555555556,
              "#d8576b"
             ],
             [
              0.6666666666666666,
              "#ed7953"
             ],
             [
              0.7777777777777778,
              "#fb9f3a"
             ],
             [
              0.8888888888888888,
              "#fdca26"
             ],
             [
              1,
              "#f0f921"
             ]
            ],
            "type": "heatmap"
           }
          ],
          "histogram": [
           {
            "marker": {
             "pattern": {
              "fillmode": "overlay",
              "size": 10,
              "solidity": 0.2
             }
            },
            "type": "histogram"
           }
          ],
          "histogram2d": [
           {
            "colorbar": {
             "outlinewidth": 0,
             "ticks": ""
            },
            "colorscale": [
             [
              0,
              "#0d0887"
             ],
             [
              0.1111111111111111,
              "#46039f"
             ],
             [
              0.2222222222222222,
              "#7201a8"
             ],
             [
              0.3333333333333333,
              "#9c179e"
             ],
             [
              0.4444444444444444,
              "#bd3786"
             ],
             [
              0.5555555555555556,
              "#d8576b"
             ],
             [
              0.6666666666666666,
              "#ed7953"
             ],
             [
              0.7777777777777778,
              "#fb9f3a"
             ],
             [
              0.8888888888888888,
              "#fdca26"
             ],
             [
              1,
              "#f0f921"
             ]
            ],
            "type": "histogram2d"
           }
          ],
          "histogram2dcontour": [
           {
            "colorbar": {
             "outlinewidth": 0,
             "ticks": ""
            },
            "colorscale": [
             [
              0,
              "#0d0887"
             ],
             [
              0.1111111111111111,
              "#46039f"
             ],
             [
              0.2222222222222222,
              "#7201a8"
             ],
             [
              0.3333333333333333,
              "#9c179e"
             ],
             [
              0.4444444444444444,
              "#bd3786"
             ],
             [
              0.5555555555555556,
              "#d8576b"
             ],
             [
              0.6666666666666666,
              "#ed7953"
             ],
             [
              0.7777777777777778,
              "#fb9f3a"
             ],
             [
              0.8888888888888888,
              "#fdca26"
             ],
             [
              1,
              "#f0f921"
             ]
            ],
            "type": "histogram2dcontour"
           }
          ],
          "mesh3d": [
           {
            "colorbar": {
             "outlinewidth": 0,
             "ticks": ""
            },
            "type": "mesh3d"
           }
          ],
          "parcoords": [
           {
            "line": {
             "colorbar": {
              "outlinewidth": 0,
              "ticks": ""
             }
            },
            "type": "parcoords"
           }
          ],
          "pie": [
           {
            "automargin": true,
            "type": "pie"
           }
          ],
          "scatter": [
           {
            "fillpattern": {
             "fillmode": "overlay",
             "size": 10,
             "solidity": 0.2
            },
            "type": "scatter"
           }
          ],
          "scatter3d": [
           {
            "line": {
             "colorbar": {
              "outlinewidth": 0,
              "ticks": ""
             }
            },
            "marker": {
             "colorbar": {
              "outlinewidth": 0,
              "ticks": ""
             }
            },
            "type": "scatter3d"
           }
          ],
          "scattercarpet": [
           {
            "marker": {
             "colorbar": {
              "outlinewidth": 0,
              "ticks": ""
             }
            },
            "type": "scattercarpet"
           }
          ],
          "scattergeo": [
           {
            "marker": {
             "colorbar": {
              "outlinewidth": 0,
              "ticks": ""
             }
            },
            "type": "scattergeo"
           }
          ],
          "scattergl": [
           {
            "marker": {
             "colorbar": {
              "outlinewidth": 0,
              "ticks": ""
             }
            },
            "type": "scattergl"
           }
          ],
          "scattermap": [
           {
            "marker": {
             "colorbar": {
              "outlinewidth": 0,
              "ticks": ""
             }
            },
            "type": "scattermap"
           }
          ],
          "scattermapbox": [
           {
            "marker": {
             "colorbar": {
              "outlinewidth": 0,
              "ticks": ""
             }
            },
            "type": "scattermapbox"
           }
          ],
          "scatterpolar": [
           {
            "marker": {
             "colorbar": {
              "outlinewidth": 0,
              "ticks": ""
             }
            },
            "type": "scatterpolar"
           }
          ],
          "scatterpolargl": [
           {
            "marker": {
             "colorbar": {
              "outlinewidth": 0,
              "ticks": ""
             }
            },
            "type": "scatterpolargl"
           }
          ],
          "scatterternary": [
           {
            "marker": {
             "colorbar": {
              "outlinewidth": 0,
              "ticks": ""
             }
            },
            "type": "scatterternary"
           }
          ],
          "surface": [
           {
            "colorbar": {
             "outlinewidth": 0,
             "ticks": ""
            },
            "colorscale": [
             [
              0,
              "#0d0887"
             ],
             [
              0.1111111111111111,
              "#46039f"
             ],
             [
              0.2222222222222222,
              "#7201a8"
             ],
             [
              0.3333333333333333,
              "#9c179e"
             ],
             [
              0.4444444444444444,
              "#bd3786"
             ],
             [
              0.5555555555555556,
              "#d8576b"
             ],
             [
              0.6666666666666666,
              "#ed7953"
             ],
             [
              0.7777777777777778,
              "#fb9f3a"
             ],
             [
              0.8888888888888888,
              "#fdca26"
             ],
             [
              1,
              "#f0f921"
             ]
            ],
            "type": "surface"
           }
          ],
          "table": [
           {
            "cells": {
             "fill": {
              "color": "#EBF0F8"
             },
             "line": {
              "color": "white"
             }
            },
            "header": {
             "fill": {
              "color": "#C8D4E3"
             },
             "line": {
              "color": "white"
             }
            },
            "type": "table"
           }
          ]
         },
         "layout": {
          "annotationdefaults": {
           "arrowcolor": "#2a3f5f",
           "arrowhead": 0,
           "arrowwidth": 1
          },
          "autotypenumbers": "strict",
          "coloraxis": {
           "colorbar": {
            "outlinewidth": 0,
            "ticks": ""
           }
          },
          "colorscale": {
           "diverging": [
            [
             0,
             "#8e0152"
            ],
            [
             0.1,
             "#c51b7d"
            ],
            [
             0.2,
             "#de77ae"
            ],
            [
             0.3,
             "#f1b6da"
            ],
            [
             0.4,
             "#fde0ef"
            ],
            [
             0.5,
             "#f7f7f7"
            ],
            [
             0.6,
             "#e6f5d0"
            ],
            [
             0.7,
             "#b8e186"
            ],
            [
             0.8,
             "#7fbc41"
            ],
            [
             0.9,
             "#4d9221"
            ],
            [
             1,
             "#276419"
            ]
           ],
           "sequential": [
            [
             0,
             "#0d0887"
            ],
            [
             0.1111111111111111,
             "#46039f"
            ],
            [
             0.2222222222222222,
             "#7201a8"
            ],
            [
             0.3333333333333333,
             "#9c179e"
            ],
            [
             0.4444444444444444,
             "#bd3786"
            ],
            [
             0.5555555555555556,
             "#d8576b"
            ],
            [
             0.6666666666666666,
             "#ed7953"
            ],
            [
             0.7777777777777778,
             "#fb9f3a"
            ],
            [
             0.8888888888888888,
             "#fdca26"
            ],
            [
             1,
             "#f0f921"
            ]
           ],
           "sequentialminus": [
            [
             0,
             "#0d0887"
            ],
            [
             0.1111111111111111,
             "#46039f"
            ],
            [
             0.2222222222222222,
             "#7201a8"
            ],
            [
             0.3333333333333333,
             "#9c179e"
            ],
            [
             0.4444444444444444,
             "#bd3786"
            ],
            [
             0.5555555555555556,
             "#d8576b"
            ],
            [
             0.6666666666666666,
             "#ed7953"
            ],
            [
             0.7777777777777778,
             "#fb9f3a"
            ],
            [
             0.8888888888888888,
             "#fdca26"
            ],
            [
             1,
             "#f0f921"
            ]
           ]
          },
          "colorway": [
           "#636efa",
           "#EF553B",
           "#00cc96",
           "#ab63fa",
           "#FFA15A",
           "#19d3f3",
           "#FF6692",
           "#B6E880",
           "#FF97FF",
           "#FECB52"
          ],
          "font": {
           "color": "#2a3f5f"
          },
          "geo": {
           "bgcolor": "white",
           "lakecolor": "white",
           "landcolor": "#E5ECF6",
           "showlakes": true,
           "showland": true,
           "subunitcolor": "white"
          },
          "hoverlabel": {
           "align": "left"
          },
          "hovermode": "closest",
          "mapbox": {
           "style": "light"
          },
          "paper_bgcolor": "white",
          "plot_bgcolor": "#E5ECF6",
          "polar": {
           "angularaxis": {
            "gridcolor": "white",
            "linecolor": "white",
            "ticks": ""
           },
           "bgcolor": "#E5ECF6",
           "radialaxis": {
            "gridcolor": "white",
            "linecolor": "white",
            "ticks": ""
           }
          },
          "scene": {
           "xaxis": {
            "backgroundcolor": "#E5ECF6",
            "gridcolor": "white",
            "gridwidth": 2,
            "linecolor": "white",
            "showbackground": true,
            "ticks": "",
            "zerolinecolor": "white"
           },
           "yaxis": {
            "backgroundcolor": "#E5ECF6",
            "gridcolor": "white",
            "gridwidth": 2,
            "linecolor": "white",
            "showbackground": true,
            "ticks": "",
            "zerolinecolor": "white"
           },
           "zaxis": {
            "backgroundcolor": "#E5ECF6",
            "gridcolor": "white",
            "gridwidth": 2,
            "linecolor": "white",
            "showbackground": true,
            "ticks": "",
            "zerolinecolor": "white"
           }
          },
          "shapedefaults": {
           "line": {
            "color": "#2a3f5f"
           }
          },
          "ternary": {
           "aaxis": {
            "gridcolor": "white",
            "linecolor": "white",
            "ticks": ""
           },
           "baxis": {
            "gridcolor": "white",
            "linecolor": "white",
            "ticks": ""
           },
           "bgcolor": "#E5ECF6",
           "caxis": {
            "gridcolor": "white",
            "linecolor": "white",
            "ticks": ""
           }
          },
          "title": {
           "x": 0.05
          },
          "xaxis": {
           "automargin": true,
           "gridcolor": "white",
           "linecolor": "white",
           "ticks": "",
           "title": {
            "standoff": 15
           },
           "zerolinecolor": "white",
           "zerolinewidth": 2
          },
          "yaxis": {
           "automargin": true,
           "gridcolor": "white",
           "linecolor": "white",
           "ticks": "",
           "title": {
            "standoff": 15
           },
           "zerolinecolor": "white",
           "zerolinewidth": 2
          }
         }
        },
        "title": {
         "text": "saga",
         "x": 0.5
        },
        "width": 600,
        "xaxis": {
         "title": {
          "text": "C"
         }
        },
        "yaxis": {
         "title": {
          "text": "F1-мера"
         }
        }
       }
      }
     },
     "metadata": {},
     "output_type": "display_data"
    }
   ],
   "source": [
    "def show_figure_LogisticRegression_var(X_train, y_train, X_test, y_test, max_C):\n",
    "    # Словарь алгоритмов оптимизации и поддерживаемых им способов регуляризации\n",
    "    methods = {'lbfgs': ['l2'],\n",
    "               'liblinear': ['l1', 'l2'],\n",
    "               'newton-cg': ['l2'],\n",
    "               'newton-cholesky': ['l2'],\n",
    "               'sag': ['l2'],\n",
    "               'saga': ['l1', 'l2']}\n",
    "    # Вычисление и отображение на графике метрик\n",
    "    for method in methods:\n",
    "        fig = go.Figure()\n",
    "        for regl in methods[method]:\n",
    "            f1s = {}\n",
    "            for c in np.arange(0.1, max_C, 0.1, dtype=np.float16):\n",
    "                log_reg = linear_model.LogisticRegression(solver=method, #алгоритм оптимизации\n",
    "                                                          penalty=regl,\n",
    "                                                          C=c,\n",
    "                                                          random_state=42, #генератор случайных чисел\n",
    "                                                          max_iter=1000)\n",
    "                # Обучаем модель, минимизируя logloss\n",
    "                log_reg.fit(X_train, y_train)\n",
    "                # Предсказание для тестовой выборки\n",
    "                y_test_pred = log_reg.predict(X_test)\n",
    "                f1s[c] = metrics.f1_score(y_test, y_test_pred)\n",
    "            # Построение графиков\n",
    "            fig.add_trace(go.Scatter(x=list(f1s.keys()),\n",
    "                                     y=list(f1s.values()),\n",
    "                                     showlegend=True,\n",
    "                                     name=regl))\n",
    "        fig.update_layout(autosize = False, width = 600, height = 400, title=method, title_x=0.5)\n",
    "        fig.update_xaxes(title_text='C')\n",
    "        fig.update_yaxes(title_text='F1-мера')\n",
    "        fig.show()\n",
    "        \n",
    "        \n",
    "show_figure_LogisticRegression_var(X_train_sc_std, y_train, X_test_sc_std, y_test, 2.5)"
   ]
  },
  {
   "cell_type": "code",
   "execution_count": 35,
   "id": "a633253c",
   "metadata": {},
   "outputs": [
    {
     "name": "stdout",
     "output_type": "stream",
     "text": [
      "F1 для тренировочной выборки: 0.515\n",
      "F1 для тестовой выборки: 0.496\n"
     ]
    }
   ],
   "source": [
    "# Создание объекта класса логистическая регрессия\n",
    "log_reg = linear_model.LogisticRegression(\n",
    "    solver='saga', #алгоритм оптимизации\n",
    "    penalty='l1',\n",
    "    random_state=42, #генератор случайных чисел\n",
    "    max_iter=1000 #количество итераций на сходимость\n",
    ")\n",
    "# Обучение модели\n",
    "log_reg.fit(X_train_sc_std, y_train)\n",
    "\n",
    "# Предсказание для тренировочной выборки\n",
    "y_train_pred = log_reg.predict(X_train_sc_std)\n",
    "print(f'F1 для тренировочной выборки: {metrics.f1_score(y_train, y_train_pred):.3f}')\n",
    "\n",
    "# Предсказание для тестовой выборки\n",
    "y_test_pred = log_reg.predict(X_test_sc_std)\n",
    "print(f'F1 для тестовой выборки: {metrics.f1_score(y_test, y_test_pred):.3f}')"
   ]
  },
  {
   "cell_type": "markdown",
   "id": "9258c527",
   "metadata": {
    "id": "9258c527"
   },
   "source": [
    ">Максимальным значением $F_1$-меры для тестовой выборки является **0.496**.  \n",
    "Оно может быть получено:\n",
    ">- при использовании алгоритмов оптимизации *lbfgs*, *newton-cg*, *newton-cholesky* и *sag* при *С* равном *0.5* (алгоритмы поддерживают только $L_2$-регуляризацию);\n",
    ">- при использовании алгоритма оптимизации *liblinear* и $L_2$-регуляризации при *С* в диапазоне от 1.3 до 2.2;\n",
    ">- при использовании алгоритма оптимизации *saga* и $L_2$-регуляризации при *С* в диапазоне от 0.5 до 0.6;\n",
    ">- при использовании алгоритма оптимизации *saga* и $L_1$-регуляризации при *С* в диапазоне от 1 до 1.8.\n",
    ">\n",
    ">Так как полученное значение хоть и незначительно, но меньше установленного порога, то считаем текущую модель ***недообученной***."
   ]
  },
  {
   "cell_type": "markdown",
   "id": "e6709b8d",
   "metadata": {
    "id": "e6709b8d"
   },
   "source": [
    "### Задание 5.5 (2 балла)\n",
    "\n",
    "Сгенерируйте полиномиальные признаки третьей степени для тренировочной и тестовой выборок. Используйте класс `PolynomialFeatures` из библиотеки `sklearn`. Параметр `include_bias` выставите в значение `False`.\n",
    "\n",
    "> **Примечание.** Обратите внимание, что для генерации полиномов необходимо использовать масштабированные данные.\n",
    "\n",
    "Обучите модель логистической регрессии на полиномиальных признаках (`Logistic Regression`). Позаботьтесь о воспроизводимости результат, установив конкретное значение параметра `random_state` (например, число 42).\n",
    "\n",
    "Предскажите метки классов для тренировочной и тестовой выборок.\n",
    "\n",
    "Рассчитайте значение целевой метрики на тренировочной и тестовой выборках для модели, обученной на полиномиальных признаках.\n",
    "\n",
    "Сравните результат с полученным ранее. Удалось ли вам улучшить качество вашей модели?\n",
    "\n",
    "**Дополнительное задание:**\n",
    "\n",
    "Попробуйте поуправлять следующими параметрами модели:\n",
    "* `penalty` — тип используемой регуляризации ('l1' — $L_1$-регуляризация, 'l2' — $L_2$-регуляризация);\n",
    "* `C` — коэффициент, обратный коэффициенту регуляризации (по умолчанию он равен 1).\n",
    "\n",
    "Понаблюдайте, как ведут себя метрики в зависимости от типа регуляризации и увеличения/уменьшения значения парамера `C`."
   ]
  },
  {
   "cell_type": "markdown",
   "id": "af02d772",
   "metadata": {
    "id": "af02d772"
   },
   "source": [
    "**Критерии оценивания:**\n",
    "- Задание выполнено верно, учтены все условия (**2 балла**): \n",
    "    * сгенерированы полиномиальные признаки третьей степени;\n",
    "    * построена модель логистической регрессии, решающая поставленную задачу на основе сгенерированных признаков;\n",
    "    * с помощью полученной модели сформированы предсказания на тренировочной и тестовой выборках;\n",
    "    * приведён расчёт выбранной метрики на тренировочных и тестовых данных (метрика должна быть выбрана корректно);\n",
    "    * приведён небольшой вывод по полученным результатам, в котором содержится корректный ответ на поставленный в задании вопрос.\n",
    "\n",
    "- Задание выполнено верно, но не приведён вывод по полученным результатам или вывод является неверным (**1 балл**).\n",
    "- Задание выполнено неверно, не учтено несколько условий (**0 баллов**)."
   ]
  },
  {
   "cell_type": "code",
   "execution_count": 36,
   "id": "23315092",
   "metadata": {
    "id": "23315092"
   },
   "outputs": [
    {
     "data": {
      "application/vnd.plotly.v1+json": {
       "config": {
        "plotlyServerURL": "https://plot.ly"
       },
       "data": [
        {
         "name": "l2",
         "showlegend": true,
         "type": "scatter",
         "x": [
          0.0999755859375,
          0.199951171875,
          0.2998046875,
          0.39990234375,
          0.5,
          0.599609375,
          0.69970703125,
          0.7998046875,
          0.89990234375,
          1,
          1.099609375,
          1.19921875,
          1.2998046875,
          1.3994140625
         ],
         "y": [
          0.6561679790026247,
          0.6614173228346457,
          0.6614173228346457,
          0.6543535620052771,
          0.6543535620052771,
          0.6578947368421053,
          0.6490765171503958,
          0.6437994722955145,
          0.6421052631578947,
          0.6422976501305483,
          0.640625,
          0.6335078534031413,
          0.6335078534031413,
          0.6335078534031413
         ]
        }
       ],
       "layout": {
        "autosize": false,
        "height": 400,
        "template": {
         "data": {
          "bar": [
           {
            "error_x": {
             "color": "#2a3f5f"
            },
            "error_y": {
             "color": "#2a3f5f"
            },
            "marker": {
             "line": {
              "color": "#E5ECF6",
              "width": 0.5
             },
             "pattern": {
              "fillmode": "overlay",
              "size": 10,
              "solidity": 0.2
             }
            },
            "type": "bar"
           }
          ],
          "barpolar": [
           {
            "marker": {
             "line": {
              "color": "#E5ECF6",
              "width": 0.5
             },
             "pattern": {
              "fillmode": "overlay",
              "size": 10,
              "solidity": 0.2
             }
            },
            "type": "barpolar"
           }
          ],
          "carpet": [
           {
            "aaxis": {
             "endlinecolor": "#2a3f5f",
             "gridcolor": "white",
             "linecolor": "white",
             "minorgridcolor": "white",
             "startlinecolor": "#2a3f5f"
            },
            "baxis": {
             "endlinecolor": "#2a3f5f",
             "gridcolor": "white",
             "linecolor": "white",
             "minorgridcolor": "white",
             "startlinecolor": "#2a3f5f"
            },
            "type": "carpet"
           }
          ],
          "choropleth": [
           {
            "colorbar": {
             "outlinewidth": 0,
             "ticks": ""
            },
            "type": "choropleth"
           }
          ],
          "contour": [
           {
            "colorbar": {
             "outlinewidth": 0,
             "ticks": ""
            },
            "colorscale": [
             [
              0,
              "#0d0887"
             ],
             [
              0.1111111111111111,
              "#46039f"
             ],
             [
              0.2222222222222222,
              "#7201a8"
             ],
             [
              0.3333333333333333,
              "#9c179e"
             ],
             [
              0.4444444444444444,
              "#bd3786"
             ],
             [
              0.5555555555555556,
              "#d8576b"
             ],
             [
              0.6666666666666666,
              "#ed7953"
             ],
             [
              0.7777777777777778,
              "#fb9f3a"
             ],
             [
              0.8888888888888888,
              "#fdca26"
             ],
             [
              1,
              "#f0f921"
             ]
            ],
            "type": "contour"
           }
          ],
          "contourcarpet": [
           {
            "colorbar": {
             "outlinewidth": 0,
             "ticks": ""
            },
            "type": "contourcarpet"
           }
          ],
          "heatmap": [
           {
            "colorbar": {
             "outlinewidth": 0,
             "ticks": ""
            },
            "colorscale": [
             [
              0,
              "#0d0887"
             ],
             [
              0.1111111111111111,
              "#46039f"
             ],
             [
              0.2222222222222222,
              "#7201a8"
             ],
             [
              0.3333333333333333,
              "#9c179e"
             ],
             [
              0.4444444444444444,
              "#bd3786"
             ],
             [
              0.5555555555555556,
              "#d8576b"
             ],
             [
              0.6666666666666666,
              "#ed7953"
             ],
             [
              0.7777777777777778,
              "#fb9f3a"
             ],
             [
              0.8888888888888888,
              "#fdca26"
             ],
             [
              1,
              "#f0f921"
             ]
            ],
            "type": "heatmap"
           }
          ],
          "histogram": [
           {
            "marker": {
             "pattern": {
              "fillmode": "overlay",
              "size": 10,
              "solidity": 0.2
             }
            },
            "type": "histogram"
           }
          ],
          "histogram2d": [
           {
            "colorbar": {
             "outlinewidth": 0,
             "ticks": ""
            },
            "colorscale": [
             [
              0,
              "#0d0887"
             ],
             [
              0.1111111111111111,
              "#46039f"
             ],
             [
              0.2222222222222222,
              "#7201a8"
             ],
             [
              0.3333333333333333,
              "#9c179e"
             ],
             [
              0.4444444444444444,
              "#bd3786"
             ],
             [
              0.5555555555555556,
              "#d8576b"
             ],
             [
              0.6666666666666666,
              "#ed7953"
             ],
             [
              0.7777777777777778,
              "#fb9f3a"
             ],
             [
              0.8888888888888888,
              "#fdca26"
             ],
             [
              1,
              "#f0f921"
             ]
            ],
            "type": "histogram2d"
           }
          ],
          "histogram2dcontour": [
           {
            "colorbar": {
             "outlinewidth": 0,
             "ticks": ""
            },
            "colorscale": [
             [
              0,
              "#0d0887"
             ],
             [
              0.1111111111111111,
              "#46039f"
             ],
             [
              0.2222222222222222,
              "#7201a8"
             ],
             [
              0.3333333333333333,
              "#9c179e"
             ],
             [
              0.4444444444444444,
              "#bd3786"
             ],
             [
              0.5555555555555556,
              "#d8576b"
             ],
             [
              0.6666666666666666,
              "#ed7953"
             ],
             [
              0.7777777777777778,
              "#fb9f3a"
             ],
             [
              0.8888888888888888,
              "#fdca26"
             ],
             [
              1,
              "#f0f921"
             ]
            ],
            "type": "histogram2dcontour"
           }
          ],
          "mesh3d": [
           {
            "colorbar": {
             "outlinewidth": 0,
             "ticks": ""
            },
            "type": "mesh3d"
           }
          ],
          "parcoords": [
           {
            "line": {
             "colorbar": {
              "outlinewidth": 0,
              "ticks": ""
             }
            },
            "type": "parcoords"
           }
          ],
          "pie": [
           {
            "automargin": true,
            "type": "pie"
           }
          ],
          "scatter": [
           {
            "fillpattern": {
             "fillmode": "overlay",
             "size": 10,
             "solidity": 0.2
            },
            "type": "scatter"
           }
          ],
          "scatter3d": [
           {
            "line": {
             "colorbar": {
              "outlinewidth": 0,
              "ticks": ""
             }
            },
            "marker": {
             "colorbar": {
              "outlinewidth": 0,
              "ticks": ""
             }
            },
            "type": "scatter3d"
           }
          ],
          "scattercarpet": [
           {
            "marker": {
             "colorbar": {
              "outlinewidth": 0,
              "ticks": ""
             }
            },
            "type": "scattercarpet"
           }
          ],
          "scattergeo": [
           {
            "marker": {
             "colorbar": {
              "outlinewidth": 0,
              "ticks": ""
             }
            },
            "type": "scattergeo"
           }
          ],
          "scattergl": [
           {
            "marker": {
             "colorbar": {
              "outlinewidth": 0,
              "ticks": ""
             }
            },
            "type": "scattergl"
           }
          ],
          "scattermap": [
           {
            "marker": {
             "colorbar": {
              "outlinewidth": 0,
              "ticks": ""
             }
            },
            "type": "scattermap"
           }
          ],
          "scattermapbox": [
           {
            "marker": {
             "colorbar": {
              "outlinewidth": 0,
              "ticks": ""
             }
            },
            "type": "scattermapbox"
           }
          ],
          "scatterpolar": [
           {
            "marker": {
             "colorbar": {
              "outlinewidth": 0,
              "ticks": ""
             }
            },
            "type": "scatterpolar"
           }
          ],
          "scatterpolargl": [
           {
            "marker": {
             "colorbar": {
              "outlinewidth": 0,
              "ticks": ""
             }
            },
            "type": "scatterpolargl"
           }
          ],
          "scatterternary": [
           {
            "marker": {
             "colorbar": {
              "outlinewidth": 0,
              "ticks": ""
             }
            },
            "type": "scatterternary"
           }
          ],
          "surface": [
           {
            "colorbar": {
             "outlinewidth": 0,
             "ticks": ""
            },
            "colorscale": [
             [
              0,
              "#0d0887"
             ],
             [
              0.1111111111111111,
              "#46039f"
             ],
             [
              0.2222222222222222,
              "#7201a8"
             ],
             [
              0.3333333333333333,
              "#9c179e"
             ],
             [
              0.4444444444444444,
              "#bd3786"
             ],
             [
              0.5555555555555556,
              "#d8576b"
             ],
             [
              0.6666666666666666,
              "#ed7953"
             ],
             [
              0.7777777777777778,
              "#fb9f3a"
             ],
             [
              0.8888888888888888,
              "#fdca26"
             ],
             [
              1,
              "#f0f921"
             ]
            ],
            "type": "surface"
           }
          ],
          "table": [
           {
            "cells": {
             "fill": {
              "color": "#EBF0F8"
             },
             "line": {
              "color": "white"
             }
            },
            "header": {
             "fill": {
              "color": "#C8D4E3"
             },
             "line": {
              "color": "white"
             }
            },
            "type": "table"
           }
          ]
         },
         "layout": {
          "annotationdefaults": {
           "arrowcolor": "#2a3f5f",
           "arrowhead": 0,
           "arrowwidth": 1
          },
          "autotypenumbers": "strict",
          "coloraxis": {
           "colorbar": {
            "outlinewidth": 0,
            "ticks": ""
           }
          },
          "colorscale": {
           "diverging": [
            [
             0,
             "#8e0152"
            ],
            [
             0.1,
             "#c51b7d"
            ],
            [
             0.2,
             "#de77ae"
            ],
            [
             0.3,
             "#f1b6da"
            ],
            [
             0.4,
             "#fde0ef"
            ],
            [
             0.5,
             "#f7f7f7"
            ],
            [
             0.6,
             "#e6f5d0"
            ],
            [
             0.7,
             "#b8e186"
            ],
            [
             0.8,
             "#7fbc41"
            ],
            [
             0.9,
             "#4d9221"
            ],
            [
             1,
             "#276419"
            ]
           ],
           "sequential": [
            [
             0,
             "#0d0887"
            ],
            [
             0.1111111111111111,
             "#46039f"
            ],
            [
             0.2222222222222222,
             "#7201a8"
            ],
            [
             0.3333333333333333,
             "#9c179e"
            ],
            [
             0.4444444444444444,
             "#bd3786"
            ],
            [
             0.5555555555555556,
             "#d8576b"
            ],
            [
             0.6666666666666666,
             "#ed7953"
            ],
            [
             0.7777777777777778,
             "#fb9f3a"
            ],
            [
             0.8888888888888888,
             "#fdca26"
            ],
            [
             1,
             "#f0f921"
            ]
           ],
           "sequentialminus": [
            [
             0,
             "#0d0887"
            ],
            [
             0.1111111111111111,
             "#46039f"
            ],
            [
             0.2222222222222222,
             "#7201a8"
            ],
            [
             0.3333333333333333,
             "#9c179e"
            ],
            [
             0.4444444444444444,
             "#bd3786"
            ],
            [
             0.5555555555555556,
             "#d8576b"
            ],
            [
             0.6666666666666666,
             "#ed7953"
            ],
            [
             0.7777777777777778,
             "#fb9f3a"
            ],
            [
             0.8888888888888888,
             "#fdca26"
            ],
            [
             1,
             "#f0f921"
            ]
           ]
          },
          "colorway": [
           "#636efa",
           "#EF553B",
           "#00cc96",
           "#ab63fa",
           "#FFA15A",
           "#19d3f3",
           "#FF6692",
           "#B6E880",
           "#FF97FF",
           "#FECB52"
          ],
          "font": {
           "color": "#2a3f5f"
          },
          "geo": {
           "bgcolor": "white",
           "lakecolor": "white",
           "landcolor": "#E5ECF6",
           "showlakes": true,
           "showland": true,
           "subunitcolor": "white"
          },
          "hoverlabel": {
           "align": "left"
          },
          "hovermode": "closest",
          "mapbox": {
           "style": "light"
          },
          "paper_bgcolor": "white",
          "plot_bgcolor": "#E5ECF6",
          "polar": {
           "angularaxis": {
            "gridcolor": "white",
            "linecolor": "white",
            "ticks": ""
           },
           "bgcolor": "#E5ECF6",
           "radialaxis": {
            "gridcolor": "white",
            "linecolor": "white",
            "ticks": ""
           }
          },
          "scene": {
           "xaxis": {
            "backgroundcolor": "#E5ECF6",
            "gridcolor": "white",
            "gridwidth": 2,
            "linecolor": "white",
            "showbackground": true,
            "ticks": "",
            "zerolinecolor": "white"
           },
           "yaxis": {
            "backgroundcolor": "#E5ECF6",
            "gridcolor": "white",
            "gridwidth": 2,
            "linecolor": "white",
            "showbackground": true,
            "ticks": "",
            "zerolinecolor": "white"
           },
           "zaxis": {
            "backgroundcolor": "#E5ECF6",
            "gridcolor": "white",
            "gridwidth": 2,
            "linecolor": "white",
            "showbackground": true,
            "ticks": "",
            "zerolinecolor": "white"
           }
          },
          "shapedefaults": {
           "line": {
            "color": "#2a3f5f"
           }
          },
          "ternary": {
           "aaxis": {
            "gridcolor": "white",
            "linecolor": "white",
            "ticks": ""
           },
           "baxis": {
            "gridcolor": "white",
            "linecolor": "white",
            "ticks": ""
           },
           "bgcolor": "#E5ECF6",
           "caxis": {
            "gridcolor": "white",
            "linecolor": "white",
            "ticks": ""
           }
          },
          "title": {
           "x": 0.05
          },
          "xaxis": {
           "automargin": true,
           "gridcolor": "white",
           "linecolor": "white",
           "ticks": "",
           "title": {
            "standoff": 15
           },
           "zerolinecolor": "white",
           "zerolinewidth": 2
          },
          "yaxis": {
           "automargin": true,
           "gridcolor": "white",
           "linecolor": "white",
           "ticks": "",
           "title": {
            "standoff": 15
           },
           "zerolinecolor": "white",
           "zerolinewidth": 2
          }
         }
        },
        "title": {
         "text": "lbfgs",
         "x": 0.5
        },
        "width": 600,
        "xaxis": {
         "title": {
          "text": "C"
         }
        },
        "yaxis": {
         "title": {
          "text": "F1-мера"
         }
        }
       }
      }
     },
     "metadata": {},
     "output_type": "display_data"
    },
    {
     "data": {
      "application/vnd.plotly.v1+json": {
       "config": {
        "plotlyServerURL": "https://plot.ly"
       },
       "data": [
        {
         "name": "l1",
         "showlegend": true,
         "type": "scatter",
         "x": [
          0.0999755859375,
          0.199951171875,
          0.2998046875,
          0.39990234375,
          0.5,
          0.599609375,
          0.69970703125,
          0.7998046875,
          0.89990234375,
          1,
          1.099609375,
          1.19921875,
          1.2998046875,
          1.3994140625
         ],
         "y": [
          0.6822916666666666,
          0.6825396825396826,
          0.6666666666666666,
          0.6614583333333334,
          0.6597402597402597,
          0.6545454545454545,
          0.6545454545454545,
          0.6458333333333334,
          0.6493506493506493,
          0.6458333333333334,
          0.6492146596858639,
          0.6475195822454308,
          0.643979057591623,
          0.643979057591623
         ]
        },
        {
         "name": "l2",
         "showlegend": true,
         "type": "scatter",
         "x": [
          0.0999755859375,
          0.199951171875,
          0.2998046875,
          0.39990234375,
          0.5,
          0.599609375,
          0.69970703125,
          0.7998046875,
          0.89990234375,
          1,
          1.099609375,
          1.19921875,
          1.2998046875,
          1.3994140625
         ],
         "y": [
          0.6561679790026247,
          0.6614173228346457,
          0.6614173228346457,
          0.6578947368421053,
          0.6614173228346457,
          0.6578947368421053,
          0.6490765171503958,
          0.6490765171503958,
          0.6421052631578947,
          0.6370757180156658,
          0.6422976501305483,
          0.6335078534031413,
          0.6351706036745407,
          0.6335078534031413
         ]
        }
       ],
       "layout": {
        "autosize": false,
        "height": 400,
        "template": {
         "data": {
          "bar": [
           {
            "error_x": {
             "color": "#2a3f5f"
            },
            "error_y": {
             "color": "#2a3f5f"
            },
            "marker": {
             "line": {
              "color": "#E5ECF6",
              "width": 0.5
             },
             "pattern": {
              "fillmode": "overlay",
              "size": 10,
              "solidity": 0.2
             }
            },
            "type": "bar"
           }
          ],
          "barpolar": [
           {
            "marker": {
             "line": {
              "color": "#E5ECF6",
              "width": 0.5
             },
             "pattern": {
              "fillmode": "overlay",
              "size": 10,
              "solidity": 0.2
             }
            },
            "type": "barpolar"
           }
          ],
          "carpet": [
           {
            "aaxis": {
             "endlinecolor": "#2a3f5f",
             "gridcolor": "white",
             "linecolor": "white",
             "minorgridcolor": "white",
             "startlinecolor": "#2a3f5f"
            },
            "baxis": {
             "endlinecolor": "#2a3f5f",
             "gridcolor": "white",
             "linecolor": "white",
             "minorgridcolor": "white",
             "startlinecolor": "#2a3f5f"
            },
            "type": "carpet"
           }
          ],
          "choropleth": [
           {
            "colorbar": {
             "outlinewidth": 0,
             "ticks": ""
            },
            "type": "choropleth"
           }
          ],
          "contour": [
           {
            "colorbar": {
             "outlinewidth": 0,
             "ticks": ""
            },
            "colorscale": [
             [
              0,
              "#0d0887"
             ],
             [
              0.1111111111111111,
              "#46039f"
             ],
             [
              0.2222222222222222,
              "#7201a8"
             ],
             [
              0.3333333333333333,
              "#9c179e"
             ],
             [
              0.4444444444444444,
              "#bd3786"
             ],
             [
              0.5555555555555556,
              "#d8576b"
             ],
             [
              0.6666666666666666,
              "#ed7953"
             ],
             [
              0.7777777777777778,
              "#fb9f3a"
             ],
             [
              0.8888888888888888,
              "#fdca26"
             ],
             [
              1,
              "#f0f921"
             ]
            ],
            "type": "contour"
           }
          ],
          "contourcarpet": [
           {
            "colorbar": {
             "outlinewidth": 0,
             "ticks": ""
            },
            "type": "contourcarpet"
           }
          ],
          "heatmap": [
           {
            "colorbar": {
             "outlinewidth": 0,
             "ticks": ""
            },
            "colorscale": [
             [
              0,
              "#0d0887"
             ],
             [
              0.1111111111111111,
              "#46039f"
             ],
             [
              0.2222222222222222,
              "#7201a8"
             ],
             [
              0.3333333333333333,
              "#9c179e"
             ],
             [
              0.4444444444444444,
              "#bd3786"
             ],
             [
              0.5555555555555556,
              "#d8576b"
             ],
             [
              0.6666666666666666,
              "#ed7953"
             ],
             [
              0.7777777777777778,
              "#fb9f3a"
             ],
             [
              0.8888888888888888,
              "#fdca26"
             ],
             [
              1,
              "#f0f921"
             ]
            ],
            "type": "heatmap"
           }
          ],
          "histogram": [
           {
            "marker": {
             "pattern": {
              "fillmode": "overlay",
              "size": 10,
              "solidity": 0.2
             }
            },
            "type": "histogram"
           }
          ],
          "histogram2d": [
           {
            "colorbar": {
             "outlinewidth": 0,
             "ticks": ""
            },
            "colorscale": [
             [
              0,
              "#0d0887"
             ],
             [
              0.1111111111111111,
              "#46039f"
             ],
             [
              0.2222222222222222,
              "#7201a8"
             ],
             [
              0.3333333333333333,
              "#9c179e"
             ],
             [
              0.4444444444444444,
              "#bd3786"
             ],
             [
              0.5555555555555556,
              "#d8576b"
             ],
             [
              0.6666666666666666,
              "#ed7953"
             ],
             [
              0.7777777777777778,
              "#fb9f3a"
             ],
             [
              0.8888888888888888,
              "#fdca26"
             ],
             [
              1,
              "#f0f921"
             ]
            ],
            "type": "histogram2d"
           }
          ],
          "histogram2dcontour": [
           {
            "colorbar": {
             "outlinewidth": 0,
             "ticks": ""
            },
            "colorscale": [
             [
              0,
              "#0d0887"
             ],
             [
              0.1111111111111111,
              "#46039f"
             ],
             [
              0.2222222222222222,
              "#7201a8"
             ],
             [
              0.3333333333333333,
              "#9c179e"
             ],
             [
              0.4444444444444444,
              "#bd3786"
             ],
             [
              0.5555555555555556,
              "#d8576b"
             ],
             [
              0.6666666666666666,
              "#ed7953"
             ],
             [
              0.7777777777777778,
              "#fb9f3a"
             ],
             [
              0.8888888888888888,
              "#fdca26"
             ],
             [
              1,
              "#f0f921"
             ]
            ],
            "type": "histogram2dcontour"
           }
          ],
          "mesh3d": [
           {
            "colorbar": {
             "outlinewidth": 0,
             "ticks": ""
            },
            "type": "mesh3d"
           }
          ],
          "parcoords": [
           {
            "line": {
             "colorbar": {
              "outlinewidth": 0,
              "ticks": ""
             }
            },
            "type": "parcoords"
           }
          ],
          "pie": [
           {
            "automargin": true,
            "type": "pie"
           }
          ],
          "scatter": [
           {
            "fillpattern": {
             "fillmode": "overlay",
             "size": 10,
             "solidity": 0.2
            },
            "type": "scatter"
           }
          ],
          "scatter3d": [
           {
            "line": {
             "colorbar": {
              "outlinewidth": 0,
              "ticks": ""
             }
            },
            "marker": {
             "colorbar": {
              "outlinewidth": 0,
              "ticks": ""
             }
            },
            "type": "scatter3d"
           }
          ],
          "scattercarpet": [
           {
            "marker": {
             "colorbar": {
              "outlinewidth": 0,
              "ticks": ""
             }
            },
            "type": "scattercarpet"
           }
          ],
          "scattergeo": [
           {
            "marker": {
             "colorbar": {
              "outlinewidth": 0,
              "ticks": ""
             }
            },
            "type": "scattergeo"
           }
          ],
          "scattergl": [
           {
            "marker": {
             "colorbar": {
              "outlinewidth": 0,
              "ticks": ""
             }
            },
            "type": "scattergl"
           }
          ],
          "scattermap": [
           {
            "marker": {
             "colorbar": {
              "outlinewidth": 0,
              "ticks": ""
             }
            },
            "type": "scattermap"
           }
          ],
          "scattermapbox": [
           {
            "marker": {
             "colorbar": {
              "outlinewidth": 0,
              "ticks": ""
             }
            },
            "type": "scattermapbox"
           }
          ],
          "scatterpolar": [
           {
            "marker": {
             "colorbar": {
              "outlinewidth": 0,
              "ticks": ""
             }
            },
            "type": "scatterpolar"
           }
          ],
          "scatterpolargl": [
           {
            "marker": {
             "colorbar": {
              "outlinewidth": 0,
              "ticks": ""
             }
            },
            "type": "scatterpolargl"
           }
          ],
          "scatterternary": [
           {
            "marker": {
             "colorbar": {
              "outlinewidth": 0,
              "ticks": ""
             }
            },
            "type": "scatterternary"
           }
          ],
          "surface": [
           {
            "colorbar": {
             "outlinewidth": 0,
             "ticks": ""
            },
            "colorscale": [
             [
              0,
              "#0d0887"
             ],
             [
              0.1111111111111111,
              "#46039f"
             ],
             [
              0.2222222222222222,
              "#7201a8"
             ],
             [
              0.3333333333333333,
              "#9c179e"
             ],
             [
              0.4444444444444444,
              "#bd3786"
             ],
             [
              0.5555555555555556,
              "#d8576b"
             ],
             [
              0.6666666666666666,
              "#ed7953"
             ],
             [
              0.7777777777777778,
              "#fb9f3a"
             ],
             [
              0.8888888888888888,
              "#fdca26"
             ],
             [
              1,
              "#f0f921"
             ]
            ],
            "type": "surface"
           }
          ],
          "table": [
           {
            "cells": {
             "fill": {
              "color": "#EBF0F8"
             },
             "line": {
              "color": "white"
             }
            },
            "header": {
             "fill": {
              "color": "#C8D4E3"
             },
             "line": {
              "color": "white"
             }
            },
            "type": "table"
           }
          ]
         },
         "layout": {
          "annotationdefaults": {
           "arrowcolor": "#2a3f5f",
           "arrowhead": 0,
           "arrowwidth": 1
          },
          "autotypenumbers": "strict",
          "coloraxis": {
           "colorbar": {
            "outlinewidth": 0,
            "ticks": ""
           }
          },
          "colorscale": {
           "diverging": [
            [
             0,
             "#8e0152"
            ],
            [
             0.1,
             "#c51b7d"
            ],
            [
             0.2,
             "#de77ae"
            ],
            [
             0.3,
             "#f1b6da"
            ],
            [
             0.4,
             "#fde0ef"
            ],
            [
             0.5,
             "#f7f7f7"
            ],
            [
             0.6,
             "#e6f5d0"
            ],
            [
             0.7,
             "#b8e186"
            ],
            [
             0.8,
             "#7fbc41"
            ],
            [
             0.9,
             "#4d9221"
            ],
            [
             1,
             "#276419"
            ]
           ],
           "sequential": [
            [
             0,
             "#0d0887"
            ],
            [
             0.1111111111111111,
             "#46039f"
            ],
            [
             0.2222222222222222,
             "#7201a8"
            ],
            [
             0.3333333333333333,
             "#9c179e"
            ],
            [
             0.4444444444444444,
             "#bd3786"
            ],
            [
             0.5555555555555556,
             "#d8576b"
            ],
            [
             0.6666666666666666,
             "#ed7953"
            ],
            [
             0.7777777777777778,
             "#fb9f3a"
            ],
            [
             0.8888888888888888,
             "#fdca26"
            ],
            [
             1,
             "#f0f921"
            ]
           ],
           "sequentialminus": [
            [
             0,
             "#0d0887"
            ],
            [
             0.1111111111111111,
             "#46039f"
            ],
            [
             0.2222222222222222,
             "#7201a8"
            ],
            [
             0.3333333333333333,
             "#9c179e"
            ],
            [
             0.4444444444444444,
             "#bd3786"
            ],
            [
             0.5555555555555556,
             "#d8576b"
            ],
            [
             0.6666666666666666,
             "#ed7953"
            ],
            [
             0.7777777777777778,
             "#fb9f3a"
            ],
            [
             0.8888888888888888,
             "#fdca26"
            ],
            [
             1,
             "#f0f921"
            ]
           ]
          },
          "colorway": [
           "#636efa",
           "#EF553B",
           "#00cc96",
           "#ab63fa",
           "#FFA15A",
           "#19d3f3",
           "#FF6692",
           "#B6E880",
           "#FF97FF",
           "#FECB52"
          ],
          "font": {
           "color": "#2a3f5f"
          },
          "geo": {
           "bgcolor": "white",
           "lakecolor": "white",
           "landcolor": "#E5ECF6",
           "showlakes": true,
           "showland": true,
           "subunitcolor": "white"
          },
          "hoverlabel": {
           "align": "left"
          },
          "hovermode": "closest",
          "mapbox": {
           "style": "light"
          },
          "paper_bgcolor": "white",
          "plot_bgcolor": "#E5ECF6",
          "polar": {
           "angularaxis": {
            "gridcolor": "white",
            "linecolor": "white",
            "ticks": ""
           },
           "bgcolor": "#E5ECF6",
           "radialaxis": {
            "gridcolor": "white",
            "linecolor": "white",
            "ticks": ""
           }
          },
          "scene": {
           "xaxis": {
            "backgroundcolor": "#E5ECF6",
            "gridcolor": "white",
            "gridwidth": 2,
            "linecolor": "white",
            "showbackground": true,
            "ticks": "",
            "zerolinecolor": "white"
           },
           "yaxis": {
            "backgroundcolor": "#E5ECF6",
            "gridcolor": "white",
            "gridwidth": 2,
            "linecolor": "white",
            "showbackground": true,
            "ticks": "",
            "zerolinecolor": "white"
           },
           "zaxis": {
            "backgroundcolor": "#E5ECF6",
            "gridcolor": "white",
            "gridwidth": 2,
            "linecolor": "white",
            "showbackground": true,
            "ticks": "",
            "zerolinecolor": "white"
           }
          },
          "shapedefaults": {
           "line": {
            "color": "#2a3f5f"
           }
          },
          "ternary": {
           "aaxis": {
            "gridcolor": "white",
            "linecolor": "white",
            "ticks": ""
           },
           "baxis": {
            "gridcolor": "white",
            "linecolor": "white",
            "ticks": ""
           },
           "bgcolor": "#E5ECF6",
           "caxis": {
            "gridcolor": "white",
            "linecolor": "white",
            "ticks": ""
           }
          },
          "title": {
           "x": 0.05
          },
          "xaxis": {
           "automargin": true,
           "gridcolor": "white",
           "linecolor": "white",
           "ticks": "",
           "title": {
            "standoff": 15
           },
           "zerolinecolor": "white",
           "zerolinewidth": 2
          },
          "yaxis": {
           "automargin": true,
           "gridcolor": "white",
           "linecolor": "white",
           "ticks": "",
           "title": {
            "standoff": 15
           },
           "zerolinecolor": "white",
           "zerolinewidth": 2
          }
         }
        },
        "title": {
         "text": "liblinear",
         "x": 0.5
        },
        "width": 600,
        "xaxis": {
         "title": {
          "text": "C"
         }
        },
        "yaxis": {
         "title": {
          "text": "F1-мера"
         }
        }
       }
      }
     },
     "metadata": {},
     "output_type": "display_data"
    },
    {
     "data": {
      "application/vnd.plotly.v1+json": {
       "config": {
        "plotlyServerURL": "https://plot.ly"
       },
       "data": [
        {
         "name": "l2",
         "showlegend": true,
         "type": "scatter",
         "x": [
          0.0999755859375,
          0.199951171875,
          0.2998046875,
          0.39990234375,
          0.5,
          0.599609375,
          0.69970703125,
          0.7998046875,
          0.89990234375,
          1,
          1.099609375,
          1.19921875,
          1.2998046875,
          1.3994140625
         ],
         "y": [
          0.6561679790026247,
          0.6614173228346457,
          0.6614173228346457,
          0.6578947368421053,
          0.6543535620052771,
          0.6543535620052771,
          0.6490765171503958,
          0.6473684210526316,
          0.6421052631578947,
          0.6422976501305483,
          0.6422976501305483,
          0.6368421052631579,
          0.6368421052631579,
          0.6335078534031413
         ]
        }
       ],
       "layout": {
        "autosize": false,
        "height": 400,
        "template": {
         "data": {
          "bar": [
           {
            "error_x": {
             "color": "#2a3f5f"
            },
            "error_y": {
             "color": "#2a3f5f"
            },
            "marker": {
             "line": {
              "color": "#E5ECF6",
              "width": 0.5
             },
             "pattern": {
              "fillmode": "overlay",
              "size": 10,
              "solidity": 0.2
             }
            },
            "type": "bar"
           }
          ],
          "barpolar": [
           {
            "marker": {
             "line": {
              "color": "#E5ECF6",
              "width": 0.5
             },
             "pattern": {
              "fillmode": "overlay",
              "size": 10,
              "solidity": 0.2
             }
            },
            "type": "barpolar"
           }
          ],
          "carpet": [
           {
            "aaxis": {
             "endlinecolor": "#2a3f5f",
             "gridcolor": "white",
             "linecolor": "white",
             "minorgridcolor": "white",
             "startlinecolor": "#2a3f5f"
            },
            "baxis": {
             "endlinecolor": "#2a3f5f",
             "gridcolor": "white",
             "linecolor": "white",
             "minorgridcolor": "white",
             "startlinecolor": "#2a3f5f"
            },
            "type": "carpet"
           }
          ],
          "choropleth": [
           {
            "colorbar": {
             "outlinewidth": 0,
             "ticks": ""
            },
            "type": "choropleth"
           }
          ],
          "contour": [
           {
            "colorbar": {
             "outlinewidth": 0,
             "ticks": ""
            },
            "colorscale": [
             [
              0,
              "#0d0887"
             ],
             [
              0.1111111111111111,
              "#46039f"
             ],
             [
              0.2222222222222222,
              "#7201a8"
             ],
             [
              0.3333333333333333,
              "#9c179e"
             ],
             [
              0.4444444444444444,
              "#bd3786"
             ],
             [
              0.5555555555555556,
              "#d8576b"
             ],
             [
              0.6666666666666666,
              "#ed7953"
             ],
             [
              0.7777777777777778,
              "#fb9f3a"
             ],
             [
              0.8888888888888888,
              "#fdca26"
             ],
             [
              1,
              "#f0f921"
             ]
            ],
            "type": "contour"
           }
          ],
          "contourcarpet": [
           {
            "colorbar": {
             "outlinewidth": 0,
             "ticks": ""
            },
            "type": "contourcarpet"
           }
          ],
          "heatmap": [
           {
            "colorbar": {
             "outlinewidth": 0,
             "ticks": ""
            },
            "colorscale": [
             [
              0,
              "#0d0887"
             ],
             [
              0.1111111111111111,
              "#46039f"
             ],
             [
              0.2222222222222222,
              "#7201a8"
             ],
             [
              0.3333333333333333,
              "#9c179e"
             ],
             [
              0.4444444444444444,
              "#bd3786"
             ],
             [
              0.5555555555555556,
              "#d8576b"
             ],
             [
              0.6666666666666666,
              "#ed7953"
             ],
             [
              0.7777777777777778,
              "#fb9f3a"
             ],
             [
              0.8888888888888888,
              "#fdca26"
             ],
             [
              1,
              "#f0f921"
             ]
            ],
            "type": "heatmap"
           }
          ],
          "histogram": [
           {
            "marker": {
             "pattern": {
              "fillmode": "overlay",
              "size": 10,
              "solidity": 0.2
             }
            },
            "type": "histogram"
           }
          ],
          "histogram2d": [
           {
            "colorbar": {
             "outlinewidth": 0,
             "ticks": ""
            },
            "colorscale": [
             [
              0,
              "#0d0887"
             ],
             [
              0.1111111111111111,
              "#46039f"
             ],
             [
              0.2222222222222222,
              "#7201a8"
             ],
             [
              0.3333333333333333,
              "#9c179e"
             ],
             [
              0.4444444444444444,
              "#bd3786"
             ],
             [
              0.5555555555555556,
              "#d8576b"
             ],
             [
              0.6666666666666666,
              "#ed7953"
             ],
             [
              0.7777777777777778,
              "#fb9f3a"
             ],
             [
              0.8888888888888888,
              "#fdca26"
             ],
             [
              1,
              "#f0f921"
             ]
            ],
            "type": "histogram2d"
           }
          ],
          "histogram2dcontour": [
           {
            "colorbar": {
             "outlinewidth": 0,
             "ticks": ""
            },
            "colorscale": [
             [
              0,
              "#0d0887"
             ],
             [
              0.1111111111111111,
              "#46039f"
             ],
             [
              0.2222222222222222,
              "#7201a8"
             ],
             [
              0.3333333333333333,
              "#9c179e"
             ],
             [
              0.4444444444444444,
              "#bd3786"
             ],
             [
              0.5555555555555556,
              "#d8576b"
             ],
             [
              0.6666666666666666,
              "#ed7953"
             ],
             [
              0.7777777777777778,
              "#fb9f3a"
             ],
             [
              0.8888888888888888,
              "#fdca26"
             ],
             [
              1,
              "#f0f921"
             ]
            ],
            "type": "histogram2dcontour"
           }
          ],
          "mesh3d": [
           {
            "colorbar": {
             "outlinewidth": 0,
             "ticks": ""
            },
            "type": "mesh3d"
           }
          ],
          "parcoords": [
           {
            "line": {
             "colorbar": {
              "outlinewidth": 0,
              "ticks": ""
             }
            },
            "type": "parcoords"
           }
          ],
          "pie": [
           {
            "automargin": true,
            "type": "pie"
           }
          ],
          "scatter": [
           {
            "fillpattern": {
             "fillmode": "overlay",
             "size": 10,
             "solidity": 0.2
            },
            "type": "scatter"
           }
          ],
          "scatter3d": [
           {
            "line": {
             "colorbar": {
              "outlinewidth": 0,
              "ticks": ""
             }
            },
            "marker": {
             "colorbar": {
              "outlinewidth": 0,
              "ticks": ""
             }
            },
            "type": "scatter3d"
           }
          ],
          "scattercarpet": [
           {
            "marker": {
             "colorbar": {
              "outlinewidth": 0,
              "ticks": ""
             }
            },
            "type": "scattercarpet"
           }
          ],
          "scattergeo": [
           {
            "marker": {
             "colorbar": {
              "outlinewidth": 0,
              "ticks": ""
             }
            },
            "type": "scattergeo"
           }
          ],
          "scattergl": [
           {
            "marker": {
             "colorbar": {
              "outlinewidth": 0,
              "ticks": ""
             }
            },
            "type": "scattergl"
           }
          ],
          "scattermap": [
           {
            "marker": {
             "colorbar": {
              "outlinewidth": 0,
              "ticks": ""
             }
            },
            "type": "scattermap"
           }
          ],
          "scattermapbox": [
           {
            "marker": {
             "colorbar": {
              "outlinewidth": 0,
              "ticks": ""
             }
            },
            "type": "scattermapbox"
           }
          ],
          "scatterpolar": [
           {
            "marker": {
             "colorbar": {
              "outlinewidth": 0,
              "ticks": ""
             }
            },
            "type": "scatterpolar"
           }
          ],
          "scatterpolargl": [
           {
            "marker": {
             "colorbar": {
              "outlinewidth": 0,
              "ticks": ""
             }
            },
            "type": "scatterpolargl"
           }
          ],
          "scatterternary": [
           {
            "marker": {
             "colorbar": {
              "outlinewidth": 0,
              "ticks": ""
             }
            },
            "type": "scatterternary"
           }
          ],
          "surface": [
           {
            "colorbar": {
             "outlinewidth": 0,
             "ticks": ""
            },
            "colorscale": [
             [
              0,
              "#0d0887"
             ],
             [
              0.1111111111111111,
              "#46039f"
             ],
             [
              0.2222222222222222,
              "#7201a8"
             ],
             [
              0.3333333333333333,
              "#9c179e"
             ],
             [
              0.4444444444444444,
              "#bd3786"
             ],
             [
              0.5555555555555556,
              "#d8576b"
             ],
             [
              0.6666666666666666,
              "#ed7953"
             ],
             [
              0.7777777777777778,
              "#fb9f3a"
             ],
             [
              0.8888888888888888,
              "#fdca26"
             ],
             [
              1,
              "#f0f921"
             ]
            ],
            "type": "surface"
           }
          ],
          "table": [
           {
            "cells": {
             "fill": {
              "color": "#EBF0F8"
             },
             "line": {
              "color": "white"
             }
            },
            "header": {
             "fill": {
              "color": "#C8D4E3"
             },
             "line": {
              "color": "white"
             }
            },
            "type": "table"
           }
          ]
         },
         "layout": {
          "annotationdefaults": {
           "arrowcolor": "#2a3f5f",
           "arrowhead": 0,
           "arrowwidth": 1
          },
          "autotypenumbers": "strict",
          "coloraxis": {
           "colorbar": {
            "outlinewidth": 0,
            "ticks": ""
           }
          },
          "colorscale": {
           "diverging": [
            [
             0,
             "#8e0152"
            ],
            [
             0.1,
             "#c51b7d"
            ],
            [
             0.2,
             "#de77ae"
            ],
            [
             0.3,
             "#f1b6da"
            ],
            [
             0.4,
             "#fde0ef"
            ],
            [
             0.5,
             "#f7f7f7"
            ],
            [
             0.6,
             "#e6f5d0"
            ],
            [
             0.7,
             "#b8e186"
            ],
            [
             0.8,
             "#7fbc41"
            ],
            [
             0.9,
             "#4d9221"
            ],
            [
             1,
             "#276419"
            ]
           ],
           "sequential": [
            [
             0,
             "#0d0887"
            ],
            [
             0.1111111111111111,
             "#46039f"
            ],
            [
             0.2222222222222222,
             "#7201a8"
            ],
            [
             0.3333333333333333,
             "#9c179e"
            ],
            [
             0.4444444444444444,
             "#bd3786"
            ],
            [
             0.5555555555555556,
             "#d8576b"
            ],
            [
             0.6666666666666666,
             "#ed7953"
            ],
            [
             0.7777777777777778,
             "#fb9f3a"
            ],
            [
             0.8888888888888888,
             "#fdca26"
            ],
            [
             1,
             "#f0f921"
            ]
           ],
           "sequentialminus": [
            [
             0,
             "#0d0887"
            ],
            [
             0.1111111111111111,
             "#46039f"
            ],
            [
             0.2222222222222222,
             "#7201a8"
            ],
            [
             0.3333333333333333,
             "#9c179e"
            ],
            [
             0.4444444444444444,
             "#bd3786"
            ],
            [
             0.5555555555555556,
             "#d8576b"
            ],
            [
             0.6666666666666666,
             "#ed7953"
            ],
            [
             0.7777777777777778,
             "#fb9f3a"
            ],
            [
             0.8888888888888888,
             "#fdca26"
            ],
            [
             1,
             "#f0f921"
            ]
           ]
          },
          "colorway": [
           "#636efa",
           "#EF553B",
           "#00cc96",
           "#ab63fa",
           "#FFA15A",
           "#19d3f3",
           "#FF6692",
           "#B6E880",
           "#FF97FF",
           "#FECB52"
          ],
          "font": {
           "color": "#2a3f5f"
          },
          "geo": {
           "bgcolor": "white",
           "lakecolor": "white",
           "landcolor": "#E5ECF6",
           "showlakes": true,
           "showland": true,
           "subunitcolor": "white"
          },
          "hoverlabel": {
           "align": "left"
          },
          "hovermode": "closest",
          "mapbox": {
           "style": "light"
          },
          "paper_bgcolor": "white",
          "plot_bgcolor": "#E5ECF6",
          "polar": {
           "angularaxis": {
            "gridcolor": "white",
            "linecolor": "white",
            "ticks": ""
           },
           "bgcolor": "#E5ECF6",
           "radialaxis": {
            "gridcolor": "white",
            "linecolor": "white",
            "ticks": ""
           }
          },
          "scene": {
           "xaxis": {
            "backgroundcolor": "#E5ECF6",
            "gridcolor": "white",
            "gridwidth": 2,
            "linecolor": "white",
            "showbackground": true,
            "ticks": "",
            "zerolinecolor": "white"
           },
           "yaxis": {
            "backgroundcolor": "#E5ECF6",
            "gridcolor": "white",
            "gridwidth": 2,
            "linecolor": "white",
            "showbackground": true,
            "ticks": "",
            "zerolinecolor": "white"
           },
           "zaxis": {
            "backgroundcolor": "#E5ECF6",
            "gridcolor": "white",
            "gridwidth": 2,
            "linecolor": "white",
            "showbackground": true,
            "ticks": "",
            "zerolinecolor": "white"
           }
          },
          "shapedefaults": {
           "line": {
            "color": "#2a3f5f"
           }
          },
          "ternary": {
           "aaxis": {
            "gridcolor": "white",
            "linecolor": "white",
            "ticks": ""
           },
           "baxis": {
            "gridcolor": "white",
            "linecolor": "white",
            "ticks": ""
           },
           "bgcolor": "#E5ECF6",
           "caxis": {
            "gridcolor": "white",
            "linecolor": "white",
            "ticks": ""
           }
          },
          "title": {
           "x": 0.05
          },
          "xaxis": {
           "automargin": true,
           "gridcolor": "white",
           "linecolor": "white",
           "ticks": "",
           "title": {
            "standoff": 15
           },
           "zerolinecolor": "white",
           "zerolinewidth": 2
          },
          "yaxis": {
           "automargin": true,
           "gridcolor": "white",
           "linecolor": "white",
           "ticks": "",
           "title": {
            "standoff": 15
           },
           "zerolinecolor": "white",
           "zerolinewidth": 2
          }
         }
        },
        "title": {
         "text": "newton-cg",
         "x": 0.5
        },
        "width": 600,
        "xaxis": {
         "title": {
          "text": "C"
         }
        },
        "yaxis": {
         "title": {
          "text": "F1-мера"
         }
        }
       }
      }
     },
     "metadata": {},
     "output_type": "display_data"
    },
    {
     "data": {
      "application/vnd.plotly.v1+json": {
       "config": {
        "plotlyServerURL": "https://plot.ly"
       },
       "data": [
        {
         "name": "l2",
         "showlegend": true,
         "type": "scatter",
         "x": [
          0.0999755859375,
          0.199951171875,
          0.2998046875,
          0.39990234375,
          0.5,
          0.599609375,
          0.69970703125,
          0.7998046875,
          0.89990234375,
          1,
          1.099609375,
          1.19921875,
          1.2998046875,
          1.3994140625
         ],
         "y": [
          0.6561679790026247,
          0.6614173228346457,
          0.6614173228346457,
          0.6578947368421053,
          0.6543535620052771,
          0.6543535620052771,
          0.6490765171503958,
          0.6473684210526316,
          0.6421052631578947,
          0.6422976501305483,
          0.6422976501305483,
          0.6368421052631579,
          0.6368421052631579,
          0.6335078534031413
         ]
        }
       ],
       "layout": {
        "autosize": false,
        "height": 400,
        "template": {
         "data": {
          "bar": [
           {
            "error_x": {
             "color": "#2a3f5f"
            },
            "error_y": {
             "color": "#2a3f5f"
            },
            "marker": {
             "line": {
              "color": "#E5ECF6",
              "width": 0.5
             },
             "pattern": {
              "fillmode": "overlay",
              "size": 10,
              "solidity": 0.2
             }
            },
            "type": "bar"
           }
          ],
          "barpolar": [
           {
            "marker": {
             "line": {
              "color": "#E5ECF6",
              "width": 0.5
             },
             "pattern": {
              "fillmode": "overlay",
              "size": 10,
              "solidity": 0.2
             }
            },
            "type": "barpolar"
           }
          ],
          "carpet": [
           {
            "aaxis": {
             "endlinecolor": "#2a3f5f",
             "gridcolor": "white",
             "linecolor": "white",
             "minorgridcolor": "white",
             "startlinecolor": "#2a3f5f"
            },
            "baxis": {
             "endlinecolor": "#2a3f5f",
             "gridcolor": "white",
             "linecolor": "white",
             "minorgridcolor": "white",
             "startlinecolor": "#2a3f5f"
            },
            "type": "carpet"
           }
          ],
          "choropleth": [
           {
            "colorbar": {
             "outlinewidth": 0,
             "ticks": ""
            },
            "type": "choropleth"
           }
          ],
          "contour": [
           {
            "colorbar": {
             "outlinewidth": 0,
             "ticks": ""
            },
            "colorscale": [
             [
              0,
              "#0d0887"
             ],
             [
              0.1111111111111111,
              "#46039f"
             ],
             [
              0.2222222222222222,
              "#7201a8"
             ],
             [
              0.3333333333333333,
              "#9c179e"
             ],
             [
              0.4444444444444444,
              "#bd3786"
             ],
             [
              0.5555555555555556,
              "#d8576b"
             ],
             [
              0.6666666666666666,
              "#ed7953"
             ],
             [
              0.7777777777777778,
              "#fb9f3a"
             ],
             [
              0.8888888888888888,
              "#fdca26"
             ],
             [
              1,
              "#f0f921"
             ]
            ],
            "type": "contour"
           }
          ],
          "contourcarpet": [
           {
            "colorbar": {
             "outlinewidth": 0,
             "ticks": ""
            },
            "type": "contourcarpet"
           }
          ],
          "heatmap": [
           {
            "colorbar": {
             "outlinewidth": 0,
             "ticks": ""
            },
            "colorscale": [
             [
              0,
              "#0d0887"
             ],
             [
              0.1111111111111111,
              "#46039f"
             ],
             [
              0.2222222222222222,
              "#7201a8"
             ],
             [
              0.3333333333333333,
              "#9c179e"
             ],
             [
              0.4444444444444444,
              "#bd3786"
             ],
             [
              0.5555555555555556,
              "#d8576b"
             ],
             [
              0.6666666666666666,
              "#ed7953"
             ],
             [
              0.7777777777777778,
              "#fb9f3a"
             ],
             [
              0.8888888888888888,
              "#fdca26"
             ],
             [
              1,
              "#f0f921"
             ]
            ],
            "type": "heatmap"
           }
          ],
          "histogram": [
           {
            "marker": {
             "pattern": {
              "fillmode": "overlay",
              "size": 10,
              "solidity": 0.2
             }
            },
            "type": "histogram"
           }
          ],
          "histogram2d": [
           {
            "colorbar": {
             "outlinewidth": 0,
             "ticks": ""
            },
            "colorscale": [
             [
              0,
              "#0d0887"
             ],
             [
              0.1111111111111111,
              "#46039f"
             ],
             [
              0.2222222222222222,
              "#7201a8"
             ],
             [
              0.3333333333333333,
              "#9c179e"
             ],
             [
              0.4444444444444444,
              "#bd3786"
             ],
             [
              0.5555555555555556,
              "#d8576b"
             ],
             [
              0.6666666666666666,
              "#ed7953"
             ],
             [
              0.7777777777777778,
              "#fb9f3a"
             ],
             [
              0.8888888888888888,
              "#fdca26"
             ],
             [
              1,
              "#f0f921"
             ]
            ],
            "type": "histogram2d"
           }
          ],
          "histogram2dcontour": [
           {
            "colorbar": {
             "outlinewidth": 0,
             "ticks": ""
            },
            "colorscale": [
             [
              0,
              "#0d0887"
             ],
             [
              0.1111111111111111,
              "#46039f"
             ],
             [
              0.2222222222222222,
              "#7201a8"
             ],
             [
              0.3333333333333333,
              "#9c179e"
             ],
             [
              0.4444444444444444,
              "#bd3786"
             ],
             [
              0.5555555555555556,
              "#d8576b"
             ],
             [
              0.6666666666666666,
              "#ed7953"
             ],
             [
              0.7777777777777778,
              "#fb9f3a"
             ],
             [
              0.8888888888888888,
              "#fdca26"
             ],
             [
              1,
              "#f0f921"
             ]
            ],
            "type": "histogram2dcontour"
           }
          ],
          "mesh3d": [
           {
            "colorbar": {
             "outlinewidth": 0,
             "ticks": ""
            },
            "type": "mesh3d"
           }
          ],
          "parcoords": [
           {
            "line": {
             "colorbar": {
              "outlinewidth": 0,
              "ticks": ""
             }
            },
            "type": "parcoords"
           }
          ],
          "pie": [
           {
            "automargin": true,
            "type": "pie"
           }
          ],
          "scatter": [
           {
            "fillpattern": {
             "fillmode": "overlay",
             "size": 10,
             "solidity": 0.2
            },
            "type": "scatter"
           }
          ],
          "scatter3d": [
           {
            "line": {
             "colorbar": {
              "outlinewidth": 0,
              "ticks": ""
             }
            },
            "marker": {
             "colorbar": {
              "outlinewidth": 0,
              "ticks": ""
             }
            },
            "type": "scatter3d"
           }
          ],
          "scattercarpet": [
           {
            "marker": {
             "colorbar": {
              "outlinewidth": 0,
              "ticks": ""
             }
            },
            "type": "scattercarpet"
           }
          ],
          "scattergeo": [
           {
            "marker": {
             "colorbar": {
              "outlinewidth": 0,
              "ticks": ""
             }
            },
            "type": "scattergeo"
           }
          ],
          "scattergl": [
           {
            "marker": {
             "colorbar": {
              "outlinewidth": 0,
              "ticks": ""
             }
            },
            "type": "scattergl"
           }
          ],
          "scattermap": [
           {
            "marker": {
             "colorbar": {
              "outlinewidth": 0,
              "ticks": ""
             }
            },
            "type": "scattermap"
           }
          ],
          "scattermapbox": [
           {
            "marker": {
             "colorbar": {
              "outlinewidth": 0,
              "ticks": ""
             }
            },
            "type": "scattermapbox"
           }
          ],
          "scatterpolar": [
           {
            "marker": {
             "colorbar": {
              "outlinewidth": 0,
              "ticks": ""
             }
            },
            "type": "scatterpolar"
           }
          ],
          "scatterpolargl": [
           {
            "marker": {
             "colorbar": {
              "outlinewidth": 0,
              "ticks": ""
             }
            },
            "type": "scatterpolargl"
           }
          ],
          "scatterternary": [
           {
            "marker": {
             "colorbar": {
              "outlinewidth": 0,
              "ticks": ""
             }
            },
            "type": "scatterternary"
           }
          ],
          "surface": [
           {
            "colorbar": {
             "outlinewidth": 0,
             "ticks": ""
            },
            "colorscale": [
             [
              0,
              "#0d0887"
             ],
             [
              0.1111111111111111,
              "#46039f"
             ],
             [
              0.2222222222222222,
              "#7201a8"
             ],
             [
              0.3333333333333333,
              "#9c179e"
             ],
             [
              0.4444444444444444,
              "#bd3786"
             ],
             [
              0.5555555555555556,
              "#d8576b"
             ],
             [
              0.6666666666666666,
              "#ed7953"
             ],
             [
              0.7777777777777778,
              "#fb9f3a"
             ],
             [
              0.8888888888888888,
              "#fdca26"
             ],
             [
              1,
              "#f0f921"
             ]
            ],
            "type": "surface"
           }
          ],
          "table": [
           {
            "cells": {
             "fill": {
              "color": "#EBF0F8"
             },
             "line": {
              "color": "white"
             }
            },
            "header": {
             "fill": {
              "color": "#C8D4E3"
             },
             "line": {
              "color": "white"
             }
            },
            "type": "table"
           }
          ]
         },
         "layout": {
          "annotationdefaults": {
           "arrowcolor": "#2a3f5f",
           "arrowhead": 0,
           "arrowwidth": 1
          },
          "autotypenumbers": "strict",
          "coloraxis": {
           "colorbar": {
            "outlinewidth": 0,
            "ticks": ""
           }
          },
          "colorscale": {
           "diverging": [
            [
             0,
             "#8e0152"
            ],
            [
             0.1,
             "#c51b7d"
            ],
            [
             0.2,
             "#de77ae"
            ],
            [
             0.3,
             "#f1b6da"
            ],
            [
             0.4,
             "#fde0ef"
            ],
            [
             0.5,
             "#f7f7f7"
            ],
            [
             0.6,
             "#e6f5d0"
            ],
            [
             0.7,
             "#b8e186"
            ],
            [
             0.8,
             "#7fbc41"
            ],
            [
             0.9,
             "#4d9221"
            ],
            [
             1,
             "#276419"
            ]
           ],
           "sequential": [
            [
             0,
             "#0d0887"
            ],
            [
             0.1111111111111111,
             "#46039f"
            ],
            [
             0.2222222222222222,
             "#7201a8"
            ],
            [
             0.3333333333333333,
             "#9c179e"
            ],
            [
             0.4444444444444444,
             "#bd3786"
            ],
            [
             0.5555555555555556,
             "#d8576b"
            ],
            [
             0.6666666666666666,
             "#ed7953"
            ],
            [
             0.7777777777777778,
             "#fb9f3a"
            ],
            [
             0.8888888888888888,
             "#fdca26"
            ],
            [
             1,
             "#f0f921"
            ]
           ],
           "sequentialminus": [
            [
             0,
             "#0d0887"
            ],
            [
             0.1111111111111111,
             "#46039f"
            ],
            [
             0.2222222222222222,
             "#7201a8"
            ],
            [
             0.3333333333333333,
             "#9c179e"
            ],
            [
             0.4444444444444444,
             "#bd3786"
            ],
            [
             0.5555555555555556,
             "#d8576b"
            ],
            [
             0.6666666666666666,
             "#ed7953"
            ],
            [
             0.7777777777777778,
             "#fb9f3a"
            ],
            [
             0.8888888888888888,
             "#fdca26"
            ],
            [
             1,
             "#f0f921"
            ]
           ]
          },
          "colorway": [
           "#636efa",
           "#EF553B",
           "#00cc96",
           "#ab63fa",
           "#FFA15A",
           "#19d3f3",
           "#FF6692",
           "#B6E880",
           "#FF97FF",
           "#FECB52"
          ],
          "font": {
           "color": "#2a3f5f"
          },
          "geo": {
           "bgcolor": "white",
           "lakecolor": "white",
           "landcolor": "#E5ECF6",
           "showlakes": true,
           "showland": true,
           "subunitcolor": "white"
          },
          "hoverlabel": {
           "align": "left"
          },
          "hovermode": "closest",
          "mapbox": {
           "style": "light"
          },
          "paper_bgcolor": "white",
          "plot_bgcolor": "#E5ECF6",
          "polar": {
           "angularaxis": {
            "gridcolor": "white",
            "linecolor": "white",
            "ticks": ""
           },
           "bgcolor": "#E5ECF6",
           "radialaxis": {
            "gridcolor": "white",
            "linecolor": "white",
            "ticks": ""
           }
          },
          "scene": {
           "xaxis": {
            "backgroundcolor": "#E5ECF6",
            "gridcolor": "white",
            "gridwidth": 2,
            "linecolor": "white",
            "showbackground": true,
            "ticks": "",
            "zerolinecolor": "white"
           },
           "yaxis": {
            "backgroundcolor": "#E5ECF6",
            "gridcolor": "white",
            "gridwidth": 2,
            "linecolor": "white",
            "showbackground": true,
            "ticks": "",
            "zerolinecolor": "white"
           },
           "zaxis": {
            "backgroundcolor": "#E5ECF6",
            "gridcolor": "white",
            "gridwidth": 2,
            "linecolor": "white",
            "showbackground": true,
            "ticks": "",
            "zerolinecolor": "white"
           }
          },
          "shapedefaults": {
           "line": {
            "color": "#2a3f5f"
           }
          },
          "ternary": {
           "aaxis": {
            "gridcolor": "white",
            "linecolor": "white",
            "ticks": ""
           },
           "baxis": {
            "gridcolor": "white",
            "linecolor": "white",
            "ticks": ""
           },
           "bgcolor": "#E5ECF6",
           "caxis": {
            "gridcolor": "white",
            "linecolor": "white",
            "ticks": ""
           }
          },
          "title": {
           "x": 0.05
          },
          "xaxis": {
           "automargin": true,
           "gridcolor": "white",
           "linecolor": "white",
           "ticks": "",
           "title": {
            "standoff": 15
           },
           "zerolinecolor": "white",
           "zerolinewidth": 2
          },
          "yaxis": {
           "automargin": true,
           "gridcolor": "white",
           "linecolor": "white",
           "ticks": "",
           "title": {
            "standoff": 15
           },
           "zerolinecolor": "white",
           "zerolinewidth": 2
          }
         }
        },
        "title": {
         "text": "newton-cholesky",
         "x": 0.5
        },
        "width": 600,
        "xaxis": {
         "title": {
          "text": "C"
         }
        },
        "yaxis": {
         "title": {
          "text": "F1-мера"
         }
        }
       }
      }
     },
     "metadata": {},
     "output_type": "display_data"
    },
    {
     "data": {
      "application/vnd.plotly.v1+json": {
       "config": {
        "plotlyServerURL": "https://plot.ly"
       },
       "data": [
        {
         "name": "l2",
         "showlegend": true,
         "type": "scatter",
         "x": [
          0.0999755859375,
          0.199951171875,
          0.2998046875,
          0.39990234375,
          0.5,
          0.599609375,
          0.69970703125,
          0.7998046875,
          0.89990234375,
          1,
          1.099609375,
          1.19921875,
          1.2998046875,
          1.3994140625
         ],
         "y": [
          0.6086956521739131,
          0.6086956521739131,
          0.6086956521739131,
          0.6086956521739131,
          0.6086956521739131,
          0.6086956521739131,
          0.6086956521739131,
          0.6086956521739131,
          0.6086956521739131,
          0.6086956521739131,
          0.6086956521739131,
          0.6086956521739131,
          0.6086956521739131,
          0.6086956521739131
         ]
        }
       ],
       "layout": {
        "autosize": false,
        "height": 400,
        "template": {
         "data": {
          "bar": [
           {
            "error_x": {
             "color": "#2a3f5f"
            },
            "error_y": {
             "color": "#2a3f5f"
            },
            "marker": {
             "line": {
              "color": "#E5ECF6",
              "width": 0.5
             },
             "pattern": {
              "fillmode": "overlay",
              "size": 10,
              "solidity": 0.2
             }
            },
            "type": "bar"
           }
          ],
          "barpolar": [
           {
            "marker": {
             "line": {
              "color": "#E5ECF6",
              "width": 0.5
             },
             "pattern": {
              "fillmode": "overlay",
              "size": 10,
              "solidity": 0.2
             }
            },
            "type": "barpolar"
           }
          ],
          "carpet": [
           {
            "aaxis": {
             "endlinecolor": "#2a3f5f",
             "gridcolor": "white",
             "linecolor": "white",
             "minorgridcolor": "white",
             "startlinecolor": "#2a3f5f"
            },
            "baxis": {
             "endlinecolor": "#2a3f5f",
             "gridcolor": "white",
             "linecolor": "white",
             "minorgridcolor": "white",
             "startlinecolor": "#2a3f5f"
            },
            "type": "carpet"
           }
          ],
          "choropleth": [
           {
            "colorbar": {
             "outlinewidth": 0,
             "ticks": ""
            },
            "type": "choropleth"
           }
          ],
          "contour": [
           {
            "colorbar": {
             "outlinewidth": 0,
             "ticks": ""
            },
            "colorscale": [
             [
              0,
              "#0d0887"
             ],
             [
              0.1111111111111111,
              "#46039f"
             ],
             [
              0.2222222222222222,
              "#7201a8"
             ],
             [
              0.3333333333333333,
              "#9c179e"
             ],
             [
              0.4444444444444444,
              "#bd3786"
             ],
             [
              0.5555555555555556,
              "#d8576b"
             ],
             [
              0.6666666666666666,
              "#ed7953"
             ],
             [
              0.7777777777777778,
              "#fb9f3a"
             ],
             [
              0.8888888888888888,
              "#fdca26"
             ],
             [
              1,
              "#f0f921"
             ]
            ],
            "type": "contour"
           }
          ],
          "contourcarpet": [
           {
            "colorbar": {
             "outlinewidth": 0,
             "ticks": ""
            },
            "type": "contourcarpet"
           }
          ],
          "heatmap": [
           {
            "colorbar": {
             "outlinewidth": 0,
             "ticks": ""
            },
            "colorscale": [
             [
              0,
              "#0d0887"
             ],
             [
              0.1111111111111111,
              "#46039f"
             ],
             [
              0.2222222222222222,
              "#7201a8"
             ],
             [
              0.3333333333333333,
              "#9c179e"
             ],
             [
              0.4444444444444444,
              "#bd3786"
             ],
             [
              0.5555555555555556,
              "#d8576b"
             ],
             [
              0.6666666666666666,
              "#ed7953"
             ],
             [
              0.7777777777777778,
              "#fb9f3a"
             ],
             [
              0.8888888888888888,
              "#fdca26"
             ],
             [
              1,
              "#f0f921"
             ]
            ],
            "type": "heatmap"
           }
          ],
          "histogram": [
           {
            "marker": {
             "pattern": {
              "fillmode": "overlay",
              "size": 10,
              "solidity": 0.2
             }
            },
            "type": "histogram"
           }
          ],
          "histogram2d": [
           {
            "colorbar": {
             "outlinewidth": 0,
             "ticks": ""
            },
            "colorscale": [
             [
              0,
              "#0d0887"
             ],
             [
              0.1111111111111111,
              "#46039f"
             ],
             [
              0.2222222222222222,
              "#7201a8"
             ],
             [
              0.3333333333333333,
              "#9c179e"
             ],
             [
              0.4444444444444444,
              "#bd3786"
             ],
             [
              0.5555555555555556,
              "#d8576b"
             ],
             [
              0.6666666666666666,
              "#ed7953"
             ],
             [
              0.7777777777777778,
              "#fb9f3a"
             ],
             [
              0.8888888888888888,
              "#fdca26"
             ],
             [
              1,
              "#f0f921"
             ]
            ],
            "type": "histogram2d"
           }
          ],
          "histogram2dcontour": [
           {
            "colorbar": {
             "outlinewidth": 0,
             "ticks": ""
            },
            "colorscale": [
             [
              0,
              "#0d0887"
             ],
             [
              0.1111111111111111,
              "#46039f"
             ],
             [
              0.2222222222222222,
              "#7201a8"
             ],
             [
              0.3333333333333333,
              "#9c179e"
             ],
             [
              0.4444444444444444,
              "#bd3786"
             ],
             [
              0.5555555555555556,
              "#d8576b"
             ],
             [
              0.6666666666666666,
              "#ed7953"
             ],
             [
              0.7777777777777778,
              "#fb9f3a"
             ],
             [
              0.8888888888888888,
              "#fdca26"
             ],
             [
              1,
              "#f0f921"
             ]
            ],
            "type": "histogram2dcontour"
           }
          ],
          "mesh3d": [
           {
            "colorbar": {
             "outlinewidth": 0,
             "ticks": ""
            },
            "type": "mesh3d"
           }
          ],
          "parcoords": [
           {
            "line": {
             "colorbar": {
              "outlinewidth": 0,
              "ticks": ""
             }
            },
            "type": "parcoords"
           }
          ],
          "pie": [
           {
            "automargin": true,
            "type": "pie"
           }
          ],
          "scatter": [
           {
            "fillpattern": {
             "fillmode": "overlay",
             "size": 10,
             "solidity": 0.2
            },
            "type": "scatter"
           }
          ],
          "scatter3d": [
           {
            "line": {
             "colorbar": {
              "outlinewidth": 0,
              "ticks": ""
             }
            },
            "marker": {
             "colorbar": {
              "outlinewidth": 0,
              "ticks": ""
             }
            },
            "type": "scatter3d"
           }
          ],
          "scattercarpet": [
           {
            "marker": {
             "colorbar": {
              "outlinewidth": 0,
              "ticks": ""
             }
            },
            "type": "scattercarpet"
           }
          ],
          "scattergeo": [
           {
            "marker": {
             "colorbar": {
              "outlinewidth": 0,
              "ticks": ""
             }
            },
            "type": "scattergeo"
           }
          ],
          "scattergl": [
           {
            "marker": {
             "colorbar": {
              "outlinewidth": 0,
              "ticks": ""
             }
            },
            "type": "scattergl"
           }
          ],
          "scattermap": [
           {
            "marker": {
             "colorbar": {
              "outlinewidth": 0,
              "ticks": ""
             }
            },
            "type": "scattermap"
           }
          ],
          "scattermapbox": [
           {
            "marker": {
             "colorbar": {
              "outlinewidth": 0,
              "ticks": ""
             }
            },
            "type": "scattermapbox"
           }
          ],
          "scatterpolar": [
           {
            "marker": {
             "colorbar": {
              "outlinewidth": 0,
              "ticks": ""
             }
            },
            "type": "scatterpolar"
           }
          ],
          "scatterpolargl": [
           {
            "marker": {
             "colorbar": {
              "outlinewidth": 0,
              "ticks": ""
             }
            },
            "type": "scatterpolargl"
           }
          ],
          "scatterternary": [
           {
            "marker": {
             "colorbar": {
              "outlinewidth": 0,
              "ticks": ""
             }
            },
            "type": "scatterternary"
           }
          ],
          "surface": [
           {
            "colorbar": {
             "outlinewidth": 0,
             "ticks": ""
            },
            "colorscale": [
             [
              0,
              "#0d0887"
             ],
             [
              0.1111111111111111,
              "#46039f"
             ],
             [
              0.2222222222222222,
              "#7201a8"
             ],
             [
              0.3333333333333333,
              "#9c179e"
             ],
             [
              0.4444444444444444,
              "#bd3786"
             ],
             [
              0.5555555555555556,
              "#d8576b"
             ],
             [
              0.6666666666666666,
              "#ed7953"
             ],
             [
              0.7777777777777778,
              "#fb9f3a"
             ],
             [
              0.8888888888888888,
              "#fdca26"
             ],
             [
              1,
              "#f0f921"
             ]
            ],
            "type": "surface"
           }
          ],
          "table": [
           {
            "cells": {
             "fill": {
              "color": "#EBF0F8"
             },
             "line": {
              "color": "white"
             }
            },
            "header": {
             "fill": {
              "color": "#C8D4E3"
             },
             "line": {
              "color": "white"
             }
            },
            "type": "table"
           }
          ]
         },
         "layout": {
          "annotationdefaults": {
           "arrowcolor": "#2a3f5f",
           "arrowhead": 0,
           "arrowwidth": 1
          },
          "autotypenumbers": "strict",
          "coloraxis": {
           "colorbar": {
            "outlinewidth": 0,
            "ticks": ""
           }
          },
          "colorscale": {
           "diverging": [
            [
             0,
             "#8e0152"
            ],
            [
             0.1,
             "#c51b7d"
            ],
            [
             0.2,
             "#de77ae"
            ],
            [
             0.3,
             "#f1b6da"
            ],
            [
             0.4,
             "#fde0ef"
            ],
            [
             0.5,
             "#f7f7f7"
            ],
            [
             0.6,
             "#e6f5d0"
            ],
            [
             0.7,
             "#b8e186"
            ],
            [
             0.8,
             "#7fbc41"
            ],
            [
             0.9,
             "#4d9221"
            ],
            [
             1,
             "#276419"
            ]
           ],
           "sequential": [
            [
             0,
             "#0d0887"
            ],
            [
             0.1111111111111111,
             "#46039f"
            ],
            [
             0.2222222222222222,
             "#7201a8"
            ],
            [
             0.3333333333333333,
             "#9c179e"
            ],
            [
             0.4444444444444444,
             "#bd3786"
            ],
            [
             0.5555555555555556,
             "#d8576b"
            ],
            [
             0.6666666666666666,
             "#ed7953"
            ],
            [
             0.7777777777777778,
             "#fb9f3a"
            ],
            [
             0.8888888888888888,
             "#fdca26"
            ],
            [
             1,
             "#f0f921"
            ]
           ],
           "sequentialminus": [
            [
             0,
             "#0d0887"
            ],
            [
             0.1111111111111111,
             "#46039f"
            ],
            [
             0.2222222222222222,
             "#7201a8"
            ],
            [
             0.3333333333333333,
             "#9c179e"
            ],
            [
             0.4444444444444444,
             "#bd3786"
            ],
            [
             0.5555555555555556,
             "#d8576b"
            ],
            [
             0.6666666666666666,
             "#ed7953"
            ],
            [
             0.7777777777777778,
             "#fb9f3a"
            ],
            [
             0.8888888888888888,
             "#fdca26"
            ],
            [
             1,
             "#f0f921"
            ]
           ]
          },
          "colorway": [
           "#636efa",
           "#EF553B",
           "#00cc96",
           "#ab63fa",
           "#FFA15A",
           "#19d3f3",
           "#FF6692",
           "#B6E880",
           "#FF97FF",
           "#FECB52"
          ],
          "font": {
           "color": "#2a3f5f"
          },
          "geo": {
           "bgcolor": "white",
           "lakecolor": "white",
           "landcolor": "#E5ECF6",
           "showlakes": true,
           "showland": true,
           "subunitcolor": "white"
          },
          "hoverlabel": {
           "align": "left"
          },
          "hovermode": "closest",
          "mapbox": {
           "style": "light"
          },
          "paper_bgcolor": "white",
          "plot_bgcolor": "#E5ECF6",
          "polar": {
           "angularaxis": {
            "gridcolor": "white",
            "linecolor": "white",
            "ticks": ""
           },
           "bgcolor": "#E5ECF6",
           "radialaxis": {
            "gridcolor": "white",
            "linecolor": "white",
            "ticks": ""
           }
          },
          "scene": {
           "xaxis": {
            "backgroundcolor": "#E5ECF6",
            "gridcolor": "white",
            "gridwidth": 2,
            "linecolor": "white",
            "showbackground": true,
            "ticks": "",
            "zerolinecolor": "white"
           },
           "yaxis": {
            "backgroundcolor": "#E5ECF6",
            "gridcolor": "white",
            "gridwidth": 2,
            "linecolor": "white",
            "showbackground": true,
            "ticks": "",
            "zerolinecolor": "white"
           },
           "zaxis": {
            "backgroundcolor": "#E5ECF6",
            "gridcolor": "white",
            "gridwidth": 2,
            "linecolor": "white",
            "showbackground": true,
            "ticks": "",
            "zerolinecolor": "white"
           }
          },
          "shapedefaults": {
           "line": {
            "color": "#2a3f5f"
           }
          },
          "ternary": {
           "aaxis": {
            "gridcolor": "white",
            "linecolor": "white",
            "ticks": ""
           },
           "baxis": {
            "gridcolor": "white",
            "linecolor": "white",
            "ticks": ""
           },
           "bgcolor": "#E5ECF6",
           "caxis": {
            "gridcolor": "white",
            "linecolor": "white",
            "ticks": ""
           }
          },
          "title": {
           "x": 0.05
          },
          "xaxis": {
           "automargin": true,
           "gridcolor": "white",
           "linecolor": "white",
           "ticks": "",
           "title": {
            "standoff": 15
           },
           "zerolinecolor": "white",
           "zerolinewidth": 2
          },
          "yaxis": {
           "automargin": true,
           "gridcolor": "white",
           "linecolor": "white",
           "ticks": "",
           "title": {
            "standoff": 15
           },
           "zerolinecolor": "white",
           "zerolinewidth": 2
          }
         }
        },
        "title": {
         "text": "sag",
         "x": 0.5
        },
        "width": 600,
        "xaxis": {
         "title": {
          "text": "C"
         }
        },
        "yaxis": {
         "title": {
          "text": "F1-мера"
         }
        }
       }
      }
     },
     "metadata": {},
     "output_type": "display_data"
    },
    {
     "data": {
      "application/vnd.plotly.v1+json": {
       "config": {
        "plotlyServerURL": "https://plot.ly"
       },
       "data": [
        {
         "name": "l1",
         "showlegend": true,
         "type": "scatter",
         "x": [
          0.0999755859375,
          0.199951171875,
          0.2998046875,
          0.39990234375,
          0.5,
          0.599609375,
          0.69970703125,
          0.7998046875,
          0.89990234375,
          1,
          1.099609375,
          1.19921875,
          1.2998046875,
          1.3994140625
         ],
         "y": [
          0.6086956521739131,
          0.6073059360730594,
          0.6073059360730594,
          0.6073059360730594,
          0.6073059360730594,
          0.6073059360730594,
          0.6059225512528473,
          0.6059225512528473,
          0.6059225512528473,
          0.6059225512528473,
          0.6059225512528473,
          0.6059225512528473,
          0.6059225512528473,
          0.6059225512528473
         ]
        },
        {
         "name": "l2",
         "showlegend": true,
         "type": "scatter",
         "x": [
          0.0999755859375,
          0.199951171875,
          0.2998046875,
          0.39990234375,
          0.5,
          0.599609375,
          0.69970703125,
          0.7998046875,
          0.89990234375,
          1,
          1.099609375,
          1.19921875,
          1.2998046875,
          1.3994140625
         ],
         "y": [
          0.6073059360730594,
          0.6073059360730594,
          0.6073059360730594,
          0.6073059360730594,
          0.6073059360730594,
          0.6073059360730594,
          0.6073059360730594,
          0.6073059360730594,
          0.6073059360730594,
          0.6073059360730594,
          0.6073059360730594,
          0.6073059360730594,
          0.6073059360730594,
          0.6073059360730594
         ]
        }
       ],
       "layout": {
        "autosize": false,
        "height": 400,
        "template": {
         "data": {
          "bar": [
           {
            "error_x": {
             "color": "#2a3f5f"
            },
            "error_y": {
             "color": "#2a3f5f"
            },
            "marker": {
             "line": {
              "color": "#E5ECF6",
              "width": 0.5
             },
             "pattern": {
              "fillmode": "overlay",
              "size": 10,
              "solidity": 0.2
             }
            },
            "type": "bar"
           }
          ],
          "barpolar": [
           {
            "marker": {
             "line": {
              "color": "#E5ECF6",
              "width": 0.5
             },
             "pattern": {
              "fillmode": "overlay",
              "size": 10,
              "solidity": 0.2
             }
            },
            "type": "barpolar"
           }
          ],
          "carpet": [
           {
            "aaxis": {
             "endlinecolor": "#2a3f5f",
             "gridcolor": "white",
             "linecolor": "white",
             "minorgridcolor": "white",
             "startlinecolor": "#2a3f5f"
            },
            "baxis": {
             "endlinecolor": "#2a3f5f",
             "gridcolor": "white",
             "linecolor": "white",
             "minorgridcolor": "white",
             "startlinecolor": "#2a3f5f"
            },
            "type": "carpet"
           }
          ],
          "choropleth": [
           {
            "colorbar": {
             "outlinewidth": 0,
             "ticks": ""
            },
            "type": "choropleth"
           }
          ],
          "contour": [
           {
            "colorbar": {
             "outlinewidth": 0,
             "ticks": ""
            },
            "colorscale": [
             [
              0,
              "#0d0887"
             ],
             [
              0.1111111111111111,
              "#46039f"
             ],
             [
              0.2222222222222222,
              "#7201a8"
             ],
             [
              0.3333333333333333,
              "#9c179e"
             ],
             [
              0.4444444444444444,
              "#bd3786"
             ],
             [
              0.5555555555555556,
              "#d8576b"
             ],
             [
              0.6666666666666666,
              "#ed7953"
             ],
             [
              0.7777777777777778,
              "#fb9f3a"
             ],
             [
              0.8888888888888888,
              "#fdca26"
             ],
             [
              1,
              "#f0f921"
             ]
            ],
            "type": "contour"
           }
          ],
          "contourcarpet": [
           {
            "colorbar": {
             "outlinewidth": 0,
             "ticks": ""
            },
            "type": "contourcarpet"
           }
          ],
          "heatmap": [
           {
            "colorbar": {
             "outlinewidth": 0,
             "ticks": ""
            },
            "colorscale": [
             [
              0,
              "#0d0887"
             ],
             [
              0.1111111111111111,
              "#46039f"
             ],
             [
              0.2222222222222222,
              "#7201a8"
             ],
             [
              0.3333333333333333,
              "#9c179e"
             ],
             [
              0.4444444444444444,
              "#bd3786"
             ],
             [
              0.5555555555555556,
              "#d8576b"
             ],
             [
              0.6666666666666666,
              "#ed7953"
             ],
             [
              0.7777777777777778,
              "#fb9f3a"
             ],
             [
              0.8888888888888888,
              "#fdca26"
             ],
             [
              1,
              "#f0f921"
             ]
            ],
            "type": "heatmap"
           }
          ],
          "histogram": [
           {
            "marker": {
             "pattern": {
              "fillmode": "overlay",
              "size": 10,
              "solidity": 0.2
             }
            },
            "type": "histogram"
           }
          ],
          "histogram2d": [
           {
            "colorbar": {
             "outlinewidth": 0,
             "ticks": ""
            },
            "colorscale": [
             [
              0,
              "#0d0887"
             ],
             [
              0.1111111111111111,
              "#46039f"
             ],
             [
              0.2222222222222222,
              "#7201a8"
             ],
             [
              0.3333333333333333,
              "#9c179e"
             ],
             [
              0.4444444444444444,
              "#bd3786"
             ],
             [
              0.5555555555555556,
              "#d8576b"
             ],
             [
              0.6666666666666666,
              "#ed7953"
             ],
             [
              0.7777777777777778,
              "#fb9f3a"
             ],
             [
              0.8888888888888888,
              "#fdca26"
             ],
             [
              1,
              "#f0f921"
             ]
            ],
            "type": "histogram2d"
           }
          ],
          "histogram2dcontour": [
           {
            "colorbar": {
             "outlinewidth": 0,
             "ticks": ""
            },
            "colorscale": [
             [
              0,
              "#0d0887"
             ],
             [
              0.1111111111111111,
              "#46039f"
             ],
             [
              0.2222222222222222,
              "#7201a8"
             ],
             [
              0.3333333333333333,
              "#9c179e"
             ],
             [
              0.4444444444444444,
              "#bd3786"
             ],
             [
              0.5555555555555556,
              "#d8576b"
             ],
             [
              0.6666666666666666,
              "#ed7953"
             ],
             [
              0.7777777777777778,
              "#fb9f3a"
             ],
             [
              0.8888888888888888,
              "#fdca26"
             ],
             [
              1,
              "#f0f921"
             ]
            ],
            "type": "histogram2dcontour"
           }
          ],
          "mesh3d": [
           {
            "colorbar": {
             "outlinewidth": 0,
             "ticks": ""
            },
            "type": "mesh3d"
           }
          ],
          "parcoords": [
           {
            "line": {
             "colorbar": {
              "outlinewidth": 0,
              "ticks": ""
             }
            },
            "type": "parcoords"
           }
          ],
          "pie": [
           {
            "automargin": true,
            "type": "pie"
           }
          ],
          "scatter": [
           {
            "fillpattern": {
             "fillmode": "overlay",
             "size": 10,
             "solidity": 0.2
            },
            "type": "scatter"
           }
          ],
          "scatter3d": [
           {
            "line": {
             "colorbar": {
              "outlinewidth": 0,
              "ticks": ""
             }
            },
            "marker": {
             "colorbar": {
              "outlinewidth": 0,
              "ticks": ""
             }
            },
            "type": "scatter3d"
           }
          ],
          "scattercarpet": [
           {
            "marker": {
             "colorbar": {
              "outlinewidth": 0,
              "ticks": ""
             }
            },
            "type": "scattercarpet"
           }
          ],
          "scattergeo": [
           {
            "marker": {
             "colorbar": {
              "outlinewidth": 0,
              "ticks": ""
             }
            },
            "type": "scattergeo"
           }
          ],
          "scattergl": [
           {
            "marker": {
             "colorbar": {
              "outlinewidth": 0,
              "ticks": ""
             }
            },
            "type": "scattergl"
           }
          ],
          "scattermap": [
           {
            "marker": {
             "colorbar": {
              "outlinewidth": 0,
              "ticks": ""
             }
            },
            "type": "scattermap"
           }
          ],
          "scattermapbox": [
           {
            "marker": {
             "colorbar": {
              "outlinewidth": 0,
              "ticks": ""
             }
            },
            "type": "scattermapbox"
           }
          ],
          "scatterpolar": [
           {
            "marker": {
             "colorbar": {
              "outlinewidth": 0,
              "ticks": ""
             }
            },
            "type": "scatterpolar"
           }
          ],
          "scatterpolargl": [
           {
            "marker": {
             "colorbar": {
              "outlinewidth": 0,
              "ticks": ""
             }
            },
            "type": "scatterpolargl"
           }
          ],
          "scatterternary": [
           {
            "marker": {
             "colorbar": {
              "outlinewidth": 0,
              "ticks": ""
             }
            },
            "type": "scatterternary"
           }
          ],
          "surface": [
           {
            "colorbar": {
             "outlinewidth": 0,
             "ticks": ""
            },
            "colorscale": [
             [
              0,
              "#0d0887"
             ],
             [
              0.1111111111111111,
              "#46039f"
             ],
             [
              0.2222222222222222,
              "#7201a8"
             ],
             [
              0.3333333333333333,
              "#9c179e"
             ],
             [
              0.4444444444444444,
              "#bd3786"
             ],
             [
              0.5555555555555556,
              "#d8576b"
             ],
             [
              0.6666666666666666,
              "#ed7953"
             ],
             [
              0.7777777777777778,
              "#fb9f3a"
             ],
             [
              0.8888888888888888,
              "#fdca26"
             ],
             [
              1,
              "#f0f921"
             ]
            ],
            "type": "surface"
           }
          ],
          "table": [
           {
            "cells": {
             "fill": {
              "color": "#EBF0F8"
             },
             "line": {
              "color": "white"
             }
            },
            "header": {
             "fill": {
              "color": "#C8D4E3"
             },
             "line": {
              "color": "white"
             }
            },
            "type": "table"
           }
          ]
         },
         "layout": {
          "annotationdefaults": {
           "arrowcolor": "#2a3f5f",
           "arrowhead": 0,
           "arrowwidth": 1
          },
          "autotypenumbers": "strict",
          "coloraxis": {
           "colorbar": {
            "outlinewidth": 0,
            "ticks": ""
           }
          },
          "colorscale": {
           "diverging": [
            [
             0,
             "#8e0152"
            ],
            [
             0.1,
             "#c51b7d"
            ],
            [
             0.2,
             "#de77ae"
            ],
            [
             0.3,
             "#f1b6da"
            ],
            [
             0.4,
             "#fde0ef"
            ],
            [
             0.5,
             "#f7f7f7"
            ],
            [
             0.6,
             "#e6f5d0"
            ],
            [
             0.7,
             "#b8e186"
            ],
            [
             0.8,
             "#7fbc41"
            ],
            [
             0.9,
             "#4d9221"
            ],
            [
             1,
             "#276419"
            ]
           ],
           "sequential": [
            [
             0,
             "#0d0887"
            ],
            [
             0.1111111111111111,
             "#46039f"
            ],
            [
             0.2222222222222222,
             "#7201a8"
            ],
            [
             0.3333333333333333,
             "#9c179e"
            ],
            [
             0.4444444444444444,
             "#bd3786"
            ],
            [
             0.5555555555555556,
             "#d8576b"
            ],
            [
             0.6666666666666666,
             "#ed7953"
            ],
            [
             0.7777777777777778,
             "#fb9f3a"
            ],
            [
             0.8888888888888888,
             "#fdca26"
            ],
            [
             1,
             "#f0f921"
            ]
           ],
           "sequentialminus": [
            [
             0,
             "#0d0887"
            ],
            [
             0.1111111111111111,
             "#46039f"
            ],
            [
             0.2222222222222222,
             "#7201a8"
            ],
            [
             0.3333333333333333,
             "#9c179e"
            ],
            [
             0.4444444444444444,
             "#bd3786"
            ],
            [
             0.5555555555555556,
             "#d8576b"
            ],
            [
             0.6666666666666666,
             "#ed7953"
            ],
            [
             0.7777777777777778,
             "#fb9f3a"
            ],
            [
             0.8888888888888888,
             "#fdca26"
            ],
            [
             1,
             "#f0f921"
            ]
           ]
          },
          "colorway": [
           "#636efa",
           "#EF553B",
           "#00cc96",
           "#ab63fa",
           "#FFA15A",
           "#19d3f3",
           "#FF6692",
           "#B6E880",
           "#FF97FF",
           "#FECB52"
          ],
          "font": {
           "color": "#2a3f5f"
          },
          "geo": {
           "bgcolor": "white",
           "lakecolor": "white",
           "landcolor": "#E5ECF6",
           "showlakes": true,
           "showland": true,
           "subunitcolor": "white"
          },
          "hoverlabel": {
           "align": "left"
          },
          "hovermode": "closest",
          "mapbox": {
           "style": "light"
          },
          "paper_bgcolor": "white",
          "plot_bgcolor": "#E5ECF6",
          "polar": {
           "angularaxis": {
            "gridcolor": "white",
            "linecolor": "white",
            "ticks": ""
           },
           "bgcolor": "#E5ECF6",
           "radialaxis": {
            "gridcolor": "white",
            "linecolor": "white",
            "ticks": ""
           }
          },
          "scene": {
           "xaxis": {
            "backgroundcolor": "#E5ECF6",
            "gridcolor": "white",
            "gridwidth": 2,
            "linecolor": "white",
            "showbackground": true,
            "ticks": "",
            "zerolinecolor": "white"
           },
           "yaxis": {
            "backgroundcolor": "#E5ECF6",
            "gridcolor": "white",
            "gridwidth": 2,
            "linecolor": "white",
            "showbackground": true,
            "ticks": "",
            "zerolinecolor": "white"
           },
           "zaxis": {
            "backgroundcolor": "#E5ECF6",
            "gridcolor": "white",
            "gridwidth": 2,
            "linecolor": "white",
            "showbackground": true,
            "ticks": "",
            "zerolinecolor": "white"
           }
          },
          "shapedefaults": {
           "line": {
            "color": "#2a3f5f"
           }
          },
          "ternary": {
           "aaxis": {
            "gridcolor": "white",
            "linecolor": "white",
            "ticks": ""
           },
           "baxis": {
            "gridcolor": "white",
            "linecolor": "white",
            "ticks": ""
           },
           "bgcolor": "#E5ECF6",
           "caxis": {
            "gridcolor": "white",
            "linecolor": "white",
            "ticks": ""
           }
          },
          "title": {
           "x": 0.05
          },
          "xaxis": {
           "automargin": true,
           "gridcolor": "white",
           "linecolor": "white",
           "ticks": "",
           "title": {
            "standoff": 15
           },
           "zerolinecolor": "white",
           "zerolinewidth": 2
          },
          "yaxis": {
           "automargin": true,
           "gridcolor": "white",
           "linecolor": "white",
           "ticks": "",
           "title": {
            "standoff": 15
           },
           "zerolinecolor": "white",
           "zerolinewidth": 2
          }
         }
        },
        "title": {
         "text": "saga",
         "x": 0.5
        },
        "width": 600,
        "xaxis": {
         "title": {
          "text": "C"
         }
        },
        "yaxis": {
         "title": {
          "text": "F1-мера"
         }
        }
       }
      }
     },
     "metadata": {},
     "output_type": "display_data"
    }
   ],
   "source": [
    "# Генерация полиномиальных признаков\n",
    "pf = preprocessing.PolynomialFeatures(degree=3,\n",
    "                                      include_bias=False)\n",
    "pf.fit(X_train_sc_std)\n",
    "X_train_sc_std_pf = pf.transform(X_train_sc_std)\n",
    "X_test_sc_std_pf = pf.transform(X_test_sc_std)\n",
    "# Отключение предупреждений\n",
    "import warnings\n",
    "warnings.filterwarnings(\"ignore\")\n",
    "# Построение графиков\n",
    "show_figure_LogisticRegression_var(X_train_sc_std_pf, y_train, X_test_sc_std_pf, y_test, 1.5)"
   ]
  },
  {
   "cell_type": "code",
   "execution_count": 40,
   "id": "753ee704",
   "metadata": {},
   "outputs": [
    {
     "name": "stdout",
     "output_type": "stream",
     "text": [
      "Количество признаков: 454\n",
      "F1 для тренировочной выборки: 0.741\n",
      "F1 для тестовой выборки: 0.683\n"
     ]
    }
   ],
   "source": [
    "print(f'Количество признаков: {X_train_sc_std_pf.shape[1]}')\n",
    "# Создание объекта класса логистическая регрессия\n",
    "log_reg = linear_model.LogisticRegression(\n",
    "    solver='liblinear', #алгоритм оптимизации\n",
    "    penalty='l1',\n",
    "    C=0.2,\n",
    "    random_state=42, #генератор случайных чисел\n",
    "    max_iter=1000 #количество итераций на сходимость\n",
    ")\n",
    "# Обучаем модель, минимизируя logloss\n",
    "log_reg.fit(X_train_sc_std_pf, y_train)\n",
    "\n",
    "# Предсказание для тренировочной выборки\n",
    "y_train_pred = log_reg.predict(X_train_sc_std_pf)\n",
    "print(f'F1 для тренировочной выборки: {metrics.f1_score(y_train, y_train_pred):.3f}')\n",
    "\n",
    "# Предсказание для тестовой выборки\n",
    "y_test_pred = log_reg.predict(X_test_sc_std_pf)\n",
    "print(f'F1 для тестовой выборки: {metrics.f1_score(y_test, y_test_pred):.3f}')"
   ]
  },
  {
   "cell_type": "markdown",
   "id": "4e7d4e3e",
   "metadata": {
    "id": "4e7d4e3e"
   },
   "source": [
    "> После генерации полиномиальных признаков третьей степени получено 454 фактора.  \n",
    "Наилучшее значение $F_1$-меры равно **0.683**, было получено при использовании алгоритма оптимизации *liblinear* и $L_1$-регуляризации при *С* равном 0.2. В ходе тестирования поддерживаемых алгоритмов оптимизации на этапах вычислений с применением алгоритмов *sag* и *saga* были получены сообщения о достижении предельного числа итераций (позже предупреждения были скрыты), что свидетельствует о низкой сходимости данных алгоритмов при таком количестве факторов тренировочной и тестовой выборок.  \n",
    "Построенная модель логистической регрессии имеет значение $F_1$-меры, удовлетворяющее условиям задания, этот факт позволяет сделать вывод, что генерация полиномиальных признаков помогла существенно улучшить качество модели."
   ]
  },
  {
   "cell_type": "markdown",
   "id": "8dc563a4",
   "metadata": {
    "id": "8dc563a4"
   },
   "source": [
    "### Задание 5.6. (2 балла)\n",
    "\n",
    "\n",
    "Попробуйте подобрать значение порога вероятности, при котором наблюдается наибольшее значение целевой метрики на тестовой выборке. В качестве модели используйте логистическую регрессию, обученную на полиномиальных признаках. \n",
    "\n",
    "В качестве порога вероятности используйте значения из следующего диапазона:\n",
    "\n",
    "`thresholds = np.arange(0.1, 1, 0.05)`\n",
    "\n",
    "Напомним алгоритм, как определить оптимальный порог вероятности:\n",
    "* Предсказать вероятности оттока для каждого клиента из тестовой выборки.\n",
    "* В цикле перебрать значения порогов вероятности threshold:\n",
    "    * Сделать предсказание класса по принципу: если вероятность > threshold, то отнести объект к классу 1, в противном случае — к классу 0.\n",
    "    * Рассчитать метрику и занести её в заранее созданный список.\n",
    "\n",
    "Для реализации алгоритма подбора вы можете воспользоваться шаблоном кода, приведённым ниже:\n",
    "\n",
    "```python\n",
    "# Делаем предсказание вероятности оттока для каждого клиента из тестовой выборки\n",
    "y_test_proba_pred = pd.Series(model.predict_proba(X_test_poly)[:, 1])\n",
    "# Инициализируем список, куда будем сохранять метрики.\n",
    "scores = []\n",
    "# Задаём значения порогов вероятности\n",
    "thresholds = np.arange(0.1, 1, 0.05)\n",
    "# В цикле перебираем значения порогов вероятности\n",
    "for threshold in thresholds:\n",
    "    # Делаем предсказание\n",
    "    y_test_pred_poly = y_test_proba_pred.apply(lambda x: 1 if x > threshold else 0)\n",
    "    # Рассчитываем метрику\n",
    "    score = # код для вычисления метрики\n",
    "    # Добавляем результат в список\n",
    "    scores.append(score)\n",
    "```\n",
    "\n",
    "Постройте график зависимости целевой метрики от порога вероятности. На основе построенного графика определите порог вероятности, которому соответствует наибольшее значение целевой метрики на тестовой выборке.\n",
    "\n",
    "Сделайте предсказание классов с подобранным оптимальным порогом вероятности. Рассчитайте значение целевой метрики на тестовой выборке и сравните результат с полученными ранее.\n"
   ]
  },
  {
   "cell_type": "markdown",
   "id": "efc4a3c0",
   "metadata": {
    "id": "efc4a3c0"
   },
   "source": [
    "**Критерии оценивания:**\n",
    "- Задание выполнено верно, учтены все условия (**2 балла**): \n",
    "    * приведён код для построения графика зависимости значения выбранной метрики от порога вероятности;\n",
    "    * найден оптимальный порог вероятности, на котором достигается наибольшее значение выбранной метрики на тестовой выборке;\n",
    "    * на основе найденного порога вероятности построено предсказание модели для тренировочной и тестовой выборок;\n",
    "    * приведён расчёт выбранной метрики на тренировочных и тестовых данных (метрика должна быть выбрана корректно).\n",
    "\n",
    "- Задание выполнено верно, но не приведён вывод по полученным результатам или вывод является неверным (**1 балл**).\n",
    "- Задание выполнено неверно, не учтено несколько условий (**0 баллов**)."
   ]
  },
  {
   "cell_type": "code",
   "execution_count": null,
   "id": "oYs8-MFYSNxX",
   "metadata": {
    "id": "oYs8-MFYSNxX"
   },
   "outputs": [
    {
     "data": {
      "application/vnd.plotly.v1+json": {
       "config": {
        "plotlyServerURL": "https://plot.ly"
       },
       "data": [
        {
         "type": "scatter",
         "x": {
          "bdata": "mpmZmZmZuT80MzMzMzPDP5uZmZmZmck/AQAAAAAA0D80MzMzMzPTP2hmZmZmZtY/nJmZmZmZ2T/OzMzMzMzcPwEAAAAAAOA/m5mZmZmZ4T81MzMzMzPjP87MzMzMzOQ/aGZmZmZm5j8CAAAAAADoP5uZmZmZmek/NTMzMzMz6z/PzMzMzMzsP2lmZmZmZu4/",
          "dtype": "f8"
         },
         "y": [
          0.5965463108320251,
          0.6390328151986183,
          0.6592592592592592,
          0.6812749003984063,
          0.6864406779661016,
          0.6858407079646017,
          0.6882217090069284,
          0.6864197530864198,
          0.6825396825396826,
          0.6460674157303371,
          0.611764705882353,
          0.599388379204893,
          0.5501618122977346,
          0.5150501672240803,
          0.4642857142857143,
          0.41044776119402987,
          0.3764705882352941,
          0.2833333333333333
         ]
        }
       ],
       "layout": {
        "autosize": false,
        "height": 400,
        "template": {
         "data": {
          "bar": [
           {
            "error_x": {
             "color": "#2a3f5f"
            },
            "error_y": {
             "color": "#2a3f5f"
            },
            "marker": {
             "line": {
              "color": "#E5ECF6",
              "width": 0.5
             },
             "pattern": {
              "fillmode": "overlay",
              "size": 10,
              "solidity": 0.2
             }
            },
            "type": "bar"
           }
          ],
          "barpolar": [
           {
            "marker": {
             "line": {
              "color": "#E5ECF6",
              "width": 0.5
             },
             "pattern": {
              "fillmode": "overlay",
              "size": 10,
              "solidity": 0.2
             }
            },
            "type": "barpolar"
           }
          ],
          "carpet": [
           {
            "aaxis": {
             "endlinecolor": "#2a3f5f",
             "gridcolor": "white",
             "linecolor": "white",
             "minorgridcolor": "white",
             "startlinecolor": "#2a3f5f"
            },
            "baxis": {
             "endlinecolor": "#2a3f5f",
             "gridcolor": "white",
             "linecolor": "white",
             "minorgridcolor": "white",
             "startlinecolor": "#2a3f5f"
            },
            "type": "carpet"
           }
          ],
          "choropleth": [
           {
            "colorbar": {
             "outlinewidth": 0,
             "ticks": ""
            },
            "type": "choropleth"
           }
          ],
          "contour": [
           {
            "colorbar": {
             "outlinewidth": 0,
             "ticks": ""
            },
            "colorscale": [
             [
              0,
              "#0d0887"
             ],
             [
              0.1111111111111111,
              "#46039f"
             ],
             [
              0.2222222222222222,
              "#7201a8"
             ],
             [
              0.3333333333333333,
              "#9c179e"
             ],
             [
              0.4444444444444444,
              "#bd3786"
             ],
             [
              0.5555555555555556,
              "#d8576b"
             ],
             [
              0.6666666666666666,
              "#ed7953"
             ],
             [
              0.7777777777777778,
              "#fb9f3a"
             ],
             [
              0.8888888888888888,
              "#fdca26"
             ],
             [
              1,
              "#f0f921"
             ]
            ],
            "type": "contour"
           }
          ],
          "contourcarpet": [
           {
            "colorbar": {
             "outlinewidth": 0,
             "ticks": ""
            },
            "type": "contourcarpet"
           }
          ],
          "heatmap": [
           {
            "colorbar": {
             "outlinewidth": 0,
             "ticks": ""
            },
            "colorscale": [
             [
              0,
              "#0d0887"
             ],
             [
              0.1111111111111111,
              "#46039f"
             ],
             [
              0.2222222222222222,
              "#7201a8"
             ],
             [
              0.3333333333333333,
              "#9c179e"
             ],
             [
              0.4444444444444444,
              "#bd3786"
             ],
             [
              0.5555555555555556,
              "#d8576b"
             ],
             [
              0.6666666666666666,
              "#ed7953"
             ],
             [
              0.7777777777777778,
              "#fb9f3a"
             ],
             [
              0.8888888888888888,
              "#fdca26"
             ],
             [
              1,
              "#f0f921"
             ]
            ],
            "type": "heatmap"
           }
          ],
          "histogram": [
           {
            "marker": {
             "pattern": {
              "fillmode": "overlay",
              "size": 10,
              "solidity": 0.2
             }
            },
            "type": "histogram"
           }
          ],
          "histogram2d": [
           {
            "colorbar": {
             "outlinewidth": 0,
             "ticks": ""
            },
            "colorscale": [
             [
              0,
              "#0d0887"
             ],
             [
              0.1111111111111111,
              "#46039f"
             ],
             [
              0.2222222222222222,
              "#7201a8"
             ],
             [
              0.3333333333333333,
              "#9c179e"
             ],
             [
              0.4444444444444444,
              "#bd3786"
             ],
             [
              0.5555555555555556,
              "#d8576b"
             ],
             [
              0.6666666666666666,
              "#ed7953"
             ],
             [
              0.7777777777777778,
              "#fb9f3a"
             ],
             [
              0.8888888888888888,
              "#fdca26"
             ],
             [
              1,
              "#f0f921"
             ]
            ],
            "type": "histogram2d"
           }
          ],
          "histogram2dcontour": [
           {
            "colorbar": {
             "outlinewidth": 0,
             "ticks": ""
            },
            "colorscale": [
             [
              0,
              "#0d0887"
             ],
             [
              0.1111111111111111,
              "#46039f"
             ],
             [
              0.2222222222222222,
              "#7201a8"
             ],
             [
              0.3333333333333333,
              "#9c179e"
             ],
             [
              0.4444444444444444,
              "#bd3786"
             ],
             [
              0.5555555555555556,
              "#d8576b"
             ],
             [
              0.6666666666666666,
              "#ed7953"
             ],
             [
              0.7777777777777778,
              "#fb9f3a"
             ],
             [
              0.8888888888888888,
              "#fdca26"
             ],
             [
              1,
              "#f0f921"
             ]
            ],
            "type": "histogram2dcontour"
           }
          ],
          "mesh3d": [
           {
            "colorbar": {
             "outlinewidth": 0,
             "ticks": ""
            },
            "type": "mesh3d"
           }
          ],
          "parcoords": [
           {
            "line": {
             "colorbar": {
              "outlinewidth": 0,
              "ticks": ""
             }
            },
            "type": "parcoords"
           }
          ],
          "pie": [
           {
            "automargin": true,
            "type": "pie"
           }
          ],
          "scatter": [
           {
            "fillpattern": {
             "fillmode": "overlay",
             "size": 10,
             "solidity": 0.2
            },
            "type": "scatter"
           }
          ],
          "scatter3d": [
           {
            "line": {
             "colorbar": {
              "outlinewidth": 0,
              "ticks": ""
             }
            },
            "marker": {
             "colorbar": {
              "outlinewidth": 0,
              "ticks": ""
             }
            },
            "type": "scatter3d"
           }
          ],
          "scattercarpet": [
           {
            "marker": {
             "colorbar": {
              "outlinewidth": 0,
              "ticks": ""
             }
            },
            "type": "scattercarpet"
           }
          ],
          "scattergeo": [
           {
            "marker": {
             "colorbar": {
              "outlinewidth": 0,
              "ticks": ""
             }
            },
            "type": "scattergeo"
           }
          ],
          "scattergl": [
           {
            "marker": {
             "colorbar": {
              "outlinewidth": 0,
              "ticks": ""
             }
            },
            "type": "scattergl"
           }
          ],
          "scattermap": [
           {
            "marker": {
             "colorbar": {
              "outlinewidth": 0,
              "ticks": ""
             }
            },
            "type": "scattermap"
           }
          ],
          "scattermapbox": [
           {
            "marker": {
             "colorbar": {
              "outlinewidth": 0,
              "ticks": ""
             }
            },
            "type": "scattermapbox"
           }
          ],
          "scatterpolar": [
           {
            "marker": {
             "colorbar": {
              "outlinewidth": 0,
              "ticks": ""
             }
            },
            "type": "scatterpolar"
           }
          ],
          "scatterpolargl": [
           {
            "marker": {
             "colorbar": {
              "outlinewidth": 0,
              "ticks": ""
             }
            },
            "type": "scatterpolargl"
           }
          ],
          "scatterternary": [
           {
            "marker": {
             "colorbar": {
              "outlinewidth": 0,
              "ticks": ""
             }
            },
            "type": "scatterternary"
           }
          ],
          "surface": [
           {
            "colorbar": {
             "outlinewidth": 0,
             "ticks": ""
            },
            "colorscale": [
             [
              0,
              "#0d0887"
             ],
             [
              0.1111111111111111,
              "#46039f"
             ],
             [
              0.2222222222222222,
              "#7201a8"
             ],
             [
              0.3333333333333333,
              "#9c179e"
             ],
             [
              0.4444444444444444,
              "#bd3786"
             ],
             [
              0.5555555555555556,
              "#d8576b"
             ],
             [
              0.6666666666666666,
              "#ed7953"
             ],
             [
              0.7777777777777778,
              "#fb9f3a"
             ],
             [
              0.8888888888888888,
              "#fdca26"
             ],
             [
              1,
              "#f0f921"
             ]
            ],
            "type": "surface"
           }
          ],
          "table": [
           {
            "cells": {
             "fill": {
              "color": "#EBF0F8"
             },
             "line": {
              "color": "white"
             }
            },
            "header": {
             "fill": {
              "color": "#C8D4E3"
             },
             "line": {
              "color": "white"
             }
            },
            "type": "table"
           }
          ]
         },
         "layout": {
          "annotationdefaults": {
           "arrowcolor": "#2a3f5f",
           "arrowhead": 0,
           "arrowwidth": 1
          },
          "autotypenumbers": "strict",
          "coloraxis": {
           "colorbar": {
            "outlinewidth": 0,
            "ticks": ""
           }
          },
          "colorscale": {
           "diverging": [
            [
             0,
             "#8e0152"
            ],
            [
             0.1,
             "#c51b7d"
            ],
            [
             0.2,
             "#de77ae"
            ],
            [
             0.3,
             "#f1b6da"
            ],
            [
             0.4,
             "#fde0ef"
            ],
            [
             0.5,
             "#f7f7f7"
            ],
            [
             0.6,
             "#e6f5d0"
            ],
            [
             0.7,
             "#b8e186"
            ],
            [
             0.8,
             "#7fbc41"
            ],
            [
             0.9,
             "#4d9221"
            ],
            [
             1,
             "#276419"
            ]
           ],
           "sequential": [
            [
             0,
             "#0d0887"
            ],
            [
             0.1111111111111111,
             "#46039f"
            ],
            [
             0.2222222222222222,
             "#7201a8"
            ],
            [
             0.3333333333333333,
             "#9c179e"
            ],
            [
             0.4444444444444444,
             "#bd3786"
            ],
            [
             0.5555555555555556,
             "#d8576b"
            ],
            [
             0.6666666666666666,
             "#ed7953"
            ],
            [
             0.7777777777777778,
             "#fb9f3a"
            ],
            [
             0.8888888888888888,
             "#fdca26"
            ],
            [
             1,
             "#f0f921"
            ]
           ],
           "sequentialminus": [
            [
             0,
             "#0d0887"
            ],
            [
             0.1111111111111111,
             "#46039f"
            ],
            [
             0.2222222222222222,
             "#7201a8"
            ],
            [
             0.3333333333333333,
             "#9c179e"
            ],
            [
             0.4444444444444444,
             "#bd3786"
            ],
            [
             0.5555555555555556,
             "#d8576b"
            ],
            [
             0.6666666666666666,
             "#ed7953"
            ],
            [
             0.7777777777777778,
             "#fb9f3a"
            ],
            [
             0.8888888888888888,
             "#fdca26"
            ],
            [
             1,
             "#f0f921"
            ]
           ]
          },
          "colorway": [
           "#636efa",
           "#EF553B",
           "#00cc96",
           "#ab63fa",
           "#FFA15A",
           "#19d3f3",
           "#FF6692",
           "#B6E880",
           "#FF97FF",
           "#FECB52"
          ],
          "font": {
           "color": "#2a3f5f"
          },
          "geo": {
           "bgcolor": "white",
           "lakecolor": "white",
           "landcolor": "#E5ECF6",
           "showlakes": true,
           "showland": true,
           "subunitcolor": "white"
          },
          "hoverlabel": {
           "align": "left"
          },
          "hovermode": "closest",
          "mapbox": {
           "style": "light"
          },
          "paper_bgcolor": "white",
          "plot_bgcolor": "#E5ECF6",
          "polar": {
           "angularaxis": {
            "gridcolor": "white",
            "linecolor": "white",
            "ticks": ""
           },
           "bgcolor": "#E5ECF6",
           "radialaxis": {
            "gridcolor": "white",
            "linecolor": "white",
            "ticks": ""
           }
          },
          "scene": {
           "xaxis": {
            "backgroundcolor": "#E5ECF6",
            "gridcolor": "white",
            "gridwidth": 2,
            "linecolor": "white",
            "showbackground": true,
            "ticks": "",
            "zerolinecolor": "white"
           },
           "yaxis": {
            "backgroundcolor": "#E5ECF6",
            "gridcolor": "white",
            "gridwidth": 2,
            "linecolor": "white",
            "showbackground": true,
            "ticks": "",
            "zerolinecolor": "white"
           },
           "zaxis": {
            "backgroundcolor": "#E5ECF6",
            "gridcolor": "white",
            "gridwidth": 2,
            "linecolor": "white",
            "showbackground": true,
            "ticks": "",
            "zerolinecolor": "white"
           }
          },
          "shapedefaults": {
           "line": {
            "color": "#2a3f5f"
           }
          },
          "ternary": {
           "aaxis": {
            "gridcolor": "white",
            "linecolor": "white",
            "ticks": ""
           },
           "baxis": {
            "gridcolor": "white",
            "linecolor": "white",
            "ticks": ""
           },
           "bgcolor": "#E5ECF6",
           "caxis": {
            "gridcolor": "white",
            "linecolor": "white",
            "ticks": ""
           }
          },
          "title": {
           "x": 0.05
          },
          "xaxis": {
           "automargin": true,
           "gridcolor": "white",
           "linecolor": "white",
           "ticks": "",
           "title": {
            "standoff": 15
           },
           "zerolinecolor": "white",
           "zerolinewidth": 2
          },
          "yaxis": {
           "automargin": true,
           "gridcolor": "white",
           "linecolor": "white",
           "ticks": "",
           "title": {
            "standoff": 15
           },
           "zerolinecolor": "white",
           "zerolinewidth": 2
          }
         }
        },
        "title": {
         "text": "Зависимость F1-меры от пороговой вероятности",
         "x": 0.5
        },
        "width": 600,
        "xaxis": {
         "title": {
          "text": "Пороговая вероятность"
         }
        },
        "yaxis": {
         "title": {
          "text": "F1-мера"
         }
        }
       }
      }
     },
     "metadata": {},
     "output_type": "display_data"
    }
   ],
   "source": [
    "# Получение вероятностей принадлежности к классу\n",
    "y_test_proba_pred = pd.Series(log_reg.predict_proba(X_test_sc_std_pf)[:, 1])\n",
    "scores = []\n",
    "# Генерация набора вероятностных порогов\n",
    "thresholds = np.arange(0.1, 1, 0.05)\n",
    "# Вычисление метрик в зависимости от применения пороговых вероятностей\n",
    "for threshold in thresholds:\n",
    "    y_test_pred = y_test_proba_pred.apply(lambda x: 1 if x>threshold else 0)\n",
    "    scores.append(metrics.f1_score(y_test, y_test_pred))\n",
    "\n",
    "# Построение графика\n",
    "fig = go.Figure(data=go.Scatter(x=thresholds,\n",
    "                                y=scores))\n",
    "fig.update_layout(autosize = False, width = 600, height = 400, \n",
    "                  title='Зависимость F1-меры от пороговой вероятности', title_x=0.5)\n",
    "fig.update_xaxes(title_text='Пороговая вероятность')\n",
    "fig.update_yaxes(title_text='F1-мера')\n",
    "fig.show()"
   ]
  },
  {
   "cell_type": "code",
   "execution_count": 48,
   "id": "50acaa4a",
   "metadata": {},
   "outputs": [
    {
     "name": "stdout",
     "output_type": "stream",
     "text": [
      "F1 для тренировочной выборки: 0.759\n",
      "F1 для тестовой выборки: 0.688\n"
     ]
    }
   ],
   "source": [
    "# Предсказание для тренировочной выборки\n",
    "y_train_proba_pred = pd.Series(log_reg.predict_proba(X_train_sc_std_pf)[:, 1])\n",
    "y_train_pred = y_train_proba_pred.apply(lambda x: 1 if x > 0.4 else 0)\n",
    "print(f'F1 для тренировочной выборки: {metrics.f1_score(y_train, y_train_pred):.3f}')\n",
    "\n",
    "# Предсказание для тестовой выборки\n",
    "y_test_proba_pred = pd.Series(log_reg.predict_proba(X_test_sc_std_pf)[:, 1])\n",
    "y_test_pred = y_test_proba_pred.apply(lambda x: 1 if x > 0.4 else 0)\n",
    "print(f'F1 для тестовой выборки: {metrics.f1_score(y_test, y_test_pred):.3f}')"
   ]
  },
  {
   "cell_type": "markdown",
   "id": "01cd9d14",
   "metadata": {},
   "source": [
    ">Оптимальный порог вероятности составил **0.4**, при данном пороге достигается наибольшее значение $F_1$-меры, равное **0.688**, что несколько улучшило качество получаемых спрогнозированных данных."
   ]
  },
  {
   "cell_type": "markdown",
   "id": "ae809d58",
   "metadata": {
    "id": "ae809d58"
   },
   "source": [
    "## Практика: деревья решений и случайный лес"
   ]
  },
  {
   "cell_type": "markdown",
   "id": "32dd8694",
   "metadata": {
    "id": "32dd8694"
   },
   "source": [
    "Мы продолжаем решать задачу прогнозирования оттока клиентов банка.\n",
    "\n",
    "Ранее мы построили модель логистической регрессии, затем добавили в модель полиномиальные признаки и подобрали оптимальный порог вероятности для логистической регрессии.\n",
    "\n",
    "> Теперь попробуем решить задачу с помощью деревьев решений и лесов.\n",
    "\n",
    "\n",
    "> **Примечание №1.** Для выполнения дальнейших заданий необходимо совершить уже знакомые шаги предобработки с данными об оттоке клиентов банка, а именно:\n",
    "* выделить данные, относящиеся к отделениям банка в Германии;\n",
    "* избавиться от заведомо неинформативных признаков;\n",
    "* расширить датасет путём добавления новых признаков;\n",
    "* разделить выборку на тренировочную и тестовую со стратификацией.\n",
    "\n",
    "> **Примечание №2.** Деревья решений — алгоритм, способный уловить нелинейные зависимости. Генерация полиномиальных признаков практически не имеет значения.\n",
    "Также деревья решений не чувствительны к масштабу признаков. Масштабирование исходных данных не играет роли при построении деревьев решения.\n",
    "Поэтому для решения задачи используйте обучающую (`X_train`, `y_train`) и тестовую (`X_test`, `y_test`) выборки без полиномиальных столбцов.\n"
   ]
  },
  {
   "cell_type": "code",
   "execution_count": null,
   "id": "9fcfcba4",
   "metadata": {
    "colab": {
     "base_uri": "https://localhost:8080/"
    },
    "executionInfo": {
     "elapsed": 222,
     "status": "ok",
     "timestamp": 1678085972604,
     "user": {
      "displayName": "Андрей Достоевский",
      "userId": "09718989537568551698"
     },
     "user_tz": -180
    },
    "id": "9fcfcba4",
    "outputId": "90611fd6-1306-46fe-ea78-cd6f8a5ae2ce"
   },
   "outputs": [],
   "source": [
    "X_train, X_test, y_train, y_test = model_selection.train_test_split(\n",
    "    X, y, \n",
    "    stratify=y, \n",
    "    random_state=0\n",
    ")\n",
    "print('Train shape: {}'.format(X_train.shape))\n",
    "print('Test shape: {}'.format(X_test.shape))"
   ]
  },
  {
   "cell_type": "markdown",
   "id": "48LgpXuJt_nL",
   "metadata": {
    "id": "48LgpXuJt_nL"
   },
   "source": [
    "Импортируем необходимые для выполнения практики модули:"
   ]
  },
  {
   "cell_type": "code",
   "execution_count": null,
   "id": "4b23febd-6403-4b0a-a024-28f27c240729",
   "metadata": {
    "id": "4b23febd-6403-4b0a-a024-28f27c240729"
   },
   "outputs": [],
   "source": [
    "from sklearn import tree\n",
    "from sklearn import ensemble"
   ]
  },
  {
   "cell_type": "markdown",
   "id": "4r3hncEEfx8T",
   "metadata": {
    "id": "4r3hncEEfx8T"
   },
   "source": [
    "Приступим! Выполните задания 8.1–8.4."
   ]
  },
  {
   "cell_type": "markdown",
   "id": "b57000af",
   "metadata": {
    "id": "b57000af"
   },
   "source": [
    "### Задание 8.1. (2 балла)\n",
    "\n",
    "Обучите на тренировочной выборке дерево решений из библиотеки `sklearn` (`DecisionTreeClassifier`) с неограниченной максимальной глубиной дерева. В качестве критерия информативности используйте энтропию Шеннона, остальные параметры оставьте по умолчанию. \n",
    "\n",
    "Также позаботьтесь о воспроизводимости результатов, установив конкретное  значение `random_state` (например, число 42). \n",
    "\n",
    "Сделайте предсказания для тренировочной и тестовой выборок. Рассчитайте значение целевой метрики на каждой из выборок.\n",
    "\n",
    "Сделайте вывод, ответив на вопрос:\n",
    "* Как вы считаете, является полученная модель переобученной или недообученной? Попробуйте дать обоснование, почему так происходит.\n"
   ]
  },
  {
   "cell_type": "markdown",
   "id": "52fdb449",
   "metadata": {
    "id": "52fdb449"
   },
   "source": [
    "**Критерии оценивания:**\n",
    "- Задание выполнено верно, учтены все условия (**2 балла**): \n",
    "    * построена модель дерева решений с заданными в условии задачи параметрами;\n",
    "    * с помощью полученной модели сформированы предсказания для тренировочной и тестовой выборок;\n",
    "    * приведён расчёт выбранной метрики на тренировочных и тестовых данных (метрика должна быть выбрана корректно);\n",
    "    * приведён небольшой вывод по полученным результатам, в котором содержится корректный ответ на поставленный в задании вопрос, а также обоснование полученного результата.\n",
    "\n",
    "- Задание выполнено верно, но не приведено обоснование полученного результата или обоснование является некорректным (**1 балл**).\n",
    "- Задание выполнено неверно, не учтено несколько условий (**0 баллов**)."
   ]
  },
  {
   "cell_type": "code",
   "execution_count": null,
   "id": "59a61357",
   "metadata": {
    "id": "59a61357"
   },
   "outputs": [],
   "source": [
    "# Ваш код здесь"
   ]
  },
  {
   "cell_type": "markdown",
   "id": "40d5e039",
   "metadata": {
    "id": "40d5e039"
   },
   "source": [
    "> Ваши выводы и рассуждения — *здесь*"
   ]
  },
  {
   "cell_type": "markdown",
   "id": "ab0187f6",
   "metadata": {
    "id": "ab0187f6"
   },
   "source": [
    "### Задание 8.2. (1 балл)\n",
    "\n",
    "Давайте «подстрижём» наше дерево. \n",
    "\n",
    "Обучите на тренировочной выборке дерево решений из библиотеки `sklearn` (`DecisionTreeClassifier`) с максимальной глубиной 8. В качестве критерия информативности используйте энтропию Шеннона, минимальное число объектов в листе (количество объектов, при которых дерево прекратит делиться и образуется лист) — 10.\n",
    "\n",
    "Также позаботьтесь о воспроизводимости результатов, установив конкретное значение `random_state` (например, число 42).\n",
    "\n",
    "Сделайте предсказания для тренировочной и тестовой выборок. Рассчитайте значение целевой метрики на каждой из выборок.\n",
    "\n",
    "Сравните результат с полученными ранее. Сделайте вывод.\n"
   ]
  },
  {
   "cell_type": "markdown",
   "id": "4216b9ca",
   "metadata": {
    "id": "4216b9ca"
   },
   "source": [
    "**Критерии оценивания:**\n",
    "- Задание выполнено верно, учтены все условия (**1 балла**): \n",
    "    * построена модель дерева решений с заданными в условии задачи параметрами;\n",
    "    * с помощью полученной модели сформированы предсказания для тренировочной и тестовой выборок;\n",
    "    * приведён расчёт выбранной метрики на тренировочных и тестовых данных (метрика должна быть выбрана корректно);\n",
    "    * приведён небольшой вывод по полученным результатам, в котором содержится корректный ответ на поставленный в задании вопрос.\n",
    "\n",
    "- Задание выполнено неверно, не учтено одно или несколько условий (**0 баллов**)."
   ]
  },
  {
   "cell_type": "code",
   "execution_count": null,
   "id": "ab6e8060",
   "metadata": {
    "id": "ab6e8060"
   },
   "outputs": [],
   "source": [
    "# Ваш код здесь"
   ]
  },
  {
   "cell_type": "markdown",
   "id": "0d9a4222",
   "metadata": {
    "id": "0d9a4222"
   },
   "source": [
    "> Ваши выводы и рассуждения — *здесь*"
   ]
  },
  {
   "cell_type": "markdown",
   "id": "2a37fe23",
   "metadata": {
    "id": "2a37fe23"
   },
   "source": [
    "### Задание 8.3. (1 балл)\n",
    "\n",
    "Давайте воспользуемся случайным лесом. \n",
    "\n",
    "Постройте случайный лес (`RandomForestClassifier`) из 500 деревьев с максимальной глубиной 8. Критерий информативности — энтропия Шеннона, минимальное число объектов в листе (количество объектов, при которых дерево прекратит делиться и образуется лист) — 10.\n",
    "\n",
    "Также позаботьтесь о воспроизводимости результатов, установив конкретное значение значение `random_state` (например, число 42).\n",
    "\n",
    "Сделайте предсказания для тренировочной и тестовой выборок. Рассчитайте значение целевой метрики на каждой из выборок.\n",
    "\n",
    "Сравните качество одного дерева решений с качеством случайного леса на тестовой выборке. Смогли ли вы улучшить метрику?\n"
   ]
  },
  {
   "cell_type": "markdown",
   "id": "0277e1e0",
   "metadata": {
    "id": "0277e1e0"
   },
   "source": [
    "**Критерии оценивания:**\n",
    "- Задание выполнено верно, учтены все условия (**1 балл**): \n",
    "    * построена модель дерева решений с заданными в условии задачи параметрами;\n",
    "    * с помощью полученной модели сформированы предсказания для тренировочной и тестовой выборок;\n",
    "    * приведён расчёт выбранной метрики на тренировочных и тестовых данных (метрика должна быть выбрана корректно);\n",
    "    * приведён небольшой вывод по полученным результатам, в котором содержится корректный ответ на поставленный в задании вопрос.\n",
    "\n",
    "- Задание выполнено неверно, не учтено одно или несколько условий (**0 баллов**)."
   ]
  },
  {
   "cell_type": "code",
   "execution_count": null,
   "id": "a7a08886",
   "metadata": {
    "id": "a7a08886"
   },
   "outputs": [],
   "source": [
    "# Ваш код здесь"
   ]
  },
  {
   "cell_type": "markdown",
   "id": "80cfd760",
   "metadata": {
    "id": "80cfd760"
   },
   "source": [
    "> Ваши выводы и рассуждения — *здесь*"
   ]
  },
  {
   "cell_type": "markdown",
   "id": "f65b1d5d",
   "metadata": {
    "id": "f65b1d5d"
   },
   "source": [
    "### Задание 8.4. (2 балла)\n",
    "\n",
    "Мы на финишной прямой. \n",
    "\n",
    "\n",
    "Попробуйте подобрать значение порога вероятности, при котором наблюдается наибольшее значение целевой метрики на тестовой выборке. **Используйте ту модель (из рассмотренных ранее), которая показала наилучшее качество на тестовой выборке.**\n",
    "\n",
    "\n",
    "В качестве порога вероятности используйте значения из следующего диапазона:\n",
    "\n",
    "`thresholds = np.arange(0.1, 1, 0.05)`\n",
    "\n",
    "Напомним алгоритм, как определить оптимальный порог вероятности:\n",
    "* Предсказать вероятности оттока для каждого клиента из тестовой выборки.\n",
    "* В цикле перебрать значения порогов вероятности threshold:\n",
    "    * Сделать предсказание класса по принципу: если вероятность > threshold, то отнести объект к классу 1, в противном случае — к классу 0.\n",
    "    * Рассчитать метрику и занести её в заранее созданный список. \n",
    "\n",
    "Для реализации алгоритма подбора вы можете воспользоваться шаблоном кода, приведённым ниже:\n",
    "\n",
    "```python\n",
    "# Делаем предсказание вероятности оттока для каждого клиента из тестовой выборки\n",
    "y_test_proba_pred = pd.Series(model.predict_proba(X_test_poly)[:, 1])\n",
    "# Инициализируем список, куда будем сохранять метрики.\n",
    "scores = []\n",
    "# Задаём значения порогов вероятности\n",
    "thresholds = np.arange(0.1, 1, 0.05)\n",
    "# В цикле перебираем значения порогов вероятности\n",
    "for threshold in thresholds:\n",
    "    # Делаем предсказание\n",
    "    y_test_pred_poly = y_test_proba_pred.apply(lambda x: 1 if x > threshold else 0)\n",
    "    # Рассчитываем метрику\n",
    "    score = # код для вычисления метрики\n",
    "    # Добавляем результат в список\n",
    "    scores.append(score)\n",
    "```\n",
    "\n",
    "Постройте график зависимости целевой метрики от порога вероятности. На основе построенного графика определите порог вероятности, которому соответствует наибольшее значение целевой метрики на тестовой выборке.\n",
    "\n",
    "Сделайте предсказание классов с подобранным оптимальным порогом вероятности. Рассчитайте значение целевой метрики на тестовой выборке и сравните полученный результат с полученными ранее. \n",
    "\n",
    "Напишите небольшой вывод о проделанной работе, указав в нём, какая из рассмотренных нами моделей показала наилучший результат.\n",
    "\n",
    "> **Примечание.** Помните о том, что в реальных задачах (а мы решали задачу на реальных данных) мы практически никогда не сможем получить значения метрик, близкие к 1. Если в задаче прогнозирования оттока ваша метрика превышает хотя бы значения 0.6-0.7, вашу модель уже можно считать хорошей и можно говорить о том, что она успешно справляется с задачей."
   ]
  },
  {
   "cell_type": "code",
   "execution_count": null,
   "id": "a5578584",
   "metadata": {
    "id": "a5578584"
   },
   "outputs": [],
   "source": [
    "# Ваш код здесь"
   ]
  },
  {
   "cell_type": "markdown",
   "id": "088365d3",
   "metadata": {
    "id": "088365d3"
   },
   "source": [
    "> Ваши выводы и рассуждения — *здесь*"
   ]
  },
  {
   "cell_type": "markdown",
   "id": "lRcIEe0uutOC",
   "metadata": {
    "id": "lRcIEe0uutOC"
   },
   "source": [
    "### Задание 8.5. (1 балл)\n",
    "\n",
    "Наконец, финальная задача.\n",
    "\n",
    "У нашего банка есть некоторый клиент, назовём его Василием. В базе данных банка хранятся следующие данные о Василии:\n",
    "\n",
    "```python\n",
    "{\n",
    "    'CreditScore': [601.0],\n",
    "    'Gender': ['Male'],\n",
    "    'Age': [42.0],\n",
    "    'Tenure': [1.0],\n",
    "    'Balance': [98495.72],\n",
    "    'NumOfProducts': [1.0],\n",
    "    'HasCrCard': [1.0],\n",
    "    'IsActiveMember': [0.0],\n",
    "    'EstimatedSalary': [40014.76]\n",
    "}\n",
    "```\n",
    "\n",
    "С помощью наилучшей модели спрогнозируйте вероятность того, что Василий откажется от услуг банка.\n",
    "\n",
    "> **Примечание.** Учтите, что для предсказания необходимо преобразовать данные к тому формату, на котором обучалась модель, то есть:\n",
    "* добавить признаки дополнительные признаки; \n",
    "* произвести кодирование категориальных признаков;\n",
    "* произвести масштабирование признаков (если ваша модель обучалась на масштабированных данных) с помощью того же скейлера, который вы использовали при обучении модели;\n",
    "* сгенерировать полиномиальные признаки."
   ]
  },
  {
   "cell_type": "markdown",
   "id": "Y2zispyJ1qgQ",
   "metadata": {
    "id": "Y2zispyJ1qgQ"
   },
   "source": [
    "**Критерии оценивания:**\n",
    "- Задание выполнено верно, учтены все условия (**1 балл**): \n",
    "    * сформирован DataFrame на основе предоставленного словаря;\n",
    "    * произведены преобразования данных, необходимые для работы модели;\n",
    "    * предсказана вероятность оттока клиента (вероятность принадлежности к классу 1).\n",
    "\n",
    "- Задание выполнено неверно, не учтено одно или несколько условий (**0 баллов**)."
   ]
  },
  {
   "cell_type": "code",
   "execution_count": null,
   "id": "8AY25O3t1-CS",
   "metadata": {
    "id": "8AY25O3t1-CS"
   },
   "outputs": [],
   "source": [
    "# Ваш код здесь"
   ]
  }
 ],
 "metadata": {
  "colab": {
   "provenance": []
  },
  "kernelspec": {
   "display_name": ".venv",
   "language": "python",
   "name": "python3"
  },
  "language_info": {
   "codemirror_mode": {
    "name": "ipython",
    "version": 3
   },
   "file_extension": ".py",
   "mimetype": "text/x-python",
   "name": "python",
   "nbconvert_exporter": "python",
   "pygments_lexer": "ipython3",
   "version": "3.13.1"
  }
 },
 "nbformat": 4,
 "nbformat_minor": 5
}
