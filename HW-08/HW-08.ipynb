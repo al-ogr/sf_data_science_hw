{
 "cells": [
  {
   "cell_type": "markdown",
   "id": "62d7693a",
   "metadata": {},
   "source": [
    "# Проект 7. Прогнозирование биологического ответа\n",
    "\n",
    "Целью данной задачи является построение модели предсказания биологического ответа молекул (столбец 'Activity') по их химическому составу (столбцы D1-D1776).\n",
    "\n",
    "Данные представлены в формате CSV.  Каждая строка представляет молекулу. \n",
    "\n",
    "- Первый столбец Activity содержит экспериментальные данные, описывающие фактический биологический ответ [0, 1]; \n",
    "- Остальные столбцы D1-D1776 представляют собой молекулярные дескрипторы — это вычисляемые свойства, которые могут фиксировать некоторые характеристики молекулы, например размер, форму или состав элементов.\n",
    "\n",
    "В качестве метрики использовать F1-score.\n",
    "\n",
    "Необходимо обучить две модели: логистическую регрессию и случайный лес. Далее нужно сделать подбор гиперпараметров с помощью базовых и продвинутых методов оптимизации. Важно использовать все четыре метода (GridSeachCV, RandomizedSearchCV, Hyperopt, Optuna) хотя бы по разу, максимальное количество итераций не должно превышать 50."
   ]
  },
  {
   "cell_type": "code",
   "execution_count": 1,
   "id": "382303e1",
   "metadata": {},
   "outputs": [],
   "source": [
    "import time\n",
    "import numpy as np\n",
    "import pandas as pd\n",
    "\n",
    "from sklearn import linear_model #линейные модели\n",
    "from sklearn import ensemble #ансамбли\n",
    "from sklearn import metrics #метрики\n",
    "from sklearn.model_selection import train_test_split #сплитование выборки\n",
    "\n",
    "from sklearn.model_selection import GridSearchCV, RandomizedSearchCV\n",
    "from sklearn.model_selection import cross_val_score\n",
    "from hyperopt import hp, fmin, Trials\n",
    "import optuna\n",
    "\n",
    "from plotly import graph_objects as go\n",
    "from plotly.subplots import make_subplots"
   ]
  },
  {
   "cell_type": "markdown",
   "id": "6e9dcb1e",
   "metadata": {},
   "source": [
    "## Знакомство с данными и их исследование"
   ]
  },
  {
   "cell_type": "code",
   "execution_count": 2,
   "id": "20eb32a5",
   "metadata": {},
   "outputs": [
    {
     "data": {
      "text/html": [
       "<div>\n",
       "<style scoped>\n",
       "    .dataframe tbody tr th:only-of-type {\n",
       "        vertical-align: middle;\n",
       "    }\n",
       "\n",
       "    .dataframe tbody tr th {\n",
       "        vertical-align: top;\n",
       "    }\n",
       "\n",
       "    .dataframe thead th {\n",
       "        text-align: right;\n",
       "    }\n",
       "</style>\n",
       "<table border=\"1\" class=\"dataframe\">\n",
       "  <thead>\n",
       "    <tr style=\"text-align: right;\">\n",
       "      <th></th>\n",
       "      <th>Activity</th>\n",
       "      <th>D1</th>\n",
       "      <th>D2</th>\n",
       "      <th>D3</th>\n",
       "      <th>D4</th>\n",
       "      <th>D5</th>\n",
       "      <th>D6</th>\n",
       "      <th>D7</th>\n",
       "      <th>D8</th>\n",
       "      <th>D9</th>\n",
       "      <th>...</th>\n",
       "      <th>D1767</th>\n",
       "      <th>D1768</th>\n",
       "      <th>D1769</th>\n",
       "      <th>D1770</th>\n",
       "      <th>D1771</th>\n",
       "      <th>D1772</th>\n",
       "      <th>D1773</th>\n",
       "      <th>D1774</th>\n",
       "      <th>D1775</th>\n",
       "      <th>D1776</th>\n",
       "    </tr>\n",
       "  </thead>\n",
       "  <tbody>\n",
       "    <tr>\n",
       "      <th>0</th>\n",
       "      <td>1</td>\n",
       "      <td>0.000000</td>\n",
       "      <td>0.497009</td>\n",
       "      <td>0.10</td>\n",
       "      <td>0.0</td>\n",
       "      <td>0.132956</td>\n",
       "      <td>0.678031</td>\n",
       "      <td>0.273166</td>\n",
       "      <td>0.585445</td>\n",
       "      <td>0.743663</td>\n",
       "      <td>...</td>\n",
       "      <td>0</td>\n",
       "      <td>0</td>\n",
       "      <td>0</td>\n",
       "      <td>0</td>\n",
       "      <td>0</td>\n",
       "      <td>0</td>\n",
       "      <td>0</td>\n",
       "      <td>0</td>\n",
       "      <td>0</td>\n",
       "      <td>0</td>\n",
       "    </tr>\n",
       "    <tr>\n",
       "      <th>1</th>\n",
       "      <td>1</td>\n",
       "      <td>0.366667</td>\n",
       "      <td>0.606291</td>\n",
       "      <td>0.05</td>\n",
       "      <td>0.0</td>\n",
       "      <td>0.111209</td>\n",
       "      <td>0.803455</td>\n",
       "      <td>0.106105</td>\n",
       "      <td>0.411754</td>\n",
       "      <td>0.836582</td>\n",
       "      <td>...</td>\n",
       "      <td>1</td>\n",
       "      <td>1</td>\n",
       "      <td>1</td>\n",
       "      <td>1</td>\n",
       "      <td>0</td>\n",
       "      <td>1</td>\n",
       "      <td>0</td>\n",
       "      <td>0</td>\n",
       "      <td>1</td>\n",
       "      <td>0</td>\n",
       "    </tr>\n",
       "    <tr>\n",
       "      <th>2</th>\n",
       "      <td>1</td>\n",
       "      <td>0.033300</td>\n",
       "      <td>0.480124</td>\n",
       "      <td>0.00</td>\n",
       "      <td>0.0</td>\n",
       "      <td>0.209791</td>\n",
       "      <td>0.610350</td>\n",
       "      <td>0.356453</td>\n",
       "      <td>0.517720</td>\n",
       "      <td>0.679051</td>\n",
       "      <td>...</td>\n",
       "      <td>0</td>\n",
       "      <td>0</td>\n",
       "      <td>0</td>\n",
       "      <td>0</td>\n",
       "      <td>0</td>\n",
       "      <td>0</td>\n",
       "      <td>0</td>\n",
       "      <td>0</td>\n",
       "      <td>0</td>\n",
       "      <td>0</td>\n",
       "    </tr>\n",
       "    <tr>\n",
       "      <th>3</th>\n",
       "      <td>1</td>\n",
       "      <td>0.000000</td>\n",
       "      <td>0.538825</td>\n",
       "      <td>0.00</td>\n",
       "      <td>0.5</td>\n",
       "      <td>0.196344</td>\n",
       "      <td>0.724230</td>\n",
       "      <td>0.235606</td>\n",
       "      <td>0.288764</td>\n",
       "      <td>0.805110</td>\n",
       "      <td>...</td>\n",
       "      <td>0</td>\n",
       "      <td>0</td>\n",
       "      <td>0</td>\n",
       "      <td>0</td>\n",
       "      <td>0</td>\n",
       "      <td>0</td>\n",
       "      <td>0</td>\n",
       "      <td>0</td>\n",
       "      <td>0</td>\n",
       "      <td>0</td>\n",
       "    </tr>\n",
       "    <tr>\n",
       "      <th>4</th>\n",
       "      <td>0</td>\n",
       "      <td>0.100000</td>\n",
       "      <td>0.517794</td>\n",
       "      <td>0.00</td>\n",
       "      <td>0.0</td>\n",
       "      <td>0.494734</td>\n",
       "      <td>0.781422</td>\n",
       "      <td>0.154361</td>\n",
       "      <td>0.303809</td>\n",
       "      <td>0.812646</td>\n",
       "      <td>...</td>\n",
       "      <td>0</td>\n",
       "      <td>0</td>\n",
       "      <td>0</td>\n",
       "      <td>0</td>\n",
       "      <td>0</td>\n",
       "      <td>0</td>\n",
       "      <td>0</td>\n",
       "      <td>0</td>\n",
       "      <td>0</td>\n",
       "      <td>0</td>\n",
       "    </tr>\n",
       "  </tbody>\n",
       "</table>\n",
       "<p>5 rows × 1777 columns</p>\n",
       "</div>"
      ],
      "text/plain": [
       "   Activity        D1        D2    D3   D4        D5        D6        D7  \\\n",
       "0         1  0.000000  0.497009  0.10  0.0  0.132956  0.678031  0.273166   \n",
       "1         1  0.366667  0.606291  0.05  0.0  0.111209  0.803455  0.106105   \n",
       "2         1  0.033300  0.480124  0.00  0.0  0.209791  0.610350  0.356453   \n",
       "3         1  0.000000  0.538825  0.00  0.5  0.196344  0.724230  0.235606   \n",
       "4         0  0.100000  0.517794  0.00  0.0  0.494734  0.781422  0.154361   \n",
       "\n",
       "         D8        D9  ...  D1767  D1768  D1769  D1770  D1771  D1772  D1773  \\\n",
       "0  0.585445  0.743663  ...      0      0      0      0      0      0      0   \n",
       "1  0.411754  0.836582  ...      1      1      1      1      0      1      0   \n",
       "2  0.517720  0.679051  ...      0      0      0      0      0      0      0   \n",
       "3  0.288764  0.805110  ...      0      0      0      0      0      0      0   \n",
       "4  0.303809  0.812646  ...      0      0      0      0      0      0      0   \n",
       "\n",
       "   D1774  D1775  D1776  \n",
       "0      0      0      0  \n",
       "1      0      1      0  \n",
       "2      0      0      0  \n",
       "3      0      0      0  \n",
       "4      0      0      0  \n",
       "\n",
       "[5 rows x 1777 columns]"
      ]
     },
     "execution_count": 2,
     "metadata": {},
     "output_type": "execute_result"
    }
   ],
   "source": [
    "df_molecules = pd.read_csv('data/_train_sem09 (1).csv')\n",
    "df_molecules.head()"
   ]
  },
  {
   "cell_type": "markdown",
   "id": "8c2b678c",
   "metadata": {},
   "source": [
    "Согласно условиям задания предварительная обработка не требуется, данные уже закодированы и нормализованы."
   ]
  },
  {
   "cell_type": "markdown",
   "id": "84dea028",
   "metadata": {},
   "source": [
    "Формирование матрицы наблюдений $X$ и вектора ответов $y$."
   ]
  },
  {
   "cell_type": "code",
   "execution_count": 3,
   "id": "3f0362e3",
   "metadata": {},
   "outputs": [],
   "source": [
    "X = df_molecules.drop(['Activity'], axis=1)\n",
    "y = df_molecules['Activity']"
   ]
  },
  {
   "cell_type": "markdown",
   "id": "b9e565e1",
   "metadata": {},
   "source": [
    "Разделение выборки на тренировочную и тестовую в соотношении 80/20 с сохранением соотношений целевого признака (стратифицированное разбиение). "
   ]
  },
  {
   "cell_type": "code",
   "execution_count": 4,
   "id": "96272f88",
   "metadata": {},
   "outputs": [],
   "source": [
    "X_train, X_test, y_train, y_test = train_test_split(X, y, stratify=y, random_state = 42, test_size = 0.2)"
   ]
  },
  {
   "cell_type": "markdown",
   "id": "33f1f305",
   "metadata": {},
   "source": [
    "---"
   ]
  },
  {
   "cell_type": "markdown",
   "id": "4754c1fa",
   "metadata": {},
   "source": [
    "## Оптимизация гиперпараметров модели"
   ]
  },
  {
   "cell_type": "markdown",
   "id": "14add05f",
   "metadata": {},
   "source": [
    "### **Логистическая регрессия**\n",
    "\n",
    "Формирование baseline-модели логистической регрессии с гиперпараметрами по умолчанию и вычисление ее метрики."
   ]
  },
  {
   "cell_type": "code",
   "execution_count": 5,
   "id": "8a37975e",
   "metadata": {},
   "outputs": [],
   "source": [
    "# Словарь метрик моделей логистической регрессии\n",
    "dict_scores_LR = {}"
   ]
  },
  {
   "cell_type": "code",
   "execution_count": 6,
   "id": "87572ecc",
   "metadata": {},
   "outputs": [
    {
     "name": "stdout",
     "output_type": "stream",
     "text": [
      "F1-мера на обучающей выборке: 0.774\n",
      "F1-мера на тестовой выборке: 0.737\n"
     ]
    }
   ],
   "source": [
    "#Создаем объект класса логистическая регрессия\n",
    "model_log_reg = linear_model.LogisticRegression(max_iter = 1000, \n",
    "                                                random_state=42)\n",
    "# Время начала\n",
    "tic = time.time()\n",
    "#Обучаем модель, минимизируя logloss\n",
    "model_log_reg.fit(X_train, y_train)\n",
    "# Время окончания\n",
    "toc = time.time()\n",
    "# Вычисление метрик и их фиксация для анализа\n",
    "f1_train = cross_val_score(model_log_reg, X_train, y_train, cv=5, scoring=\"f1\", n_jobs=-1).mean()\n",
    "print(f'F1-мера на обучающей выборке: {f1_train:.3f}')\n",
    "f1_test = cross_val_score(model_log_reg, X_test, y_test, cv=5, scoring=\"f1\", n_jobs=-1).mean()\n",
    "print(f'F1-мера на тестовой выборке: {f1_test:.3f}')\n",
    "dict_scores_LR['Base'] = [f1_train, f1_test, toc - tic]"
   ]
  },
  {
   "cell_type": "markdown",
   "id": "d726f209",
   "metadata": {},
   "source": [
    "При построении модели с использованием гиперпараметров по умолчанию получено значение $F_1-меры$ на тестовой выборке **0.737**, затрачено времени 2.14 секунды.\n",
    "\n",
    ">Время выполнения будет отличаться при запуске на различных ПК, так как зависит от вычислительной мощности платформы, но данная величина может дать общее представление, если сравнивать этот показатель при использовании различных методов подбора гиперпараметров относительно друг друга."
   ]
  },
  {
   "cell_type": "markdown",
   "id": "e6f66e8a",
   "metadata": {},
   "source": [
    "#### GridSeachCV"
   ]
  },
  {
   "cell_type": "markdown",
   "id": "0d7a2bd0",
   "metadata": {},
   "source": [
    "Обычно для Logistic Regression гиперпараметр $C$ тестируют в пределах от $10^{−5}$ до $10^5$. Это покрывает широкий диапазон возможных уровней регуляризации. Часто оптимальные значения находятся в пределах $10^{−3}$ до $10^3$, так как задача учебная, возьмем для ее реализации диапазон от $10^{-1}$ до 10. Сочетания типов и алгоритмов регуляризации возьмем также не все, но с отработкой исключения несовместимых параметров."
   ]
  },
  {
   "cell_type": "code",
   "execution_count": 7,
   "id": "4fc25dc5",
   "metadata": {},
   "outputs": [],
   "source": [
    "# Сетка параметров\n",
    "param_grid = [{'penalty': ['l1', 'l2'], # тип регуляризации\n",
    "               'solver': ['liblinear'], # алгоритм оптимизации\n",
    "               'C': [10**i for i in range(-1, 2)]}, # Логарифмическая сетка от 10^-1 до 10\n",
    "              {'penalty': ['l2', None],\n",
    "               'solver': ['lbfgs', 'newton-cholesky', 'sag'],\n",
    "               'C': [10**i for i in range(-1, 2)]},\n",
    "              {'penalty': ['l1', 'l2', None],\n",
    "               'solver': ['saga'],\n",
    "               'C': [10**i for i in range(-1, 2)]}]\n",
    "# Время начала\n",
    "tic = time.time()\n",
    "grid_search_LR = GridSearchCV(estimator=linear_model.LogisticRegression(random_state=42, \n",
    "                                                                        max_iter=1000), \n",
    "                              param_grid=param_grid,\n",
    "                              cv=5, # Обучение с использованием кросс-валидации\n",
    "                              n_jobs=-1)\n",
    "grid_search_LR.fit(X_train, y_train)\n",
    "# Время окончания\n",
    "toc = time.time()"
   ]
  },
  {
   "cell_type": "markdown",
   "id": "f3482f62",
   "metadata": {},
   "source": [
    "Для объективного сравнения необходима оценка всех моделей по одной схеме. Ввиду особенностей реализации метода получения оценки cross_val_score, а именно итерационного обучения оцениваемой модели, для получения оценок на тестовых данных создаем новую модель с найденными наилучшими значениями гиперпараметров."
   ]
  },
  {
   "cell_type": "code",
   "execution_count": 8,
   "id": "549fc6fe",
   "metadata": {},
   "outputs": [
    {
     "name": "stdout",
     "output_type": "stream",
     "text": [
      "F1-мера на обучающей выборке: 0.786\n",
      "F1-мера на тестовой выборке: 0.731\n",
      "Наилучшие значения гиперпараметров: {'C': 0.1, 'penalty': 'l2', 'solver': 'lbfgs'}\n"
     ]
    }
   ],
   "source": [
    "#Создаем объект класса логистическая регрессия\n",
    "model_log_reg_gs = linear_model.LogisticRegression(**grid_search_LR.best_params_,\n",
    "                                                   max_iter = 1000, \n",
    "                                                   random_state=42)\n",
    "#Обучаем модель, минимизируя logloss\n",
    "model_log_reg_gs.fit(X_train, y_train)\n",
    "# Вычисление метрик и их фиксация для анализа\n",
    "f1_train = cross_val_score(model_log_reg_gs, X_train, y_train, cv=5, scoring=\"f1\", n_jobs=-1).mean()\n",
    "print(f'F1-мера на обучающей выборке: {f1_train:.3f}')\n",
    "f1_test = cross_val_score(model_log_reg_gs, X_test, y_test, cv=5, scoring=\"f1\", n_jobs=-1).mean()\n",
    "print(f'F1-мера на тестовой выборке: {f1_test:.3f}')\n",
    "dict_scores_LR['GridSearchCV'] = [f1_train, f1_test, toc - tic]\n",
    "print(f'Наилучшие значения гиперпараметров: {grid_search_LR.best_params_}')"
   ]
  },
  {
   "cell_type": "markdown",
   "id": "b23743c3",
   "metadata": {},
   "source": [
    "Полный перебор всех возможных в пространстве параметров сочетаний наиболее затратен по времени. В текущих условиях он составил 51 мин.\n",
    "При этом на тренировочной выборке получена $F_1-мера$ **0.786**, а на тестовой выборке - **0.731**, наилучшими значениями гиперпараметров составили:\n",
    "- penalty: l2;\n",
    "- solver: lbfgs;\n",
    "- С: 0.1."
   ]
  },
  {
   "cell_type": "markdown",
   "id": "7f6b8628",
   "metadata": {},
   "source": [
    "#### RandomizedSearchCV"
   ]
  },
  {
   "cell_type": "code",
   "execution_count": 11,
   "id": "239945ca",
   "metadata": {},
   "outputs": [
    {
     "name": "stdout",
     "output_type": "stream",
     "text": [
      "F1-мера на обучающей выборке: 0.786\n",
      "F1-мера на тестовой выборке: 0.731\n",
      "Наилучшие значения гиперпараметров: {'solver': 'newton-cholesky', 'penalty': 'l2', 'C': 0.1}\n"
     ]
    }
   ],
   "source": [
    "# Время начала\n",
    "tic = time.time()\n",
    "randomized_search_LR = RandomizedSearchCV(estimator=linear_model.LogisticRegression(random_state=42, \n",
    "                                                                                    max_iter=1000), \n",
    "                                          param_distributions=param_grid,\n",
    "                                          n_iter=10,\n",
    "                                          cv=5, # Обучение с использованием кросс-валидации\n",
    "                                          n_jobs=-1)\n",
    "randomized_search_LR.fit(X_train, y_train)\n",
    "# Время окончания\n",
    "toc = time.time()\n",
    "# Применение найденных параметров\n",
    "model_log_reg_randgs = linear_model.LogisticRegression(**randomized_search_LR.best_params_,\n",
    "                                                   max_iter = 1000, \n",
    "                                                   random_state=42)\n",
    "#Обучаем модель, минимизируя logloss\n",
    "model_log_reg_randgs.fit(X_train, y_train)\n",
    "# Вычисление метрик и их фиксация для анализа\n",
    "f1_train = cross_val_score(model_log_reg_randgs, X_train, y_train, cv=5, scoring=\"f1\", n_jobs=-1).mean()\n",
    "print(f'F1-мера на обучающей выборке: {f1_train:.3f}')\n",
    "f1_test = cross_val_score(model_log_reg_randgs, X_test, y_test, cv=5, scoring=\"f1\", n_jobs=-1).mean()\n",
    "print(f'F1-мера на тестовой выборке: {f1_test:.3f}')\n",
    "dict_scores_LR['RandomizedSearchCV'] = [f1_train, f1_test, toc - tic]\n",
    "print(f'Наилучшие значения гиперпараметров: {randomized_search_LR.best_params_}')"
   ]
  },
  {
   "cell_type": "markdown",
   "id": "d7430815",
   "metadata": {},
   "source": [
    "При подборе гиперпараметров посредством RandomizedSearchCV на 10 итераций с использованием кросс-валидации на 5 фолдах затрачено 14 мин.\n",
    "При этом на тренировочной выборке получена $F_1-мера$ **0.786**, а на тестовой выборке - **0.731**, наилучшими значениями гиперпараметров предлагаются:\n",
    "- penalty: l2;\n",
    "- solver: newton-cholesky;\n",
    "- С: 0.1.  \n",
    "\n",
    "Значения метрики на тренировочных данных практически те же, что и при полном переборе, при этом времени затрачено почти в четыре раза меньше."
   ]
  },
  {
   "cell_type": "markdown",
   "id": "3556790f",
   "metadata": {},
   "source": [
    "#### Hyperopt"
   ]
  },
  {
   "cell_type": "code",
   "execution_count": 12,
   "id": "379c317c",
   "metadata": {},
   "outputs": [
    {
     "name": "stderr",
     "output_type": "stream",
     "text": [
      "TPE is being used as the default algorithm.\n"
     ]
    },
    {
     "name": "stdout",
     "output_type": "stream",
     "text": [
      "100%|██████████| 10/10 [07:54<00:00, 47.47s/trial, best loss: -0.7842972882154436]\n",
      "F1-мера на обучающей выборке: 0.784\n",
      "F1-мера на тестовой выборке: 0.746\n",
      "Наилучшие значения гиперпараметров ('l1', 'liblinear', 0.1)\n"
     ]
    }
   ],
   "source": [
    "# Определение пространство поиска гиперпараметров\n",
    "values_penalty = ['l1', 'l2', None]\n",
    "values_solver = ['liblinear', 'lbfgs', 'newton-cholesky', 'sag', 'saga']\n",
    "values_C = [10**i for i in range(-3, 4)]\n",
    "space={'penalty': hp.choice('penalty', values_penalty) , # тип регуляризации\n",
    "       'solver': hp.choice('solver', values_solver), # алгоритм оптимизации\n",
    "       'C': hp.choice('C', values_C)}\n",
    "\n",
    "\n",
    "def is_valid_penalty_solver(penalty, solver):\n",
    "    \"\"\"Проверка совместимости penalty и solver\"\"\"\n",
    "    if penalty in ['l1', 'l2'] and solver == 'liblinear':\n",
    "        return True\n",
    "    if penalty in ['l2', None] and solver in ['lbfgs', 'newton-cg', 'newton-cholesky', 'sag']:\n",
    "        return True\n",
    "    if penalty in ['elasticnet', 'l1', 'l2', None] and solver == 'saga':\n",
    "        return True\n",
    "    return False\n",
    "\n",
    "\n",
    "# Определение целевой функции\n",
    "def hyperopt_rf(params, cv=5, X=X_train, y=y_train):\n",
    "    # Получение комбинации гиперпараметров\n",
    "    params = {'penalty': str(params['penalty']), \n",
    "              'solver': str(params['solver']), \n",
    "              'C': float(params['C'])}\n",
    "    # Проверка совместимости penalty и solver\n",
    "    if not is_valid_penalty_solver(params['penalty'], params['solver']):\n",
    "        return 0\n",
    "    # Построение модели\n",
    "    model = linear_model.LogisticRegression(**params,\n",
    "                                            random_state=42, \n",
    "                                            max_iter=1000)\n",
    "    # Обучение модели\n",
    "    score = cross_val_score(model, X, y, cv=cv, scoring=\"f1\", n_jobs=-1).mean()\n",
    "    return -score\n",
    "\n",
    "\n",
    "trials = Trials() # Логирование результатов\n",
    "# Время начала\n",
    "tic = time.time()\n",
    "best=fmin(hyperopt_rf,\n",
    "          space=space,\n",
    "          max_evals=10,\n",
    "          trials=trials,\n",
    "          rstate=np.random.default_rng(42))\n",
    "# Формирование и обучение модели на найденных параметрах\n",
    "model_lr_hp = linear_model.LogisticRegression(random_state=42,\n",
    "                                              max_iter=1000,\n",
    "                                              penalty=values_penalty[int(best['penalty'])],\n",
    "                                              solver=values_solver[int(best['solver'])],\n",
    "                                              C=values_C[int(best['C'])])\n",
    "model_lr_hp.fit(X_train, y_train)\n",
    "# Время окончания\n",
    "toc = time.time()\n",
    "# Вычисление метрик и их фиксация для анализа\n",
    "f1_train = cross_val_score(model_lr_hp, X_train, y_train, cv=5, scoring=\"f1\", n_jobs=-1).mean()\n",
    "print(f'F1-мера на обучающей выборке: {f1_train:.3f}')\n",
    "f1_test = cross_val_score(model_lr_hp, X_test, y_test, cv=5, scoring=\"f1\", n_jobs=-1).mean()\n",
    "print(f'F1-мера на тестовой выборке: {f1_test:.3f}')\n",
    "dict_scores_LR['Hyperopt'] = [f1_train, f1_test, toc - tic]\n",
    "print(f\"Наилучшие значения гиперпараметров {values_penalty[int(best['penalty'])],\n",
    "                                            values_solver[int(best['solver'])],\n",
    "                                            values_C[int(best['C'])]}\")"
   ]
  },
  {
   "cell_type": "markdown",
   "id": "202166d3",
   "metadata": {},
   "source": [
    "При подборе гиперпараметров посредством Hyperopt на 10 итерациях с использованием кросс-валидации на 5 фолдах затрачено 8 мин.\n",
    "При этом на тренировочной выборке получена $F_1-мера$ **0.784**, а на тестовой выборке - **0.746**, наилучшими значениями гиперпараметров предлагаются:\n",
    "- penalty: l1;\n",
    "- solver: liblinear;\n",
    "- С: 0.1."
   ]
  },
  {
   "cell_type": "markdown",
   "id": "7f9317b6",
   "metadata": {},
   "source": [
    "#### Optuna"
   ]
  },
  {
   "cell_type": "code",
   "execution_count": 13,
   "id": "b0c965ce",
   "metadata": {},
   "outputs": [
    {
     "name": "stderr",
     "output_type": "stream",
     "text": [
      "[I 2025-05-11 22:30:56,091] A new study created in memory with name: LogisticRegression\n",
      "d:\\!Works\\Projects\\sf_data_science_hw\\.venv\\Lib\\site-packages\\sklearn\\linear_model\\_logistic.py:1207: UserWarning:\n",
      "\n",
      "Setting penalty=None will ignore the C and l1_ratio parameters\n",
      "\n",
      "d:\\!Works\\Projects\\sf_data_science_hw\\.venv\\Lib\\site-packages\\sklearn\\linear_model\\_glm\\_newton_solver.py:576: LinAlgWarning:\n",
      "\n",
      "The inner solver of NewtonCholeskySolver stumbled upon a singular or very ill-conditioned Hessian matrix at iteration 1. It will now resort to lbfgs instead.\n",
      "Further options are to use another solver or to avoid such situation in the first place. Possible remedies are removing collinear features of X or increasing the penalization strengths.\n",
      "The original Linear Algebra message was:\n",
      "Ill-conditioned matrix (rcond=4.37632e-23): result may not be accurate.\n",
      "\n",
      "d:\\!Works\\Projects\\sf_data_science_hw\\.venv\\Lib\\site-packages\\sklearn\\linear_model\\_glm\\_newton_solver.py:195: ConvergenceWarning:\n",
      "\n",
      "lbfgs failed to converge (status=1):\n",
      "STOP: TOTAL NO. OF ITERATIONS REACHED LIMIT.\n",
      "\n",
      "Increase the number of iterations (max_iter) or scale the data as shown in:\n",
      "    https://scikit-learn.org/stable/modules/preprocessing.html\n",
      "\n",
      "[I 2025-05-11 22:31:53,075] Trial 0 finished with value: 0.7247699715933467 and parameters: {'penalty': None, 'solver': 'newton-cholesky', 'C': 10}. Best is trial 0 with value: 0.7247699715933467.\n",
      "[I 2025-05-11 22:37:26,794] Trial 1 finished with value: 0.7749759884359713 and parameters: {'penalty': 'l2', 'solver': 'saga', 'C': 1}. Best is trial 1 with value: 0.7749759884359713.\n",
      "[I 2025-05-11 22:37:26,796] Trial 2 finished with value: 0.0 and parameters: {'penalty': 'l1', 'solver': 'sag', 'C': 10}. Best is trial 1 with value: 0.7749759884359713.\n",
      "[I 2025-05-11 22:37:26,799] Trial 3 finished with value: 0.0 and parameters: {'penalty': None, 'solver': 'liblinear', 'C': 0.001}. Best is trial 1 with value: 0.7749759884359713.\n",
      "[I 2025-05-11 22:42:53,554] Trial 4 finished with value: 0.7749759884359713 and parameters: {'penalty': 'l2', 'solver': 'saga', 'C': 1}. Best is trial 1 with value: 0.7749759884359713.\n",
      "d:\\!Works\\Projects\\sf_data_science_hw\\.venv\\Lib\\site-packages\\sklearn\\linear_model\\_logistic.py:1207: UserWarning:\n",
      "\n",
      "Setting penalty=None will ignore the C and l1_ratio parameters\n",
      "\n",
      "d:\\!Works\\Projects\\sf_data_science_hw\\.venv\\Lib\\site-packages\\sklearn\\linear_model\\_glm\\_newton_solver.py:576: LinAlgWarning:\n",
      "\n",
      "The inner solver of NewtonCholeskySolver stumbled upon a singular or very ill-conditioned Hessian matrix at iteration 1. It will now resort to lbfgs instead.\n",
      "Further options are to use another solver or to avoid such situation in the first place. Possible remedies are removing collinear features of X or increasing the penalization strengths.\n",
      "The original Linear Algebra message was:\n",
      "Ill-conditioned matrix (rcond=4.37632e-23): result may not be accurate.\n",
      "\n",
      "d:\\!Works\\Projects\\sf_data_science_hw\\.venv\\Lib\\site-packages\\sklearn\\linear_model\\_glm\\_newton_solver.py:195: ConvergenceWarning:\n",
      "\n",
      "lbfgs failed to converge (status=1):\n",
      "STOP: TOTAL NO. OF ITERATIONS REACHED LIMIT.\n",
      "\n",
      "Increase the number of iterations (max_iter) or scale the data as shown in:\n",
      "    https://scikit-learn.org/stable/modules/preprocessing.html\n",
      "\n",
      "[I 2025-05-11 22:43:47,153] Trial 5 finished with value: 0.7247699715933467 and parameters: {'penalty': None, 'solver': 'newton-cholesky', 'C': 1000}. Best is trial 1 with value: 0.7749759884359713.\n",
      "d:\\!Works\\Projects\\sf_data_science_hw\\.venv\\Lib\\site-packages\\sklearn\\linear_model\\_sag.py:348: ConvergenceWarning:\n",
      "\n",
      "The max_iter was reached which means the coef_ did not converge\n",
      "\n",
      "[I 2025-05-11 22:49:34,745] Trial 6 finished with value: 0.7573076000816761 and parameters: {'penalty': 'l2', 'solver': 'sag', 'C': 100}. Best is trial 1 with value: 0.7749759884359713.\n",
      "[I 2025-05-11 22:49:34,747] Trial 7 finished with value: 0.0 and parameters: {'penalty': None, 'solver': 'liblinear', 'C': 100}. Best is trial 1 with value: 0.7749759884359713.\n",
      "[I 2025-05-11 22:49:34,750] Trial 8 finished with value: 0.0 and parameters: {'penalty': 'l1', 'solver': 'sag', 'C': 0.01}. Best is trial 1 with value: 0.7749759884359713.\n",
      "[I 2025-05-11 22:51:59,132] Trial 9 finished with value: 0.7828896483633325 and parameters: {'penalty': 'l1', 'solver': 'saga', 'C': 0.1}. Best is trial 9 with value: 0.7828896483633325.\n"
     ]
    },
    {
     "name": "stdout",
     "output_type": "stream",
     "text": [
      "F1-мера на обучающей выборке: 0.784\n",
      "F1-мера на тестовой выборке: 0.746\n",
      "Наилучшие значения гиперпараметров {'penalty': 'l1', 'solver': 'saga', 'C': 0.1}\n"
     ]
    }
   ],
   "source": [
    "def optuna_rf(trial):\n",
    "    # Определение пространства поиска гиперпараметров\n",
    "    penalty = trial.suggest_categorical('penalty', values_penalty)\n",
    "    solver = trial.suggest_categorical('solver', values_solver)\n",
    "    C = trial.suggest_categorical('C', values_C)\n",
    "    # Проверка совместимости penalty и solver\n",
    "    if not is_valid_penalty_solver(penalty, solver):\n",
    "        return 0\n",
    "    # Построение модели\n",
    "    model = linear_model.LogisticRegression(random_state=42,\n",
    "                                            max_iter=1000,\n",
    "                                            penalty=penalty,\n",
    "                                            solver=solver,\n",
    "                                            C=C)\n",
    "    # Обучение модели\n",
    "    model.fit(X_train, y_train)\n",
    "    score = cross_val_score(model, X, y, cv=5, scoring=\"f1\", n_jobs=-1).mean()\n",
    "    return score\n",
    "\n",
    "\n",
    "# Время начала\n",
    "tic = time.time()\n",
    "# Объявление объекта исследования\n",
    "study = optuna.create_study(study_name=\"LogisticRegression\", direction=\"maximize\")\n",
    "# Поиск лучшей комбинации гиперпараметров\n",
    "study.optimize(optuna_rf, n_trials=10)\n",
    "# Формирование и обучение модели на найденных параметрах\n",
    "model_lr_opt = linear_model.LogisticRegression(**study.best_params,\n",
    "                                               random_state=42,\n",
    "                                               max_iter=1000)\n",
    "model_lr_opt.fit(X_train, y_train)\n",
    "# Время окончания\n",
    "toc = time.time()\n",
    "# Вычисление метрик и их фиксация для анализа\n",
    "f1_train = cross_val_score(model_lr_opt, X_train, y_train, cv=5, scoring=\"f1\", n_jobs=-1).mean()\n",
    "print(f'F1-мера на обучающей выборке: {f1_train:.3f}')\n",
    "f1_test = cross_val_score(model_lr_opt, X_test, y_test, cv=5, scoring=\"f1\", n_jobs=-1).mean()\n",
    "print(f'F1-мера на тестовой выборке: {f1_test:.3f}')\n",
    "dict_scores_LR['Optuna'] = [f1_train, f1_test, toc - tic]\n",
    "print(f\"Наилучшие значения гиперпараметров {study.best_params}\")"
   ]
  },
  {
   "cell_type": "markdown",
   "id": "d01e7332",
   "metadata": {},
   "source": [
    "При подборе гиперпараметров посредством Optuna на 10 итерациях с использованием кросс-валидации на 5 фолдах затрачено 22 мин.\n",
    "При этом на тренировочной выборке получена $F_1-мера$ **0.784**, а на тестовой выборке - **0.746**, наилучшими значениями гиперпараметров предлагаются:\n",
    "- penalty: l1;\n",
    "- solver: saga;\n",
    "- С: 0.1."
   ]
  },
  {
   "cell_type": "code",
   "execution_count": 14,
   "id": "db988b4d",
   "metadata": {},
   "outputs": [
    {
     "data": {
      "image/png": "[encoded data removed]"
     },
     "metadata": {},
     "output_type": "display_data"
    }
   ],
   "source": [
    "df_show = pd.DataFrame.from_dict(dict_scores_LR, \n",
    "                                 columns=['F1_train', 'F1_test', 'Time'],\n",
    "                                 orient='index')\n",
    "# Инициализация полотна\n",
    "fig = make_subplots(rows=2, cols=1,\n",
    "                    subplot_titles=(\"F1-мера моделей LogisticRegression\", \n",
    "                                    \"Время оптимизации гиперпараметров\"),\n",
    "                    row_heights=[0.5, 0.5],\n",
    "                    vertical_spacing=0.15)\n",
    "# Построение баров\n",
    "fig.add_trace(go.Bar(x=df_show.index,\n",
    "                     y=df_show['F1_train'],\n",
    "                     showlegend=True,\n",
    "                     text=df_show['F1_train'].round(3),\n",
    "                     name='F1-мера на тренировочных данных'),\n",
    "              row=1, col=1)\n",
    "fig.add_trace(go.Bar(x=df_show.index,\n",
    "                     y=df_show['F1_test'],\n",
    "                     showlegend=True,\n",
    "                     text=df_show['F1_test'].round(3),\n",
    "                     name='F1-мера на тестовых данных'),\n",
    "              row=1, col=1)\n",
    "fig.add_trace(go.Bar(x=df_show.index,\n",
    "                     y=df_show['Time'],\n",
    "                     showlegend=False,\n",
    "                     name='Время обучения'),\n",
    "              row=2, col=1)\n",
    "# Размер полотна\n",
    "fig.update_layout(autosize = False, width = 1000, height = 520)\n",
    "fig.show(\"png\")"
   ]
  },
  {
   "cell_type": "markdown",
   "id": "3ce93b58",
   "metadata": {},
   "source": [
    "Все методы подбора гиперпараметров показывают примерно одинаковые итоговые значения $F_1-меры$ на тренировочных данных, если ориентироваться на метрики на тестовых данных, то лучшие показатели получены при использовании Hyperopt и Optuna, при этом более предпочтительным представляется использование Hyperopt, так как данный метод имеет в своей основе алгоритм TPE, учитывающий предыдущие полученные результаты оценки обучения модели, а не случайный выбор наборов гиперпараметров, при этом времени на подбор параметров затрачено меньше всего."
   ]
  },
  {
   "cell_type": "markdown",
   "id": "64a5634a",
   "metadata": {},
   "source": [
    "---"
   ]
  },
  {
   "cell_type": "markdown",
   "id": "bc48d921",
   "metadata": {},
   "source": [
    "### **Случайный лес**\n",
    "\n",
    "Формирование baseline-модели случайного леса с гиперпараметрами по умолчанию и вычисление ее метрики."
   ]
  },
  {
   "cell_type": "code",
   "execution_count": 15,
   "id": "4d426359",
   "metadata": {},
   "outputs": [],
   "source": [
    "# Словарь метрик моделей логистической регрессии\n",
    "dict_scores_RF = {}"
   ]
  },
  {
   "cell_type": "code",
   "execution_count": 16,
   "id": "1e28eda4",
   "metadata": {},
   "outputs": [
    {
     "name": "stdout",
     "output_type": "stream",
     "text": [
      "F1-мера на обучающей выборке: 0.814\n",
      "F1-мера на тестовой выборке: 0.739\n"
     ]
    }
   ],
   "source": [
    "#Создаем объект класса логистическая регрессия\n",
    "model_rf = ensemble.RandomForestClassifier(random_state=42)\n",
    "# Время начала\n",
    "tic = time.time()\n",
    "#Обучаем модель, минимизируя logloss\n",
    "model_rf.fit(X_train, y_train)\n",
    "# Время окончания\n",
    "toc = time.time()\n",
    "# Вычисление метрик и их фиксация для анализа\n",
    "f1_train = cross_val_score(model_rf, X_train, y_train, cv=5, scoring=\"f1\", n_jobs=-1).mean()\n",
    "print(f'F1-мера на обучающей выборке: {f1_train:.3f}')\n",
    "f1_test = cross_val_score(model_rf, X_test, y_test, cv=5, scoring=\"f1\", n_jobs=-1).mean()\n",
    "print(f'F1-мера на тестовой выборке: {f1_test:.3f}')\n",
    "dict_scores_RF['Base'] = [f1_train, f1_test, toc - tic]"
   ]
  },
  {
   "cell_type": "markdown",
   "id": "2b89e7d3",
   "metadata": {},
   "source": [
    "При построении модели с использованием гиперпараметров по умолчанию получено значение метрики **0.814**, затрачено времени 3.5 секунды.\n",
    "\n",
    ">Время выполнения будет отличаться при запуске на различных ПК, так как зависит от вычислительной мощности платформы, но данная величина может дать общее представление, если сравнивать этот показатель при использовании различных методов подбора гиперпараметров относительно друг друга."
   ]
  },
  {
   "cell_type": "markdown",
   "id": "85de353e",
   "metadata": {},
   "source": [
    "#### GridSeachCV"
   ]
  },
  {
   "cell_type": "markdown",
   "id": "afc8f3a9",
   "metadata": {},
   "source": [
    "Обычно для Logistic Regression гиперпараметр $C$ тестируют в пределах от $10^{−5}$ до $10^5$. Это покрывает широкий диапазон возможных уровней регуляризации. Часто оптимальные значения находятся в пределах $10^{−3}$ до $10^3$, так как задача учебная, возьмем для ее реализации диапазон от $10^{-2}$ до 10.\n",
    "\n",
    "Сочетания типов и алгоритмов регуляризации возьмем все допустимые."
   ]
  },
  {
   "cell_type": "code",
   "execution_count": 17,
   "id": "3f9015d0",
   "metadata": {},
   "outputs": [],
   "source": [
    "# Сетка параметров\n",
    "param_grid = {'n_estimators': list(range(100, 400, 100)),\n",
    "              'criterion': ['gini', 'entropy'],\n",
    "              'max_depth': list(range(20, 40, 10)),\n",
    "              'max_features': ['sqrt', 'log2'],\n",
    "              'min_samples_leaf': list(range(5, 25, 10))}\n",
    "# Время начала\n",
    "tic = time.time()\n",
    "grid_search_RF = GridSearchCV(estimator=ensemble.RandomForestClassifier(random_state=42), \n",
    "                              param_grid=param_grid,\n",
    "                              cv=5, # Обучение с использованием кросс-валидации\n",
    "                              n_jobs=-1)\n",
    "grid_search_RF.fit(X_train, y_train)\n",
    "# Время окончания\n",
    "toc = time.time()"
   ]
  },
  {
   "cell_type": "markdown",
   "id": "30486538",
   "metadata": {},
   "source": [
    "Для объективного сравнения необходима оценка всех моделей по одной схеме. Ввиду особенностей реализации метода получения оценки cross_val_score, а именно итерационного обучения оцениваемой модели, для получения оценок на тестовых данных создаем новую модель с найденными наилучшими значениями гиперпараметров."
   ]
  },
  {
   "cell_type": "code",
   "execution_count": 18,
   "id": "70d86db1",
   "metadata": {},
   "outputs": [
    {
     "name": "stdout",
     "output_type": "stream",
     "text": [
      "F1-мера на обучающей выборке: 0.817\n",
      "F1-мера на тестовой выборке: 0.746\n",
      "Наилучшие значения гиперпараметров: {'criterion': 'entropy', 'max_depth': 30, 'max_features': 'sqrt', 'min_samples_leaf': 5, 'n_estimators': 200}\n"
     ]
    }
   ],
   "source": [
    "#Создаем объект класса логистическая регрессия\n",
    "model_rf_gs = ensemble.RandomForestClassifier(**grid_search_RF.best_params_,\n",
    "                                              random_state=42)\n",
    "#Обучаем модель, минимизируя logloss\n",
    "model_rf_gs.fit(X_train, y_train)\n",
    "# Вычисление метрик и их фиксация для анализа\n",
    "f1_train = cross_val_score(model_rf_gs, X_train, y_train, cv=5, scoring=\"f1\", n_jobs=-1).mean()\n",
    "print(f'F1-мера на обучающей выборке: {f1_train:.3f}')\n",
    "f1_test = cross_val_score(model_rf_gs, X_test, y_test, cv=5, scoring=\"f1\", n_jobs=-1).mean()\n",
    "print(f'F1-мера на тестовой выборке: {f1_test:.3f}')\n",
    "dict_scores_RF['GridSearchCV'] = [f1_train, f1_test, toc - tic]\n",
    "print(f'Наилучшие значения гиперпараметров: {grid_search_RF.best_params_}')"
   ]
  },
  {
   "cell_type": "markdown",
   "id": "6fc22777",
   "metadata": {},
   "source": [
    "Полный перебор всех возможных в пространстве параметров сочетаний наиболее затратен по времени. В текущих условиях он составил 5 мин.\n",
    "При этом на тренировочной выборке получена $F_1-мера$ **0.817**, а на тестовой выборке - **0.746**, наилучшими значениями гиперпараметров составили:\n",
    "- n_estimators: 200;\n",
    "- criterion: entropy;\n",
    "- max_depth: 30;\n",
    "- max_features: sqrt;\n",
    "- min_samples_leaf: 5."
   ]
  },
  {
   "cell_type": "markdown",
   "id": "0874faab",
   "metadata": {},
   "source": [
    "#### RandomizedSearchCV"
   ]
  },
  {
   "cell_type": "code",
   "execution_count": 19,
   "id": "0e9799b9",
   "metadata": {},
   "outputs": [
    {
     "name": "stdout",
     "output_type": "stream",
     "text": [
      "F1-мера на обучающей выборке: 0.812\n",
      "F1-мера на тестовой выборке: 0.752\n",
      "Наилучшие значения гиперпараметров: {'n_estimators': 100, 'min_samples_leaf': 5, 'max_features': 'sqrt', 'max_depth': 20, 'criterion': 'entropy'}\n"
     ]
    }
   ],
   "source": [
    "# Время начала\n",
    "tic = time.time()\n",
    "randomized_search_RF = RandomizedSearchCV(estimator=ensemble.RandomForestClassifier(random_state=42), \n",
    "                                          param_distributions=param_grid,\n",
    "                                          n_iter=10,\n",
    "                                          cv=5, # Обучение с использованием кросс-валидации\n",
    "                                          n_jobs=-1)\n",
    "randomized_search_RF.fit(X_train, y_train)\n",
    "# Время окончания\n",
    "toc = time.time()\n",
    "# Применение найденных параметров\n",
    "model_rf_randgs = ensemble.RandomForestClassifier(**randomized_search_RF.best_params_,\n",
    "                                                  random_state=42)\n",
    "#Обучаем модель, минимизируя logloss\n",
    "model_rf_randgs.fit(X_train, y_train)\n",
    "# Вычисление метрик и их фиксация для анализа\n",
    "f1_train = cross_val_score(model_rf_randgs, X_train, y_train, cv=5, scoring=\"f1\", n_jobs=-1).mean()\n",
    "print(f'F1-мера на обучающей выборке: {f1_train:.3f}')\n",
    "f1_test = cross_val_score(model_rf_randgs, X_test, y_test, cv=5, scoring=\"f1\", n_jobs=-1).mean()\n",
    "print(f'F1-мера на тестовой выборке: {f1_test:.3f}')\n",
    "dict_scores_RF['RandomizedSearchCV'] = [f1_train, f1_test, toc - tic]\n",
    "print(f'Наилучшие значения гиперпараметров: {randomized_search_RF.best_params_}')"
   ]
  },
  {
   "cell_type": "markdown",
   "id": "6e321c69",
   "metadata": {},
   "source": [
    "При подборе гиперпараметров посредством RandomizedSearchCV на 10 итераций с использованием кросс-валидации на 5 фолдах затрачено 1 мин.\n",
    "При этом на тренировочной выборке получена $F_1-мера$ **0.812**, а на тестовой выборке - **0.752**, наилучшими значениями гиперпараметров предлагаются:\n",
    "- n_estimators: 100;\n",
    "- criterion: entropy;\n",
    "- max_depth: 20;\n",
    "- max_features: sqrt;\n",
    "- min_samples_leaf: 5.\n",
    "Значения метрики те же, что и при полном переборе, но времени затрачено в пять раз меньше."
   ]
  },
  {
   "cell_type": "markdown",
   "id": "5973ebc6",
   "metadata": {},
   "source": [
    "#### Hyperopt"
   ]
  },
  {
   "cell_type": "code",
   "execution_count": 20,
   "id": "eb0aae83",
   "metadata": {},
   "outputs": [
    {
     "name": "stderr",
     "output_type": "stream",
     "text": [
      "TPE is being used as the default algorithm.\n"
     ]
    },
    {
     "name": "stdout",
     "output_type": "stream",
     "text": [
      "100%|██████████| 10/10 [01:17<00:00,  7.73s/trial, best loss: -0.8026970674798166]\n",
      "F1-мера на обучающей выборке: 0.803\n",
      "F1-мера на тестовой выборке: 0.754\n",
      "Наилучшие значения гиперпараметров ({'criterion': np.int64(0), 'max_depth': np.float64(30.0), 'max_features': np.int64(0), 'min_samples_leaf': np.float64(10.0), 'n_estimators': np.float64(300.0)}, 'gini', 'sqrt')\n"
     ]
    }
   ],
   "source": [
    "# Определение пространство поиска гиперпараметров\n",
    "values_criterion = ['gini', 'entropy']\n",
    "values_max_features = ['sqrt', 'log2']\n",
    "space={'n_estimators': hp.quniform('n_estimators', 100, 400, 100),\n",
    "       'criterion': hp.choice('criterion', values_criterion),\n",
    "       'max_depth': hp.quniform('max_depth', 20, 40, 10),\n",
    "       'max_features': hp.choice('max_features', values_max_features),\n",
    "       'min_samples_leaf': hp.quniform('min_samples_leaf', 5, 25, 10)}\n",
    "\n",
    "\n",
    "# Определение целевой функции\n",
    "def hyperopt_rf(params, cv=5, X=X_train, y=y_train):\n",
    "    # Получение комбинации гиперпараметров\n",
    "    params = {'n_estimators': int(params['n_estimators']),\n",
    "              'criterion': str(params['criterion']),\n",
    "              'max_depth': int(params['max_depth']),\n",
    "              'max_features': str(params['max_features']),\n",
    "              'min_samples_leaf': int(params['min_samples_leaf'])}\n",
    "    # Построение модели\n",
    "    model = ensemble.RandomForestClassifier(**params,\n",
    "                                            random_state=42)\n",
    "    # Обучение модели\n",
    "    score = cross_val_score(model, X, y, cv=cv, scoring=\"f1\", n_jobs=-1).mean()\n",
    "    return -score\n",
    "\n",
    "\n",
    "trials = Trials() # Логирование результатов\n",
    "# Время начала\n",
    "tic = time.time()\n",
    "best=fmin(hyperopt_rf,\n",
    "          space=space,\n",
    "          max_evals=10,\n",
    "          trials=trials,\n",
    "          rstate=np.random.default_rng(42))\n",
    "# Формирование и обучение модели на найденных параметрах\n",
    "model = ensemble.RandomForestClassifier(random_state=42,\n",
    "                                        criterion=values_criterion[int(best['criterion'])],\n",
    "                                        n_estimators=int(best['n_estimators']),\n",
    "                                        max_depth=int(best['max_depth']),\n",
    "                                        max_features=values_max_features[int(best['max_features'])],\n",
    "                                        min_samples_leaf=int(best['min_samples_leaf']))\n",
    "model.fit(X_train, y_train)\n",
    "# Время окончания\n",
    "toc = time.time()\n",
    "# Вычисление метрик и их фиксация для анализа\n",
    "f1_train = cross_val_score(model, X_train, y_train, cv=5, scoring=\"f1\", n_jobs=-1).mean()\n",
    "print(f'F1-мера на обучающей выборке: {f1_train:.3f}')\n",
    "f1_test = cross_val_score(model, X_test, y_test, cv=5, scoring=\"f1\", n_jobs=-1).mean()\n",
    "print(f'F1-мера на тестовой выборке: {f1_test:.3f}')\n",
    "dict_scores_RF['Hyperopt'] = [f1_train, f1_test, toc - tic]\n",
    "print(f\"Наилучшие значения гиперпараметров {best,\n",
    "                                            values_criterion[int(best['criterion'])],\n",
    "                                            values_max_features[int(best['max_features'])]}\")"
   ]
  },
  {
   "cell_type": "markdown",
   "id": "9b9fc16f",
   "metadata": {},
   "source": [
    "При подборе гиперпараметров посредством Hyperopt на 10 итерациях с использованием кросс-валидации на 5 фолдах затрачено 1 мин. 23 сек.\n",
    "При этом на тренировочной выборке получена $F_1-мера$ **0.803**, а на тестовой выборке - **0.754**, наилучшими значениями гиперпараметров предлагаются:\n",
    "- n_estimators: 300;\n",
    "- criterion: gini;\n",
    "- max_depth: 30;\n",
    "- max_features: sqrt;\n",
    "- min_samples_leaf: 10."
   ]
  },
  {
   "cell_type": "markdown",
   "id": "de304c6b",
   "metadata": {},
   "source": [
    "#### Optuna"
   ]
  },
  {
   "cell_type": "code",
   "execution_count": 21,
   "id": "213d633b",
   "metadata": {},
   "outputs": [
    {
     "name": "stderr",
     "output_type": "stream",
     "text": [
      "[I 2025-05-11 23:03:07,698] A new study created in memory with name: RandomForestClassifier\n",
      "[I 2025-05-11 23:03:18,158] Trial 0 finished with value: 0.7530034610806748 and parameters: {'n_estimators': 400, 'criterion': 'gini', 'max_depth': 20, 'max_features': 'log2', 'min_samples_leaf': 25}. Best is trial 0 with value: 0.7530034610806748.\n",
      "[I 2025-05-11 23:03:30,234] Trial 1 finished with value: 0.7796206102582914 and parameters: {'n_estimators': 200, 'criterion': 'gini', 'max_depth': 20, 'max_features': 'sqrt', 'min_samples_leaf': 25}. Best is trial 1 with value: 0.7796206102582914.\n",
      "[I 2025-05-11 23:03:42,064] Trial 2 finished with value: 0.7796206102582914 and parameters: {'n_estimators': 200, 'criterion': 'gini', 'max_depth': 30, 'max_features': 'sqrt', 'min_samples_leaf': 25}. Best is trial 1 with value: 0.7796206102582914.\n",
      "[I 2025-05-11 23:04:14,170] Trial 3 finished with value: 0.8098831829857843 and parameters: {'n_estimators': 300, 'criterion': 'entropy', 'max_depth': 20, 'max_features': 'sqrt', 'min_samples_leaf': 5}. Best is trial 3 with value: 0.8098831829857843.\n",
      "[I 2025-05-11 23:04:23,448] Trial 4 finished with value: 0.7637684133602599 and parameters: {'n_estimators': 300, 'criterion': 'entropy', 'max_depth': 20, 'max_features': 'log2', 'min_samples_leaf': 15}. Best is trial 3 with value: 0.8098831829857843.\n",
      "[I 2025-05-11 23:04:55,872] Trial 5 finished with value: 0.8089665332571713 and parameters: {'n_estimators': 300, 'criterion': 'entropy', 'max_depth': 40, 'max_features': 'sqrt', 'min_samples_leaf': 5}. Best is trial 3 with value: 0.8098831829857843.\n",
      "[I 2025-05-11 23:05:11,774] Trial 6 finished with value: 0.7922601190167012 and parameters: {'n_estimators': 200, 'criterion': 'entropy', 'max_depth': 20, 'max_features': 'sqrt', 'min_samples_leaf': 15}. Best is trial 3 with value: 0.8098831829857843.\n",
      "[I 2025-05-11 23:05:23,994] Trial 7 finished with value: 0.7951855898394846 and parameters: {'n_estimators': 300, 'criterion': 'entropy', 'max_depth': 40, 'max_features': 'log2', 'min_samples_leaf': 5}. Best is trial 3 with value: 0.8098831829857843.\n",
      "[I 2025-05-11 23:05:50,729] Trial 8 finished with value: 0.7789104145513119 and parameters: {'n_estimators': 400, 'criterion': 'entropy', 'max_depth': 20, 'max_features': 'sqrt', 'min_samples_leaf': 25}. Best is trial 3 with value: 0.8098831829857843.\n",
      "[I 2025-05-11 23:06:06,571] Trial 9 finished with value: 0.7938558084163093 and parameters: {'n_estimators': 400, 'criterion': 'entropy', 'max_depth': 40, 'max_features': 'log2', 'min_samples_leaf': 5}. Best is trial 3 with value: 0.8098831829857843.\n"
     ]
    },
    {
     "name": "stdout",
     "output_type": "stream",
     "text": [
      "F1-мера на обучающей выборке: 0.815\n",
      "F1-мера на тестовой выборке: 0.747\n",
      "Наилучшие значения гиперпараметров {'n_estimators': 300, 'criterion': 'entropy', 'max_depth': 20, 'max_features': 'sqrt', 'min_samples_leaf': 5}\n"
     ]
    }
   ],
   "source": [
    "def optuna_rf(trial):\n",
    "    # Определение пространства поиска гиперпараметров\n",
    "    n_estimators = trial.suggest_int('n_estimators', 100, 400, step=100)\n",
    "    criterion = trial.suggest_categorical('criterion', values_criterion)\n",
    "    max_depth = trial.suggest_int('max_depth', 20, 40, step=10)\n",
    "    max_features = trial.suggest_categorical('max_features', values_max_features)\n",
    "    min_samples_leaf = trial.suggest_int('min_samples_leaf', 5, 25, step=10)\n",
    "    \n",
    "    # Построение модели\n",
    "    model = ensemble.RandomForestClassifier(random_state=42,\n",
    "                                            criterion=criterion,\n",
    "                                            n_estimators=n_estimators,\n",
    "                                            max_depth=max_depth,\n",
    "                                            max_features=max_features,\n",
    "                                            min_samples_leaf=min_samples_leaf)\n",
    "    # Обучение модели\n",
    "    model.fit(X_train, y_train)\n",
    "    score = cross_val_score(model, X, y, cv=5, scoring=\"f1\", n_jobs=-1).mean()\n",
    "    return score\n",
    "\n",
    "\n",
    "# Время начала\n",
    "tic = time.time()\n",
    "# Объявление объекта исследования\n",
    "study = optuna.create_study(study_name=\"RandomForestClassifier\", direction=\"maximize\")\n",
    "# Поиск лучшей комбинации гиперпараметров\n",
    "study.optimize(optuna_rf, n_trials=10)\n",
    "# Формирование и обучение модели на найденных параметрах\n",
    "model = ensemble.RandomForestClassifier(**study.best_params,\n",
    "                                        random_state=42)\n",
    "model.fit(X_train, y_train)\n",
    "# Время окончания\n",
    "toc = time.time()\n",
    "# Вычисление метрик и их фиксация для анализа\n",
    "f1_train = cross_val_score(model, X_train, y_train, cv=5, scoring=\"f1\", n_jobs=-1).mean()\n",
    "print(f'F1-мера на обучающей выборке: {f1_train:.3f}')\n",
    "f1_test = cross_val_score(model, X_test, y_test, cv=5, scoring=\"f1\", n_jobs=-1).mean()\n",
    "print(f'F1-мера на тестовой выборке: {f1_test:.3f}')\n",
    "dict_scores_RF['Optuna'] = [f1_train, f1_test, toc - tic]\n",
    "print(f\"Наилучшие значения гиперпараметров {study.best_params}\")"
   ]
  },
  {
   "cell_type": "markdown",
   "id": "27f43ab2",
   "metadata": {},
   "source": [
    "При подборе гиперпараметров посредством Optuna на 10 итерациях с использованием кросс-валидации на 5 фолдах затрачено 3 мин.\n",
    "При этом на тренировочной выборке получена $F_1-мера$ **0.815**, а на тестовой выборке - **0.747**, наилучшими значениями гиперпараметров предлагаются:\n",
    "- n_estimators: 300;\n",
    "- criterion: entropy;\n",
    "- max_depth: 20;\n",
    "- max_features: sqrt;\n",
    "- min_samples_leaf: 5."
   ]
  },
  {
   "cell_type": "code",
   "execution_count": 22,
   "id": "c2bc2538",
   "metadata": {},
   "outputs": [
    {
     "data": {
      "image/png": "[encoded data removed]"
     },
     "metadata": {},
     "output_type": "display_data"
    }
   ],
   "source": [
    "df_show = pd.DataFrame.from_dict(dict_scores_RF, \n",
    "                                 columns=['F1_train', 'F1_test', 'Time'],\n",
    "                                 orient='index')\n",
    "# Инициализация полотна\n",
    "fig = make_subplots(rows=2, cols=1,\n",
    "                    subplot_titles=(\"F1-мера моделей RandomForestClassifier\", \n",
    "                                    \"Время оптимизации гиперпараметров\"),\n",
    "                    row_heights=[0.5, 0.5],\n",
    "                    vertical_spacing=0.15)\n",
    "# Построение баров\n",
    "fig.add_trace(go.Bar(x=df_show.index,\n",
    "                     y=df_show['F1_train'],\n",
    "                     showlegend=True,\n",
    "                     text=df_show['F1_train'].round(3),\n",
    "                     name='F1-мера на тренировочных данных'),\n",
    "              row=1, col=1)\n",
    "fig.add_trace(go.Bar(x=df_show.index,\n",
    "                     y=df_show['F1_test'],\n",
    "                     showlegend=True,\n",
    "                     text=df_show['F1_test'].round(3),\n",
    "                     name='F1-мера на тестовых данных'),\n",
    "              row=1, col=1)\n",
    "fig.add_trace(go.Bar(x=df_show.index,\n",
    "                     y=df_show['Time'],\n",
    "                     showlegend=False,\n",
    "                     name='Время обучения'),\n",
    "              row=2, col=1)\n",
    "# Размер полотна\n",
    "fig.update_layout(autosize = False, width = 1000, height = 520)\n",
    "fig.show(\"png\")"
   ]
  },
  {
   "cell_type": "markdown",
   "id": "12b6b33b",
   "metadata": {},
   "source": [
    "Все методы подбора гиперпараметров показывают примерно одинаковые итоговые значения $F_1-меры$ на тестовых данных, если ориентироваться на время поиска, то лучшие показатели получены при использовании Hyperopt и RandomizedSearchCV, при этом более предпочтительным представляется использование Hyperopt, так как данный метод имеет в своей основе алгоритм TPE, учитывающий предыдущие полученные результаты оценки обучения модели, а не случайный выбор наборов гиперпараметров. При этом гиперпараметры, полученные с использованием библиотеки Hyperopt показывают наилучшее значение метрики на тестовых данных и минимальную из представленных разницу между метриками на тренировочных и тестовых данных, что говорит о минимальной степени переобученности полученной модели среди полученных."
   ]
  },
  {
   "cell_type": "markdown",
   "id": "917ad32b",
   "metadata": {},
   "source": [
    "---"
   ]
  },
  {
   "cell_type": "markdown",
   "id": "fbd933b7",
   "metadata": {},
   "source": [
    ">***Общий вывод:*** Рассмотренные методы подбора гиперпараметров представляют собой достаточно мощные инструменты оптимизации. Hyperopt и Optuna наиболее предпочтительны в использовании с точки зрения эффективного использования времени, при этом в качестве подбора гиперпараметров базовой модели можно использовать RanomizedSearchCV. Полный перебор всех возможных вариантов гиперпараметров целесообразно использовать либо при наличии большого количества времени, либо уже после сужения сетки гиперпараметров другими методами."
   ]
  }
 ],
 "metadata": {
  "kernelspec": {
   "display_name": ".venv",
   "language": "python",
   "name": "python3"
  },
  "language_info": {
   "codemirror_mode": {
    "name": "ipython",
    "version": 3
   },
   "file_extension": ".py",
   "mimetype": "text/x-python",
   "name": "python",
   "nbconvert_exporter": "python",
   "pygments_lexer": "ipython3",
   "version": "3.13.1"
  }
 },
 "nbformat": 4,
 "nbformat_minor": 5
}
