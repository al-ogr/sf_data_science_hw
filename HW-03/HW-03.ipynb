{
  "cells": [
    {
      "cell_type": "markdown",
      "metadata": {
        "id": "yMG_XPwziMUN"
      },
      "source": [
        "# <center> Исследование данных HR-агентства"
      ]
    },
    {
      "cell_type": "markdown",
      "metadata": {
        "id": "EMd2vwh8ihnl"
      },
      "source": [
        "## Постановка задачи\n",
        "\n",
        "HR-агентство изучает тренды на рынке труда в IT. Компания хочет провести исследование на основе данных о зарплатах в сфере Data Science за 2020–2022 годы и получить некоторые выводы.\n",
        "\n",
        "Описание исходных данных:\n",
        "\n",
        "- **work_year** - Год, в котором была выплачена зарплата.\n",
        "- **experience_level** - Опыт работы на этой должности в течение года со следующими возможными значениями:\n",
        "    * EN — Entry-level/Junior;\n",
        "    * MI — Mid-level/Intermediate;\n",
        "    * SE — Senior-level/Expert;\n",
        "    * EX — Executive-level/Director.\n",
        "- **employment_type** - Тип трудоустройства для этой роли:\n",
        "    * PT — неполный рабочий день;\n",
        "    * FT — полный рабочий день;\n",
        "    * CT — контракт;\n",
        "    * FL — фриланс.\n",
        "- **job_title** - Роль, в которой соискатель работал в течение года.\n",
        "- **salary** - Общая выплаченная валовая сумма заработной платы.\n",
        "- **salary_currency** - Валюта выплачиваемой заработной платы в виде кода валюты ISO 4217.\n",
        "- **salary_in_usd** - Зарплата в долларах США (валютный курс, делённый на среднее значение курса доллара США за соответствующий год через [fxdata.foorilla.com]).\n",
        "- **employee_residence** - Основная страна проживания сотрудника в течение рабочего года в виде кода страны ISO 3166.\n",
        "- **remote_ratio** - Общий объём работы, выполняемой удалённо. Возможные значения:\n",
        "    * 0 — удалённой работы нет (менее 20 %);\n",
        "    * 50 — частично удалённая работа;\n",
        "    * 100 — полностью удалённая работа (более 80 %).\n",
        "- **company_location** - Страна главного офиса работодателя или филиала по контракту в виде кода страны ISO 3166.\n",
        "- **company_size** - Среднее количество людей, работавших в компании в течение года:\n",
        "    * S — менее 50 сотрудников (небольшая компания);\n",
        "    * M — от 50 до 250 сотрудников (средняя компания);\n",
        "    * L — более 250 сотрудников (крупная компания).\n",
        "\n",
        "Оригинальный датасет: [“Data Science Job Salaries” (kaggle.com)](https://www.kaggle.com/datasets/ruchi798/data-science-job-salaries)\n",
        "\n",
        "Исследуйте данные и сделайте выводы по полученным результатам. Подкрепите свои рассуждения и выводы визуализациями и с помощью статистического тестирования проверьте, являются ли выводы статистически значимыми.\n",
        "\n",
        "В процессе своего анализа вы должны выяснить, какие факторы влияют на зарплату специалиста Data Scientist.\n",
        "А также ответить на ключевые вопросы HR-агентства:\n",
        "- Наблюдается ли ежегодный рост зарплат у специалистов Data Scientist?\n",
        "- Как соотносятся зарплаты Data Scientist и Data Engineer в 2022 году?\n",
        "- Как соотносятся зарплаты специалистов Data Scientist в компаниях различных размеров?\n",
        "- Есть ли связь между наличием должностей Data Scientist и Data Engineer и размером компании?"
      ]
    },
    {
      "cell_type": "markdown",
      "metadata": {
        "id": "_XMyOg3cgcN1"
      },
      "source": [
        "## Загрузка данных"
      ]
    },
    {
      "cell_type": "code",
      "execution_count": 7,
      "metadata": {
        "id": "2JjaPf35gyCK"
      },
      "outputs": [],
      "source": [
        "import pandas as pd\n",
        "import numpy as np\n",
        "\n",
        "from scipy import stats\n",
        "import statsmodels.api as sm\n",
        "from statsmodels import stats as sms\n",
        "\n",
        "import matplotlib.pyplot as plt\n",
        "import seaborn as sns"
      ]
    },
    {
      "cell_type": "code",
      "execution_count": 16,
      "metadata": {
        "colab": {
          "base_uri": "https://localhost:8080/",
          "height": 206
        },
        "id": "ZPiI902dv11F",
        "outputId": "eccef1b9-a3cc-4144-a9df-a2a020abf30c"
      },
      "outputs": [
        {
          "data": {
            "text/html": [
              "<div>\n",
              "<style scoped>\n",
              "    .dataframe tbody tr th:only-of-type {\n",
              "        vertical-align: middle;\n",
              "    }\n",
              "\n",
              "    .dataframe tbody tr th {\n",
              "        vertical-align: top;\n",
              "    }\n",
              "\n",
              "    .dataframe thead th {\n",
              "        text-align: right;\n",
              "    }\n",
              "</style>\n",
              "<table border=\"1\" class=\"dataframe\">\n",
              "  <thead>\n",
              "    <tr style=\"text-align: right;\">\n",
              "      <th></th>\n",
              "      <th>work_year</th>\n",
              "      <th>experience_level</th>\n",
              "      <th>employment_type</th>\n",
              "      <th>job_title</th>\n",
              "      <th>salary</th>\n",
              "      <th>salary_currency</th>\n",
              "      <th>salary_in_usd</th>\n",
              "      <th>employee_residence</th>\n",
              "      <th>remote_ratio</th>\n",
              "      <th>company_location</th>\n",
              "      <th>company_size</th>\n",
              "    </tr>\n",
              "  </thead>\n",
              "  <tbody>\n",
              "    <tr>\n",
              "      <th>0</th>\n",
              "      <td>2020</td>\n",
              "      <td>MI</td>\n",
              "      <td>FT</td>\n",
              "      <td>Data Scientist</td>\n",
              "      <td>70000</td>\n",
              "      <td>EUR</td>\n",
              "      <td>79833</td>\n",
              "      <td>DE</td>\n",
              "      <td>0</td>\n",
              "      <td>DE</td>\n",
              "      <td>L</td>\n",
              "    </tr>\n",
              "    <tr>\n",
              "      <th>1</th>\n",
              "      <td>2020</td>\n",
              "      <td>SE</td>\n",
              "      <td>FT</td>\n",
              "      <td>Machine Learning Scientist</td>\n",
              "      <td>260000</td>\n",
              "      <td>USD</td>\n",
              "      <td>260000</td>\n",
              "      <td>JP</td>\n",
              "      <td>0</td>\n",
              "      <td>JP</td>\n",
              "      <td>S</td>\n",
              "    </tr>\n",
              "    <tr>\n",
              "      <th>2</th>\n",
              "      <td>2020</td>\n",
              "      <td>SE</td>\n",
              "      <td>FT</td>\n",
              "      <td>Big Data Engineer</td>\n",
              "      <td>85000</td>\n",
              "      <td>GBP</td>\n",
              "      <td>109024</td>\n",
              "      <td>GB</td>\n",
              "      <td>50</td>\n",
              "      <td>GB</td>\n",
              "      <td>M</td>\n",
              "    </tr>\n",
              "    <tr>\n",
              "      <th>3</th>\n",
              "      <td>2020</td>\n",
              "      <td>MI</td>\n",
              "      <td>FT</td>\n",
              "      <td>Product Data Analyst</td>\n",
              "      <td>20000</td>\n",
              "      <td>USD</td>\n",
              "      <td>20000</td>\n",
              "      <td>HN</td>\n",
              "      <td>0</td>\n",
              "      <td>HN</td>\n",
              "      <td>S</td>\n",
              "    </tr>\n",
              "    <tr>\n",
              "      <th>4</th>\n",
              "      <td>2020</td>\n",
              "      <td>SE</td>\n",
              "      <td>FT</td>\n",
              "      <td>Machine Learning Engineer</td>\n",
              "      <td>150000</td>\n",
              "      <td>USD</td>\n",
              "      <td>150000</td>\n",
              "      <td>US</td>\n",
              "      <td>50</td>\n",
              "      <td>US</td>\n",
              "      <td>L</td>\n",
              "    </tr>\n",
              "  </tbody>\n",
              "</table>\n",
              "</div>"
            ],
            "text/plain": [
              "   work_year experience_level employment_type                   job_title  \\\n",
              "0       2020               MI              FT              Data Scientist   \n",
              "1       2020               SE              FT  Machine Learning Scientist   \n",
              "2       2020               SE              FT           Big Data Engineer   \n",
              "3       2020               MI              FT        Product Data Analyst   \n",
              "4       2020               SE              FT   Machine Learning Engineer   \n",
              "\n",
              "   salary salary_currency  salary_in_usd employee_residence  remote_ratio  \\\n",
              "0   70000             EUR          79833                 DE             0   \n",
              "1  260000             USD         260000                 JP             0   \n",
              "2   85000             GBP         109024                 GB            50   \n",
              "3   20000             USD          20000                 HN             0   \n",
              "4  150000             USD         150000                 US            50   \n",
              "\n",
              "  company_location company_size  \n",
              "0               DE            L  \n",
              "1               JP            S  \n",
              "2               GB            M  \n",
              "3               HN            S  \n",
              "4               US            L  "
            ]
          },
          "execution_count": 16,
          "metadata": {},
          "output_type": "execute_result"
        }
      ],
      "source": [
        "df_ds_salaries = pd.read_csv('./data/ds_salaries.csv', index_col=0)\n",
        "df_ds_salaries.head()"
      ]
    },
    {
      "cell_type": "code",
      "execution_count": 12,
      "metadata": {
        "colab": {
          "base_uri": "https://localhost:8080/"
        },
        "id": "uLEEV6aLomOU",
        "outputId": "23314b21-aa3f-4537-94cb-be776d9427ae"
      },
      "outputs": [],
      "source": [
        "# уровень значимости\n",
        "alpha = 0.05"
      ]
    },
    {
      "cell_type": "markdown",
      "metadata": {
        "id": "c9QRWWOVfV13"
      },
      "source": [
        "## Описательный анализ данных"
      ]
    },
    {
      "cell_type": "code",
      "execution_count": 17,
      "metadata": {
        "colab": {
          "base_uri": "https://localhost:8080/"
        },
        "id": "zkiOmlAy2XQU",
        "outputId": "88adbac3-0fd7-460c-a368-c40baff97200"
      },
      "outputs": [
        {
          "name": "stdout",
          "output_type": "stream",
          "text": [
            "<class 'pandas.core.frame.DataFrame'>\n",
            "Index: 607 entries, 0 to 606\n",
            "Data columns (total 11 columns):\n",
            " #   Column              Non-Null Count  Dtype \n",
            "---  ------              --------------  ----- \n",
            " 0   work_year           607 non-null    int64 \n",
            " 1   experience_level    607 non-null    object\n",
            " 2   employment_type     607 non-null    object\n",
            " 3   job_title           607 non-null    object\n",
            " 4   salary              607 non-null    int64 \n",
            " 5   salary_currency     607 non-null    object\n",
            " 6   salary_in_usd       607 non-null    int64 \n",
            " 7   employee_residence  607 non-null    object\n",
            " 8   remote_ratio        607 non-null    int64 \n",
            " 9   company_location    607 non-null    object\n",
            " 10  company_size        607 non-null    object\n",
            "dtypes: int64(4), object(7)\n",
            "memory usage: 56.9+ KB\n"
          ]
        }
      ],
      "source": [
        "df_ds_salaries.info()"
      ]
    },
    {
      "cell_type": "markdown",
      "metadata": {
        "id": "2DSvnZuul7Za"
      },
      "source": [
        "Исходные данные содержат 607 записей, пропущенных значений нет."
      ]
    },
    {
      "cell_type": "code",
      "execution_count": 19,
      "metadata": {
        "colab": {
          "base_uri": "https://localhost:8080/"
        },
        "id": "As_X7I6jl7Za",
        "outputId": "3d3795b3-ab7c-4cc6-ab3d-23a4796a7b5c"
      },
      "outputs": [
        {
          "name": "stdout",
          "output_type": "stream",
          "text": [
            "Количество дубликатов: 0\n",
            "Размер таблицы после удаления дубликатов: (565, 11)\n"
          ]
        }
      ],
      "source": [
        "print(f'Количество дубликатов: {df_ds_salaries.duplicated().sum()}')\n",
        "\n",
        "# Удаление дубликатов\n",
        "df_ds_salaries_cleared = df_ds_salaries.drop_duplicates()\n",
        "print('Размер таблицы после удаления дубликатов: {}'.format(df_ds_salaries.shape))"
      ]
    }
  ],
  "metadata": {
    "colab": {
      "provenance": []
    },
    "kernelspec": {
      "display_name": "Python 3",
      "language": "python",
      "name": "python3"
    },
    "language_info": {
      "codemirror_mode": {
        "name": "ipython",
        "version": 3
      },
      "file_extension": ".py",
      "mimetype": "text/x-python",
      "name": "python",
      "nbconvert_exporter": "python",
      "pygments_lexer": "ipython3",
      "version": "3.13.1"
    }
  },
  "nbformat": 4,
  "nbformat_minor": 0
}
