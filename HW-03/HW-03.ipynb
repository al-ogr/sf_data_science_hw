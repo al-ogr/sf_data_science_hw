{
  "cells": [
    {
      "cell_type": "markdown",
      "metadata": {
        "id": "yMG_XPwziMUN"
      },
      "source": [
        "# <center> Исследование данных HR-агентства"
      ]
    },
    {
      "cell_type": "markdown",
      "metadata": {
        "id": "EMd2vwh8ihnl"
      },
      "source": [
        "## Постановка задачи\n",
        "\n",
        "HR-агентство изучает тренды на рынке труда в IT. Компания хочет провести исследование на основе данных о зарплатах в сфере Data Science за 2020–2022 годы и получить некоторые выводы.\n",
        "\n",
        "Описание исходных данных:\n",
        "\n",
        "- **work_year** - Год, в котором была выплачена зарплата.\n",
        "- **experience_level** - Опыт работы на этой должности в течение года со следующими возможными значениями:\n",
        "    * EN — Entry-level/Junior;\n",
        "    * MI — Mid-level/Intermediate;\n",
        "    * SE — Senior-level/Expert;\n",
        "    * EX — Executive-level/Director.\n",
        "- **employment_type** - Тип трудоустройства для этой роли:\n",
        "    * PT — неполный рабочий день;\n",
        "    * FT — полный рабочий день;\n",
        "    * CT — контракт;\n",
        "    * FL — фриланс.\n",
        "- **job_title** - Роль, в которой соискатель работал в течение года.\n",
        "- **salary** - Общая выплаченная валовая сумма заработной платы.\n",
        "- **salary_currency** - Валюта выплачиваемой заработной платы в виде кода валюты ISO 4217.\n",
        "- **salary_in_usd** - Зарплата в долларах США (валютный курс, делённый на среднее значение курса доллара США за соответствующий год через [fxdata.foorilla.com]).\n",
        "- **employee_residence** - Основная страна проживания сотрудника в течение рабочего года в виде кода страны ISO 3166.\n",
        "- **remote_ratio** - Общий объём работы, выполняемой удалённо. Возможные значения:\n",
        "    * 0 — удалённой работы нет (менее 20 %);\n",
        "    * 50 — частично удалённая работа;\n",
        "    * 100 — полностью удалённая работа (более 80 %).\n",
        "- **company_location** - Страна главного офиса работодателя или филиала по контракту в виде кода страны ISO 3166.\n",
        "- **company_size** - Среднее количество людей, работавших в компании в течение года:\n",
        "    * S — менее 50 сотрудников (небольшая компания);\n",
        "    * M — от 50 до 250 сотрудников (средняя компания);\n",
        "    * L — более 250 сотрудников (крупная компания).\n",
        "\n",
        "Оригинальный датасет: [“Data Science Job Salaries” (kaggle.com)](https://www.kaggle.com/datasets/ruchi798/data-science-job-salaries)\n",
        "\n",
        "Исследуйте данные и сделайте выводы по полученным результатам. Подкрепите свои рассуждения и выводы визуализациями и с помощью статистического тестирования проверьте, являются ли выводы статистически значимыми.\n",
        "\n",
        "В процессе своего анализа вы должны выяснить, какие факторы влияют на зарплату специалиста Data Scientist.\n",
        "А также ответить на ключевые вопросы HR-агентства:\n",
        "- Наблюдается ли ежегодный рост зарплат у специалистов Data Scientist?\n",
        "- Как соотносятся зарплаты Data Scientist и Data Engineer в 2022 году?\n",
        "- Как соотносятся зарплаты специалистов Data Scientist в компаниях различных размеров?\n",
        "- Есть ли связь между наличием должностей Data Scientist и Data Engineer и размером компании?"
      ]
    },
    {
      "cell_type": "markdown",
      "metadata": {
        "id": "_XMyOg3cgcN1"
      },
      "source": [
        "## Загрузка данных"
      ]
    },
    {
      "cell_type": "code",
      "execution_count": 12,
      "metadata": {
        "id": "2JjaPf35gyCK"
      },
      "outputs": [],
      "source": [
        "import pandas as pd\n",
        "import numpy as np\n",
        "\n",
        "from scipy import stats\n",
        "import statsmodels.api as sm\n",
        "from statsmodels import stats as sms\n",
        "\n",
        "import matplotlib.pyplot as plt\n",
        "import seaborn as sns\n",
        "\n",
        "import plotly.graph_objects as go\n",
        "from plotly.subplots import make_subplots"
      ]
    },
    {
      "cell_type": "code",
      "execution_count": 13,
      "metadata": {
        "colab": {
          "base_uri": "https://localhost:8080/",
          "height": 206
        },
        "id": "ZPiI902dv11F",
        "outputId": "eccef1b9-a3cc-4144-a9df-a2a020abf30c"
      },
      "outputs": [
        {
          "data": {
            "text/html": [
              "<div>\n",
              "<style scoped>\n",
              "    .dataframe tbody tr th:only-of-type {\n",
              "        vertical-align: middle;\n",
              "    }\n",
              "\n",
              "    .dataframe tbody tr th {\n",
              "        vertical-align: top;\n",
              "    }\n",
              "\n",
              "    .dataframe thead th {\n",
              "        text-align: right;\n",
              "    }\n",
              "</style>\n",
              "<table border=\"1\" class=\"dataframe\">\n",
              "  <thead>\n",
              "    <tr style=\"text-align: right;\">\n",
              "      <th></th>\n",
              "      <th>work_year</th>\n",
              "      <th>experience_level</th>\n",
              "      <th>employment_type</th>\n",
              "      <th>job_title</th>\n",
              "      <th>salary</th>\n",
              "      <th>salary_currency</th>\n",
              "      <th>salary_in_usd</th>\n",
              "      <th>employee_residence</th>\n",
              "      <th>remote_ratio</th>\n",
              "      <th>company_location</th>\n",
              "      <th>company_size</th>\n",
              "    </tr>\n",
              "  </thead>\n",
              "  <tbody>\n",
              "    <tr>\n",
              "      <th>0</th>\n",
              "      <td>2020</td>\n",
              "      <td>MI</td>\n",
              "      <td>FT</td>\n",
              "      <td>Data Scientist</td>\n",
              "      <td>70000</td>\n",
              "      <td>EUR</td>\n",
              "      <td>79833</td>\n",
              "      <td>DE</td>\n",
              "      <td>0</td>\n",
              "      <td>DE</td>\n",
              "      <td>L</td>\n",
              "    </tr>\n",
              "    <tr>\n",
              "      <th>1</th>\n",
              "      <td>2020</td>\n",
              "      <td>SE</td>\n",
              "      <td>FT</td>\n",
              "      <td>Machine Learning Scientist</td>\n",
              "      <td>260000</td>\n",
              "      <td>USD</td>\n",
              "      <td>260000</td>\n",
              "      <td>JP</td>\n",
              "      <td>0</td>\n",
              "      <td>JP</td>\n",
              "      <td>S</td>\n",
              "    </tr>\n",
              "    <tr>\n",
              "      <th>2</th>\n",
              "      <td>2020</td>\n",
              "      <td>SE</td>\n",
              "      <td>FT</td>\n",
              "      <td>Big Data Engineer</td>\n",
              "      <td>85000</td>\n",
              "      <td>GBP</td>\n",
              "      <td>109024</td>\n",
              "      <td>GB</td>\n",
              "      <td>50</td>\n",
              "      <td>GB</td>\n",
              "      <td>M</td>\n",
              "    </tr>\n",
              "    <tr>\n",
              "      <th>3</th>\n",
              "      <td>2020</td>\n",
              "      <td>MI</td>\n",
              "      <td>FT</td>\n",
              "      <td>Product Data Analyst</td>\n",
              "      <td>20000</td>\n",
              "      <td>USD</td>\n",
              "      <td>20000</td>\n",
              "      <td>HN</td>\n",
              "      <td>0</td>\n",
              "      <td>HN</td>\n",
              "      <td>S</td>\n",
              "    </tr>\n",
              "    <tr>\n",
              "      <th>4</th>\n",
              "      <td>2020</td>\n",
              "      <td>SE</td>\n",
              "      <td>FT</td>\n",
              "      <td>Machine Learning Engineer</td>\n",
              "      <td>150000</td>\n",
              "      <td>USD</td>\n",
              "      <td>150000</td>\n",
              "      <td>US</td>\n",
              "      <td>50</td>\n",
              "      <td>US</td>\n",
              "      <td>L</td>\n",
              "    </tr>\n",
              "  </tbody>\n",
              "</table>\n",
              "</div>"
            ],
            "text/plain": [
              "   work_year experience_level employment_type                   job_title  \\\n",
              "0       2020               MI              FT              Data Scientist   \n",
              "1       2020               SE              FT  Machine Learning Scientist   \n",
              "2       2020               SE              FT           Big Data Engineer   \n",
              "3       2020               MI              FT        Product Data Analyst   \n",
              "4       2020               SE              FT   Machine Learning Engineer   \n",
              "\n",
              "   salary salary_currency  salary_in_usd employee_residence  remote_ratio  \\\n",
              "0   70000             EUR          79833                 DE             0   \n",
              "1  260000             USD         260000                 JP             0   \n",
              "2   85000             GBP         109024                 GB            50   \n",
              "3   20000             USD          20000                 HN             0   \n",
              "4  150000             USD         150000                 US            50   \n",
              "\n",
              "  company_location company_size  \n",
              "0               DE            L  \n",
              "1               JP            S  \n",
              "2               GB            M  \n",
              "3               HN            S  \n",
              "4               US            L  "
            ]
          },
          "execution_count": 13,
          "metadata": {},
          "output_type": "execute_result"
        }
      ],
      "source": [
        "df_ds_salaries = pd.read_csv('./data/ds_salaries.csv', index_col=0)\n",
        "df_ds_salaries.head()"
      ]
    },
    {
      "cell_type": "code",
      "execution_count": 14,
      "metadata": {
        "colab": {
          "base_uri": "https://localhost:8080/"
        },
        "id": "uLEEV6aLomOU",
        "outputId": "23314b21-aa3f-4537-94cb-be776d9427ae"
      },
      "outputs": [],
      "source": [
        "# уровень значимости\n",
        "alpha = 0.05"
      ]
    },
    {
      "cell_type": "markdown",
      "metadata": {
        "id": "c9QRWWOVfV13"
      },
      "source": [
        "## Описательный анализ данных"
      ]
    },
    {
      "cell_type": "code",
      "execution_count": 36,
      "metadata": {
        "colab": {
          "base_uri": "https://localhost:8080/"
        },
        "id": "zkiOmlAy2XQU",
        "outputId": "88adbac3-0fd7-460c-a368-c40baff97200"
      },
      "outputs": [
        {
          "name": "stdout",
          "output_type": "stream",
          "text": [
            "<class 'pandas.core.frame.DataFrame'>\n",
            "Index: 607 entries, 0 to 606\n",
            "Data columns (total 11 columns):\n",
            " #   Column              Non-Null Count  Dtype \n",
            "---  ------              --------------  ----- \n",
            " 0   work_year           607 non-null    int64 \n",
            " 1   experience_level    607 non-null    object\n",
            " 2   employment_type     607 non-null    object\n",
            " 3   job_title           607 non-null    object\n",
            " 4   salary              607 non-null    int64 \n",
            " 5   salary_currency     607 non-null    object\n",
            " 6   salary_in_usd       607 non-null    int64 \n",
            " 7   employee_residence  607 non-null    object\n",
            " 8   remote_ratio        607 non-null    int64 \n",
            " 9   company_location    607 non-null    object\n",
            " 10  company_size        607 non-null    object\n",
            "dtypes: int64(4), object(7)\n",
            "memory usage: 56.9+ KB\n",
            "Количество пропущенных значений в исходных данных: 0\n"
          ]
        }
      ],
      "source": [
        "df_ds_salaries.info()\n",
        "print(f'Количество пропущенных значений в исходных данных: {df_ds_salaries.isna().sum().sum()}')"
      ]
    },
    {
      "cell_type": "markdown",
      "metadata": {
        "id": "2DSvnZuul7Za"
      },
      "source": [
        "Исходные данные содержат 607 записей, пропущенных значений нет."
      ]
    },
    {
      "cell_type": "code",
      "execution_count": 37,
      "metadata": {
        "colab": {
          "base_uri": "https://localhost:8080/"
        },
        "id": "As_X7I6jl7Za",
        "outputId": "3d3795b3-ab7c-4cc6-ab3d-23a4796a7b5c"
      },
      "outputs": [
        {
          "name": "stdout",
          "output_type": "stream",
          "text": [
            "Количество дубликатов: 42\n",
            "Размерность таблицы после удаления дубликатов: (565, 11)\n"
          ]
        }
      ],
      "source": [
        "print(f'Количество дубликатов: {df_ds_salaries.duplicated().sum()}')\n",
        "\n",
        "# Удаление дубликатов\n",
        "df_ds_salaries_cleared = df_ds_salaries.drop_duplicates()\n",
        "print(f'Размерность таблицы после удаления дубликатов: {df_ds_salaries_cleared.shape}')"
      ]
    },
    {
      "cell_type": "markdown",
      "metadata": {},
      "source": [
        "После очистки исходных данных от дубликатов количество строк в датасете сократилось до 565."
      ]
    },
    {
      "cell_type": "markdown",
      "metadata": {},
      "source": [
        "### Предварительная подготовка\n",
        "\n",
        "Определение типов признаков:  \n",
        "- **work_year** (Год выплаты зарплаты) - числовой дискретный;\n",
        "- **experience_level** (Опыт работы на должности в течение года) - порядковый категориальный;\n",
        "- **employment_type** (Тип трудоустройства) - номинальный категориальный;\n",
        "- **job_title** - (Роль, в которой соискатель работал в течение года) - номинальный категориальный;\n",
        "- ~~*salary*~~ (Общая выплаченная валовая сумма заработной платы) - подлежит удалению;\n",
        "- ~~*salary_currency*~~ (Валюта выплачиваемой заработной платы) - подлежит удалению;\n",
        "- **salary_in_usd** (Зарплата в долларах США) - числовой непрерывный;\n",
        "- **employee_residence** (Основная страна проживания сотрудника) - номинальный категориальный;\n",
        "- **remote_ratio** (Общий объём работы, выполняемой удалённо) - порядковый категориальный (представлен в числовом виде);\n",
        "- **company_location** (Страна главного офиса работодателя или филиала по контракту) - номинальный категориальный;\n",
        "- **company_size** (Среднее количество людей, работавших в компании в течение года) - порядковый категориальный.\n",
        "\n",
        "Признаки ~~*salary*~~ и ~~*salary_currency*~~ подлежат удалению, так как в датасете присутствует признак **salary_in_usd**, который уже объединяет в себе данные из них в единой валюте (USD)."
      ]
    },
    {
      "cell_type": "code",
      "execution_count": 17,
      "metadata": {},
      "outputs": [
        {
          "data": {
            "text/html": [
              "<div>\n",
              "<style scoped>\n",
              "    .dataframe tbody tr th:only-of-type {\n",
              "        vertical-align: middle;\n",
              "    }\n",
              "\n",
              "    .dataframe tbody tr th {\n",
              "        vertical-align: top;\n",
              "    }\n",
              "\n",
              "    .dataframe thead th {\n",
              "        text-align: right;\n",
              "    }\n",
              "</style>\n",
              "<table border=\"1\" class=\"dataframe\">\n",
              "  <thead>\n",
              "    <tr style=\"text-align: right;\">\n",
              "      <th></th>\n",
              "      <th>work_year</th>\n",
              "      <th>experience_level</th>\n",
              "      <th>employment_type</th>\n",
              "      <th>job_title</th>\n",
              "      <th>salary_in_usd</th>\n",
              "      <th>employee_residence</th>\n",
              "      <th>remote_ratio</th>\n",
              "      <th>company_location</th>\n",
              "      <th>company_size</th>\n",
              "    </tr>\n",
              "  </thead>\n",
              "  <tbody>\n",
              "    <tr>\n",
              "      <th>0</th>\n",
              "      <td>2020</td>\n",
              "      <td>MI</td>\n",
              "      <td>FT</td>\n",
              "      <td>Data Scientist</td>\n",
              "      <td>79833</td>\n",
              "      <td>DE</td>\n",
              "      <td>0</td>\n",
              "      <td>DE</td>\n",
              "      <td>L</td>\n",
              "    </tr>\n",
              "    <tr>\n",
              "      <th>1</th>\n",
              "      <td>2020</td>\n",
              "      <td>SE</td>\n",
              "      <td>FT</td>\n",
              "      <td>Machine Learning Scientist</td>\n",
              "      <td>260000</td>\n",
              "      <td>JP</td>\n",
              "      <td>0</td>\n",
              "      <td>JP</td>\n",
              "      <td>S</td>\n",
              "    </tr>\n",
              "    <tr>\n",
              "      <th>2</th>\n",
              "      <td>2020</td>\n",
              "      <td>SE</td>\n",
              "      <td>FT</td>\n",
              "      <td>Big Data Engineer</td>\n",
              "      <td>109024</td>\n",
              "      <td>GB</td>\n",
              "      <td>50</td>\n",
              "      <td>GB</td>\n",
              "      <td>M</td>\n",
              "    </tr>\n",
              "    <tr>\n",
              "      <th>3</th>\n",
              "      <td>2020</td>\n",
              "      <td>MI</td>\n",
              "      <td>FT</td>\n",
              "      <td>Product Data Analyst</td>\n",
              "      <td>20000</td>\n",
              "      <td>HN</td>\n",
              "      <td>0</td>\n",
              "      <td>HN</td>\n",
              "      <td>S</td>\n",
              "    </tr>\n",
              "    <tr>\n",
              "      <th>4</th>\n",
              "      <td>2020</td>\n",
              "      <td>SE</td>\n",
              "      <td>FT</td>\n",
              "      <td>Machine Learning Engineer</td>\n",
              "      <td>150000</td>\n",
              "      <td>US</td>\n",
              "      <td>50</td>\n",
              "      <td>US</td>\n",
              "      <td>L</td>\n",
              "    </tr>\n",
              "  </tbody>\n",
              "</table>\n",
              "</div>"
            ],
            "text/plain": [
              "   work_year experience_level employment_type                   job_title  \\\n",
              "0       2020               MI              FT              Data Scientist   \n",
              "1       2020               SE              FT  Machine Learning Scientist   \n",
              "2       2020               SE              FT           Big Data Engineer   \n",
              "3       2020               MI              FT        Product Data Analyst   \n",
              "4       2020               SE              FT   Machine Learning Engineer   \n",
              "\n",
              "   salary_in_usd employee_residence  remote_ratio company_location  \\\n",
              "0          79833                 DE             0               DE   \n",
              "1         260000                 JP             0               JP   \n",
              "2         109024                 GB            50               GB   \n",
              "3          20000                 HN             0               HN   \n",
              "4         150000                 US            50               US   \n",
              "\n",
              "  company_size  \n",
              "0            L  \n",
              "1            S  \n",
              "2            M  \n",
              "3            S  \n",
              "4            L  "
            ]
          },
          "execution_count": 17,
          "metadata": {},
          "output_type": "execute_result"
        }
      ],
      "source": [
        "# Удаление неинформативных признаков\n",
        "df_ds_salaries_cleared = df_ds_salaries_cleared.drop(columns=['salary', 'salary_currency'],\n",
        "                                                     axis=1)\n",
        "df_ds_salaries_cleared.head()"
      ]
    },
    {
      "cell_type": "markdown",
      "metadata": {},
      "source": [
        "### Основные статистические характеристики признаков"
      ]
    },
    {
      "cell_type": "code",
      "execution_count": 34,
      "metadata": {},
      "outputs": [
        {
          "data": {
            "text/html": [
              "<div>\n",
              "<style scoped>\n",
              "    .dataframe tbody tr th:only-of-type {\n",
              "        vertical-align: middle;\n",
              "    }\n",
              "\n",
              "    .dataframe tbody tr th {\n",
              "        vertical-align: top;\n",
              "    }\n",
              "\n",
              "    .dataframe thead th {\n",
              "        text-align: right;\n",
              "    }\n",
              "</style>\n",
              "<table border=\"1\" class=\"dataframe\">\n",
              "  <thead>\n",
              "    <tr style=\"text-align: right;\">\n",
              "      <th></th>\n",
              "      <th>work_year</th>\n",
              "      <th>salary_in_usd</th>\n",
              "      <th>remote_ratio</th>\n",
              "    </tr>\n",
              "  </thead>\n",
              "  <tbody>\n",
              "    <tr>\n",
              "      <th>count</th>\n",
              "      <td>565.00</td>\n",
              "      <td>565.00</td>\n",
              "      <td>565.00</td>\n",
              "    </tr>\n",
              "    <tr>\n",
              "      <th>mean</th>\n",
              "      <td>2021.36</td>\n",
              "      <td>110610.34</td>\n",
              "      <td>69.91</td>\n",
              "    </tr>\n",
              "    <tr>\n",
              "      <th>std</th>\n",
              "      <td>0.70</td>\n",
              "      <td>72280.70</td>\n",
              "      <td>40.90</td>\n",
              "    </tr>\n",
              "    <tr>\n",
              "      <th>min</th>\n",
              "      <td>2020.00</td>\n",
              "      <td>2859.00</td>\n",
              "      <td>0.00</td>\n",
              "    </tr>\n",
              "    <tr>\n",
              "      <th>25%</th>\n",
              "      <td>2021.00</td>\n",
              "      <td>60757.00</td>\n",
              "      <td>50.00</td>\n",
              "    </tr>\n",
              "    <tr>\n",
              "      <th>50%</th>\n",
              "      <td>2021.00</td>\n",
              "      <td>100000.00</td>\n",
              "      <td>100.00</td>\n",
              "    </tr>\n",
              "    <tr>\n",
              "      <th>75%</th>\n",
              "      <td>2022.00</td>\n",
              "      <td>150000.00</td>\n",
              "      <td>100.00</td>\n",
              "    </tr>\n",
              "    <tr>\n",
              "      <th>max</th>\n",
              "      <td>2022.00</td>\n",
              "      <td>600000.00</td>\n",
              "      <td>100.00</td>\n",
              "    </tr>\n",
              "  </tbody>\n",
              "</table>\n",
              "</div>"
            ],
            "text/plain": [
              "       work_year  salary_in_usd  remote_ratio\n",
              "count     565.00         565.00        565.00\n",
              "mean     2021.36      110610.34         69.91\n",
              "std         0.70       72280.70         40.90\n",
              "min      2020.00        2859.00          0.00\n",
              "25%      2021.00       60757.00         50.00\n",
              "50%      2021.00      100000.00        100.00\n",
              "75%      2022.00      150000.00        100.00\n",
              "max      2022.00      600000.00        100.00"
            ]
          },
          "execution_count": 34,
          "metadata": {},
          "output_type": "execute_result"
        }
      ],
      "source": [
        "df_ds_salaries_cleared.describe().round(2)"
      ]
    },
    {
      "cell_type": "code",
      "execution_count": 33,
      "metadata": {},
      "outputs": [
        {
          "data": {
            "text/html": [
              "<div>\n",
              "<style scoped>\n",
              "    .dataframe tbody tr th:only-of-type {\n",
              "        vertical-align: middle;\n",
              "    }\n",
              "\n",
              "    .dataframe tbody tr th {\n",
              "        vertical-align: top;\n",
              "    }\n",
              "\n",
              "    .dataframe thead th {\n",
              "        text-align: right;\n",
              "    }\n",
              "</style>\n",
              "<table border=\"1\" class=\"dataframe\">\n",
              "  <thead>\n",
              "    <tr style=\"text-align: right;\">\n",
              "      <th></th>\n",
              "      <th>experience_level</th>\n",
              "      <th>employment_type</th>\n",
              "      <th>job_title</th>\n",
              "      <th>employee_residence</th>\n",
              "      <th>company_location</th>\n",
              "      <th>company_size</th>\n",
              "    </tr>\n",
              "  </thead>\n",
              "  <tbody>\n",
              "    <tr>\n",
              "      <th>count</th>\n",
              "      <td>565</td>\n",
              "      <td>565</td>\n",
              "      <td>565</td>\n",
              "      <td>565</td>\n",
              "      <td>565</td>\n",
              "      <td>565</td>\n",
              "    </tr>\n",
              "    <tr>\n",
              "      <th>unique</th>\n",
              "      <td>4</td>\n",
              "      <td>4</td>\n",
              "      <td>50</td>\n",
              "      <td>57</td>\n",
              "      <td>50</td>\n",
              "      <td>3</td>\n",
              "    </tr>\n",
              "    <tr>\n",
              "      <th>top</th>\n",
              "      <td>SE</td>\n",
              "      <td>FT</td>\n",
              "      <td>Data Scientist</td>\n",
              "      <td>US</td>\n",
              "      <td>US</td>\n",
              "      <td>M</td>\n",
              "    </tr>\n",
              "    <tr>\n",
              "      <th>freq</th>\n",
              "      <td>243</td>\n",
              "      <td>546</td>\n",
              "      <td>130</td>\n",
              "      <td>295</td>\n",
              "      <td>318</td>\n",
              "      <td>290</td>\n",
              "    </tr>\n",
              "  </tbody>\n",
              "</table>\n",
              "</div>"
            ],
            "text/plain": [
              "       experience_level employment_type       job_title employee_residence  \\\n",
              "count               565             565             565                565   \n",
              "unique                4               4              50                 57   \n",
              "top                  SE              FT  Data Scientist                 US   \n",
              "freq                243             546             130                295   \n",
              "\n",
              "       company_location company_size  \n",
              "count               565          565  \n",
              "unique               50            3  \n",
              "top                  US            M  \n",
              "freq                318          290  "
            ]
          },
          "execution_count": 33,
          "metadata": {},
          "output_type": "execute_result"
        }
      ],
      "source": [
        "df_ds_salaries_cleared.describe(include='object')"
      ]
    },
    {
      "cell_type": "markdown",
      "metadata": {},
      "source": [
        "### Общее распределение заработной платы"
      ]
    },
    {
      "cell_type": "code",
      "execution_count": 18,
      "metadata": {},
      "outputs": [
        {
          "data": {
            "application/vnd.plotly.v1+json": {
              "config": {
                "plotlyServerURL": "https://plot.ly"
              },
              "data": [
                {
                  "jitter": 0.5,
                  "marker": {
                    "color": "#1729B0"
                  },
                  "name": "",
                  "showlegend": false,
                  "type": "box",
                  "x": [
                    79833,
                    260000,
                    109024,
                    20000,
                    150000,
                    72000,
                    190000,
                    35735,
                    135000,
                    125000,
                    51321,
                    40481,
                    39916,
                    87000,
                    85000,
                    8000,
                    41689,
                    114047,
                    5707,
                    56000,
                    43331,
                    6072,
                    47899,
                    98000,
                    115000,
                    325000,
                    42000,
                    33511,
                    100000,
                    117104,
                    59303,
                    70000,
                    68428,
                    450000,
                    46759,
                    74130,
                    103000,
                    250000,
                    10000,
                    138000,
                    45760,
                    79833,
                    50180,
                    106000,
                    112872,
                    15966,
                    76958,
                    188000,
                    105000,
                    70139,
                    6072,
                    91000,
                    45896,
                    54742,
                    60000,
                    148261,
                    38776,
                    118000,
                    120000,
                    138350,
                    110000,
                    130800,
                    21669,
                    412000,
                    45618,
                    62726,
                    49268,
                    190200,
                    105000,
                    91237,
                    62726,
                    42197,
                    82528,
                    150000,
                    235000,
                    53192,
                    100000,
                    5409,
                    270000,
                    80000,
                    79197,
                    140000,
                    54238,
                    47282,
                    153667,
                    28476,
                    59102,
                    110000,
                    170000,
                    80000,
                    88654,
                    76833,
                    19609,
                    276000,
                    29751,
                    89294,
                    12000,
                    450000,
                    70000,
                    95746,
                    75000,
                    150000,
                    36259,
                    62000,
                    73000,
                    51519,
                    187442,
                    115000,
                    150000,
                    30428,
                    94564,
                    113476,
                    103160,
                    12000,
                    45391,
                    225000,
                    50000,
                    40189,
                    90000,
                    200000,
                    60000,
                    200000,
                    50000,
                    110037,
                    10354,
                    151000,
                    120000,
                    9466,
                    20000,
                    40570,
                    100000,
                    49646,
                    38400,
                    24000,
                    100000,
                    90000,
                    63711,
                    77364,
                    220000,
                    80000,
                    135000,
                    240000,
                    150000,
                    82500,
                    100000,
                    82744,
                    62649,
                    90000,
                    153000,
                    160000,
                    168000,
                    150000,
                    75774,
                    13400,
                    144000,
                    127221,
                    119059,
                    423000,
                    120000,
                    125000,
                    230000,
                    85000,
                    28369,
                    63831,
                    130026,
                    165000,
                    80000,
                    250000,
                    55000,
                    150000,
                    170000,
                    82528,
                    60000,
                    235000,
                    60757,
                    174000,
                    2859,
                    40038,
                    81000,
                    5679,
                    22611,
                    90734,
                    26005,
                    61896,
                    12000,
                    4000,
                    50000,
                    69741,
                    76833,
                    74000,
                    152000,
                    21844,
                    18000,
                    174000,
                    96113,
                    147000,
                    9272,
                    24342,
                    54094,
                    90000,
                    61467,
                    195000,
                    37825,
                    50000,
                    160000,
                    12901,
                    200000,
                    165000,
                    20000,
                    120000,
                    24823,
                    56738,
                    66022,
                    5882,
                    24823,
                    185000,
                    28609,
                    88654,
                    140000,
                    46597,
                    116914,
                    33808,
                    56256,
                    225000,
                    416000,
                    87738,
                    88654,
                    135000,
                    71786,
                    16228,
                    256000,
                    200000,
                    200000,
                    180000,
                    110000,
                    63810,
                    46809,
                    4000,
                    21637,
                    103691,
                    80000,
                    110000,
                    165000,
                    18053,
                    72212,
                    36643,
                    12103,
                    96282,
                    170000,
                    115000,
                    90000,
                    600000,
                    28399,
                    93000,
                    99703,
                    173762,
                    185000,
                    141846,
                    130000,
                    63831,
                    16904,
                    66265,
                    25532,
                    160000,
                    93150,
                    111775,
                    28016,
                    65013,
                    72500,
                    18907,
                    76833,
                    85000,
                    77684,
                    100000,
                    58000,
                    55000,
                    20171,
                    59102,
                    112000,
                    100000,
                    69741,
                    105000,
                    69999,
                    94665,
                    102839,
                    109000,
                    51064,
                    135000,
                    155000,
                    120600,
                    130000,
                    90000,
                    170000,
                    150000,
                    102100,
                    84900,
                    136620,
                    99360,
                    117789,
                    104702,
                    146000,
                    123000,
                    52351,
                    99000,
                    116000,
                    106260,
                    126500,
                    242000,
                    200000,
                    65438,
                    39263,
                    78526,
                    52351,
                    165220,
                    45807,
                    120160,
                    90320,
                    181940,
                    132320,
                    220110,
                    160080,
                    180000,
                    120000,
                    124190,
                    130000,
                    110000,
                    170000,
                    115500,
                    112900,
                    165400,
                    132320,
                    167000,
                    243900,
                    136600,
                    109280,
                    128875,
                    93700,
                    224000,
                    167875,
                    175000,
                    156600,
                    108800,
                    95550,
                    113000,
                    135000,
                    161342,
                    137141,
                    167000,
                    78526,
                    65438,
                    150000,
                    211500,
                    192400,
                    90700,
                    130000,
                    61300,
                    160000,
                    138600,
                    136000,
                    58000,
                    135000,
                    170000,
                    189650,
                    164996,
                    54957,
                    118187,
                    132000,
                    208775,
                    147800,
                    136994,
                    101570,
                    128875,
                    93700,
                    79039,
                    37300,
                    164000,
                    155000,
                    124333,
                    98158,
                    120000,
                    145000,
                    105400,
                    87932,
                    117789,
                    215300,
                    158200,
                    209100,
                    154600,
                    115934,
                    81666,
                    175000,
                    98158,
                    183600,
                    52351,
                    180000,
                    71982,
                    45807,
                    65949,
                    49461,
                    78526,
                    58894,
                    260000,
                    60000,
                    63900,
                    160000,
                    112300,
                    241000,
                    159000,
                    180000,
                    80000,
                    82900,
                    100800,
                    49461,
                    140400,
                    39263,
                    43966,
                    32974,
                    87932,
                    76940,
                    104702,
                    91614,
                    65949,
                    87932,
                    43966,
                    32974,
                    98158,
                    215300,
                    76940,
                    180000,
                    21983,
                    80000,
                    78791,
                    196979,
                    120000,
                    125000,
                    37236,
                    105000,
                    87932,
                    18442,
                    31615,
                    58255,
                    100000,
                    54957,
                    18442,
                    162674,
                    120000,
                    144000,
                    104890,
                    100000,
                    140000,
                    135000,
                    50000,
                    220000,
                    183228,
                    91614,
                    185100,
                    220000,
                    200000,
                    120000,
                    120000,
                    65000,
                    324000,
                    216000,
                    210000,
                    120000,
                    230000,
                    100000,
                    100000,
                    31875,
                    200000,
                    75000,
                    35590,
                    78791,
                    100000,
                    153000,
                    58035,
                    165000,
                    93427,
                    52396,
                    62651,
                    32974,
                    40000,
                    87425,
                    115000,
                    86703,
                    75000,
                    64849,
                    120000,
                    157000,
                    150000,
                    70912,
                    65000,
                    71444,
                    20000,
                    48000,
                    152500,
                    68147,
                    122346,
                    380000,
                    69336,
                    10000,
                    20000,
                    405000,
                    135000,
                    177000,
                    78000,
                    100000,
                    85000,
                    75000,
                    214000,
                    192600,
                    266400,
                    213120,
                    141300,
                    102100,
                    115934,
                    81666,
                    206699,
                    99100,
                    130000,
                    110500,
                    99050,
                    160000,
                    205300,
                    176000,
                    144000,
                    200100,
                    145000,
                    70500,
                    205300,
                    140400,
                    205300,
                    184700,
                    175100,
                    140250,
                    116150,
                    54000,
                    65438,
                    80000,
                    210000,
                    69000,
                    150075,
                    25000,
                    126500,
                    106260,
                    220110,
                    160080,
                    105000,
                    110925,
                    45807,
                    60000,
                    192564,
                    144854,
                    150000,
                    150260,
                    109280,
                    160000,
                    130000,
                    67000,
                    52000,
                    154000,
                    126000,
                    129000,
                    150000,
                    200000
                  ],
                  "xaxis": "x",
                  "yaxis": "y"
                },
                {
                  "marker": {
                    "color": "#1729B0"
                  },
                  "name": "Заработная плата",
                  "showlegend": false,
                  "type": "histogram",
                  "x": [
                    79833,
                    260000,
                    109024,
                    20000,
                    150000,
                    72000,
                    190000,
                    35735,
                    135000,
                    125000,
                    51321,
                    40481,
                    39916,
                    87000,
                    85000,
                    8000,
                    41689,
                    114047,
                    5707,
                    56000,
                    43331,
                    6072,
                    47899,
                    98000,
                    115000,
                    325000,
                    42000,
                    33511,
                    100000,
                    117104,
                    59303,
                    70000,
                    68428,
                    450000,
                    46759,
                    74130,
                    103000,
                    250000,
                    10000,
                    138000,
                    45760,
                    79833,
                    50180,
                    106000,
                    112872,
                    15966,
                    76958,
                    188000,
                    105000,
                    70139,
                    6072,
                    91000,
                    45896,
                    54742,
                    60000,
                    148261,
                    38776,
                    118000,
                    120000,
                    138350,
                    110000,
                    130800,
                    21669,
                    412000,
                    45618,
                    62726,
                    49268,
                    190200,
                    105000,
                    91237,
                    62726,
                    42197,
                    82528,
                    150000,
                    235000,
                    53192,
                    100000,
                    5409,
                    270000,
                    80000,
                    79197,
                    140000,
                    54238,
                    47282,
                    153667,
                    28476,
                    59102,
                    110000,
                    170000,
                    80000,
                    88654,
                    76833,
                    19609,
                    276000,
                    29751,
                    89294,
                    12000,
                    450000,
                    70000,
                    95746,
                    75000,
                    150000,
                    36259,
                    62000,
                    73000,
                    51519,
                    187442,
                    115000,
                    150000,
                    30428,
                    94564,
                    113476,
                    103160,
                    12000,
                    45391,
                    225000,
                    50000,
                    40189,
                    90000,
                    200000,
                    60000,
                    200000,
                    50000,
                    110037,
                    10354,
                    151000,
                    120000,
                    9466,
                    20000,
                    40570,
                    100000,
                    49646,
                    38400,
                    24000,
                    100000,
                    90000,
                    63711,
                    77364,
                    220000,
                    80000,
                    135000,
                    240000,
                    150000,
                    82500,
                    100000,
                    82744,
                    62649,
                    90000,
                    153000,
                    160000,
                    168000,
                    150000,
                    75774,
                    13400,
                    144000,
                    127221,
                    119059,
                    423000,
                    120000,
                    125000,
                    230000,
                    85000,
                    28369,
                    63831,
                    130026,
                    165000,
                    80000,
                    250000,
                    55000,
                    150000,
                    170000,
                    82528,
                    60000,
                    235000,
                    60757,
                    174000,
                    2859,
                    40038,
                    81000,
                    5679,
                    22611,
                    90734,
                    26005,
                    61896,
                    12000,
                    4000,
                    50000,
                    69741,
                    76833,
                    74000,
                    152000,
                    21844,
                    18000,
                    174000,
                    96113,
                    147000,
                    9272,
                    24342,
                    54094,
                    90000,
                    61467,
                    195000,
                    37825,
                    50000,
                    160000,
                    12901,
                    200000,
                    165000,
                    20000,
                    120000,
                    24823,
                    56738,
                    66022,
                    5882,
                    24823,
                    185000,
                    28609,
                    88654,
                    140000,
                    46597,
                    116914,
                    33808,
                    56256,
                    225000,
                    416000,
                    87738,
                    88654,
                    135000,
                    71786,
                    16228,
                    256000,
                    200000,
                    200000,
                    180000,
                    110000,
                    63810,
                    46809,
                    4000,
                    21637,
                    103691,
                    80000,
                    110000,
                    165000,
                    18053,
                    72212,
                    36643,
                    12103,
                    96282,
                    170000,
                    115000,
                    90000,
                    600000,
                    28399,
                    93000,
                    99703,
                    173762,
                    185000,
                    141846,
                    130000,
                    63831,
                    16904,
                    66265,
                    25532,
                    160000,
                    93150,
                    111775,
                    28016,
                    65013,
                    72500,
                    18907,
                    76833,
                    85000,
                    77684,
                    100000,
                    58000,
                    55000,
                    20171,
                    59102,
                    112000,
                    100000,
                    69741,
                    105000,
                    69999,
                    94665,
                    102839,
                    109000,
                    51064,
                    135000,
                    155000,
                    120600,
                    130000,
                    90000,
                    170000,
                    150000,
                    102100,
                    84900,
                    136620,
                    99360,
                    117789,
                    104702,
                    146000,
                    123000,
                    52351,
                    99000,
                    116000,
                    106260,
                    126500,
                    242000,
                    200000,
                    65438,
                    39263,
                    78526,
                    52351,
                    165220,
                    45807,
                    120160,
                    90320,
                    181940,
                    132320,
                    220110,
                    160080,
                    180000,
                    120000,
                    124190,
                    130000,
                    110000,
                    170000,
                    115500,
                    112900,
                    165400,
                    132320,
                    167000,
                    243900,
                    136600,
                    109280,
                    128875,
                    93700,
                    224000,
                    167875,
                    175000,
                    156600,
                    108800,
                    95550,
                    113000,
                    135000,
                    161342,
                    137141,
                    167000,
                    78526,
                    65438,
                    150000,
                    211500,
                    192400,
                    90700,
                    130000,
                    61300,
                    160000,
                    138600,
                    136000,
                    58000,
                    135000,
                    170000,
                    189650,
                    164996,
                    54957,
                    118187,
                    132000,
                    208775,
                    147800,
                    136994,
                    101570,
                    128875,
                    93700,
                    79039,
                    37300,
                    164000,
                    155000,
                    124333,
                    98158,
                    120000,
                    145000,
                    105400,
                    87932,
                    117789,
                    215300,
                    158200,
                    209100,
                    154600,
                    115934,
                    81666,
                    175000,
                    98158,
                    183600,
                    52351,
                    180000,
                    71982,
                    45807,
                    65949,
                    49461,
                    78526,
                    58894,
                    260000,
                    60000,
                    63900,
                    160000,
                    112300,
                    241000,
                    159000,
                    180000,
                    80000,
                    82900,
                    100800,
                    49461,
                    140400,
                    39263,
                    43966,
                    32974,
                    87932,
                    76940,
                    104702,
                    91614,
                    65949,
                    87932,
                    43966,
                    32974,
                    98158,
                    215300,
                    76940,
                    180000,
                    21983,
                    80000,
                    78791,
                    196979,
                    120000,
                    125000,
                    37236,
                    105000,
                    87932,
                    18442,
                    31615,
                    58255,
                    100000,
                    54957,
                    18442,
                    162674,
                    120000,
                    144000,
                    104890,
                    100000,
                    140000,
                    135000,
                    50000,
                    220000,
                    183228,
                    91614,
                    185100,
                    220000,
                    200000,
                    120000,
                    120000,
                    65000,
                    324000,
                    216000,
                    210000,
                    120000,
                    230000,
                    100000,
                    100000,
                    31875,
                    200000,
                    75000,
                    35590,
                    78791,
                    100000,
                    153000,
                    58035,
                    165000,
                    93427,
                    52396,
                    62651,
                    32974,
                    40000,
                    87425,
                    115000,
                    86703,
                    75000,
                    64849,
                    120000,
                    157000,
                    150000,
                    70912,
                    65000,
                    71444,
                    20000,
                    48000,
                    152500,
                    68147,
                    122346,
                    380000,
                    69336,
                    10000,
                    20000,
                    405000,
                    135000,
                    177000,
                    78000,
                    100000,
                    85000,
                    75000,
                    214000,
                    192600,
                    266400,
                    213120,
                    141300,
                    102100,
                    115934,
                    81666,
                    206699,
                    99100,
                    130000,
                    110500,
                    99050,
                    160000,
                    205300,
                    176000,
                    144000,
                    200100,
                    145000,
                    70500,
                    205300,
                    140400,
                    205300,
                    184700,
                    175100,
                    140250,
                    116150,
                    54000,
                    65438,
                    80000,
                    210000,
                    69000,
                    150075,
                    25000,
                    126500,
                    106260,
                    220110,
                    160080,
                    105000,
                    110925,
                    45807,
                    60000,
                    192564,
                    144854,
                    150000,
                    150260,
                    109280,
                    160000,
                    130000,
                    67000,
                    52000,
                    154000,
                    126000,
                    129000,
                    150000,
                    200000
                  ],
                  "xaxis": "x2",
                  "yaxis": "y2"
                }
              ],
              "layout": {
                "annotations": [
                  {
                    "font": {
                      "size": 16
                    },
                    "showarrow": false,
                    "text": "Общее распределение заработной платы",
                    "x": 0.5,
                    "xanchor": "center",
                    "xref": "paper",
                    "y": 1,
                    "yanchor": "bottom",
                    "yref": "paper"
                  },
                  {
                    "font": {
                      "size": 16
                    },
                    "showarrow": false,
                    "text": "Заработная плата, $",
                    "x": 0.5,
                    "xanchor": "center",
                    "xref": "paper",
                    "y": 0,
                    "yanchor": "top",
                    "yref": "paper",
                    "yshift": -30
                  },
                  {
                    "font": {
                      "size": 16
                    },
                    "showarrow": false,
                    "text": "Количество",
                    "textangle": -90,
                    "x": 0,
                    "xanchor": "right",
                    "xref": "paper",
                    "xshift": -40,
                    "y": 0.5,
                    "yanchor": "middle",
                    "yref": "paper"
                  }
                ],
                "autosize": false,
                "bargap": 0.1,
                "height": 620,
                "shapes": [
                  {
                    "line": {
                      "color": "Red",
                      "dash": "dash"
                    },
                    "type": "line",
                    "x0": 110610.34336283186,
                    "x1": 110610.34336283186,
                    "xref": "x",
                    "y0": 0,
                    "y1": 1,
                    "yref": "y domain"
                  },
                  {
                    "line": {
                      "color": "Red",
                      "dash": "dash"
                    },
                    "type": "line",
                    "x0": 110610.34336283186,
                    "x1": 110610.34336283186,
                    "xref": "x2",
                    "y0": 0,
                    "y1": 1,
                    "yref": "y2 domain"
                  }
                ],
                "template": {
                  "data": {
                    "bar": [
                      {
                        "error_x": {
                          "color": "#2a3f5f"
                        },
                        "error_y": {
                          "color": "#2a3f5f"
                        },
                        "marker": {
                          "line": {
                            "color": "#E5ECF6",
                            "width": 0.5
                          },
                          "pattern": {
                            "fillmode": "overlay",
                            "size": 10,
                            "solidity": 0.2
                          }
                        },
                        "type": "bar"
                      }
                    ],
                    "barpolar": [
                      {
                        "marker": {
                          "line": {
                            "color": "#E5ECF6",
                            "width": 0.5
                          },
                          "pattern": {
                            "fillmode": "overlay",
                            "size": 10,
                            "solidity": 0.2
                          }
                        },
                        "type": "barpolar"
                      }
                    ],
                    "carpet": [
                      {
                        "aaxis": {
                          "endlinecolor": "#2a3f5f",
                          "gridcolor": "white",
                          "linecolor": "white",
                          "minorgridcolor": "white",
                          "startlinecolor": "#2a3f5f"
                        },
                        "baxis": {
                          "endlinecolor": "#2a3f5f",
                          "gridcolor": "white",
                          "linecolor": "white",
                          "minorgridcolor": "white",
                          "startlinecolor": "#2a3f5f"
                        },
                        "type": "carpet"
                      }
                    ],
                    "choropleth": [
                      {
                        "colorbar": {
                          "outlinewidth": 0,
                          "ticks": ""
                        },
                        "type": "choropleth"
                      }
                    ],
                    "contour": [
                      {
                        "colorbar": {
                          "outlinewidth": 0,
                          "ticks": ""
                        },
                        "colorscale": [
                          [
                            0,
                            "#0d0887"
                          ],
                          [
                            0.1111111111111111,
                            "#46039f"
                          ],
                          [
                            0.2222222222222222,
                            "#7201a8"
                          ],
                          [
                            0.3333333333333333,
                            "#9c179e"
                          ],
                          [
                            0.4444444444444444,
                            "#bd3786"
                          ],
                          [
                            0.5555555555555556,
                            "#d8576b"
                          ],
                          [
                            0.6666666666666666,
                            "#ed7953"
                          ],
                          [
                            0.7777777777777778,
                            "#fb9f3a"
                          ],
                          [
                            0.8888888888888888,
                            "#fdca26"
                          ],
                          [
                            1,
                            "#f0f921"
                          ]
                        ],
                        "type": "contour"
                      }
                    ],
                    "contourcarpet": [
                      {
                        "colorbar": {
                          "outlinewidth": 0,
                          "ticks": ""
                        },
                        "type": "contourcarpet"
                      }
                    ],
                    "heatmap": [
                      {
                        "colorbar": {
                          "outlinewidth": 0,
                          "ticks": ""
                        },
                        "colorscale": [
                          [
                            0,
                            "#0d0887"
                          ],
                          [
                            0.1111111111111111,
                            "#46039f"
                          ],
                          [
                            0.2222222222222222,
                            "#7201a8"
                          ],
                          [
                            0.3333333333333333,
                            "#9c179e"
                          ],
                          [
                            0.4444444444444444,
                            "#bd3786"
                          ],
                          [
                            0.5555555555555556,
                            "#d8576b"
                          ],
                          [
                            0.6666666666666666,
                            "#ed7953"
                          ],
                          [
                            0.7777777777777778,
                            "#fb9f3a"
                          ],
                          [
                            0.8888888888888888,
                            "#fdca26"
                          ],
                          [
                            1,
                            "#f0f921"
                          ]
                        ],
                        "type": "heatmap"
                      }
                    ],
                    "heatmapgl": [
                      {
                        "colorbar": {
                          "outlinewidth": 0,
                          "ticks": ""
                        },
                        "colorscale": [
                          [
                            0,
                            "#0d0887"
                          ],
                          [
                            0.1111111111111111,
                            "#46039f"
                          ],
                          [
                            0.2222222222222222,
                            "#7201a8"
                          ],
                          [
                            0.3333333333333333,
                            "#9c179e"
                          ],
                          [
                            0.4444444444444444,
                            "#bd3786"
                          ],
                          [
                            0.5555555555555556,
                            "#d8576b"
                          ],
                          [
                            0.6666666666666666,
                            "#ed7953"
                          ],
                          [
                            0.7777777777777778,
                            "#fb9f3a"
                          ],
                          [
                            0.8888888888888888,
                            "#fdca26"
                          ],
                          [
                            1,
                            "#f0f921"
                          ]
                        ],
                        "type": "heatmapgl"
                      }
                    ],
                    "histogram": [
                      {
                        "marker": {
                          "pattern": {
                            "fillmode": "overlay",
                            "size": 10,
                            "solidity": 0.2
                          }
                        },
                        "type": "histogram"
                      }
                    ],
                    "histogram2d": [
                      {
                        "colorbar": {
                          "outlinewidth": 0,
                          "ticks": ""
                        },
                        "colorscale": [
                          [
                            0,
                            "#0d0887"
                          ],
                          [
                            0.1111111111111111,
                            "#46039f"
                          ],
                          [
                            0.2222222222222222,
                            "#7201a8"
                          ],
                          [
                            0.3333333333333333,
                            "#9c179e"
                          ],
                          [
                            0.4444444444444444,
                            "#bd3786"
                          ],
                          [
                            0.5555555555555556,
                            "#d8576b"
                          ],
                          [
                            0.6666666666666666,
                            "#ed7953"
                          ],
                          [
                            0.7777777777777778,
                            "#fb9f3a"
                          ],
                          [
                            0.8888888888888888,
                            "#fdca26"
                          ],
                          [
                            1,
                            "#f0f921"
                          ]
                        ],
                        "type": "histogram2d"
                      }
                    ],
                    "histogram2dcontour": [
                      {
                        "colorbar": {
                          "outlinewidth": 0,
                          "ticks": ""
                        },
                        "colorscale": [
                          [
                            0,
                            "#0d0887"
                          ],
                          [
                            0.1111111111111111,
                            "#46039f"
                          ],
                          [
                            0.2222222222222222,
                            "#7201a8"
                          ],
                          [
                            0.3333333333333333,
                            "#9c179e"
                          ],
                          [
                            0.4444444444444444,
                            "#bd3786"
                          ],
                          [
                            0.5555555555555556,
                            "#d8576b"
                          ],
                          [
                            0.6666666666666666,
                            "#ed7953"
                          ],
                          [
                            0.7777777777777778,
                            "#fb9f3a"
                          ],
                          [
                            0.8888888888888888,
                            "#fdca26"
                          ],
                          [
                            1,
                            "#f0f921"
                          ]
                        ],
                        "type": "histogram2dcontour"
                      }
                    ],
                    "mesh3d": [
                      {
                        "colorbar": {
                          "outlinewidth": 0,
                          "ticks": ""
                        },
                        "type": "mesh3d"
                      }
                    ],
                    "parcoords": [
                      {
                        "line": {
                          "colorbar": {
                            "outlinewidth": 0,
                            "ticks": ""
                          }
                        },
                        "type": "parcoords"
                      }
                    ],
                    "pie": [
                      {
                        "automargin": true,
                        "type": "pie"
                      }
                    ],
                    "scatter": [
                      {
                        "fillpattern": {
                          "fillmode": "overlay",
                          "size": 10,
                          "solidity": 0.2
                        },
                        "type": "scatter"
                      }
                    ],
                    "scatter3d": [
                      {
                        "line": {
                          "colorbar": {
                            "outlinewidth": 0,
                            "ticks": ""
                          }
                        },
                        "marker": {
                          "colorbar": {
                            "outlinewidth": 0,
                            "ticks": ""
                          }
                        },
                        "type": "scatter3d"
                      }
                    ],
                    "scattercarpet": [
                      {
                        "marker": {
                          "colorbar": {
                            "outlinewidth": 0,
                            "ticks": ""
                          }
                        },
                        "type": "scattercarpet"
                      }
                    ],
                    "scattergeo": [
                      {
                        "marker": {
                          "colorbar": {
                            "outlinewidth": 0,
                            "ticks": ""
                          }
                        },
                        "type": "scattergeo"
                      }
                    ],
                    "scattergl": [
                      {
                        "marker": {
                          "colorbar": {
                            "outlinewidth": 0,
                            "ticks": ""
                          }
                        },
                        "type": "scattergl"
                      }
                    ],
                    "scattermapbox": [
                      {
                        "marker": {
                          "colorbar": {
                            "outlinewidth": 0,
                            "ticks": ""
                          }
                        },
                        "type": "scattermapbox"
                      }
                    ],
                    "scatterpolar": [
                      {
                        "marker": {
                          "colorbar": {
                            "outlinewidth": 0,
                            "ticks": ""
                          }
                        },
                        "type": "scatterpolar"
                      }
                    ],
                    "scatterpolargl": [
                      {
                        "marker": {
                          "colorbar": {
                            "outlinewidth": 0,
                            "ticks": ""
                          }
                        },
                        "type": "scatterpolargl"
                      }
                    ],
                    "scatterternary": [
                      {
                        "marker": {
                          "colorbar": {
                            "outlinewidth": 0,
                            "ticks": ""
                          }
                        },
                        "type": "scatterternary"
                      }
                    ],
                    "surface": [
                      {
                        "colorbar": {
                          "outlinewidth": 0,
                          "ticks": ""
                        },
                        "colorscale": [
                          [
                            0,
                            "#0d0887"
                          ],
                          [
                            0.1111111111111111,
                            "#46039f"
                          ],
                          [
                            0.2222222222222222,
                            "#7201a8"
                          ],
                          [
                            0.3333333333333333,
                            "#9c179e"
                          ],
                          [
                            0.4444444444444444,
                            "#bd3786"
                          ],
                          [
                            0.5555555555555556,
                            "#d8576b"
                          ],
                          [
                            0.6666666666666666,
                            "#ed7953"
                          ],
                          [
                            0.7777777777777778,
                            "#fb9f3a"
                          ],
                          [
                            0.8888888888888888,
                            "#fdca26"
                          ],
                          [
                            1,
                            "#f0f921"
                          ]
                        ],
                        "type": "surface"
                      }
                    ],
                    "table": [
                      {
                        "cells": {
                          "fill": {
                            "color": "#EBF0F8"
                          },
                          "line": {
                            "color": "white"
                          }
                        },
                        "header": {
                          "fill": {
                            "color": "#C8D4E3"
                          },
                          "line": {
                            "color": "white"
                          }
                        },
                        "type": "table"
                      }
                    ]
                  },
                  "layout": {
                    "annotationdefaults": {
                      "arrowcolor": "#2a3f5f",
                      "arrowhead": 0,
                      "arrowwidth": 1
                    },
                    "autotypenumbers": "strict",
                    "coloraxis": {
                      "colorbar": {
                        "outlinewidth": 0,
                        "ticks": ""
                      }
                    },
                    "colorscale": {
                      "diverging": [
                        [
                          0,
                          "#8e0152"
                        ],
                        [
                          0.1,
                          "#c51b7d"
                        ],
                        [
                          0.2,
                          "#de77ae"
                        ],
                        [
                          0.3,
                          "#f1b6da"
                        ],
                        [
                          0.4,
                          "#fde0ef"
                        ],
                        [
                          0.5,
                          "#f7f7f7"
                        ],
                        [
                          0.6,
                          "#e6f5d0"
                        ],
                        [
                          0.7,
                          "#b8e186"
                        ],
                        [
                          0.8,
                          "#7fbc41"
                        ],
                        [
                          0.9,
                          "#4d9221"
                        ],
                        [
                          1,
                          "#276419"
                        ]
                      ],
                      "sequential": [
                        [
                          0,
                          "#0d0887"
                        ],
                        [
                          0.1111111111111111,
                          "#46039f"
                        ],
                        [
                          0.2222222222222222,
                          "#7201a8"
                        ],
                        [
                          0.3333333333333333,
                          "#9c179e"
                        ],
                        [
                          0.4444444444444444,
                          "#bd3786"
                        ],
                        [
                          0.5555555555555556,
                          "#d8576b"
                        ],
                        [
                          0.6666666666666666,
                          "#ed7953"
                        ],
                        [
                          0.7777777777777778,
                          "#fb9f3a"
                        ],
                        [
                          0.8888888888888888,
                          "#fdca26"
                        ],
                        [
                          1,
                          "#f0f921"
                        ]
                      ],
                      "sequentialminus": [
                        [
                          0,
                          "#0d0887"
                        ],
                        [
                          0.1111111111111111,
                          "#46039f"
                        ],
                        [
                          0.2222222222222222,
                          "#7201a8"
                        ],
                        [
                          0.3333333333333333,
                          "#9c179e"
                        ],
                        [
                          0.4444444444444444,
                          "#bd3786"
                        ],
                        [
                          0.5555555555555556,
                          "#d8576b"
                        ],
                        [
                          0.6666666666666666,
                          "#ed7953"
                        ],
                        [
                          0.7777777777777778,
                          "#fb9f3a"
                        ],
                        [
                          0.8888888888888888,
                          "#fdca26"
                        ],
                        [
                          1,
                          "#f0f921"
                        ]
                      ]
                    },
                    "colorway": [
                      "#636efa",
                      "#EF553B",
                      "#00cc96",
                      "#ab63fa",
                      "#FFA15A",
                      "#19d3f3",
                      "#FF6692",
                      "#B6E880",
                      "#FF97FF",
                      "#FECB52"
                    ],
                    "font": {
                      "color": "#2a3f5f"
                    },
                    "geo": {
                      "bgcolor": "white",
                      "lakecolor": "white",
                      "landcolor": "#E5ECF6",
                      "showlakes": true,
                      "showland": true,
                      "subunitcolor": "white"
                    },
                    "hoverlabel": {
                      "align": "left"
                    },
                    "hovermode": "closest",
                    "mapbox": {
                      "style": "light"
                    },
                    "paper_bgcolor": "white",
                    "plot_bgcolor": "#E5ECF6",
                    "polar": {
                      "angularaxis": {
                        "gridcolor": "white",
                        "linecolor": "white",
                        "ticks": ""
                      },
                      "bgcolor": "#E5ECF6",
                      "radialaxis": {
                        "gridcolor": "white",
                        "linecolor": "white",
                        "ticks": ""
                      }
                    },
                    "scene": {
                      "xaxis": {
                        "backgroundcolor": "#E5ECF6",
                        "gridcolor": "white",
                        "gridwidth": 2,
                        "linecolor": "white",
                        "showbackground": true,
                        "ticks": "",
                        "zerolinecolor": "white"
                      },
                      "yaxis": {
                        "backgroundcolor": "#E5ECF6",
                        "gridcolor": "white",
                        "gridwidth": 2,
                        "linecolor": "white",
                        "showbackground": true,
                        "ticks": "",
                        "zerolinecolor": "white"
                      },
                      "zaxis": {
                        "backgroundcolor": "#E5ECF6",
                        "gridcolor": "white",
                        "gridwidth": 2,
                        "linecolor": "white",
                        "showbackground": true,
                        "ticks": "",
                        "zerolinecolor": "white"
                      }
                    },
                    "shapedefaults": {
                      "line": {
                        "color": "#2a3f5f"
                      }
                    },
                    "ternary": {
                      "aaxis": {
                        "gridcolor": "white",
                        "linecolor": "white",
                        "ticks": ""
                      },
                      "baxis": {
                        "gridcolor": "white",
                        "linecolor": "white",
                        "ticks": ""
                      },
                      "bgcolor": "#E5ECF6",
                      "caxis": {
                        "gridcolor": "white",
                        "linecolor": "white",
                        "ticks": ""
                      }
                    },
                    "title": {
                      "x": 0.05
                    },
                    "xaxis": {
                      "automargin": true,
                      "gridcolor": "white",
                      "linecolor": "white",
                      "ticks": "",
                      "title": {
                        "standoff": 15
                      },
                      "zerolinecolor": "white",
                      "zerolinewidth": 2
                    },
                    "yaxis": {
                      "automargin": true,
                      "gridcolor": "white",
                      "linecolor": "white",
                      "ticks": "",
                      "title": {
                        "standoff": 15
                      },
                      "zerolinecolor": "white",
                      "zerolinewidth": 2
                    }
                  }
                },
                "width": 1000,
                "xaxis": {
                  "anchor": "y",
                  "domain": [
                    0,
                    1
                  ],
                  "matches": "x2",
                  "showticklabels": false
                },
                "xaxis2": {
                  "anchor": "y2",
                  "domain": [
                    0,
                    1
                  ]
                },
                "yaxis": {
                  "anchor": "x",
                  "domain": [
                    0.853,
                    1
                  ]
                },
                "yaxis2": {
                  "anchor": "x2",
                  "domain": [
                    0,
                    0.833
                  ]
                }
              }
            }
          },
          "metadata": {},
          "output_type": "display_data"
        },
        {
          "data": {
            "text/html": [
              "<div>\n",
              "<style scoped>\n",
              "    .dataframe tbody tr th:only-of-type {\n",
              "        vertical-align: middle;\n",
              "    }\n",
              "\n",
              "    .dataframe tbody tr th {\n",
              "        vertical-align: top;\n",
              "    }\n",
              "\n",
              "    .dataframe thead th {\n",
              "        text-align: right;\n",
              "    }\n",
              "</style>\n",
              "<table border=\"1\" class=\"dataframe\">\n",
              "  <thead>\n",
              "    <tr style=\"text-align: right;\">\n",
              "      <th></th>\n",
              "      <th>salary_in_usd</th>\n",
              "    </tr>\n",
              "  </thead>\n",
              "  <tbody>\n",
              "    <tr>\n",
              "      <th>count</th>\n",
              "      <td>565.00</td>\n",
              "    </tr>\n",
              "    <tr>\n",
              "      <th>mean</th>\n",
              "      <td>110610.34</td>\n",
              "    </tr>\n",
              "    <tr>\n",
              "      <th>std</th>\n",
              "      <td>72280.70</td>\n",
              "    </tr>\n",
              "    <tr>\n",
              "      <th>min</th>\n",
              "      <td>2859.00</td>\n",
              "    </tr>\n",
              "    <tr>\n",
              "      <th>25%</th>\n",
              "      <td>60757.00</td>\n",
              "    </tr>\n",
              "    <tr>\n",
              "      <th>50%</th>\n",
              "      <td>100000.00</td>\n",
              "    </tr>\n",
              "    <tr>\n",
              "      <th>75%</th>\n",
              "      <td>150000.00</td>\n",
              "    </tr>\n",
              "    <tr>\n",
              "      <th>max</th>\n",
              "      <td>600000.00</td>\n",
              "    </tr>\n",
              "  </tbody>\n",
              "</table>\n",
              "</div>"
            ],
            "text/plain": [
              "       salary_in_usd\n",
              "count         565.00\n",
              "mean       110610.34\n",
              "std         72280.70\n",
              "min          2859.00\n",
              "25%         60757.00\n",
              "50%        100000.00\n",
              "75%        150000.00\n",
              "max        600000.00"
            ]
          },
          "metadata": {},
          "output_type": "display_data"
        }
      ],
      "source": [
        "# Инициализация полотна на два графика с общей осью X\n",
        "fig_salary = make_subplots(rows=2, cols=1,\n",
        "                           shared_xaxes=True, # Общая ось Х\n",
        "                           x_title='Заработная плата, $',\n",
        "                           y_title='Количество',\n",
        "                           row_heights=[0.15, 0.85], # Относительная высота полотен\n",
        "                           subplot_titles=(\"Общее распределение заработной платы\", \"\"),\n",
        "                           vertical_spacing=0.02) # Высота разделителя\n",
        "# Построение коробчатой диаграммы\n",
        "fig_salary.add_trace(go.Box(x=df_ds_salaries_cleared['salary_in_usd'],\n",
        "                            marker_color = '#1729B0', # Цвет маркера\n",
        "                            jitter=0.5, # Разнос точек выбросов по вертикали\n",
        "                            name='',\n",
        "                            showlegend=False),\n",
        "                     row=1, col=1)\n",
        "# Построение гистограммы\n",
        "fig_salary.add_trace(go.Histogram(x=df_ds_salaries_cleared['salary_in_usd'],\n",
        "                                  marker_color = '#1729B0', # Цвет маркера\n",
        "                                  name='Заработная плата', # Название набора данных\n",
        "                                  showlegend=False),\n",
        "                     row=2, col=1)\n",
        "# Построение линии среднего значения\n",
        "fig_salary.add_vline(x=df_ds_salaries_cleared['salary_in_usd'].mean(),\n",
        "                     line=dict(color=\"Red\", dash='dash')) # Стиль линии)\n",
        "# Размер полотна\n",
        "fig_salary.update_layout(autosize = False, width = 1000, height = 620,\n",
        "                         bargap=0.1) # Расстояние между столбцами гистограммы\n",
        "fig_salary.show()\n",
        "\n",
        "display(df_ds_salaries_cleared['salary_in_usd'].describe().round(2).to_frame())"
      ]
    },
    {
      "cell_type": "markdown",
      "metadata": {},
      "source": [
        "Из формы гистограммы и неравенства среднего значения и медианы следует, что распределение заработной платы отлично от нормального, форма коробчатой диаграммы свидетельствует о наличии выбросов."
      ]
    },
    {
      "cell_type": "markdown",
      "metadata": {},
      "source": [
        "### Размер заработной платы у специалистов Data Scientist по годам"
      ]
    },
    {
      "cell_type": "code",
      "execution_count": 19,
      "metadata": {},
      "outputs": [
        {
          "data": {
            "application/vnd.plotly.v1+json": {
              "config": {
                "plotlyServerURL": "https://plot.ly"
              },
              "data": [
                {
                  "marker": {
                    "color": "#10c938"
                  },
                  "showlegend": false,
                  "type": "bar",
                  "x": [
                    "2020",
                    "2021",
                    "2022"
                  ],
                  "xaxis": "x",
                  "y": [
                    62726,
                    67233.5,
                    135000
                  ],
                  "yaxis": "y"
                },
                {
                  "name": "2020",
                  "showlegend": false,
                  "type": "box",
                  "xaxis": "x2",
                  "y": [
                    79833,
                    35735,
                    51321,
                    40481,
                    39916,
                    68428,
                    45760,
                    76958,
                    105000,
                    38776,
                    118000,
                    120000,
                    138350,
                    21669,
                    412000,
                    62726,
                    49268,
                    105000,
                    91237,
                    62726,
                    42197
                  ],
                  "yaxis": "y2"
                },
                {
                  "name": "2021",
                  "showlegend": false,
                  "type": "box",
                  "xaxis": "x2",
                  "y": [
                    53192,
                    29751,
                    73000,
                    50000,
                    9466,
                    49646,
                    100000,
                    80000,
                    82500,
                    150000,
                    75774,
                    13400,
                    119059,
                    2859,
                    40038,
                    5679,
                    90734,
                    147000,
                    61467,
                    37825,
                    160000,
                    12901,
                    116914,
                    33808,
                    56256,
                    87738,
                    88654,
                    135000,
                    46809,
                    4000,
                    103691,
                    165000,
                    36643,
                    115000,
                    90000,
                    28399,
                    130000,
                    16904,
                    25532,
                    77684,
                    100000,
                    58000,
                    20171,
                    109000
                  ],
                  "yaxis": "y2"
                },
                {
                  "name": "2022",
                  "showlegend": false,
                  "type": "box",
                  "xaxis": "x2",
                  "y": [
                    130000,
                    90000,
                    136620,
                    99360,
                    117789,
                    104702,
                    146000,
                    123000,
                    65438,
                    39263,
                    165220,
                    120160,
                    180000,
                    120000,
                    95550,
                    167000,
                    150000,
                    211500,
                    138600,
                    170000,
                    215300,
                    158200,
                    180000,
                    71982,
                    45807,
                    260000,
                    180000,
                    80000,
                    140400,
                    215300,
                    31615,
                    18442,
                    104890,
                    140000,
                    220000,
                    183228,
                    91614,
                    185100,
                    200000,
                    120000,
                    230000,
                    100000,
                    100000,
                    35590,
                    100000,
                    165000,
                    52396,
                    40000,
                    86703,
                    48000,
                    122346,
                    69336,
                    135000,
                    78000,
                    141300,
                    102100,
                    205300,
                    176000,
                    144000,
                    205300,
                    140400,
                    210000,
                    150000,
                    160000,
                    130000
                  ],
                  "yaxis": "y2"
                }
              ],
              "layout": {
                "annotations": [
                  {
                    "font": {
                      "size": 16
                    },
                    "showarrow": false,
                    "text": "Медиана заработной платы DS в 2020-2022 гг.",
                    "x": 0.5,
                    "xanchor": "center",
                    "xref": "paper",
                    "y": 1,
                    "yanchor": "bottom",
                    "yref": "paper"
                  },
                  {
                    "font": {
                      "size": 16
                    },
                    "showarrow": false,
                    "text": "Распределение заработной платы DS в 2020-2022 гг.",
                    "x": 0.5,
                    "xanchor": "center",
                    "xref": "paper",
                    "y": 0.595,
                    "yanchor": "bottom",
                    "yref": "paper"
                  }
                ],
                "autosize": false,
                "height": 720,
                "template": {
                  "data": {
                    "bar": [
                      {
                        "error_x": {
                          "color": "#2a3f5f"
                        },
                        "error_y": {
                          "color": "#2a3f5f"
                        },
                        "marker": {
                          "line": {
                            "color": "#E5ECF6",
                            "width": 0.5
                          },
                          "pattern": {
                            "fillmode": "overlay",
                            "size": 10,
                            "solidity": 0.2
                          }
                        },
                        "type": "bar"
                      }
                    ],
                    "barpolar": [
                      {
                        "marker": {
                          "line": {
                            "color": "#E5ECF6",
                            "width": 0.5
                          },
                          "pattern": {
                            "fillmode": "overlay",
                            "size": 10,
                            "solidity": 0.2
                          }
                        },
                        "type": "barpolar"
                      }
                    ],
                    "carpet": [
                      {
                        "aaxis": {
                          "endlinecolor": "#2a3f5f",
                          "gridcolor": "white",
                          "linecolor": "white",
                          "minorgridcolor": "white",
                          "startlinecolor": "#2a3f5f"
                        },
                        "baxis": {
                          "endlinecolor": "#2a3f5f",
                          "gridcolor": "white",
                          "linecolor": "white",
                          "minorgridcolor": "white",
                          "startlinecolor": "#2a3f5f"
                        },
                        "type": "carpet"
                      }
                    ],
                    "choropleth": [
                      {
                        "colorbar": {
                          "outlinewidth": 0,
                          "ticks": ""
                        },
                        "type": "choropleth"
                      }
                    ],
                    "contour": [
                      {
                        "colorbar": {
                          "outlinewidth": 0,
                          "ticks": ""
                        },
                        "colorscale": [
                          [
                            0,
                            "#0d0887"
                          ],
                          [
                            0.1111111111111111,
                            "#46039f"
                          ],
                          [
                            0.2222222222222222,
                            "#7201a8"
                          ],
                          [
                            0.3333333333333333,
                            "#9c179e"
                          ],
                          [
                            0.4444444444444444,
                            "#bd3786"
                          ],
                          [
                            0.5555555555555556,
                            "#d8576b"
                          ],
                          [
                            0.6666666666666666,
                            "#ed7953"
                          ],
                          [
                            0.7777777777777778,
                            "#fb9f3a"
                          ],
                          [
                            0.8888888888888888,
                            "#fdca26"
                          ],
                          [
                            1,
                            "#f0f921"
                          ]
                        ],
                        "type": "contour"
                      }
                    ],
                    "contourcarpet": [
                      {
                        "colorbar": {
                          "outlinewidth": 0,
                          "ticks": ""
                        },
                        "type": "contourcarpet"
                      }
                    ],
                    "heatmap": [
                      {
                        "colorbar": {
                          "outlinewidth": 0,
                          "ticks": ""
                        },
                        "colorscale": [
                          [
                            0,
                            "#0d0887"
                          ],
                          [
                            0.1111111111111111,
                            "#46039f"
                          ],
                          [
                            0.2222222222222222,
                            "#7201a8"
                          ],
                          [
                            0.3333333333333333,
                            "#9c179e"
                          ],
                          [
                            0.4444444444444444,
                            "#bd3786"
                          ],
                          [
                            0.5555555555555556,
                            "#d8576b"
                          ],
                          [
                            0.6666666666666666,
                            "#ed7953"
                          ],
                          [
                            0.7777777777777778,
                            "#fb9f3a"
                          ],
                          [
                            0.8888888888888888,
                            "#fdca26"
                          ],
                          [
                            1,
                            "#f0f921"
                          ]
                        ],
                        "type": "heatmap"
                      }
                    ],
                    "heatmapgl": [
                      {
                        "colorbar": {
                          "outlinewidth": 0,
                          "ticks": ""
                        },
                        "colorscale": [
                          [
                            0,
                            "#0d0887"
                          ],
                          [
                            0.1111111111111111,
                            "#46039f"
                          ],
                          [
                            0.2222222222222222,
                            "#7201a8"
                          ],
                          [
                            0.3333333333333333,
                            "#9c179e"
                          ],
                          [
                            0.4444444444444444,
                            "#bd3786"
                          ],
                          [
                            0.5555555555555556,
                            "#d8576b"
                          ],
                          [
                            0.6666666666666666,
                            "#ed7953"
                          ],
                          [
                            0.7777777777777778,
                            "#fb9f3a"
                          ],
                          [
                            0.8888888888888888,
                            "#fdca26"
                          ],
                          [
                            1,
                            "#f0f921"
                          ]
                        ],
                        "type": "heatmapgl"
                      }
                    ],
                    "histogram": [
                      {
                        "marker": {
                          "pattern": {
                            "fillmode": "overlay",
                            "size": 10,
                            "solidity": 0.2
                          }
                        },
                        "type": "histogram"
                      }
                    ],
                    "histogram2d": [
                      {
                        "colorbar": {
                          "outlinewidth": 0,
                          "ticks": ""
                        },
                        "colorscale": [
                          [
                            0,
                            "#0d0887"
                          ],
                          [
                            0.1111111111111111,
                            "#46039f"
                          ],
                          [
                            0.2222222222222222,
                            "#7201a8"
                          ],
                          [
                            0.3333333333333333,
                            "#9c179e"
                          ],
                          [
                            0.4444444444444444,
                            "#bd3786"
                          ],
                          [
                            0.5555555555555556,
                            "#d8576b"
                          ],
                          [
                            0.6666666666666666,
                            "#ed7953"
                          ],
                          [
                            0.7777777777777778,
                            "#fb9f3a"
                          ],
                          [
                            0.8888888888888888,
                            "#fdca26"
                          ],
                          [
                            1,
                            "#f0f921"
                          ]
                        ],
                        "type": "histogram2d"
                      }
                    ],
                    "histogram2dcontour": [
                      {
                        "colorbar": {
                          "outlinewidth": 0,
                          "ticks": ""
                        },
                        "colorscale": [
                          [
                            0,
                            "#0d0887"
                          ],
                          [
                            0.1111111111111111,
                            "#46039f"
                          ],
                          [
                            0.2222222222222222,
                            "#7201a8"
                          ],
                          [
                            0.3333333333333333,
                            "#9c179e"
                          ],
                          [
                            0.4444444444444444,
                            "#bd3786"
                          ],
                          [
                            0.5555555555555556,
                            "#d8576b"
                          ],
                          [
                            0.6666666666666666,
                            "#ed7953"
                          ],
                          [
                            0.7777777777777778,
                            "#fb9f3a"
                          ],
                          [
                            0.8888888888888888,
                            "#fdca26"
                          ],
                          [
                            1,
                            "#f0f921"
                          ]
                        ],
                        "type": "histogram2dcontour"
                      }
                    ],
                    "mesh3d": [
                      {
                        "colorbar": {
                          "outlinewidth": 0,
                          "ticks": ""
                        },
                        "type": "mesh3d"
                      }
                    ],
                    "parcoords": [
                      {
                        "line": {
                          "colorbar": {
                            "outlinewidth": 0,
                            "ticks": ""
                          }
                        },
                        "type": "parcoords"
                      }
                    ],
                    "pie": [
                      {
                        "automargin": true,
                        "type": "pie"
                      }
                    ],
                    "scatter": [
                      {
                        "fillpattern": {
                          "fillmode": "overlay",
                          "size": 10,
                          "solidity": 0.2
                        },
                        "type": "scatter"
                      }
                    ],
                    "scatter3d": [
                      {
                        "line": {
                          "colorbar": {
                            "outlinewidth": 0,
                            "ticks": ""
                          }
                        },
                        "marker": {
                          "colorbar": {
                            "outlinewidth": 0,
                            "ticks": ""
                          }
                        },
                        "type": "scatter3d"
                      }
                    ],
                    "scattercarpet": [
                      {
                        "marker": {
                          "colorbar": {
                            "outlinewidth": 0,
                            "ticks": ""
                          }
                        },
                        "type": "scattercarpet"
                      }
                    ],
                    "scattergeo": [
                      {
                        "marker": {
                          "colorbar": {
                            "outlinewidth": 0,
                            "ticks": ""
                          }
                        },
                        "type": "scattergeo"
                      }
                    ],
                    "scattergl": [
                      {
                        "marker": {
                          "colorbar": {
                            "outlinewidth": 0,
                            "ticks": ""
                          }
                        },
                        "type": "scattergl"
                      }
                    ],
                    "scattermapbox": [
                      {
                        "marker": {
                          "colorbar": {
                            "outlinewidth": 0,
                            "ticks": ""
                          }
                        },
                        "type": "scattermapbox"
                      }
                    ],
                    "scatterpolar": [
                      {
                        "marker": {
                          "colorbar": {
                            "outlinewidth": 0,
                            "ticks": ""
                          }
                        },
                        "type": "scatterpolar"
                      }
                    ],
                    "scatterpolargl": [
                      {
                        "marker": {
                          "colorbar": {
                            "outlinewidth": 0,
                            "ticks": ""
                          }
                        },
                        "type": "scatterpolargl"
                      }
                    ],
                    "scatterternary": [
                      {
                        "marker": {
                          "colorbar": {
                            "outlinewidth": 0,
                            "ticks": ""
                          }
                        },
                        "type": "scatterternary"
                      }
                    ],
                    "surface": [
                      {
                        "colorbar": {
                          "outlinewidth": 0,
                          "ticks": ""
                        },
                        "colorscale": [
                          [
                            0,
                            "#0d0887"
                          ],
                          [
                            0.1111111111111111,
                            "#46039f"
                          ],
                          [
                            0.2222222222222222,
                            "#7201a8"
                          ],
                          [
                            0.3333333333333333,
                            "#9c179e"
                          ],
                          [
                            0.4444444444444444,
                            "#bd3786"
                          ],
                          [
                            0.5555555555555556,
                            "#d8576b"
                          ],
                          [
                            0.6666666666666666,
                            "#ed7953"
                          ],
                          [
                            0.7777777777777778,
                            "#fb9f3a"
                          ],
                          [
                            0.8888888888888888,
                            "#fdca26"
                          ],
                          [
                            1,
                            "#f0f921"
                          ]
                        ],
                        "type": "surface"
                      }
                    ],
                    "table": [
                      {
                        "cells": {
                          "fill": {
                            "color": "#EBF0F8"
                          },
                          "line": {
                            "color": "white"
                          }
                        },
                        "header": {
                          "fill": {
                            "color": "#C8D4E3"
                          },
                          "line": {
                            "color": "white"
                          }
                        },
                        "type": "table"
                      }
                    ]
                  },
                  "layout": {
                    "annotationdefaults": {
                      "arrowcolor": "#2a3f5f",
                      "arrowhead": 0,
                      "arrowwidth": 1
                    },
                    "autotypenumbers": "strict",
                    "coloraxis": {
                      "colorbar": {
                        "outlinewidth": 0,
                        "ticks": ""
                      }
                    },
                    "colorscale": {
                      "diverging": [
                        [
                          0,
                          "#8e0152"
                        ],
                        [
                          0.1,
                          "#c51b7d"
                        ],
                        [
                          0.2,
                          "#de77ae"
                        ],
                        [
                          0.3,
                          "#f1b6da"
                        ],
                        [
                          0.4,
                          "#fde0ef"
                        ],
                        [
                          0.5,
                          "#f7f7f7"
                        ],
                        [
                          0.6,
                          "#e6f5d0"
                        ],
                        [
                          0.7,
                          "#b8e186"
                        ],
                        [
                          0.8,
                          "#7fbc41"
                        ],
                        [
                          0.9,
                          "#4d9221"
                        ],
                        [
                          1,
                          "#276419"
                        ]
                      ],
                      "sequential": [
                        [
                          0,
                          "#0d0887"
                        ],
                        [
                          0.1111111111111111,
                          "#46039f"
                        ],
                        [
                          0.2222222222222222,
                          "#7201a8"
                        ],
                        [
                          0.3333333333333333,
                          "#9c179e"
                        ],
                        [
                          0.4444444444444444,
                          "#bd3786"
                        ],
                        [
                          0.5555555555555556,
                          "#d8576b"
                        ],
                        [
                          0.6666666666666666,
                          "#ed7953"
                        ],
                        [
                          0.7777777777777778,
                          "#fb9f3a"
                        ],
                        [
                          0.8888888888888888,
                          "#fdca26"
                        ],
                        [
                          1,
                          "#f0f921"
                        ]
                      ],
                      "sequentialminus": [
                        [
                          0,
                          "#0d0887"
                        ],
                        [
                          0.1111111111111111,
                          "#46039f"
                        ],
                        [
                          0.2222222222222222,
                          "#7201a8"
                        ],
                        [
                          0.3333333333333333,
                          "#9c179e"
                        ],
                        [
                          0.4444444444444444,
                          "#bd3786"
                        ],
                        [
                          0.5555555555555556,
                          "#d8576b"
                        ],
                        [
                          0.6666666666666666,
                          "#ed7953"
                        ],
                        [
                          0.7777777777777778,
                          "#fb9f3a"
                        ],
                        [
                          0.8888888888888888,
                          "#fdca26"
                        ],
                        [
                          1,
                          "#f0f921"
                        ]
                      ]
                    },
                    "colorway": [
                      "#636efa",
                      "#EF553B",
                      "#00cc96",
                      "#ab63fa",
                      "#FFA15A",
                      "#19d3f3",
                      "#FF6692",
                      "#B6E880",
                      "#FF97FF",
                      "#FECB52"
                    ],
                    "font": {
                      "color": "#2a3f5f"
                    },
                    "geo": {
                      "bgcolor": "white",
                      "lakecolor": "white",
                      "landcolor": "#E5ECF6",
                      "showlakes": true,
                      "showland": true,
                      "subunitcolor": "white"
                    },
                    "hoverlabel": {
                      "align": "left"
                    },
                    "hovermode": "closest",
                    "mapbox": {
                      "style": "light"
                    },
                    "paper_bgcolor": "white",
                    "plot_bgcolor": "#E5ECF6",
                    "polar": {
                      "angularaxis": {
                        "gridcolor": "white",
                        "linecolor": "white",
                        "ticks": ""
                      },
                      "bgcolor": "#E5ECF6",
                      "radialaxis": {
                        "gridcolor": "white",
                        "linecolor": "white",
                        "ticks": ""
                      }
                    },
                    "scene": {
                      "xaxis": {
                        "backgroundcolor": "#E5ECF6",
                        "gridcolor": "white",
                        "gridwidth": 2,
                        "linecolor": "white",
                        "showbackground": true,
                        "ticks": "",
                        "zerolinecolor": "white"
                      },
                      "yaxis": {
                        "backgroundcolor": "#E5ECF6",
                        "gridcolor": "white",
                        "gridwidth": 2,
                        "linecolor": "white",
                        "showbackground": true,
                        "ticks": "",
                        "zerolinecolor": "white"
                      },
                      "zaxis": {
                        "backgroundcolor": "#E5ECF6",
                        "gridcolor": "white",
                        "gridwidth": 2,
                        "linecolor": "white",
                        "showbackground": true,
                        "ticks": "",
                        "zerolinecolor": "white"
                      }
                    },
                    "shapedefaults": {
                      "line": {
                        "color": "#2a3f5f"
                      }
                    },
                    "ternary": {
                      "aaxis": {
                        "gridcolor": "white",
                        "linecolor": "white",
                        "ticks": ""
                      },
                      "baxis": {
                        "gridcolor": "white",
                        "linecolor": "white",
                        "ticks": ""
                      },
                      "bgcolor": "#E5ECF6",
                      "caxis": {
                        "gridcolor": "white",
                        "linecolor": "white",
                        "ticks": ""
                      }
                    },
                    "title": {
                      "x": 0.05
                    },
                    "xaxis": {
                      "automargin": true,
                      "gridcolor": "white",
                      "linecolor": "white",
                      "ticks": "",
                      "title": {
                        "standoff": 15
                      },
                      "zerolinecolor": "white",
                      "zerolinewidth": 2
                    },
                    "yaxis": {
                      "automargin": true,
                      "gridcolor": "white",
                      "linecolor": "white",
                      "ticks": "",
                      "title": {
                        "standoff": 15
                      },
                      "zerolinecolor": "white",
                      "zerolinewidth": 2
                    }
                  }
                },
                "title": {
                  "text": "Размер заработной платы специалистов Data Scientist в 2020-2022 годах",
                  "x": 0.5
                },
                "width": 1000,
                "xaxis": {
                  "anchor": "y",
                  "domain": [
                    0,
                    1
                  ]
                },
                "xaxis2": {
                  "anchor": "y2",
                  "domain": [
                    0,
                    1
                  ],
                  "title": {
                    "text": "Год"
                  }
                },
                "yaxis": {
                  "anchor": "x",
                  "domain": [
                    0.745,
                    1
                  ],
                  "title": {
                    "text": "ЗП, $"
                  }
                },
                "yaxis2": {
                  "anchor": "x2",
                  "domain": [
                    0,
                    0.595
                  ],
                  "title": {
                    "text": "Заработная плата, $"
                  }
                }
              }
            }
          },
          "metadata": {},
          "output_type": "display_data"
        }
      ],
      "source": [
        "# Инициализация полотна\n",
        "figure_salary_ds = make_subplots(rows=2, cols=1,\n",
        "                                 subplot_titles=(\"Медиана заработной платы DS в 2020-2022 гг.\", \n",
        "                                                 \"Распределение заработной платы DS в 2020-2022 гг.\"),\n",
        "                                 row_heights=[0.3, 0.7],\n",
        "                                 vertical_spacing=0.15)\n",
        "# Подготовка данных для отображения\n",
        "mask_ds = df_ds_salaries_cleared['job_title'] == 'Data Scientist'\n",
        "df_median_salaries_DS = df_ds_salaries_cleared[mask_ds].groupby(by=['work_year'])['salary_in_usd'].median()\n",
        "# Отрисовка баров\n",
        "figure_salary_ds.add_trace(go.Bar(x=df_median_salaries_DS.index.astype(str),\n",
        "                                  y=df_median_salaries_DS,\n",
        "                                  showlegend=False,\n",
        "                                  marker_color = '#10c938'), # Цвет маркера\n",
        "                            row=1, col=1)\n",
        "# Построение коробчатой диаграммы\n",
        "for year in df_median_salaries_DS.index:\n",
        "    mask_year = df_ds_salaries_cleared['work_year'] == year\n",
        "    figure_salary_ds.add_trace(go.Box(y=df_ds_salaries_cleared[mask_ds & mask_year]['salary_in_usd'],\n",
        "                                      showlegend=False,\n",
        "                                      name=year), # Название набора данных\n",
        "                               row=2, col=1)\n",
        "# Размер полотна\n",
        "figure_salary_ds.update_layout(autosize = False, width = 1000, height = 720,\n",
        "                               title='Размер заработной платы специалистов Data Scientist в 2020-2022 годах',\n",
        "                               title_x=0.5) # Выравнивание заголовка посередине \n",
        "# Подпись осей\n",
        "figure_salary_ds.update_xaxes(title_text=\"Год\", row = 2, col = 1)\n",
        "figure_salary_ds.update_yaxes(title_text=\"ЗП, $\", row = 1, col = 1)\n",
        "figure_salary_ds.update_yaxes(title_text=\"Заработная плата, $\", row = 2, col = 1)\n",
        "figure_salary_ds.show()"
      ]
    },
    {
      "cell_type": "markdown",
      "metadata": {},
      "source": [
        "Здесь и для последующих расчетов из-за отсутствия признаков нормального распределения в данных о заработной плате в качестве меры центральной тенденции выбрана медиана значений.\n",
        "Исходя из полученных графиков, у специалистов Data Scientist наблюдается ежегодный рост зарплат."
      ]
    },
    {
      "cell_type": "markdown",
      "metadata": {},
      "source": [
        "### Соотношение заработной платы Data Scientist и Data Engineer в 2022 году"
      ]
    },
    {
      "cell_type": "code",
      "execution_count": 20,
      "metadata": {},
      "outputs": [
        {
          "data": {
            "application/vnd.plotly.v1+json": {
              "config": {
                "plotlyServerURL": "https://plot.ly"
              },
              "data": [
                {
                  "showlegend": false,
                  "type": "bar",
                  "x": [
                    "Data Scientist",
                    "Data Engineer"
                  ],
                  "xaxis": "x",
                  "y": [
                    135000,
                    115000
                  ],
                  "yaxis": "y"
                },
                {
                  "name": "Data Scientist",
                  "showlegend": false,
                  "type": "box",
                  "xaxis": "x2",
                  "y": [
                    130000,
                    90000,
                    136620,
                    99360,
                    117789,
                    104702,
                    146000,
                    123000,
                    65438,
                    39263,
                    165220,
                    120160,
                    180000,
                    120000,
                    95550,
                    167000,
                    150000,
                    211500,
                    138600,
                    170000,
                    215300,
                    158200,
                    180000,
                    71982,
                    45807,
                    260000,
                    180000,
                    80000,
                    140400,
                    215300,
                    31615,
                    18442,
                    104890,
                    140000,
                    220000,
                    183228,
                    91614,
                    185100,
                    200000,
                    120000,
                    230000,
                    100000,
                    100000,
                    35590,
                    100000,
                    165000,
                    52396,
                    40000,
                    86703,
                    48000,
                    122346,
                    69336,
                    135000,
                    78000,
                    141300,
                    102100,
                    205300,
                    176000,
                    144000,
                    205300,
                    140400,
                    210000,
                    150000,
                    160000,
                    130000
                  ],
                  "yaxis": "y2"
                },
                {
                  "name": "Data Engineer",
                  "showlegend": false,
                  "type": "box",
                  "xaxis": "x2",
                  "y": [
                    135000,
                    170000,
                    150000,
                    52351,
                    242000,
                    200000,
                    78526,
                    52351,
                    45807,
                    181940,
                    132320,
                    220110,
                    160080,
                    165400,
                    132320,
                    243900,
                    128875,
                    93700,
                    156600,
                    108800,
                    113000,
                    78526,
                    65438,
                    160000,
                    136000,
                    136994,
                    101570,
                    155000,
                    117789,
                    209100,
                    154600,
                    175000,
                    98158,
                    183600,
                    65949,
                    49461,
                    78526,
                    58894,
                    63900,
                    82900,
                    100800,
                    49461,
                    87932,
                    76940,
                    104702,
                    91614,
                    65949,
                    87932,
                    98158,
                    76940,
                    180000,
                    80000,
                    105000,
                    54957,
                    120000,
                    100000,
                    324000,
                    216000,
                    210000,
                    58035,
                    115000,
                    65000,
                    68147,
                    206699,
                    99100,
                    130000,
                    110500,
                    160000,
                    200100,
                    145000,
                    70500,
                    175100,
                    140250,
                    54000,
                    25000,
                    220110,
                    160080,
                    154000,
                    126000
                  ],
                  "yaxis": "y2"
                }
              ],
              "layout": {
                "annotations": [
                  {
                    "font": {
                      "size": 16
                    },
                    "showarrow": false,
                    "text": "Медиана заработной платы DS и DE в 2022 г.",
                    "x": 0.5,
                    "xanchor": "center",
                    "xref": "paper",
                    "y": 1,
                    "yanchor": "bottom",
                    "yref": "paper"
                  },
                  {
                    "font": {
                      "size": 16
                    },
                    "showarrow": false,
                    "text": "Распределение заработной платы DS и DE в 2022 г.",
                    "x": 0.5,
                    "xanchor": "center",
                    "xref": "paper",
                    "y": 0.595,
                    "yanchor": "bottom",
                    "yref": "paper"
                  }
                ],
                "autosize": false,
                "height": 720,
                "template": {
                  "data": {
                    "bar": [
                      {
                        "error_x": {
                          "color": "#2a3f5f"
                        },
                        "error_y": {
                          "color": "#2a3f5f"
                        },
                        "marker": {
                          "line": {
                            "color": "#E5ECF6",
                            "width": 0.5
                          },
                          "pattern": {
                            "fillmode": "overlay",
                            "size": 10,
                            "solidity": 0.2
                          }
                        },
                        "type": "bar"
                      }
                    ],
                    "barpolar": [
                      {
                        "marker": {
                          "line": {
                            "color": "#E5ECF6",
                            "width": 0.5
                          },
                          "pattern": {
                            "fillmode": "overlay",
                            "size": 10,
                            "solidity": 0.2
                          }
                        },
                        "type": "barpolar"
                      }
                    ],
                    "carpet": [
                      {
                        "aaxis": {
                          "endlinecolor": "#2a3f5f",
                          "gridcolor": "white",
                          "linecolor": "white",
                          "minorgridcolor": "white",
                          "startlinecolor": "#2a3f5f"
                        },
                        "baxis": {
                          "endlinecolor": "#2a3f5f",
                          "gridcolor": "white",
                          "linecolor": "white",
                          "minorgridcolor": "white",
                          "startlinecolor": "#2a3f5f"
                        },
                        "type": "carpet"
                      }
                    ],
                    "choropleth": [
                      {
                        "colorbar": {
                          "outlinewidth": 0,
                          "ticks": ""
                        },
                        "type": "choropleth"
                      }
                    ],
                    "contour": [
                      {
                        "colorbar": {
                          "outlinewidth": 0,
                          "ticks": ""
                        },
                        "colorscale": [
                          [
                            0,
                            "#0d0887"
                          ],
                          [
                            0.1111111111111111,
                            "#46039f"
                          ],
                          [
                            0.2222222222222222,
                            "#7201a8"
                          ],
                          [
                            0.3333333333333333,
                            "#9c179e"
                          ],
                          [
                            0.4444444444444444,
                            "#bd3786"
                          ],
                          [
                            0.5555555555555556,
                            "#d8576b"
                          ],
                          [
                            0.6666666666666666,
                            "#ed7953"
                          ],
                          [
                            0.7777777777777778,
                            "#fb9f3a"
                          ],
                          [
                            0.8888888888888888,
                            "#fdca26"
                          ],
                          [
                            1,
                            "#f0f921"
                          ]
                        ],
                        "type": "contour"
                      }
                    ],
                    "contourcarpet": [
                      {
                        "colorbar": {
                          "outlinewidth": 0,
                          "ticks": ""
                        },
                        "type": "contourcarpet"
                      }
                    ],
                    "heatmap": [
                      {
                        "colorbar": {
                          "outlinewidth": 0,
                          "ticks": ""
                        },
                        "colorscale": [
                          [
                            0,
                            "#0d0887"
                          ],
                          [
                            0.1111111111111111,
                            "#46039f"
                          ],
                          [
                            0.2222222222222222,
                            "#7201a8"
                          ],
                          [
                            0.3333333333333333,
                            "#9c179e"
                          ],
                          [
                            0.4444444444444444,
                            "#bd3786"
                          ],
                          [
                            0.5555555555555556,
                            "#d8576b"
                          ],
                          [
                            0.6666666666666666,
                            "#ed7953"
                          ],
                          [
                            0.7777777777777778,
                            "#fb9f3a"
                          ],
                          [
                            0.8888888888888888,
                            "#fdca26"
                          ],
                          [
                            1,
                            "#f0f921"
                          ]
                        ],
                        "type": "heatmap"
                      }
                    ],
                    "heatmapgl": [
                      {
                        "colorbar": {
                          "outlinewidth": 0,
                          "ticks": ""
                        },
                        "colorscale": [
                          [
                            0,
                            "#0d0887"
                          ],
                          [
                            0.1111111111111111,
                            "#46039f"
                          ],
                          [
                            0.2222222222222222,
                            "#7201a8"
                          ],
                          [
                            0.3333333333333333,
                            "#9c179e"
                          ],
                          [
                            0.4444444444444444,
                            "#bd3786"
                          ],
                          [
                            0.5555555555555556,
                            "#d8576b"
                          ],
                          [
                            0.6666666666666666,
                            "#ed7953"
                          ],
                          [
                            0.7777777777777778,
                            "#fb9f3a"
                          ],
                          [
                            0.8888888888888888,
                            "#fdca26"
                          ],
                          [
                            1,
                            "#f0f921"
                          ]
                        ],
                        "type": "heatmapgl"
                      }
                    ],
                    "histogram": [
                      {
                        "marker": {
                          "pattern": {
                            "fillmode": "overlay",
                            "size": 10,
                            "solidity": 0.2
                          }
                        },
                        "type": "histogram"
                      }
                    ],
                    "histogram2d": [
                      {
                        "colorbar": {
                          "outlinewidth": 0,
                          "ticks": ""
                        },
                        "colorscale": [
                          [
                            0,
                            "#0d0887"
                          ],
                          [
                            0.1111111111111111,
                            "#46039f"
                          ],
                          [
                            0.2222222222222222,
                            "#7201a8"
                          ],
                          [
                            0.3333333333333333,
                            "#9c179e"
                          ],
                          [
                            0.4444444444444444,
                            "#bd3786"
                          ],
                          [
                            0.5555555555555556,
                            "#d8576b"
                          ],
                          [
                            0.6666666666666666,
                            "#ed7953"
                          ],
                          [
                            0.7777777777777778,
                            "#fb9f3a"
                          ],
                          [
                            0.8888888888888888,
                            "#fdca26"
                          ],
                          [
                            1,
                            "#f0f921"
                          ]
                        ],
                        "type": "histogram2d"
                      }
                    ],
                    "histogram2dcontour": [
                      {
                        "colorbar": {
                          "outlinewidth": 0,
                          "ticks": ""
                        },
                        "colorscale": [
                          [
                            0,
                            "#0d0887"
                          ],
                          [
                            0.1111111111111111,
                            "#46039f"
                          ],
                          [
                            0.2222222222222222,
                            "#7201a8"
                          ],
                          [
                            0.3333333333333333,
                            "#9c179e"
                          ],
                          [
                            0.4444444444444444,
                            "#bd3786"
                          ],
                          [
                            0.5555555555555556,
                            "#d8576b"
                          ],
                          [
                            0.6666666666666666,
                            "#ed7953"
                          ],
                          [
                            0.7777777777777778,
                            "#fb9f3a"
                          ],
                          [
                            0.8888888888888888,
                            "#fdca26"
                          ],
                          [
                            1,
                            "#f0f921"
                          ]
                        ],
                        "type": "histogram2dcontour"
                      }
                    ],
                    "mesh3d": [
                      {
                        "colorbar": {
                          "outlinewidth": 0,
                          "ticks": ""
                        },
                        "type": "mesh3d"
                      }
                    ],
                    "parcoords": [
                      {
                        "line": {
                          "colorbar": {
                            "outlinewidth": 0,
                            "ticks": ""
                          }
                        },
                        "type": "parcoords"
                      }
                    ],
                    "pie": [
                      {
                        "automargin": true,
                        "type": "pie"
                      }
                    ],
                    "scatter": [
                      {
                        "fillpattern": {
                          "fillmode": "overlay",
                          "size": 10,
                          "solidity": 0.2
                        },
                        "type": "scatter"
                      }
                    ],
                    "scatter3d": [
                      {
                        "line": {
                          "colorbar": {
                            "outlinewidth": 0,
                            "ticks": ""
                          }
                        },
                        "marker": {
                          "colorbar": {
                            "outlinewidth": 0,
                            "ticks": ""
                          }
                        },
                        "type": "scatter3d"
                      }
                    ],
                    "scattercarpet": [
                      {
                        "marker": {
                          "colorbar": {
                            "outlinewidth": 0,
                            "ticks": ""
                          }
                        },
                        "type": "scattercarpet"
                      }
                    ],
                    "scattergeo": [
                      {
                        "marker": {
                          "colorbar": {
                            "outlinewidth": 0,
                            "ticks": ""
                          }
                        },
                        "type": "scattergeo"
                      }
                    ],
                    "scattergl": [
                      {
                        "marker": {
                          "colorbar": {
                            "outlinewidth": 0,
                            "ticks": ""
                          }
                        },
                        "type": "scattergl"
                      }
                    ],
                    "scattermapbox": [
                      {
                        "marker": {
                          "colorbar": {
                            "outlinewidth": 0,
                            "ticks": ""
                          }
                        },
                        "type": "scattermapbox"
                      }
                    ],
                    "scatterpolar": [
                      {
                        "marker": {
                          "colorbar": {
                            "outlinewidth": 0,
                            "ticks": ""
                          }
                        },
                        "type": "scatterpolar"
                      }
                    ],
                    "scatterpolargl": [
                      {
                        "marker": {
                          "colorbar": {
                            "outlinewidth": 0,
                            "ticks": ""
                          }
                        },
                        "type": "scatterpolargl"
                      }
                    ],
                    "scatterternary": [
                      {
                        "marker": {
                          "colorbar": {
                            "outlinewidth": 0,
                            "ticks": ""
                          }
                        },
                        "type": "scatterternary"
                      }
                    ],
                    "surface": [
                      {
                        "colorbar": {
                          "outlinewidth": 0,
                          "ticks": ""
                        },
                        "colorscale": [
                          [
                            0,
                            "#0d0887"
                          ],
                          [
                            0.1111111111111111,
                            "#46039f"
                          ],
                          [
                            0.2222222222222222,
                            "#7201a8"
                          ],
                          [
                            0.3333333333333333,
                            "#9c179e"
                          ],
                          [
                            0.4444444444444444,
                            "#bd3786"
                          ],
                          [
                            0.5555555555555556,
                            "#d8576b"
                          ],
                          [
                            0.6666666666666666,
                            "#ed7953"
                          ],
                          [
                            0.7777777777777778,
                            "#fb9f3a"
                          ],
                          [
                            0.8888888888888888,
                            "#fdca26"
                          ],
                          [
                            1,
                            "#f0f921"
                          ]
                        ],
                        "type": "surface"
                      }
                    ],
                    "table": [
                      {
                        "cells": {
                          "fill": {
                            "color": "#EBF0F8"
                          },
                          "line": {
                            "color": "white"
                          }
                        },
                        "header": {
                          "fill": {
                            "color": "#C8D4E3"
                          },
                          "line": {
                            "color": "white"
                          }
                        },
                        "type": "table"
                      }
                    ]
                  },
                  "layout": {
                    "annotationdefaults": {
                      "arrowcolor": "#2a3f5f",
                      "arrowhead": 0,
                      "arrowwidth": 1
                    },
                    "autotypenumbers": "strict",
                    "coloraxis": {
                      "colorbar": {
                        "outlinewidth": 0,
                        "ticks": ""
                      }
                    },
                    "colorscale": {
                      "diverging": [
                        [
                          0,
                          "#8e0152"
                        ],
                        [
                          0.1,
                          "#c51b7d"
                        ],
                        [
                          0.2,
                          "#de77ae"
                        ],
                        [
                          0.3,
                          "#f1b6da"
                        ],
                        [
                          0.4,
                          "#fde0ef"
                        ],
                        [
                          0.5,
                          "#f7f7f7"
                        ],
                        [
                          0.6,
                          "#e6f5d0"
                        ],
                        [
                          0.7,
                          "#b8e186"
                        ],
                        [
                          0.8,
                          "#7fbc41"
                        ],
                        [
                          0.9,
                          "#4d9221"
                        ],
                        [
                          1,
                          "#276419"
                        ]
                      ],
                      "sequential": [
                        [
                          0,
                          "#0d0887"
                        ],
                        [
                          0.1111111111111111,
                          "#46039f"
                        ],
                        [
                          0.2222222222222222,
                          "#7201a8"
                        ],
                        [
                          0.3333333333333333,
                          "#9c179e"
                        ],
                        [
                          0.4444444444444444,
                          "#bd3786"
                        ],
                        [
                          0.5555555555555556,
                          "#d8576b"
                        ],
                        [
                          0.6666666666666666,
                          "#ed7953"
                        ],
                        [
                          0.7777777777777778,
                          "#fb9f3a"
                        ],
                        [
                          0.8888888888888888,
                          "#fdca26"
                        ],
                        [
                          1,
                          "#f0f921"
                        ]
                      ],
                      "sequentialminus": [
                        [
                          0,
                          "#0d0887"
                        ],
                        [
                          0.1111111111111111,
                          "#46039f"
                        ],
                        [
                          0.2222222222222222,
                          "#7201a8"
                        ],
                        [
                          0.3333333333333333,
                          "#9c179e"
                        ],
                        [
                          0.4444444444444444,
                          "#bd3786"
                        ],
                        [
                          0.5555555555555556,
                          "#d8576b"
                        ],
                        [
                          0.6666666666666666,
                          "#ed7953"
                        ],
                        [
                          0.7777777777777778,
                          "#fb9f3a"
                        ],
                        [
                          0.8888888888888888,
                          "#fdca26"
                        ],
                        [
                          1,
                          "#f0f921"
                        ]
                      ]
                    },
                    "colorway": [
                      "#636efa",
                      "#EF553B",
                      "#00cc96",
                      "#ab63fa",
                      "#FFA15A",
                      "#19d3f3",
                      "#FF6692",
                      "#B6E880",
                      "#FF97FF",
                      "#FECB52"
                    ],
                    "font": {
                      "color": "#2a3f5f"
                    },
                    "geo": {
                      "bgcolor": "white",
                      "lakecolor": "white",
                      "landcolor": "#E5ECF6",
                      "showlakes": true,
                      "showland": true,
                      "subunitcolor": "white"
                    },
                    "hoverlabel": {
                      "align": "left"
                    },
                    "hovermode": "closest",
                    "mapbox": {
                      "style": "light"
                    },
                    "paper_bgcolor": "white",
                    "plot_bgcolor": "#E5ECF6",
                    "polar": {
                      "angularaxis": {
                        "gridcolor": "white",
                        "linecolor": "white",
                        "ticks": ""
                      },
                      "bgcolor": "#E5ECF6",
                      "radialaxis": {
                        "gridcolor": "white",
                        "linecolor": "white",
                        "ticks": ""
                      }
                    },
                    "scene": {
                      "xaxis": {
                        "backgroundcolor": "#E5ECF6",
                        "gridcolor": "white",
                        "gridwidth": 2,
                        "linecolor": "white",
                        "showbackground": true,
                        "ticks": "",
                        "zerolinecolor": "white"
                      },
                      "yaxis": {
                        "backgroundcolor": "#E5ECF6",
                        "gridcolor": "white",
                        "gridwidth": 2,
                        "linecolor": "white",
                        "showbackground": true,
                        "ticks": "",
                        "zerolinecolor": "white"
                      },
                      "zaxis": {
                        "backgroundcolor": "#E5ECF6",
                        "gridcolor": "white",
                        "gridwidth": 2,
                        "linecolor": "white",
                        "showbackground": true,
                        "ticks": "",
                        "zerolinecolor": "white"
                      }
                    },
                    "shapedefaults": {
                      "line": {
                        "color": "#2a3f5f"
                      }
                    },
                    "ternary": {
                      "aaxis": {
                        "gridcolor": "white",
                        "linecolor": "white",
                        "ticks": ""
                      },
                      "baxis": {
                        "gridcolor": "white",
                        "linecolor": "white",
                        "ticks": ""
                      },
                      "bgcolor": "#E5ECF6",
                      "caxis": {
                        "gridcolor": "white",
                        "linecolor": "white",
                        "ticks": ""
                      }
                    },
                    "title": {
                      "x": 0.05
                    },
                    "xaxis": {
                      "automargin": true,
                      "gridcolor": "white",
                      "linecolor": "white",
                      "ticks": "",
                      "title": {
                        "standoff": 15
                      },
                      "zerolinecolor": "white",
                      "zerolinewidth": 2
                    },
                    "yaxis": {
                      "automargin": true,
                      "gridcolor": "white",
                      "linecolor": "white",
                      "ticks": "",
                      "title": {
                        "standoff": 15
                      },
                      "zerolinecolor": "white",
                      "zerolinewidth": 2
                    }
                  }
                },
                "title": {
                  "text": "Размер заработной платы специалистов Data Scientist в 2020-2022 годах",
                  "x": 0.5
                },
                "width": 1000,
                "xaxis": {
                  "anchor": "y",
                  "domain": [
                    0,
                    1
                  ]
                },
                "xaxis2": {
                  "anchor": "y2",
                  "domain": [
                    0,
                    1
                  ],
                  "title": {
                    "text": "Специалист"
                  }
                },
                "yaxis": {
                  "anchor": "x",
                  "domain": [
                    0.745,
                    1
                  ],
                  "title": {
                    "text": "ЗП, $"
                  }
                },
                "yaxis2": {
                  "anchor": "x2",
                  "domain": [
                    0,
                    0.595
                  ],
                  "title": {
                    "text": "Заработная плата, $"
                  }
                }
              }
            }
          },
          "metadata": {},
          "output_type": "display_data"
        }
      ],
      "source": [
        "# Инициализация полотна\n",
        "figure_salary_ds_de = make_subplots(rows=2, cols=1,\n",
        "                                    subplot_titles=(\"Медиана заработной платы DS и DE в 2022 г.\", \n",
        "                                                    \"Распределение заработной платы DS и DE в 2022 г.\"),\n",
        "                                    row_heights=[0.3, 0.7],\n",
        "                                    vertical_spacing=0.15)\n",
        "# Подготовка данных для отображения\n",
        "mask_2022 = df_ds_salaries_cleared['work_year'] == 2022\n",
        "df_median_salaries_2022 = df_ds_salaries_cleared[mask_2022].groupby(by=['job_title'])['salary_in_usd'].median()\n",
        "# Отрисовка баров\n",
        "figure_salary_ds_de.add_trace(go.Bar(x=df_median_salaries_2022[['Data Scientist', 'Data Engineer']].index,\n",
        "                                     y=df_median_salaries_2022[['Data Scientist', 'Data Engineer']],\n",
        "                                     showlegend=False),\n",
        "                              row=1, col=1)\n",
        "# Построение коробчатой диаграммы\n",
        "for title in ['Data Scientist', 'Data Engineer']:\n",
        "    mask_title = df_ds_salaries_cleared['job_title'] == title\n",
        "    figure_salary_ds_de.add_trace(go.Box(y=df_ds_salaries_cleared[mask_title & mask_2022]['salary_in_usd'],\n",
        "                                         showlegend=False,\n",
        "                                         name=title), # Название набора данных\n",
        "                                  row=2, col=1)\n",
        "# Размер полотна\n",
        "figure_salary_ds_de.update_layout(autosize = False, width = 1000, height = 720,\n",
        "                               title='Размер заработной платы специалистов Data Scientist в 2020-2022 годах',\n",
        "                               title_x=0.5) # Выравнивание заголовка посередине \n",
        "# Подпись осей\n",
        "figure_salary_ds_de.update_xaxes(title_text=\"Специалист\", row = 2, col = 1)\n",
        "figure_salary_ds_de.update_yaxes(title_text=\"ЗП, $\", row = 1, col = 1)\n",
        "figure_salary_ds_de.update_yaxes(title_text=\"Заработная плата, $\", row = 2, col = 1)\n",
        "figure_salary_ds_de.show()"
      ]
    },
    {
      "cell_type": "markdown",
      "metadata": {},
      "source": [
        "Исходя из полученных графиков, в 2022 году заработная плата специалистов Data Scientist выше, чем у специалистов Data Engineer."
      ]
    },
    {
      "cell_type": "markdown",
      "metadata": {},
      "source": [
        "### Соотношение заработной платы специалистов Data Scientist в компаниях различных размеров"
      ]
    },
    {
      "cell_type": "code",
      "execution_count": 21,
      "metadata": {},
      "outputs": [
        {
          "data": {
            "application/vnd.plotly.v1+json": {
              "config": {
                "plotlyServerURL": "https://plot.ly"
              },
              "data": [
                {
                  "showlegend": false,
                  "type": "bar",
                  "x": [
                    "L",
                    "M",
                    "S"
                  ],
                  "xaxis": "x",
                  "y": [
                    90734,
                    119529.5,
                    49268
                  ],
                  "yaxis": "y"
                },
                {
                  "name": "L",
                  "showlegend": false,
                  "type": "box",
                  "xaxis": "x2",
                  "y": [
                    79833,
                    35735,
                    40481,
                    68428,
                    105000,
                    120000,
                    412000,
                    53192,
                    29751,
                    73000,
                    50000,
                    75774,
                    13400,
                    40038,
                    90734,
                    147000,
                    37825,
                    160000,
                    116914,
                    56256,
                    88654,
                    135000,
                    103691,
                    165000,
                    36643,
                    115000,
                    130000,
                    58000,
                    20171,
                    109000,
                    180000,
                    120000,
                    215300,
                    158200,
                    140400,
                    215300,
                    31615,
                    35590,
                    52396,
                    40000,
                    122346,
                    135000,
                    205300
                  ],
                  "yaxis": "y2"
                },
                {
                  "name": "M",
                  "showlegend": false,
                  "type": "box",
                  "xaxis": "x2",
                  "y": [
                    39916,
                    38776,
                    118000,
                    138350,
                    49646,
                    80000,
                    150000,
                    119059,
                    61467,
                    33808,
                    46809,
                    4000,
                    28399,
                    77684,
                    100000,
                    130000,
                    90000,
                    136620,
                    99360,
                    117789,
                    104702,
                    146000,
                    123000,
                    65438,
                    39263,
                    165220,
                    120160,
                    95550,
                    167000,
                    150000,
                    211500,
                    138600,
                    170000,
                    180000,
                    71982,
                    45807,
                    260000,
                    180000,
                    80000,
                    18442,
                    104890,
                    140000,
                    220000,
                    183228,
                    91614,
                    185100,
                    200000,
                    120000,
                    230000,
                    100000,
                    100000,
                    100000,
                    165000,
                    86703,
                    69336,
                    78000,
                    141300,
                    102100,
                    176000,
                    144000,
                    205300,
                    140400,
                    210000,
                    150000,
                    160000,
                    130000
                  ],
                  "yaxis": "y2"
                },
                {
                  "name": "S",
                  "showlegend": false,
                  "type": "box",
                  "xaxis": "x2",
                  "y": [
                    51321,
                    45760,
                    76958,
                    21669,
                    62726,
                    49268,
                    105000,
                    91237,
                    62726,
                    42197,
                    9466,
                    100000,
                    82500,
                    2859,
                    5679,
                    12901,
                    87738,
                    90000,
                    16904,
                    25532,
                    48000
                  ],
                  "yaxis": "y2"
                }
              ],
              "layout": {
                "annotations": [
                  {
                    "font": {
                      "size": 16
                    },
                    "showarrow": false,
                    "text": "Медиана заработной платы DS в компаниях различного размера",
                    "x": 0.5,
                    "xanchor": "center",
                    "xref": "paper",
                    "y": 1,
                    "yanchor": "bottom",
                    "yref": "paper"
                  },
                  {
                    "font": {
                      "size": 16
                    },
                    "showarrow": false,
                    "text": "Распределение заработной платы DS в компаниях различного размера",
                    "x": 0.5,
                    "xanchor": "center",
                    "xref": "paper",
                    "y": 0.595,
                    "yanchor": "bottom",
                    "yref": "paper"
                  }
                ],
                "autosize": false,
                "height": 720,
                "template": {
                  "data": {
                    "bar": [
                      {
                        "error_x": {
                          "color": "#2a3f5f"
                        },
                        "error_y": {
                          "color": "#2a3f5f"
                        },
                        "marker": {
                          "line": {
                            "color": "#E5ECF6",
                            "width": 0.5
                          },
                          "pattern": {
                            "fillmode": "overlay",
                            "size": 10,
                            "solidity": 0.2
                          }
                        },
                        "type": "bar"
                      }
                    ],
                    "barpolar": [
                      {
                        "marker": {
                          "line": {
                            "color": "#E5ECF6",
                            "width": 0.5
                          },
                          "pattern": {
                            "fillmode": "overlay",
                            "size": 10,
                            "solidity": 0.2
                          }
                        },
                        "type": "barpolar"
                      }
                    ],
                    "carpet": [
                      {
                        "aaxis": {
                          "endlinecolor": "#2a3f5f",
                          "gridcolor": "white",
                          "linecolor": "white",
                          "minorgridcolor": "white",
                          "startlinecolor": "#2a3f5f"
                        },
                        "baxis": {
                          "endlinecolor": "#2a3f5f",
                          "gridcolor": "white",
                          "linecolor": "white",
                          "minorgridcolor": "white",
                          "startlinecolor": "#2a3f5f"
                        },
                        "type": "carpet"
                      }
                    ],
                    "choropleth": [
                      {
                        "colorbar": {
                          "outlinewidth": 0,
                          "ticks": ""
                        },
                        "type": "choropleth"
                      }
                    ],
                    "contour": [
                      {
                        "colorbar": {
                          "outlinewidth": 0,
                          "ticks": ""
                        },
                        "colorscale": [
                          [
                            0,
                            "#0d0887"
                          ],
                          [
                            0.1111111111111111,
                            "#46039f"
                          ],
                          [
                            0.2222222222222222,
                            "#7201a8"
                          ],
                          [
                            0.3333333333333333,
                            "#9c179e"
                          ],
                          [
                            0.4444444444444444,
                            "#bd3786"
                          ],
                          [
                            0.5555555555555556,
                            "#d8576b"
                          ],
                          [
                            0.6666666666666666,
                            "#ed7953"
                          ],
                          [
                            0.7777777777777778,
                            "#fb9f3a"
                          ],
                          [
                            0.8888888888888888,
                            "#fdca26"
                          ],
                          [
                            1,
                            "#f0f921"
                          ]
                        ],
                        "type": "contour"
                      }
                    ],
                    "contourcarpet": [
                      {
                        "colorbar": {
                          "outlinewidth": 0,
                          "ticks": ""
                        },
                        "type": "contourcarpet"
                      }
                    ],
                    "heatmap": [
                      {
                        "colorbar": {
                          "outlinewidth": 0,
                          "ticks": ""
                        },
                        "colorscale": [
                          [
                            0,
                            "#0d0887"
                          ],
                          [
                            0.1111111111111111,
                            "#46039f"
                          ],
                          [
                            0.2222222222222222,
                            "#7201a8"
                          ],
                          [
                            0.3333333333333333,
                            "#9c179e"
                          ],
                          [
                            0.4444444444444444,
                            "#bd3786"
                          ],
                          [
                            0.5555555555555556,
                            "#d8576b"
                          ],
                          [
                            0.6666666666666666,
                            "#ed7953"
                          ],
                          [
                            0.7777777777777778,
                            "#fb9f3a"
                          ],
                          [
                            0.8888888888888888,
                            "#fdca26"
                          ],
                          [
                            1,
                            "#f0f921"
                          ]
                        ],
                        "type": "heatmap"
                      }
                    ],
                    "heatmapgl": [
                      {
                        "colorbar": {
                          "outlinewidth": 0,
                          "ticks": ""
                        },
                        "colorscale": [
                          [
                            0,
                            "#0d0887"
                          ],
                          [
                            0.1111111111111111,
                            "#46039f"
                          ],
                          [
                            0.2222222222222222,
                            "#7201a8"
                          ],
                          [
                            0.3333333333333333,
                            "#9c179e"
                          ],
                          [
                            0.4444444444444444,
                            "#bd3786"
                          ],
                          [
                            0.5555555555555556,
                            "#d8576b"
                          ],
                          [
                            0.6666666666666666,
                            "#ed7953"
                          ],
                          [
                            0.7777777777777778,
                            "#fb9f3a"
                          ],
                          [
                            0.8888888888888888,
                            "#fdca26"
                          ],
                          [
                            1,
                            "#f0f921"
                          ]
                        ],
                        "type": "heatmapgl"
                      }
                    ],
                    "histogram": [
                      {
                        "marker": {
                          "pattern": {
                            "fillmode": "overlay",
                            "size": 10,
                            "solidity": 0.2
                          }
                        },
                        "type": "histogram"
                      }
                    ],
                    "histogram2d": [
                      {
                        "colorbar": {
                          "outlinewidth": 0,
                          "ticks": ""
                        },
                        "colorscale": [
                          [
                            0,
                            "#0d0887"
                          ],
                          [
                            0.1111111111111111,
                            "#46039f"
                          ],
                          [
                            0.2222222222222222,
                            "#7201a8"
                          ],
                          [
                            0.3333333333333333,
                            "#9c179e"
                          ],
                          [
                            0.4444444444444444,
                            "#bd3786"
                          ],
                          [
                            0.5555555555555556,
                            "#d8576b"
                          ],
                          [
                            0.6666666666666666,
                            "#ed7953"
                          ],
                          [
                            0.7777777777777778,
                            "#fb9f3a"
                          ],
                          [
                            0.8888888888888888,
                            "#fdca26"
                          ],
                          [
                            1,
                            "#f0f921"
                          ]
                        ],
                        "type": "histogram2d"
                      }
                    ],
                    "histogram2dcontour": [
                      {
                        "colorbar": {
                          "outlinewidth": 0,
                          "ticks": ""
                        },
                        "colorscale": [
                          [
                            0,
                            "#0d0887"
                          ],
                          [
                            0.1111111111111111,
                            "#46039f"
                          ],
                          [
                            0.2222222222222222,
                            "#7201a8"
                          ],
                          [
                            0.3333333333333333,
                            "#9c179e"
                          ],
                          [
                            0.4444444444444444,
                            "#bd3786"
                          ],
                          [
                            0.5555555555555556,
                            "#d8576b"
                          ],
                          [
                            0.6666666666666666,
                            "#ed7953"
                          ],
                          [
                            0.7777777777777778,
                            "#fb9f3a"
                          ],
                          [
                            0.8888888888888888,
                            "#fdca26"
                          ],
                          [
                            1,
                            "#f0f921"
                          ]
                        ],
                        "type": "histogram2dcontour"
                      }
                    ],
                    "mesh3d": [
                      {
                        "colorbar": {
                          "outlinewidth": 0,
                          "ticks": ""
                        },
                        "type": "mesh3d"
                      }
                    ],
                    "parcoords": [
                      {
                        "line": {
                          "colorbar": {
                            "outlinewidth": 0,
                            "ticks": ""
                          }
                        },
                        "type": "parcoords"
                      }
                    ],
                    "pie": [
                      {
                        "automargin": true,
                        "type": "pie"
                      }
                    ],
                    "scatter": [
                      {
                        "fillpattern": {
                          "fillmode": "overlay",
                          "size": 10,
                          "solidity": 0.2
                        },
                        "type": "scatter"
                      }
                    ],
                    "scatter3d": [
                      {
                        "line": {
                          "colorbar": {
                            "outlinewidth": 0,
                            "ticks": ""
                          }
                        },
                        "marker": {
                          "colorbar": {
                            "outlinewidth": 0,
                            "ticks": ""
                          }
                        },
                        "type": "scatter3d"
                      }
                    ],
                    "scattercarpet": [
                      {
                        "marker": {
                          "colorbar": {
                            "outlinewidth": 0,
                            "ticks": ""
                          }
                        },
                        "type": "scattercarpet"
                      }
                    ],
                    "scattergeo": [
                      {
                        "marker": {
                          "colorbar": {
                            "outlinewidth": 0,
                            "ticks": ""
                          }
                        },
                        "type": "scattergeo"
                      }
                    ],
                    "scattergl": [
                      {
                        "marker": {
                          "colorbar": {
                            "outlinewidth": 0,
                            "ticks": ""
                          }
                        },
                        "type": "scattergl"
                      }
                    ],
                    "scattermapbox": [
                      {
                        "marker": {
                          "colorbar": {
                            "outlinewidth": 0,
                            "ticks": ""
                          }
                        },
                        "type": "scattermapbox"
                      }
                    ],
                    "scatterpolar": [
                      {
                        "marker": {
                          "colorbar": {
                            "outlinewidth": 0,
                            "ticks": ""
                          }
                        },
                        "type": "scatterpolar"
                      }
                    ],
                    "scatterpolargl": [
                      {
                        "marker": {
                          "colorbar": {
                            "outlinewidth": 0,
                            "ticks": ""
                          }
                        },
                        "type": "scatterpolargl"
                      }
                    ],
                    "scatterternary": [
                      {
                        "marker": {
                          "colorbar": {
                            "outlinewidth": 0,
                            "ticks": ""
                          }
                        },
                        "type": "scatterternary"
                      }
                    ],
                    "surface": [
                      {
                        "colorbar": {
                          "outlinewidth": 0,
                          "ticks": ""
                        },
                        "colorscale": [
                          [
                            0,
                            "#0d0887"
                          ],
                          [
                            0.1111111111111111,
                            "#46039f"
                          ],
                          [
                            0.2222222222222222,
                            "#7201a8"
                          ],
                          [
                            0.3333333333333333,
                            "#9c179e"
                          ],
                          [
                            0.4444444444444444,
                            "#bd3786"
                          ],
                          [
                            0.5555555555555556,
                            "#d8576b"
                          ],
                          [
                            0.6666666666666666,
                            "#ed7953"
                          ],
                          [
                            0.7777777777777778,
                            "#fb9f3a"
                          ],
                          [
                            0.8888888888888888,
                            "#fdca26"
                          ],
                          [
                            1,
                            "#f0f921"
                          ]
                        ],
                        "type": "surface"
                      }
                    ],
                    "table": [
                      {
                        "cells": {
                          "fill": {
                            "color": "#EBF0F8"
                          },
                          "line": {
                            "color": "white"
                          }
                        },
                        "header": {
                          "fill": {
                            "color": "#C8D4E3"
                          },
                          "line": {
                            "color": "white"
                          }
                        },
                        "type": "table"
                      }
                    ]
                  },
                  "layout": {
                    "annotationdefaults": {
                      "arrowcolor": "#2a3f5f",
                      "arrowhead": 0,
                      "arrowwidth": 1
                    },
                    "autotypenumbers": "strict",
                    "coloraxis": {
                      "colorbar": {
                        "outlinewidth": 0,
                        "ticks": ""
                      }
                    },
                    "colorscale": {
                      "diverging": [
                        [
                          0,
                          "#8e0152"
                        ],
                        [
                          0.1,
                          "#c51b7d"
                        ],
                        [
                          0.2,
                          "#de77ae"
                        ],
                        [
                          0.3,
                          "#f1b6da"
                        ],
                        [
                          0.4,
                          "#fde0ef"
                        ],
                        [
                          0.5,
                          "#f7f7f7"
                        ],
                        [
                          0.6,
                          "#e6f5d0"
                        ],
                        [
                          0.7,
                          "#b8e186"
                        ],
                        [
                          0.8,
                          "#7fbc41"
                        ],
                        [
                          0.9,
                          "#4d9221"
                        ],
                        [
                          1,
                          "#276419"
                        ]
                      ],
                      "sequential": [
                        [
                          0,
                          "#0d0887"
                        ],
                        [
                          0.1111111111111111,
                          "#46039f"
                        ],
                        [
                          0.2222222222222222,
                          "#7201a8"
                        ],
                        [
                          0.3333333333333333,
                          "#9c179e"
                        ],
                        [
                          0.4444444444444444,
                          "#bd3786"
                        ],
                        [
                          0.5555555555555556,
                          "#d8576b"
                        ],
                        [
                          0.6666666666666666,
                          "#ed7953"
                        ],
                        [
                          0.7777777777777778,
                          "#fb9f3a"
                        ],
                        [
                          0.8888888888888888,
                          "#fdca26"
                        ],
                        [
                          1,
                          "#f0f921"
                        ]
                      ],
                      "sequentialminus": [
                        [
                          0,
                          "#0d0887"
                        ],
                        [
                          0.1111111111111111,
                          "#46039f"
                        ],
                        [
                          0.2222222222222222,
                          "#7201a8"
                        ],
                        [
                          0.3333333333333333,
                          "#9c179e"
                        ],
                        [
                          0.4444444444444444,
                          "#bd3786"
                        ],
                        [
                          0.5555555555555556,
                          "#d8576b"
                        ],
                        [
                          0.6666666666666666,
                          "#ed7953"
                        ],
                        [
                          0.7777777777777778,
                          "#fb9f3a"
                        ],
                        [
                          0.8888888888888888,
                          "#fdca26"
                        ],
                        [
                          1,
                          "#f0f921"
                        ]
                      ]
                    },
                    "colorway": [
                      "#636efa",
                      "#EF553B",
                      "#00cc96",
                      "#ab63fa",
                      "#FFA15A",
                      "#19d3f3",
                      "#FF6692",
                      "#B6E880",
                      "#FF97FF",
                      "#FECB52"
                    ],
                    "font": {
                      "color": "#2a3f5f"
                    },
                    "geo": {
                      "bgcolor": "white",
                      "lakecolor": "white",
                      "landcolor": "#E5ECF6",
                      "showlakes": true,
                      "showland": true,
                      "subunitcolor": "white"
                    },
                    "hoverlabel": {
                      "align": "left"
                    },
                    "hovermode": "closest",
                    "mapbox": {
                      "style": "light"
                    },
                    "paper_bgcolor": "white",
                    "plot_bgcolor": "#E5ECF6",
                    "polar": {
                      "angularaxis": {
                        "gridcolor": "white",
                        "linecolor": "white",
                        "ticks": ""
                      },
                      "bgcolor": "#E5ECF6",
                      "radialaxis": {
                        "gridcolor": "white",
                        "linecolor": "white",
                        "ticks": ""
                      }
                    },
                    "scene": {
                      "xaxis": {
                        "backgroundcolor": "#E5ECF6",
                        "gridcolor": "white",
                        "gridwidth": 2,
                        "linecolor": "white",
                        "showbackground": true,
                        "ticks": "",
                        "zerolinecolor": "white"
                      },
                      "yaxis": {
                        "backgroundcolor": "#E5ECF6",
                        "gridcolor": "white",
                        "gridwidth": 2,
                        "linecolor": "white",
                        "showbackground": true,
                        "ticks": "",
                        "zerolinecolor": "white"
                      },
                      "zaxis": {
                        "backgroundcolor": "#E5ECF6",
                        "gridcolor": "white",
                        "gridwidth": 2,
                        "linecolor": "white",
                        "showbackground": true,
                        "ticks": "",
                        "zerolinecolor": "white"
                      }
                    },
                    "shapedefaults": {
                      "line": {
                        "color": "#2a3f5f"
                      }
                    },
                    "ternary": {
                      "aaxis": {
                        "gridcolor": "white",
                        "linecolor": "white",
                        "ticks": ""
                      },
                      "baxis": {
                        "gridcolor": "white",
                        "linecolor": "white",
                        "ticks": ""
                      },
                      "bgcolor": "#E5ECF6",
                      "caxis": {
                        "gridcolor": "white",
                        "linecolor": "white",
                        "ticks": ""
                      }
                    },
                    "title": {
                      "x": 0.05
                    },
                    "xaxis": {
                      "automargin": true,
                      "gridcolor": "white",
                      "linecolor": "white",
                      "ticks": "",
                      "title": {
                        "standoff": 15
                      },
                      "zerolinecolor": "white",
                      "zerolinewidth": 2
                    },
                    "yaxis": {
                      "automargin": true,
                      "gridcolor": "white",
                      "linecolor": "white",
                      "ticks": "",
                      "title": {
                        "standoff": 15
                      },
                      "zerolinecolor": "white",
                      "zerolinewidth": 2
                    }
                  }
                },
                "title": {
                  "text": "Размер заработной платы специалистов Data Scientist в компаниях различного размера",
                  "x": 0.5
                },
                "width": 1000,
                "xaxis": {
                  "anchor": "y",
                  "domain": [
                    0,
                    1
                  ]
                },
                "xaxis2": {
                  "anchor": "y2",
                  "domain": [
                    0,
                    1
                  ],
                  "title": {
                    "text": "Размер компании"
                  }
                },
                "yaxis": {
                  "anchor": "x",
                  "domain": [
                    0.745,
                    1
                  ],
                  "title": {
                    "text": "ЗП, $"
                  }
                },
                "yaxis2": {
                  "anchor": "x2",
                  "domain": [
                    0,
                    0.595
                  ],
                  "title": {
                    "text": "Заработная плата, $"
                  }
                }
              }
            }
          },
          "metadata": {},
          "output_type": "display_data"
        }
      ],
      "source": [
        "# Инициализация полотна\n",
        "figure_salary_ds_size_copm = make_subplots(rows=2, cols=1,\n",
        "                                           subplot_titles=(\"Медиана заработной платы DS в компаниях различного размера\", \n",
        "                                                         \"Распределение заработной платы DS в компаниях различного размера\"),\n",
        "                                           row_heights=[0.3, 0.7],\n",
        "                                           vertical_spacing=0.15)\n",
        "# Подготовка данных для отображения\n",
        "df_median_salaries_ds_size_copm = df_ds_salaries_cleared[mask_ds].groupby(by=['company_size'])['salary_in_usd'].median()\n",
        "# Отрисовка баров\n",
        "figure_salary_ds_size_copm.add_trace(go.Bar(x=df_median_salaries_ds_size_copm.index,\n",
        "                                            y=df_median_salaries_ds_size_copm,\n",
        "                                            showlegend=False),\n",
        "                                     row=1, col=1)\n",
        "# Построение коробчатой диаграммы\n",
        "for size in df_median_salaries_ds_size_copm.index:\n",
        "    mask_size = df_ds_salaries_cleared['company_size'] == size\n",
        "    figure_salary_ds_size_copm.add_trace(go.Box(y=df_ds_salaries_cleared[mask_size & mask_ds]['salary_in_usd'],\n",
        "                                                showlegend=False,\n",
        "                                                name=size), # Название набора данных\n",
        "                                         row=2, col=1)\n",
        "# Размер полотна\n",
        "figure_salary_ds_size_copm.update_layout(autosize = False, width = 1000, height = 720,\n",
        "                               title='Размер заработной платы специалистов Data Scientist в компаниях различного размера',\n",
        "                               title_x=0.5) # Выравнивание заголовка посередине \n",
        "# Подпись осей\n",
        "figure_salary_ds_size_copm.update_xaxes(title_text=\"Размер компании\", row = 2, col = 1)\n",
        "figure_salary_ds_size_copm.update_yaxes(title_text=\"ЗП, $\", row = 1, col = 1)\n",
        "figure_salary_ds_size_copm.update_yaxes(title_text=\"Заработная плата, $\", row = 2, col = 1)\n",
        "figure_salary_ds_size_copm.show()"
      ]
    },
    {
      "cell_type": "markdown",
      "metadata": {},
      "source": [
        "Распределение заработной платы специалистов Data Scientist в компаниях с разным штатом сотрудников различаются, при этом наиболее высокая зарплата ожидается в средних компаниях, такое различие по сравнению с крупными компаниями может объясняться наличием в крупных компаниях расширенных социальных гарантий и развитой дополнительной социальной инфраструктуры для своих сотрудников (спорт-залы, зоны отдыха и т.п.), а также, возможно, в крупных и средних компаниях масштабы решаемых задач соразмерны, но ввиду количества сотрудников, решающих их, итоговая нагрузка на каждого специалиста в отдельности в средних компаниях выше."
      ]
    },
    {
      "cell_type": "markdown",
      "metadata": {},
      "source": [
        "### Связь между наличием должностей Data Scientist и Data Engineer и размером компании"
      ]
    },
    {
      "cell_type": "code",
      "execution_count": 28,
      "metadata": {},
      "outputs": [
        {
          "data": {
            "image/png": "[encoded data removed]",
            "text/plain": [
              "<Figure size 640x480 with 2 Axes>"
            ]
          },
          "metadata": {},
          "output_type": "display_data"
        }
      ],
      "source": [
        "mask_de = df_ds_salaries_cleared['job_title'] == 'Data Engineer'\n",
        "cross_tab = pd.crosstab(index=df_ds_salaries_cleared[mask_ds | mask_de]['job_title'], \n",
        "                        columns=df_ds_salaries_cleared[mask_ds | mask_de]['company_size'])\n",
        "ax = sns.heatmap(cross_tab, annot=True, linewidth=.5, fmt='.0f', cmap=\"coolwarm\")\n",
        "ax.set(xlabel='Размер компании', ylabel='Специалист')\n",
        "plt.title('Таблица сопряженности')\n",
        "plt.show()"
      ]
    },
    {
      "cell_type": "markdown",
      "metadata": {},
      "source": []
    }
  ],
  "metadata": {
    "colab": {
      "provenance": []
    },
    "kernelspec": {
      "display_name": "Python 3",
      "language": "python",
      "name": "python3"
    },
    "language_info": {
      "codemirror_mode": {
        "name": "ipython",
        "version": 3
      },
      "file_extension": ".py",
      "mimetype": "text/x-python",
      "name": "python",
      "nbconvert_exporter": "python",
      "pygments_lexer": "ipython3",
      "version": "3.13.1"
    }
  },
  "nbformat": 4,
  "nbformat_minor": 0
}
